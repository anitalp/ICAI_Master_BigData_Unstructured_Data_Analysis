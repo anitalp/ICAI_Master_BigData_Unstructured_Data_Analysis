{
 "cells": [
  {
   "cell_type": "markdown",
   "metadata": {},
   "source": [
    "# Classifying Urban sounds using Deep Learning\n",
    "\n",
    "## 3 Model Training and Evaluation "
   ]
  },
  {
   "cell_type": "markdown",
   "metadata": {},
   "source": [
    "### Load Preprocessed data "
   ]
  },
  {
   "cell_type": "code",
   "execution_count": 1,
   "metadata": {},
   "outputs": [],
   "source": [
    "# retrieve the preprocessed data from previous notebook\n",
    "\n",
    "%store -r x_train \n",
    "%store -r x_test \n",
    "%store -r y_train \n",
    "%store -r y_test \n",
    "%store -r yy \n",
    "%store -r le"
   ]
  },
  {
   "cell_type": "markdown",
   "metadata": {},
   "source": [
    "### Initial model architecture - MLP\n",
    "\n",
    "We will start with constructing a Multilayer Perceptron (MLP) Neural Network using Keras and a Tensorflow backend. \n",
    "\n",
    "Starting with a `sequential` model so we can build the model layer by layer. \n",
    "\n",
    "We will begin with a simple model architecture, consisting of three layers, an input layer, a hidden layer and an output layer. All three layers will be of the `dense` layer type which is a standard layer type that is used in many cases for neural networks. \n",
    "\n",
    "The first layer will receive the input shape. As each sample contains 40 MFCCs (or columns) we have a shape of (1x40) this means we will start with an input shape of 40. \n",
    "\n",
    "The first two layers will have 256 nodes. The activation function we will be using for our first 2 layers is the `ReLU`, or `Rectified Linear Activation`. This activation function has been proven to work well in neural networks.\n",
    "\n",
    "We will also apply a `Dropout` value of 50% on our first two layers. This will randomly exclude nodes from each update cycle which in turn results in a network that is capable of better generalisation and is less likely to overfit the training data.\n",
    "\n",
    "Our output layer will have 10 nodes (num_labels) which matches the number of possible classifications. The activation is for our output layer is `softmax`. Softmax makes the output sum up to 1 so the output can be interpreted as probabilities. The model will then make its prediction based on which option has the highest probability."
   ]
  },
  {
   "cell_type": "code",
   "execution_count": 2,
   "metadata": {},
   "outputs": [
    {
     "name": "stderr",
     "output_type": "stream",
     "text": [
      "Using TensorFlow backend.\n"
     ]
    }
   ],
   "source": [
    "import numpy as np\n",
    "from keras.models import Sequential\n",
    "from keras.layers import Dense, Dropout, Activation, Flatten\n",
    "from keras.layers import Convolution2D, MaxPooling2D\n",
    "from keras.optimizers import Adam\n",
    "from keras.utils import np_utils\n",
    "from sklearn import metrics \n",
    "\n",
    "num_labels = yy.shape[1]\n",
    "filter_size = 2\n",
    "\n",
    "# Construct model \n",
    "model = Sequential()\n",
    "\n",
    "model.add(Dense(256, input_shape=(40,)))\n",
    "model.add(Activation('relu'))\n",
    "model.add(Dropout(0.5))\n",
    "\n",
    "model.add(Dense(256))\n",
    "model.add(Activation('relu'))\n",
    "model.add(Dropout(0.5))\n",
    "\n",
    "model.add(Dense(num_labels))\n",
    "model.add(Activation('softmax'))"
   ]
  },
  {
   "cell_type": "markdown",
   "metadata": {},
   "source": [
    "### Compiling the model \n",
    "\n",
    "For compiling our model, we will use the following three parameters: \n",
    "\n",
    "* Loss function - we will use `categorical_crossentropy`. This is the most common choice for classification. A lower score indicates that the model is performing better.\n",
    "\n",
    "* Metrics - we will use the `accuracy` metric which will allow us to view the accuracy score on the validation data when we train the model. \n",
    "\n",
    "* Optimizer - here we will use `adam` which is a generally good optimizer for many use cases.\n"
   ]
  },
  {
   "cell_type": "code",
   "execution_count": 3,
   "metadata": {},
   "outputs": [],
   "source": [
    "# Compile the model\n",
    "model.compile(loss='categorical_crossentropy', metrics=['accuracy'], optimizer='adam') "
   ]
  },
  {
   "cell_type": "code",
   "execution_count": 4,
   "metadata": {},
   "outputs": [
    {
     "name": "stdout",
     "output_type": "stream",
     "text": [
      "Model: \"sequential_1\"\n",
      "_________________________________________________________________\n",
      "Layer (type)                 Output Shape              Param #   \n",
      "=================================================================\n",
      "dense_1 (Dense)              (None, 256)               10496     \n",
      "_________________________________________________________________\n",
      "activation_1 (Activation)    (None, 256)               0         \n",
      "_________________________________________________________________\n",
      "dropout_1 (Dropout)          (None, 256)               0         \n",
      "_________________________________________________________________\n",
      "dense_2 (Dense)              (None, 256)               65792     \n",
      "_________________________________________________________________\n",
      "activation_2 (Activation)    (None, 256)               0         \n",
      "_________________________________________________________________\n",
      "dropout_2 (Dropout)          (None, 256)               0         \n",
      "_________________________________________________________________\n",
      "dense_3 (Dense)              (None, 10)                2570      \n",
      "_________________________________________________________________\n",
      "activation_3 (Activation)    (None, 10)                0         \n",
      "=================================================================\n",
      "Total params: 78,858\n",
      "Trainable params: 78,858\n",
      "Non-trainable params: 0\n",
      "_________________________________________________________________\n",
      "Pre-training accuracy: 11.5054%\n"
     ]
    }
   ],
   "source": [
    "# Display model architecture summary \n",
    "model.summary()\n",
    "\n",
    "# Calculate pre-training accuracy \n",
    "score = model.evaluate(x_test, y_test, verbose=0)\n",
    "accuracy = 100*score[1]\n",
    "\n",
    "print(\"Pre-training accuracy: %.4f%%\" % accuracy)"
   ]
  },
  {
   "cell_type": "markdown",
   "metadata": {},
   "source": [
    "### Training \n",
    "\n",
    "Here we will train the model. \n",
    "\n",
    "We will start with 100 epochs which is the number of times the model will cycle through the data. The model will improve on each cycle until it reaches a certain point. \n",
    "\n",
    "We will also start with a low batch size, as having a large batch size can reduce the generalisation ability of the model. "
   ]
  },
  {
   "cell_type": "code",
   "execution_count": 5,
   "metadata": {},
   "outputs": [
    {
     "name": "stdout",
     "output_type": "stream",
     "text": [
      "Train on 6985 samples, validate on 1747 samples\n",
      "Epoch 1/100\n",
      "6985/6985 [==============================] - 1s 202us/step - loss: 8.6280 - accuracy: 0.1873 - val_loss: 2.1022 - val_accuracy: 0.2999\n",
      "\n",
      "Epoch 00001: val_loss improved from inf to 2.10219, saving model to saved_models/weights.best.basic_mlp.hdf5\n",
      "Epoch 2/100\n",
      "6985/6985 [==============================] - 1s 144us/step - loss: 2.2520 - accuracy: 0.2311 - val_loss: 1.9448 - val_accuracy: 0.3085\n",
      "\n",
      "Epoch 00002: val_loss improved from 2.10219 to 1.94476, saving model to saved_models/weights.best.basic_mlp.hdf5\n",
      "Epoch 3/100\n",
      "6985/6985 [==============================] - 1s 156us/step - loss: 2.0282 - accuracy: 0.2737 - val_loss: 1.8046 - val_accuracy: 0.3412\n",
      "\n",
      "Epoch 00003: val_loss improved from 1.94476 to 1.80456, saving model to saved_models/weights.best.basic_mlp.hdf5\n",
      "Epoch 4/100\n",
      "6985/6985 [==============================] - 1s 165us/step - loss: 1.9008 - accuracy: 0.3213 - val_loss: 1.6954 - val_accuracy: 0.4030\n",
      "\n",
      "Epoch 00004: val_loss improved from 1.80456 to 1.69536, saving model to saved_models/weights.best.basic_mlp.hdf5\n",
      "Epoch 5/100\n",
      "6985/6985 [==============================] - 1s 162us/step - loss: 1.7778 - accuracy: 0.3611 - val_loss: 1.5790 - val_accuracy: 0.4511\n",
      "\n",
      "Epoch 00005: val_loss improved from 1.69536 to 1.57903, saving model to saved_models/weights.best.basic_mlp.hdf5\n",
      "Epoch 6/100\n",
      "6985/6985 [==============================] - 1s 161us/step - loss: 1.6898 - accuracy: 0.3981 - val_loss: 1.4704 - val_accuracy: 0.4677\n",
      "\n",
      "Epoch 00006: val_loss improved from 1.57903 to 1.47044, saving model to saved_models/weights.best.basic_mlp.hdf5\n",
      "Epoch 7/100\n",
      "6985/6985 [==============================] - 1s 181us/step - loss: 1.5924 - accuracy: 0.4442 - val_loss: 1.3613 - val_accuracy: 0.5667\n",
      "\n",
      "Epoch 00007: val_loss improved from 1.47044 to 1.36129, saving model to saved_models/weights.best.basic_mlp.hdf5\n",
      "Epoch 8/100\n",
      "6985/6985 [==============================] - 1s 153us/step - loss: 1.4933 - accuracy: 0.4795 - val_loss: 1.2607 - val_accuracy: 0.5930\n",
      "\n",
      "Epoch 00008: val_loss improved from 1.36129 to 1.26075, saving model to saved_models/weights.best.basic_mlp.hdf5\n",
      "Epoch 9/100\n",
      "6985/6985 [==============================] - 1s 144us/step - loss: 1.3814 - accuracy: 0.5187 - val_loss: 1.1887 - val_accuracy: 0.6274\n",
      "\n",
      "Epoch 00009: val_loss improved from 1.26075 to 1.18867, saving model to saved_models/weights.best.basic_mlp.hdf5\n",
      "Epoch 10/100\n",
      "6985/6985 [==============================] - 1s 138us/step - loss: 1.3456 - accuracy: 0.5364 - val_loss: 1.1201 - val_accuracy: 0.6428\n",
      "\n",
      "Epoch 00010: val_loss improved from 1.18867 to 1.12007, saving model to saved_models/weights.best.basic_mlp.hdf5\n",
      "Epoch 11/100\n",
      "6985/6985 [==============================] - 1s 141us/step - loss: 1.2893 - accuracy: 0.5596 - val_loss: 1.0484 - val_accuracy: 0.6709\n",
      "\n",
      "Epoch 00011: val_loss improved from 1.12007 to 1.04844, saving model to saved_models/weights.best.basic_mlp.hdf5\n",
      "Epoch 12/100\n",
      "6985/6985 [==============================] - 1s 140us/step - loss: 1.2285 - accuracy: 0.5785 - val_loss: 1.0054 - val_accuracy: 0.6857\n",
      "\n",
      "Epoch 00012: val_loss improved from 1.04844 to 1.00541, saving model to saved_models/weights.best.basic_mlp.hdf5\n",
      "Epoch 13/100\n",
      "6985/6985 [==============================] - 1s 160us/step - loss: 1.1679 - accuracy: 0.6027 - val_loss: 0.9512 - val_accuracy: 0.6926\n",
      "\n",
      "Epoch 00013: val_loss improved from 1.00541 to 0.95120, saving model to saved_models/weights.best.basic_mlp.hdf5\n",
      "Epoch 14/100\n",
      "6985/6985 [==============================] - 1s 155us/step - loss: 1.1401 - accuracy: 0.6066 - val_loss: 0.9293 - val_accuracy: 0.6995\n",
      "\n",
      "Epoch 00014: val_loss improved from 0.95120 to 0.92932, saving model to saved_models/weights.best.basic_mlp.hdf5\n",
      "Epoch 15/100\n",
      "6985/6985 [==============================] - 1s 157us/step - loss: 1.1071 - accuracy: 0.6263 - val_loss: 0.8945 - val_accuracy: 0.7189\n",
      "\n",
      "Epoch 00015: val_loss improved from 0.92932 to 0.89453, saving model to saved_models/weights.best.basic_mlp.hdf5\n",
      "Epoch 16/100\n",
      "6985/6985 [==============================] - 1s 158us/step - loss: 1.0447 - accuracy: 0.6451 - val_loss: 0.8581 - val_accuracy: 0.7281\n",
      "\n",
      "Epoch 00016: val_loss improved from 0.89453 to 0.85810, saving model to saved_models/weights.best.basic_mlp.hdf5\n",
      "Epoch 17/100\n",
      "6985/6985 [==============================] - 1s 152us/step - loss: 1.0367 - accuracy: 0.6482 - val_loss: 0.8263 - val_accuracy: 0.7287\n",
      "\n",
      "Epoch 00017: val_loss improved from 0.85810 to 0.82634, saving model to saved_models/weights.best.basic_mlp.hdf5\n",
      "Epoch 18/100\n",
      "6985/6985 [==============================] - 1s 160us/step - loss: 0.9922 - accuracy: 0.6626 - val_loss: 0.7960 - val_accuracy: 0.7613\n",
      "\n",
      "Epoch 00018: val_loss improved from 0.82634 to 0.79605, saving model to saved_models/weights.best.basic_mlp.hdf5\n",
      "Epoch 19/100\n",
      "6985/6985 [==============================] - 1s 156us/step - loss: 1.0009 - accuracy: 0.6598 - val_loss: 0.7658 - val_accuracy: 0.7624\n",
      "\n",
      "Epoch 00019: val_loss improved from 0.79605 to 0.76579, saving model to saved_models/weights.best.basic_mlp.hdf5\n",
      "Epoch 20/100\n",
      "6985/6985 [==============================] - 1s 168us/step - loss: 0.9570 - accuracy: 0.6720 - val_loss: 0.7420 - val_accuracy: 0.7808\n",
      "\n",
      "Epoch 00020: val_loss improved from 0.76579 to 0.74204, saving model to saved_models/weights.best.basic_mlp.hdf5\n",
      "Epoch 21/100\n",
      "6985/6985 [==============================] - 1s 152us/step - loss: 0.9386 - accuracy: 0.6812 - val_loss: 0.7395 - val_accuracy: 0.7728\n",
      "\n",
      "Epoch 00021: val_loss improved from 0.74204 to 0.73949, saving model to saved_models/weights.best.basic_mlp.hdf5\n",
      "Epoch 22/100\n",
      "6985/6985 [==============================] - 1s 164us/step - loss: 0.9189 - accuracy: 0.6932 - val_loss: 0.7220 - val_accuracy: 0.7825\n",
      "\n",
      "Epoch 00022: val_loss improved from 0.73949 to 0.72199, saving model to saved_models/weights.best.basic_mlp.hdf5\n",
      "Epoch 23/100\n",
      "6985/6985 [==============================] - 1s 169us/step - loss: 0.8847 - accuracy: 0.7021 - val_loss: 0.7150 - val_accuracy: 0.7802\n",
      "\n",
      "Epoch 00023: val_loss improved from 0.72199 to 0.71503, saving model to saved_models/weights.best.basic_mlp.hdf5\n",
      "Epoch 24/100\n",
      "6985/6985 [==============================] - 1s 148us/step - loss: 0.8601 - accuracy: 0.7059 - val_loss: 0.6919 - val_accuracy: 0.7848\n",
      "\n",
      "Epoch 00024: val_loss improved from 0.71503 to 0.69193, saving model to saved_models/weights.best.basic_mlp.hdf5\n",
      "Epoch 25/100\n",
      "6985/6985 [==============================] - 1s 152us/step - loss: 0.8628 - accuracy: 0.7095 - val_loss: 0.6896 - val_accuracy: 0.7802\n",
      "\n",
      "Epoch 00025: val_loss improved from 0.69193 to 0.68957, saving model to saved_models/weights.best.basic_mlp.hdf5\n",
      "Epoch 26/100\n",
      "6985/6985 [==============================] - 1s 153us/step - loss: 0.8179 - accuracy: 0.7205 - val_loss: 0.6642 - val_accuracy: 0.7922\n",
      "\n",
      "Epoch 00026: val_loss improved from 0.68957 to 0.66423, saving model to saved_models/weights.best.basic_mlp.hdf5\n",
      "Epoch 27/100\n",
      "6985/6985 [==============================] - 1s 145us/step - loss: 0.7990 - accuracy: 0.7234 - val_loss: 0.6576 - val_accuracy: 0.7956\n",
      "\n",
      "Epoch 00027: val_loss improved from 0.66423 to 0.65756, saving model to saved_models/weights.best.basic_mlp.hdf5\n",
      "Epoch 28/100\n",
      "6985/6985 [==============================] - 1s 152us/step - loss: 0.8134 - accuracy: 0.7174 - val_loss: 0.6544 - val_accuracy: 0.7985\n",
      "\n",
      "Epoch 00028: val_loss improved from 0.65756 to 0.65442, saving model to saved_models/weights.best.basic_mlp.hdf5\n",
      "Epoch 29/100\n",
      "6985/6985 [==============================] - 1s 120us/step - loss: 0.7841 - accuracy: 0.7343 - val_loss: 0.6200 - val_accuracy: 0.8060\n",
      "\n",
      "Epoch 00029: val_loss improved from 0.65442 to 0.61996, saving model to saved_models/weights.best.basic_mlp.hdf5\n",
      "Epoch 30/100\n",
      "6985/6985 [==============================] - 1s 152us/step - loss: 0.7781 - accuracy: 0.7363 - val_loss: 0.6145 - val_accuracy: 0.8111\n",
      "\n",
      "Epoch 00030: val_loss improved from 0.61996 to 0.61446, saving model to saved_models/weights.best.basic_mlp.hdf5\n",
      "Epoch 31/100\n",
      "6985/6985 [==============================] - 1s 136us/step - loss: 0.7682 - accuracy: 0.7341 - val_loss: 0.5994 - val_accuracy: 0.8157\n",
      "\n",
      "Epoch 00031: val_loss improved from 0.61446 to 0.59937, saving model to saved_models/weights.best.basic_mlp.hdf5\n",
      "Epoch 32/100\n"
     ]
    },
    {
     "name": "stdout",
     "output_type": "stream",
     "text": [
      "6985/6985 [==============================] - 1s 135us/step - loss: 0.7581 - accuracy: 0.7440 - val_loss: 0.5872 - val_accuracy: 0.8191\n",
      "\n",
      "Epoch 00032: val_loss improved from 0.59937 to 0.58722, saving model to saved_models/weights.best.basic_mlp.hdf5\n",
      "Epoch 33/100\n",
      "6985/6985 [==============================] - 1s 149us/step - loss: 0.7412 - accuracy: 0.7486 - val_loss: 0.5820 - val_accuracy: 0.8168\n",
      "\n",
      "Epoch 00033: val_loss improved from 0.58722 to 0.58199, saving model to saved_models/weights.best.basic_mlp.hdf5\n",
      "Epoch 34/100\n",
      "6985/6985 [==============================] - 1s 156us/step - loss: 0.7542 - accuracy: 0.7429 - val_loss: 0.5800 - val_accuracy: 0.8248\n",
      "\n",
      "Epoch 00034: val_loss improved from 0.58199 to 0.57996, saving model to saved_models/weights.best.basic_mlp.hdf5\n",
      "Epoch 35/100\n",
      "6985/6985 [==============================] - 1s 156us/step - loss: 0.7103 - accuracy: 0.7525 - val_loss: 0.5896 - val_accuracy: 0.8180\n",
      "\n",
      "Epoch 00035: val_loss did not improve from 0.57996\n",
      "Epoch 36/100\n",
      "6985/6985 [==============================] - 1s 165us/step - loss: 0.7057 - accuracy: 0.7558 - val_loss: 0.5737 - val_accuracy: 0.8294\n",
      "\n",
      "Epoch 00036: val_loss improved from 0.57996 to 0.57366, saving model to saved_models/weights.best.basic_mlp.hdf5\n",
      "Epoch 37/100\n",
      "6985/6985 [==============================] - 1s 160us/step - loss: 0.7145 - accuracy: 0.7508 - val_loss: 0.5599 - val_accuracy: 0.8306\n",
      "\n",
      "Epoch 00037: val_loss improved from 0.57366 to 0.55987, saving model to saved_models/weights.best.basic_mlp.hdf5\n",
      "Epoch 38/100\n",
      "6985/6985 [==============================] - 1s 163us/step - loss: 0.6962 - accuracy: 0.7601 - val_loss: 0.5480 - val_accuracy: 0.8283\n",
      "\n",
      "Epoch 00038: val_loss improved from 0.55987 to 0.54801, saving model to saved_models/weights.best.basic_mlp.hdf5\n",
      "Epoch 39/100\n",
      "6985/6985 [==============================] - 1s 163us/step - loss: 0.7013 - accuracy: 0.7605 - val_loss: 0.5484 - val_accuracy: 0.8374\n",
      "\n",
      "Epoch 00039: val_loss did not improve from 0.54801\n",
      "Epoch 40/100\n",
      "6985/6985 [==============================] - 1s 150us/step - loss: 0.6826 - accuracy: 0.7668 - val_loss: 0.5354 - val_accuracy: 0.8489\n",
      "\n",
      "Epoch 00040: val_loss improved from 0.54801 to 0.53535, saving model to saved_models/weights.best.basic_mlp.hdf5\n",
      "Epoch 41/100\n",
      "6985/6985 [==============================] - 1s 158us/step - loss: 0.6697 - accuracy: 0.7701 - val_loss: 0.5238 - val_accuracy: 0.8374\n",
      "\n",
      "Epoch 00041: val_loss improved from 0.53535 to 0.52383, saving model to saved_models/weights.best.basic_mlp.hdf5\n",
      "Epoch 42/100\n",
      "6985/6985 [==============================] - 1s 160us/step - loss: 0.6674 - accuracy: 0.7686 - val_loss: 0.5252 - val_accuracy: 0.8397\n",
      "\n",
      "Epoch 00042: val_loss did not improve from 0.52383\n",
      "Epoch 43/100\n",
      "6985/6985 [==============================] - 1s 157us/step - loss: 0.6682 - accuracy: 0.7765 - val_loss: 0.5309 - val_accuracy: 0.8414\n",
      "\n",
      "Epoch 00043: val_loss did not improve from 0.52383\n",
      "Epoch 44/100\n",
      "6985/6985 [==============================] - 1s 162us/step - loss: 0.6637 - accuracy: 0.7718 - val_loss: 0.5021 - val_accuracy: 0.8535\n",
      "\n",
      "Epoch 00044: val_loss improved from 0.52383 to 0.50211, saving model to saved_models/weights.best.basic_mlp.hdf5\n",
      "Epoch 45/100\n",
      "6985/6985 [==============================] - 1s 158us/step - loss: 0.6680 - accuracy: 0.7770 - val_loss: 0.5103 - val_accuracy: 0.8483\n",
      "\n",
      "Epoch 00045: val_loss did not improve from 0.50211\n",
      "Epoch 46/100\n",
      "6985/6985 [==============================] - 1s 159us/step - loss: 0.6388 - accuracy: 0.7810 - val_loss: 0.5297 - val_accuracy: 0.8363\n",
      "\n",
      "Epoch 00046: val_loss did not improve from 0.50211\n",
      "Epoch 47/100\n",
      "6985/6985 [==============================] - 1s 160us/step - loss: 0.6626 - accuracy: 0.7764 - val_loss: 0.5172 - val_accuracy: 0.8432\n",
      "\n",
      "Epoch 00047: val_loss did not improve from 0.50211\n",
      "Epoch 48/100\n",
      "6985/6985 [==============================] - 1s 164us/step - loss: 0.6333 - accuracy: 0.7838 - val_loss: 0.5171 - val_accuracy: 0.8500\n",
      "\n",
      "Epoch 00048: val_loss did not improve from 0.50211\n",
      "Epoch 49/100\n",
      "6985/6985 [==============================] - 1s 154us/step - loss: 0.6496 - accuracy: 0.7825 - val_loss: 0.5118 - val_accuracy: 0.8535\n",
      "\n",
      "Epoch 00049: val_loss did not improve from 0.50211\n",
      "Epoch 50/100\n",
      "6985/6985 [==============================] - 1s 153us/step - loss: 0.6223 - accuracy: 0.7847 - val_loss: 0.5137 - val_accuracy: 0.8449\n",
      "\n",
      "Epoch 00050: val_loss did not improve from 0.50211\n",
      "Epoch 51/100\n",
      "6985/6985 [==============================] - 1s 162us/step - loss: 0.6120 - accuracy: 0.7930 - val_loss: 0.4809 - val_accuracy: 0.8580\n",
      "\n",
      "Epoch 00051: val_loss improved from 0.50211 to 0.48093, saving model to saved_models/weights.best.basic_mlp.hdf5\n",
      "Epoch 52/100\n",
      "6985/6985 [==============================] - 1s 162us/step - loss: 0.6373 - accuracy: 0.7814 - val_loss: 0.4789 - val_accuracy: 0.8643\n",
      "\n",
      "Epoch 00052: val_loss improved from 0.48093 to 0.47888, saving model to saved_models/weights.best.basic_mlp.hdf5\n",
      "Epoch 53/100\n",
      "6985/6985 [==============================] - 1s 157us/step - loss: 0.6205 - accuracy: 0.7898 - val_loss: 0.4872 - val_accuracy: 0.8586\n",
      "\n",
      "Epoch 00053: val_loss did not improve from 0.47888\n",
      "Epoch 54/100\n",
      "6985/6985 [==============================] - 1s 158us/step - loss: 0.6137 - accuracy: 0.7843 - val_loss: 0.5038 - val_accuracy: 0.8592\n",
      "\n",
      "Epoch 00054: val_loss did not improve from 0.47888\n",
      "Epoch 55/100\n",
      "6985/6985 [==============================] - 1s 160us/step - loss: 0.6132 - accuracy: 0.7903 - val_loss: 0.5294 - val_accuracy: 0.8443\n",
      "\n",
      "Epoch 00055: val_loss did not improve from 0.47888\n",
      "Epoch 56/100\n",
      "6985/6985 [==============================] - 1s 162us/step - loss: 0.6197 - accuracy: 0.7875 - val_loss: 0.5038 - val_accuracy: 0.8472\n",
      "\n",
      "Epoch 00056: val_loss did not improve from 0.47888\n",
      "Epoch 57/100\n",
      "6985/6985 [==============================] - 1s 160us/step - loss: 0.5934 - accuracy: 0.7989 - val_loss: 0.4738 - val_accuracy: 0.8603\n",
      "\n",
      "Epoch 00057: val_loss improved from 0.47888 to 0.47381, saving model to saved_models/weights.best.basic_mlp.hdf5\n",
      "Epoch 58/100\n",
      "6985/6985 [==============================] - 1s 158us/step - loss: 0.5846 - accuracy: 0.8013 - val_loss: 0.4724 - val_accuracy: 0.8615\n",
      "\n",
      "Epoch 00058: val_loss improved from 0.47381 to 0.47243, saving model to saved_models/weights.best.basic_mlp.hdf5\n",
      "Epoch 59/100\n",
      "6985/6985 [==============================] - 1s 140us/step - loss: 0.5874 - accuracy: 0.7976 - val_loss: 0.4663 - val_accuracy: 0.8655\n",
      "\n",
      "Epoch 00059: val_loss improved from 0.47243 to 0.46629, saving model to saved_models/weights.best.basic_mlp.hdf5\n",
      "Epoch 60/100\n",
      "6985/6985 [==============================] - 1s 163us/step - loss: 0.6038 - accuracy: 0.7967 - val_loss: 0.4978 - val_accuracy: 0.8500\n",
      "\n",
      "Epoch 00060: val_loss did not improve from 0.46629\n",
      "Epoch 61/100\n",
      "6985/6985 [==============================] - 1s 146us/step - loss: 0.6131 - accuracy: 0.7926 - val_loss: 0.4952 - val_accuracy: 0.8598\n",
      "\n",
      "Epoch 00061: val_loss did not improve from 0.46629\n",
      "Epoch 62/100\n",
      "6985/6985 [==============================] - 1s 140us/step - loss: 0.5823 - accuracy: 0.8003 - val_loss: 0.5024 - val_accuracy: 0.8506\n",
      "\n",
      "Epoch 00062: val_loss did not improve from 0.46629\n",
      "Epoch 63/100\n",
      "6985/6985 [==============================] - 1s 152us/step - loss: 0.5674 - accuracy: 0.8023 - val_loss: 0.4978 - val_accuracy: 0.8540\n",
      "\n",
      "Epoch 00063: val_loss did not improve from 0.46629\n",
      "Epoch 64/100\n",
      "6985/6985 [==============================] - 1s 156us/step - loss: 0.5834 - accuracy: 0.8029 - val_loss: 0.4888 - val_accuracy: 0.8649\n",
      "\n",
      "Epoch 00064: val_loss did not improve from 0.46629\n",
      "Epoch 65/100\n",
      "6985/6985 [==============================] - 1s 155us/step - loss: 0.5712 - accuracy: 0.8050 - val_loss: 0.4819 - val_accuracy: 0.8586\n",
      "\n",
      "Epoch 00065: val_loss did not improve from 0.46629\n",
      "Epoch 66/100\n",
      "6985/6985 [==============================] - 1s 156us/step - loss: 0.6056 - accuracy: 0.7934 - val_loss: 0.4826 - val_accuracy: 0.8540\n",
      "\n",
      "Epoch 00066: val_loss did not improve from 0.46629\n",
      "Epoch 67/100\n",
      "6985/6985 [==============================] - 1s 157us/step - loss: 0.5805 - accuracy: 0.8030 - val_loss: 0.4981 - val_accuracy: 0.8535\n",
      "\n",
      "Epoch 00067: val_loss did not improve from 0.46629\n",
      "Epoch 68/100\n",
      "6985/6985 [==============================] - 1s 153us/step - loss: 0.5787 - accuracy: 0.8046 - val_loss: 0.4699 - val_accuracy: 0.8620\n"
     ]
    },
    {
     "name": "stdout",
     "output_type": "stream",
     "text": [
      "\n",
      "Epoch 00068: val_loss did not improve from 0.46629\n",
      "Epoch 69/100\n",
      "6985/6985 [==============================] - 1s 168us/step - loss: 0.5769 - accuracy: 0.8094 - val_loss: 0.4926 - val_accuracy: 0.8563\n",
      "\n",
      "Epoch 00069: val_loss did not improve from 0.46629\n",
      "Epoch 70/100\n",
      "6985/6985 [==============================] - 1s 159us/step - loss: 0.5937 - accuracy: 0.8024 - val_loss: 0.4757 - val_accuracy: 0.8666\n",
      "\n",
      "Epoch 00070: val_loss did not improve from 0.46629\n",
      "Epoch 71/100\n",
      "6985/6985 [==============================] - 1s 153us/step - loss: 0.5543 - accuracy: 0.8173 - val_loss: 0.4561 - val_accuracy: 0.8666\n",
      "\n",
      "Epoch 00071: val_loss improved from 0.46629 to 0.45609, saving model to saved_models/weights.best.basic_mlp.hdf5\n",
      "Epoch 72/100\n",
      "6985/6985 [==============================] - 1s 144us/step - loss: 0.5646 - accuracy: 0.8007 - val_loss: 0.4666 - val_accuracy: 0.8666\n",
      "\n",
      "Epoch 00072: val_loss did not improve from 0.45609\n",
      "Epoch 73/100\n",
      "6985/6985 [==============================] - 1s 146us/step - loss: 0.5489 - accuracy: 0.8136 - val_loss: 0.4426 - val_accuracy: 0.8712\n",
      "\n",
      "Epoch 00073: val_loss improved from 0.45609 to 0.44256, saving model to saved_models/weights.best.basic_mlp.hdf5\n",
      "Epoch 74/100\n",
      "6985/6985 [==============================] - 1s 148us/step - loss: 0.5528 - accuracy: 0.8076 - val_loss: 0.4527 - val_accuracy: 0.8706\n",
      "\n",
      "Epoch 00074: val_loss did not improve from 0.44256\n",
      "Epoch 75/100\n",
      "6985/6985 [==============================] - 1s 152us/step - loss: 0.5604 - accuracy: 0.8079 - val_loss: 0.4596 - val_accuracy: 0.8701\n",
      "\n",
      "Epoch 00075: val_loss did not improve from 0.44256\n",
      "Epoch 76/100\n",
      "6985/6985 [==============================] - 1s 149us/step - loss: 0.5659 - accuracy: 0.8100 - val_loss: 0.4580 - val_accuracy: 0.8643\n",
      "\n",
      "Epoch 00076: val_loss did not improve from 0.44256\n",
      "Epoch 77/100\n",
      "6985/6985 [==============================] - 1s 153us/step - loss: 0.5444 - accuracy: 0.8178 - val_loss: 0.4561 - val_accuracy: 0.8683\n",
      "\n",
      "Epoch 00077: val_loss did not improve from 0.44256\n",
      "Epoch 78/100\n",
      "6985/6985 [==============================] - 1s 153us/step - loss: 0.5457 - accuracy: 0.8126 - val_loss: 0.4397 - val_accuracy: 0.8683\n",
      "\n",
      "Epoch 00078: val_loss improved from 0.44256 to 0.43969, saving model to saved_models/weights.best.basic_mlp.hdf5\n",
      "Epoch 79/100\n",
      "6985/6985 [==============================] - 1s 150us/step - loss: 0.5404 - accuracy: 0.8150 - val_loss: 0.4661 - val_accuracy: 0.8529\n",
      "\n",
      "Epoch 00079: val_loss did not improve from 0.43969\n",
      "Epoch 80/100\n",
      "6985/6985 [==============================] - 1s 152us/step - loss: 0.5515 - accuracy: 0.8125 - val_loss: 0.4372 - val_accuracy: 0.8752\n",
      "\n",
      "Epoch 00080: val_loss improved from 0.43969 to 0.43717, saving model to saved_models/weights.best.basic_mlp.hdf5\n",
      "Epoch 81/100\n",
      "6985/6985 [==============================] - 1s 149us/step - loss: 0.5260 - accuracy: 0.8209 - val_loss: 0.4308 - val_accuracy: 0.8695\n",
      "\n",
      "Epoch 00081: val_loss improved from 0.43717 to 0.43085, saving model to saved_models/weights.best.basic_mlp.hdf5\n",
      "Epoch 82/100\n",
      "6985/6985 [==============================] - 1s 152us/step - loss: 0.5694 - accuracy: 0.8103 - val_loss: 0.4698 - val_accuracy: 0.8683\n",
      "\n",
      "Epoch 00082: val_loss did not improve from 0.43085\n",
      "Epoch 83/100\n",
      "6985/6985 [==============================] - 1s 151us/step - loss: 0.5539 - accuracy: 0.8129 - val_loss: 0.4287 - val_accuracy: 0.8695\n",
      "\n",
      "Epoch 00083: val_loss improved from 0.43085 to 0.42868, saving model to saved_models/weights.best.basic_mlp.hdf5\n",
      "Epoch 84/100\n",
      "6985/6985 [==============================] - 1s 151us/step - loss: 0.5486 - accuracy: 0.8150 - val_loss: 0.4304 - val_accuracy: 0.8752\n",
      "\n",
      "Epoch 00084: val_loss did not improve from 0.42868\n",
      "Epoch 85/100\n",
      "6985/6985 [==============================] - 1s 150us/step - loss: 0.5280 - accuracy: 0.8222 - val_loss: 0.4531 - val_accuracy: 0.8609\n",
      "\n",
      "Epoch 00085: val_loss did not improve from 0.42868\n",
      "Epoch 86/100\n",
      "6985/6985 [==============================] - 1s 150us/step - loss: 0.5359 - accuracy: 0.8179 - val_loss: 0.4345 - val_accuracy: 0.8758\n",
      "\n",
      "Epoch 00086: val_loss did not improve from 0.42868\n",
      "Epoch 87/100\n",
      "6985/6985 [==============================] - 1s 149us/step - loss: 0.5493 - accuracy: 0.8193 - val_loss: 0.4469 - val_accuracy: 0.8620\n",
      "\n",
      "Epoch 00087: val_loss did not improve from 0.42868\n",
      "Epoch 88/100\n",
      "6985/6985 [==============================] - 1s 151us/step - loss: 0.5462 - accuracy: 0.8173 - val_loss: 0.4517 - val_accuracy: 0.8689\n",
      "\n",
      "Epoch 00088: val_loss did not improve from 0.42868\n",
      "Epoch 89/100\n",
      "6985/6985 [==============================] - 1s 153us/step - loss: 0.5416 - accuracy: 0.8193 - val_loss: 0.4415 - val_accuracy: 0.8724\n",
      "\n",
      "Epoch 00089: val_loss did not improve from 0.42868\n",
      "Epoch 90/100\n",
      "6985/6985 [==============================] - 1s 149us/step - loss: 0.5359 - accuracy: 0.8238 - val_loss: 0.4586 - val_accuracy: 0.8683\n",
      "\n",
      "Epoch 00090: val_loss did not improve from 0.42868\n",
      "Epoch 91/100\n",
      "6985/6985 [==============================] - 1s 152us/step - loss: 0.5288 - accuracy: 0.8196 - val_loss: 0.4398 - val_accuracy: 0.8781\n",
      "\n",
      "Epoch 00091: val_loss did not improve from 0.42868\n",
      "Epoch 92/100\n",
      "6985/6985 [==============================] - 1s 148us/step - loss: 0.5217 - accuracy: 0.8259 - val_loss: 0.4214 - val_accuracy: 0.8798\n",
      "\n",
      "Epoch 00092: val_loss improved from 0.42868 to 0.42142, saving model to saved_models/weights.best.basic_mlp.hdf5\n",
      "Epoch 93/100\n",
      "6985/6985 [==============================] - 1s 149us/step - loss: 0.5170 - accuracy: 0.8249 - val_loss: 0.4159 - val_accuracy: 0.8746\n",
      "\n",
      "Epoch 00093: val_loss improved from 0.42142 to 0.41594, saving model to saved_models/weights.best.basic_mlp.hdf5\n",
      "Epoch 94/100\n",
      "6985/6985 [==============================] - 1s 147us/step - loss: 0.5283 - accuracy: 0.8218 - val_loss: 0.4396 - val_accuracy: 0.8815\n",
      "\n",
      "Epoch 00094: val_loss did not improve from 0.41594\n",
      "Epoch 95/100\n",
      "6985/6985 [==============================] - 1s 151us/step - loss: 0.5152 - accuracy: 0.8292 - val_loss: 0.4489 - val_accuracy: 0.8695\n",
      "\n",
      "Epoch 00095: val_loss did not improve from 0.41594\n",
      "Epoch 96/100\n",
      "6985/6985 [==============================] - 1s 152us/step - loss: 0.5262 - accuracy: 0.8253 - val_loss: 0.4522 - val_accuracy: 0.8678\n",
      "\n",
      "Epoch 00096: val_loss did not improve from 0.41594\n",
      "Epoch 97/100\n",
      "6985/6985 [==============================] - 1s 150us/step - loss: 0.5140 - accuracy: 0.8271 - val_loss: 0.4406 - val_accuracy: 0.8798\n",
      "\n",
      "Epoch 00097: val_loss did not improve from 0.41594\n",
      "Epoch 98/100\n",
      "6985/6985 [==============================] - 1s 153us/step - loss: 0.5175 - accuracy: 0.8256 - val_loss: 0.4371 - val_accuracy: 0.8769\n",
      "\n",
      "Epoch 00098: val_loss did not improve from 0.41594\n",
      "Epoch 99/100\n",
      "6985/6985 [==============================] - 1s 150us/step - loss: 0.5134 - accuracy: 0.8262 - val_loss: 0.4521 - val_accuracy: 0.8764\n",
      "\n",
      "Epoch 00099: val_loss did not improve from 0.41594\n",
      "Epoch 100/100\n",
      "6985/6985 [==============================] - 1s 150us/step - loss: 0.5345 - accuracy: 0.8225 - val_loss: 0.4584 - val_accuracy: 0.8718\n",
      "\n",
      "Epoch 00100: val_loss did not improve from 0.41594\n",
      "Training completed in time:  0:01:51.172700\n"
     ]
    }
   ],
   "source": [
    "from keras.callbacks import ModelCheckpoint \n",
    "from datetime import datetime \n",
    "\n",
    "num_epochs = 100\n",
    "num_batch_size = 32\n",
    "\n",
    "checkpointer = ModelCheckpoint(filepath='saved_models/weights.best.basic_mlp.hdf5', \n",
    "                               verbose=1, save_best_only=True)\n",
    "start = datetime.now()\n",
    "\n",
    "model.fit(x_train, y_train, batch_size=num_batch_size, epochs=num_epochs, validation_data=(x_test, y_test), callbacks=[checkpointer], verbose=1)\n",
    "\n",
    "\n",
    "duration = datetime.now() - start\n",
    "print(\"Training completed in time: \", duration)"
   ]
  },
  {
   "cell_type": "markdown",
   "metadata": {},
   "source": [
    "### Test the model \n",
    "\n",
    "Here we will review the accuracy of the model on both the training and test data sets. "
   ]
  },
  {
   "cell_type": "code",
   "execution_count": 6,
   "metadata": {},
   "outputs": [
    {
     "name": "stdout",
     "output_type": "stream",
     "text": [
      "Training Accuracy:  0.9229778051376343\n",
      "Testing Accuracy:  0.8717802166938782\n"
     ]
    }
   ],
   "source": [
    "# Evaluating the model on the training and testing set\n",
    "score = model.evaluate(x_train, y_train, verbose=0)\n",
    "print(\"Training Accuracy: \", score[1])\n",
    "\n",
    "score = model.evaluate(x_test, y_test, verbose=0)\n",
    "print(\"Testing Accuracy: \", score[1])"
   ]
  },
  {
   "cell_type": "markdown",
   "metadata": {},
   "source": [
    "The initial Training and Testing accuracy scores are quite high. As there is not a great difference between the Training and Test scores (~5%) this suggests that the model has not suffered from overfitting. "
   ]
  },
  {
   "cell_type": "markdown",
   "metadata": {},
   "source": [
    "### Predictions  \n",
    "\n",
    "Here we will build a method which will allow us to test the models predictions on a specified audio .wav file. "
   ]
  },
  {
   "cell_type": "code",
   "execution_count": 7,
   "metadata": {},
   "outputs": [],
   "source": [
    "import librosa \n",
    "import numpy as np \n",
    "\n",
    "def extract_feature(file_name):\n",
    "   \n",
    "    try:\n",
    "        audio_data, sample_rate = librosa.load(file_name, res_type='kaiser_fast') \n",
    "        mfccs = librosa.feature.mfcc(y=audio_data, sr=sample_rate, n_mfcc=40)\n",
    "        mfccsscaled = np.mean(mfccs.T,axis=0)\n",
    "        \n",
    "    except Exception as e:\n",
    "        print(\"Error encountered while parsing file: \", file)\n",
    "        return None, None\n",
    "\n",
    "    return np.array([mfccsscaled])\n"
   ]
  },
  {
   "cell_type": "code",
   "execution_count": 8,
   "metadata": {},
   "outputs": [],
   "source": [
    "def print_prediction(file_name):\n",
    "    prediction_feature = extract_feature(file_name) \n",
    "\n",
    "    predicted_vector = model.predict_classes(prediction_feature)\n",
    "    predicted_class = le.inverse_transform(predicted_vector) \n",
    "    print(\"The predicted class is:\", predicted_class[0], '\\n') \n",
    "\n",
    "    predicted_proba_vector = model.predict_proba(prediction_feature) \n",
    "    predicted_proba = predicted_proba_vector[0]\n",
    "    for i in range(len(predicted_proba)): \n",
    "        category = le.inverse_transform(np.array([i]))\n",
    "        print(category[0], \"\\t\\t : \", format(predicted_proba[i], '.32f') )"
   ]
  },
  {
   "cell_type": "markdown",
   "metadata": {},
   "source": [
    "### Validation \n",
    "\n",
    "#### Test with sample data \n",
    "\n",
    "Initial sainity check to verify the predictions using a subsection of the sample audio files we explored in the first notebook. We expect the bulk of these to be classified correctly. "
   ]
  },
  {
   "cell_type": "code",
   "execution_count": 9,
   "metadata": {},
   "outputs": [
    {
     "name": "stdout",
     "output_type": "stream",
     "text": [
      "The predicted class is: air_conditioner \n",
      "\n",
      "air_conditioner \t\t :  0.99999511241912841796875000000000\n",
      "car_horn \t\t :  0.00000015479932358175574336200953\n",
      "children_playing \t\t :  0.00000099942099041072651743888855\n",
      "dog_bark \t\t :  0.00000010786862247869066777639091\n",
      "drilling \t\t :  0.00000134932452056091278791427612\n",
      "engine_idling \t\t :  0.00000163115601026220247149467468\n",
      "gun_shot \t\t :  0.00000004490967242531951342243701\n",
      "jackhammer \t\t :  0.00000001620071188312977028544992\n",
      "siren \t\t :  0.00000000126438137737494571410934\n",
      "street_music \t\t :  0.00000076529892112375819124281406\n"
     ]
    }
   ],
   "source": [
    "# Class: Air Conditioner\n",
    "\n",
    "filename = '../UrbanSound Dataset sample/audio/100852-0-0-0.wav' \n",
    "print_prediction(filename) "
   ]
  },
  {
   "cell_type": "code",
   "execution_count": 10,
   "metadata": {
    "scrolled": true
   },
   "outputs": [
    {
     "name": "stdout",
     "output_type": "stream",
     "text": [
      "The predicted class is: drilling \n",
      "\n",
      "air_conditioner \t\t :  0.00000000000000423190831810578254\n",
      "car_horn \t\t :  0.00000015316409474053216399624944\n",
      "children_playing \t\t :  0.00000014709462448081467300653458\n",
      "dog_bark \t\t :  0.00000254344990935351233929395676\n",
      "drilling \t\t :  0.99989640712738037109375000000000\n",
      "engine_idling \t\t :  0.00000000000049928832769607911501\n",
      "gun_shot \t\t :  0.00000000385988752071853014058433\n",
      "jackhammer \t\t :  0.00000000023016226424754648860471\n",
      "siren \t\t :  0.00000000000883451384964262231847\n",
      "street_music \t\t :  0.00010069450217997655272483825684\n"
     ]
    }
   ],
   "source": [
    "# Class: Drilling\n",
    "\n",
    "filename = '../UrbanSound Dataset sample/audio/103199-4-0-0.wav'\n",
    "print_prediction(filename) "
   ]
  },
  {
   "cell_type": "code",
   "execution_count": 11,
   "metadata": {},
   "outputs": [
    {
     "name": "stdout",
     "output_type": "stream",
     "text": [
      "The predicted class is: street_music \n",
      "\n",
      "air_conditioner \t\t :  0.09999072551727294921875000000000\n",
      "car_horn \t\t :  0.00305506144650280475616455078125\n",
      "children_playing \t\t :  0.09950152784585952758789062500000\n",
      "dog_bark \t\t :  0.02582867257297039031982421875000\n",
      "drilling \t\t :  0.00509325042366981506347656250000\n",
      "engine_idling \t\t :  0.00916280318051576614379882812500\n",
      "gun_shot \t\t :  0.00549275847151875495910644531250\n",
      "jackhammer \t\t :  0.03270008042454719543457031250000\n",
      "siren \t\t :  0.00361734302714467048645019531250\n",
      "street_music \t\t :  0.71555775403976440429687500000000\n"
     ]
    }
   ],
   "source": [
    "# Class: Street music \n",
    "\n",
    "filename = '../UrbanSound Dataset sample/audio/101848-9-0-0.wav'\n",
    "print_prediction(filename) "
   ]
  },
  {
   "cell_type": "code",
   "execution_count": 12,
   "metadata": {},
   "outputs": [
    {
     "name": "stdout",
     "output_type": "stream",
     "text": [
      "The predicted class is: car_horn \n",
      "\n",
      "air_conditioner \t\t :  0.00188611494377255439758300781250\n",
      "car_horn \t\t :  0.68632853031158447265625000000000\n",
      "children_playing \t\t :  0.01224335655570030212402343750000\n",
      "dog_bark \t\t :  0.16461659967899322509765625000000\n",
      "drilling \t\t :  0.05645351111888885498046875000000\n",
      "engine_idling \t\t :  0.00212736334651708602905273437500\n",
      "gun_shot \t\t :  0.00211420282721519470214843750000\n",
      "jackhammer \t\t :  0.00372551172040402889251708984375\n",
      "siren \t\t :  0.00587591761723160743713378906250\n",
      "street_music \t\t :  0.06462877988815307617187500000000\n"
     ]
    }
   ],
   "source": [
    "# Class: Car Horn \n",
    "\n",
    "filename = '../UrbanSound Dataset sample/audio/100648-1-0-0.wav'\n",
    "print_prediction(filename) "
   ]
  },
  {
   "cell_type": "markdown",
   "metadata": {},
   "source": [
    "#### Observations \n",
    "\n",
    "From this brief sanity check the model seems to predict well. One errror was observed whereby a car horn was incorrectly classifed as a dog bark. \n",
    "\n",
    "We can see from the per class confidence that this was quite a low score (43%). This allows follows our early observation that a dog bark and car horn are similar in spectral shape. "
   ]
  },
  {
   "cell_type": "markdown",
   "metadata": {},
   "source": [
    "### Other audio\n",
    "\n",
    "Here we will use a sample of various copyright free sounds that we not part of either our test or training data to further validate our model. "
   ]
  },
  {
   "cell_type": "code",
   "execution_count": 11,
   "metadata": {},
   "outputs": [
    {
     "name": "stdout",
     "output_type": "stream",
     "text": [
      "The predicted class is: dog_bark \n",
      "\n",
      "air_conditioner \t\t :  0.00001390586567140417173504829407\n",
      "car_horn \t\t :  0.00530895218253135681152343750000\n",
      "children_playing \t\t :  0.39210268855094909667968750000000\n",
      "dog_bark \t\t :  0.44702345132827758789062500000000\n",
      "drilling \t\t :  0.00319736590608954429626464843750\n",
      "engine_idling \t\t :  0.00059610337484627962112426757812\n",
      "gun_shot \t\t :  0.11026044934988021850585937500000\n",
      "jackhammer \t\t :  0.00000000303021985281759498320753\n",
      "siren \t\t :  0.00992829445749521255493164062500\n",
      "street_music \t\t :  0.03156874328851699829101562500000\n"
     ]
    }
   ],
   "source": [
    "filename = '../Evaluation audio/dog_bark_1.wav'\n",
    "print_prediction(filename) "
   ]
  },
  {
   "cell_type": "code",
   "execution_count": 12,
   "metadata": {
    "scrolled": true
   },
   "outputs": [
    {
     "name": "stdout",
     "output_type": "stream",
     "text": [
      "The predicted class is: drilling \n",
      "\n",
      "air_conditioner \t\t :  0.00031856526038609445095062255859\n",
      "car_horn \t\t :  0.00001915698339871596544981002808\n",
      "children_playing \t\t :  0.00003096606451435945928096771240\n",
      "dog_bark \t\t :  0.00005764564048149622976779937744\n",
      "drilling \t\t :  0.97377794981002807617187500000000\n",
      "engine_idling \t\t :  0.00008627835632069036364555358887\n",
      "gun_shot \t\t :  0.00000530346187588293105363845825\n",
      "jackhammer \t\t :  0.02570128440856933593750000000000\n",
      "siren \t\t :  0.00000010822022744605419575236738\n",
      "street_music \t\t :  0.00000267743575932399835437536240\n"
     ]
    }
   ],
   "source": [
    "filename = '../Evaluation audio/drilling_1.wav'\n",
    "\n",
    "print_prediction(filename) "
   ]
  },
  {
   "cell_type": "code",
   "execution_count": 13,
   "metadata": {},
   "outputs": [
    {
     "name": "stdout",
     "output_type": "stream",
     "text": [
      "The predicted class is: street_music \n",
      "\n",
      "air_conditioner \t\t :  0.01734401285648345947265625000000\n",
      "car_horn \t\t :  0.00009161393973045051097869873047\n",
      "children_playing \t\t :  0.00024948510690592229366302490234\n",
      "dog_bark \t\t :  0.41893532872200012207031250000000\n",
      "drilling \t\t :  0.00050316314445808529853820800781\n",
      "engine_idling \t\t :  0.00616690935567021369934082031250\n",
      "gun_shot \t\t :  0.00489603541791439056396484375000\n",
      "jackhammer \t\t :  0.00000227677332986786495894193649\n",
      "siren \t\t :  0.00087137427181005477905273437500\n",
      "street_music \t\t :  0.55093985795974731445312500000000\n"
     ]
    }
   ],
   "source": [
    "filename = '../Evaluation audio/gun_shot_1.wav'\n",
    "\n",
    "print_prediction(filename) \n",
    "\n",
    "# sample data weighted towards gun shot - peak in the dog barking sample is simmilar in shape to the gun shot sample"
   ]
  },
  {
   "cell_type": "code",
   "execution_count": 16,
   "metadata": {},
   "outputs": [
    {
     "name": "stdout",
     "output_type": "stream",
     "text": [
      "The predicted class is: siren \n",
      "\n",
      "air_conditioner \t\t :  0.00000732402349967742338776588440\n",
      "car_horn \t\t :  0.00057092373026534914970397949219\n",
      "children_playing \t\t :  0.00199068244546651840209960937500\n",
      "dog_bark \t\t :  0.02090488374233245849609375000000\n",
      "drilling \t\t :  0.00046552356798201799392700195312\n",
      "engine_idling \t\t :  0.14164580404758453369140625000000\n",
      "gun_shot \t\t :  0.00050196843221783638000488281250\n",
      "jackhammer \t\t :  0.00276053301058709621429443359375\n",
      "siren \t\t :  0.81527197360992431640625000000000\n",
      "street_music \t\t :  0.01588040776550769805908203125000\n"
     ]
    }
   ],
   "source": [
    "filename = '../Evaluation audio/siren_1.wav'\n",
    "\n",
    "print_prediction(filename) "
   ]
  },
  {
   "cell_type": "markdown",
   "metadata": {},
   "source": [
    "#### Observations \n",
    "\n",
    "The performance of our initial model is satisfactorry and has generalised well, seeming to predict well when tested against new audio data. "
   ]
  },
  {
   "cell_type": "markdown",
   "metadata": {},
   "source": [
    "### *In the next notebook we will refine our model*"
   ]
  }
 ],
 "metadata": {
  "kernelspec": {
   "display_name": "Python 3",
   "language": "python",
   "name": "python3"
  },
  "language_info": {
   "codemirror_mode": {
    "name": "ipython",
    "version": 3
   },
   "file_extension": ".py",
   "mimetype": "text/x-python",
   "name": "python",
   "nbconvert_exporter": "python",
   "pygments_lexer": "ipython3",
   "version": "3.7.4"
  }
 },
 "nbformat": 4,
 "nbformat_minor": 2
}
