{
 "cells": [
  {
   "cell_type": "markdown",
   "metadata": {
    "colab_type": "text",
    "id": "view-in-github"
   },
   "source": [
    "<a href=\"https://colab.research.google.com/gist/parulnith/7f8c174e6ac099e86f0495d3d9a4c01e/untitled9.ipynb\" target=\"_parent\"><img src=\"https://colab.research.google.com/assets/colab-badge.svg\" alt=\"Open In Colab\"/></a>"
   ]
  },
  {
   "cell_type": "markdown",
   "metadata": {
    "colab_type": "text",
    "id": "cNnM2w-HCeb1"
   },
   "source": [
    "# Music genre classification notebook"
   ]
  },
  {
   "cell_type": "markdown",
   "metadata": {
    "colab_type": "text",
    "id": "2l3sppZMCydR"
   },
   "source": [
    "## Importing Libraries"
   ]
  },
  {
   "cell_type": "code",
   "execution_count": 1,
   "metadata": {
    "colab": {},
    "colab_type": "code",
    "id": "Gt3fyg6dCNvX"
   },
   "outputs": [
    {
     "name": "stderr",
     "output_type": "stream",
     "text": [
      "Using TensorFlow backend.\n"
     ]
    }
   ],
   "source": [
    "# feature extractoring and preprocessing data\n",
    "import librosa\n",
    "import pandas as pd\n",
    "import numpy as np\n",
    "import matplotlib.pyplot as plt\n",
    "%matplotlib inline\n",
    "import os\n",
    "from PIL import Image\n",
    "import pathlib\n",
    "import csv\n",
    "\n",
    "# Preprocessing\n",
    "from sklearn.model_selection import train_test_split\n",
    "from sklearn.preprocessing import LabelEncoder, StandardScaler\n",
    "\n",
    "#Keras\n",
    "import keras\n",
    "\n",
    "import warnings\n",
    "warnings.filterwarnings('ignore')"
   ]
  },
  {
   "cell_type": "markdown",
   "metadata": {
    "colab_type": "text",
    "id": "DPe_ebYuDqr5"
   },
   "source": [
    "## Extracting music and features\n",
    "\n",
    "### Dataset\n",
    "\n",
    "We use [GTZAN genre collection](http://marsyasweb.appspot.com/download/data_sets/) dataset for classification. \n",
    "<br>\n",
    "<br>\n",
    "The dataset consists of 10 genres i.e\n",
    " * Blues\n",
    " * Classical\n",
    " * Country\n",
    " * Disco\n",
    " * Hiphop\n",
    " * Jazz\n",
    " * Metal\n",
    " * Pop\n",
    " * Reggae\n",
    " * Rock\n",
    " \n",
    "Each genre contains 100 songs. Total dataset: 1000 songs"
   ]
  },
  {
   "cell_type": "markdown",
   "metadata": {
    "colab_type": "text",
    "id": "neqMS0VoDpN5"
   },
   "source": []
  },
  {
   "cell_type": "markdown",
   "metadata": {
    "colab_type": "text",
    "id": "AfBSVfRCD3PE"
   },
   "source": [
    "## Extracting the Spectrogram for every Audio"
   ]
  },
  {
   "cell_type": "code",
   "execution_count": 2,
   "metadata": {
    "colab": {},
    "colab_type": "code",
    "id": "BHh3pTEVDdrT"
   },
   "outputs": [
    {
     "data": {
      "text/plain": [
       "<Figure size 720x720 with 0 Axes>"
      ]
     },
     "metadata": {},
     "output_type": "display_data"
    }
   ],
   "source": [
    "cmap = plt.get_cmap('inferno')\n",
    "\n",
    "plt.figure(figsize=(10,10))\n",
    "genres = 'blues classical country disco hiphop jazz metal pop reggae rock'.split()\n",
    "for g in genres:\n",
    "    pathlib.Path(f'img_data/{g}').mkdir(parents=True, exist_ok=True)     \n",
    "    for filename in os.listdir(f'./Music_GTZAN/genres/{g}'):\n",
    "        songname = f'./Music_GTZAN/genres/{g}/{filename}'\n",
    "        y, sr = librosa.load(songname, mono=True, duration=5)\n",
    "        plt.specgram(y, NFFT=2048, Fs=2, Fc=0, noverlap=128, cmap=cmap, sides='default', mode='default', scale='dB');\n",
    "        plt.axis('off');\n",
    "        plt.savefig(f'img_data/{g}/{filename[:-3].replace(\".\", \"\")}.png')\n",
    "        plt.clf()\n",
    " "
   ]
  },
  {
   "cell_type": "markdown",
   "metadata": {
    "colab_type": "text",
    "id": "SszVgjYnFNX9"
   },
   "source": [
    "All the audio files get converted into their respective spectrograms .WE can noe easily extract features from them."
   ]
  },
  {
   "cell_type": "markdown",
   "metadata": {
    "colab_type": "text",
    "id": "3Nw9HpSdFRsW"
   },
   "source": []
  },
  {
   "cell_type": "markdown",
   "metadata": {
    "colab_type": "text",
    "id": "piwUwgP5Eef9"
   },
   "source": [
    "## Extracting features from Spectrogram\n",
    "\n",
    "\n",
    "We will extract\n",
    "\n",
    "* Mel-frequency cepstral coefficients (MFCC)(20 in number)\n",
    "* Spectral Centroid,\n",
    "* Zero Crossing Rate\n",
    "* Chroma Frequencies\n",
    "* Spectral Roll-off."
   ]
  },
  {
   "cell_type": "code",
   "execution_count": 3,
   "metadata": {
    "colab": {},
    "colab_type": "code",
    "id": "__g8tX8pDeIL"
   },
   "outputs": [],
   "source": [
    "header = 'filename chroma_stft rmse spectral_centroid spectral_bandwidth rolloff zero_crossing_rate'\n",
    "for i in range(1, 21):\n",
    "    header += f' mfcc{i}'\n",
    "header += ' label'\n",
    "header = header.split()"
   ]
  },
  {
   "cell_type": "markdown",
   "metadata": {
    "colab_type": "text",
    "id": "TBlT448pEqR9"
   },
   "source": [
    "## Writing data to csv file\n",
    "\n",
    "We write the data to a csv file "
   ]
  },
  {
   "cell_type": "code",
   "execution_count": 6,
   "metadata": {
    "colab": {},
    "colab_type": "code",
    "id": "ZsSQmB0PE3Iu"
   },
   "outputs": [],
   "source": [
    "file = open('data_MYMUSIC.csv', 'w', newline='')\n",
    "with file:\n",
    "    writer = csv.writer(file)\n",
    "    writer.writerow(header)\n",
    "genres = 'blues classical country disco hiphop jazz metal pop reggae rock'.split()\n",
    "for g in genres:\n",
    "    for filename in os.listdir(f'./Music_GTZAN/genres/{g}'):\n",
    "        songname = f'./Music_GTZAN/genres/{g}/{filename}'\n",
    "        y, sr = librosa.load(songname, mono=True, duration=30)\n",
    "        chroma_stft = librosa.feature.chroma_stft(y=y, sr=sr)\n",
    "        spec_cent = librosa.feature.spectral_centroid(y=y, sr=sr)\n",
    "        spec_bw = librosa.feature.spectral_bandwidth(y=y, sr=sr)\n",
    "        rolloff = librosa.feature.spectral_rolloff(y=y, sr=sr)\n",
    "        zcr = librosa.feature.zero_crossing_rate(y)\n",
    "        mfcc = librosa.feature.mfcc(y=y, sr=sr)\n",
    "        #to_append = f'{filename} {np.mean(chroma_stft)} {np.mean(rmse)} {np.mean(spec_cent)} {np.mean(spec_bw)} {np.mean(rolloff)} {np.mean(zcr)}'    \n",
    "        to_append = f'{filename} {np.mean(chroma_stft)} {np.mean(spec_cent)} {np.mean(spec_bw)} {np.mean(rolloff)} {np.mean(zcr)}'    \n",
    "        for e in mfcc:\n",
    "            to_append += f' {np.mean(e)}'\n",
    "        to_append += f' {g}'\n",
    "        file = open('data_MYMUSIC.csv', 'a', newline='')\n",
    "        with file:\n",
    "            writer = csv.writer(file)\n",
    "            writer.writerow(to_append.split())"
   ]
  },
  {
   "cell_type": "markdown",
   "metadata": {
    "colab_type": "text",
    "id": "0yfdo1cj6V7d"
   },
   "source": [
    "The data has been extracted into a [data.csv](https://github.com/parulnith/Music-Genre-Classification-with-Python/blob/master/data.csv) file."
   ]
  },
  {
   "cell_type": "markdown",
   "metadata": {
    "colab_type": "text",
    "id": "fgeCZSKQEp1A"
   },
   "source": [
    "# Analysing the Data in Pandas"
   ]
  },
  {
   "cell_type": "code",
   "execution_count": 7,
   "metadata": {
    "colab": {
     "base_uri": "https://localhost:8080/",
     "height": 253
    },
    "colab_type": "code",
    "id": "Kr5_EdpD9dyh",
    "outputId": "81fd4a29-93fa-44f8-bf90-2f99981f761a"
   },
   "outputs": [
    {
     "data": {
      "text/html": [
       "<div>\n",
       "<style scoped>\n",
       "    .dataframe tbody tr th:only-of-type {\n",
       "        vertical-align: middle;\n",
       "    }\n",
       "\n",
       "    .dataframe tbody tr th {\n",
       "        vertical-align: top;\n",
       "    }\n",
       "\n",
       "    .dataframe thead th {\n",
       "        text-align: right;\n",
       "    }\n",
       "</style>\n",
       "<table border=\"1\" class=\"dataframe\">\n",
       "  <thead>\n",
       "    <tr style=\"text-align: right;\">\n",
       "      <th></th>\n",
       "      <th>filename</th>\n",
       "      <th>chroma_stft</th>\n",
       "      <th>rmse</th>\n",
       "      <th>spectral_centroid</th>\n",
       "      <th>spectral_bandwidth</th>\n",
       "      <th>rolloff</th>\n",
       "      <th>zero_crossing_rate</th>\n",
       "      <th>mfcc1</th>\n",
       "      <th>mfcc2</th>\n",
       "      <th>mfcc3</th>\n",
       "      <th>...</th>\n",
       "      <th>mfcc12</th>\n",
       "      <th>mfcc13</th>\n",
       "      <th>mfcc14</th>\n",
       "      <th>mfcc15</th>\n",
       "      <th>mfcc16</th>\n",
       "      <th>mfcc17</th>\n",
       "      <th>mfcc18</th>\n",
       "      <th>mfcc19</th>\n",
       "      <th>mfcc20</th>\n",
       "      <th>label</th>\n",
       "    </tr>\n",
       "  </thead>\n",
       "  <tbody>\n",
       "    <tr>\n",
       "      <td>0</td>\n",
       "      <td>blues.00000.au</td>\n",
       "      <td>0.349943</td>\n",
       "      <td>1784.420446</td>\n",
       "      <td>2002.650192</td>\n",
       "      <td>3806.485316</td>\n",
       "      <td>0.083066</td>\n",
       "      <td>-113.596748</td>\n",
       "      <td>121.557297</td>\n",
       "      <td>-19.158825</td>\n",
       "      <td>42.351032</td>\n",
       "      <td>...</td>\n",
       "      <td>-3.667369</td>\n",
       "      <td>5.751690</td>\n",
       "      <td>-5.162763</td>\n",
       "      <td>0.750948</td>\n",
       "      <td>-1.691938</td>\n",
       "      <td>-0.409953</td>\n",
       "      <td>-2.300209</td>\n",
       "      <td>1.219929</td>\n",
       "      <td>blues</td>\n",
       "      <td>NaN</td>\n",
       "    </tr>\n",
       "    <tr>\n",
       "      <td>1</td>\n",
       "      <td>blues.00001.au</td>\n",
       "      <td>0.340983</td>\n",
       "      <td>1529.835316</td>\n",
       "      <td>2038.617579</td>\n",
       "      <td>3548.820207</td>\n",
       "      <td>0.056044</td>\n",
       "      <td>-207.556793</td>\n",
       "      <td>124.006721</td>\n",
       "      <td>8.930560</td>\n",
       "      <td>35.874687</td>\n",
       "      <td>...</td>\n",
       "      <td>-2.239120</td>\n",
       "      <td>4.216963</td>\n",
       "      <td>-6.012273</td>\n",
       "      <td>0.936110</td>\n",
       "      <td>-0.716537</td>\n",
       "      <td>0.293876</td>\n",
       "      <td>-0.287431</td>\n",
       "      <td>0.531574</td>\n",
       "      <td>blues</td>\n",
       "      <td>NaN</td>\n",
       "    </tr>\n",
       "    <tr>\n",
       "      <td>2</td>\n",
       "      <td>blues.00002.au</td>\n",
       "      <td>0.363603</td>\n",
       "      <td>1552.481958</td>\n",
       "      <td>1747.165985</td>\n",
       "      <td>3040.514948</td>\n",
       "      <td>0.076301</td>\n",
       "      <td>-90.754387</td>\n",
       "      <td>140.459915</td>\n",
       "      <td>-29.109968</td>\n",
       "      <td>31.689013</td>\n",
       "      <td>...</td>\n",
       "      <td>-8.905224</td>\n",
       "      <td>-1.083720</td>\n",
       "      <td>-9.218360</td>\n",
       "      <td>2.455806</td>\n",
       "      <td>-7.726901</td>\n",
       "      <td>-1.815723</td>\n",
       "      <td>-3.433434</td>\n",
       "      <td>-2.226821</td>\n",
       "      <td>blues</td>\n",
       "      <td>NaN</td>\n",
       "    </tr>\n",
       "    <tr>\n",
       "      <td>3</td>\n",
       "      <td>blues.00003.au</td>\n",
       "      <td>0.404779</td>\n",
       "      <td>1070.119953</td>\n",
       "      <td>1596.333948</td>\n",
       "      <td>2185.028454</td>\n",
       "      <td>0.033309</td>\n",
       "      <td>-199.431152</td>\n",
       "      <td>150.099213</td>\n",
       "      <td>5.647593</td>\n",
       "      <td>26.871927</td>\n",
       "      <td>...</td>\n",
       "      <td>-2.476421</td>\n",
       "      <td>-1.073890</td>\n",
       "      <td>-2.874778</td>\n",
       "      <td>0.780977</td>\n",
       "      <td>-3.316932</td>\n",
       "      <td>0.637981</td>\n",
       "      <td>-0.619690</td>\n",
       "      <td>-3.408233</td>\n",
       "      <td>blues</td>\n",
       "      <td>NaN</td>\n",
       "    </tr>\n",
       "    <tr>\n",
       "      <td>4</td>\n",
       "      <td>blues.00004.au</td>\n",
       "      <td>0.308590</td>\n",
       "      <td>1835.494603</td>\n",
       "      <td>1748.362448</td>\n",
       "      <td>3580.945013</td>\n",
       "      <td>0.101500</td>\n",
       "      <td>-160.266037</td>\n",
       "      <td>126.198807</td>\n",
       "      <td>-35.605450</td>\n",
       "      <td>22.153301</td>\n",
       "      <td>...</td>\n",
       "      <td>-6.934123</td>\n",
       "      <td>-7.558618</td>\n",
       "      <td>-9.173553</td>\n",
       "      <td>-4.512165</td>\n",
       "      <td>-5.453538</td>\n",
       "      <td>-0.924161</td>\n",
       "      <td>-4.409333</td>\n",
       "      <td>-11.703780</td>\n",
       "      <td>blues</td>\n",
       "      <td>NaN</td>\n",
       "    </tr>\n",
       "  </tbody>\n",
       "</table>\n",
       "<p>5 rows × 28 columns</p>\n",
       "</div>"
      ],
      "text/plain": [
       "         filename  chroma_stft         rmse  spectral_centroid  \\\n",
       "0  blues.00000.au     0.349943  1784.420446        2002.650192   \n",
       "1  blues.00001.au     0.340983  1529.835316        2038.617579   \n",
       "2  blues.00002.au     0.363603  1552.481958        1747.165985   \n",
       "3  blues.00003.au     0.404779  1070.119953        1596.333948   \n",
       "4  blues.00004.au     0.308590  1835.494603        1748.362448   \n",
       "\n",
       "   spectral_bandwidth   rolloff  zero_crossing_rate       mfcc1      mfcc2  \\\n",
       "0         3806.485316  0.083066         -113.596748  121.557297 -19.158825   \n",
       "1         3548.820207  0.056044         -207.556793  124.006721   8.930560   \n",
       "2         3040.514948  0.076301          -90.754387  140.459915 -29.109968   \n",
       "3         2185.028454  0.033309         -199.431152  150.099213   5.647593   \n",
       "4         3580.945013  0.101500         -160.266037  126.198807 -35.605450   \n",
       "\n",
       "       mfcc3  ...    mfcc12    mfcc13    mfcc14    mfcc15    mfcc16    mfcc17  \\\n",
       "0  42.351032  ... -3.667369  5.751690 -5.162763  0.750948 -1.691938 -0.409953   \n",
       "1  35.874687  ... -2.239120  4.216963 -6.012273  0.936110 -0.716537  0.293876   \n",
       "2  31.689013  ... -8.905224 -1.083720 -9.218360  2.455806 -7.726901 -1.815723   \n",
       "3  26.871927  ... -2.476421 -1.073890 -2.874778  0.780977 -3.316932  0.637981   \n",
       "4  22.153301  ... -6.934123 -7.558618 -9.173553 -4.512165 -5.453538 -0.924161   \n",
       "\n",
       "     mfcc18     mfcc19  mfcc20  label  \n",
       "0 -2.300209   1.219929   blues    NaN  \n",
       "1 -0.287431   0.531574   blues    NaN  \n",
       "2 -3.433434  -2.226821   blues    NaN  \n",
       "3 -0.619690  -3.408233   blues    NaN  \n",
       "4 -4.409333 -11.703780   blues    NaN  \n",
       "\n",
       "[5 rows x 28 columns]"
      ]
     },
     "execution_count": 7,
     "metadata": {},
     "output_type": "execute_result"
    }
   ],
   "source": [
    "data = pd.read_csv('data_MYMUSIC.csv')\n",
    "data.head()"
   ]
  },
  {
   "cell_type": "code",
   "execution_count": 8,
   "metadata": {
    "colab": {
     "base_uri": "https://localhost:8080/",
     "height": 34
    },
    "colab_type": "code",
    "id": "iHrDHCaR9gKR",
    "outputId": "7d32943a-1ad5-4a59-c13a-beebeb36e4c2"
   },
   "outputs": [
    {
     "data": {
      "text/plain": [
       "(960, 28)"
      ]
     },
     "execution_count": 8,
     "metadata": {},
     "output_type": "execute_result"
    }
   ],
   "source": [
    "data.shape"
   ]
  },
  {
   "cell_type": "code",
   "execution_count": 9,
   "metadata": {
    "colab": {},
    "colab_type": "code",
    "id": "veD5BgX49hZa"
   },
   "outputs": [],
   "source": [
    "# Dropping unneccesary columns\n",
    "data = data.drop(['filename'],axis=1)"
   ]
  },
  {
   "cell_type": "markdown",
   "metadata": {
    "colab_type": "text",
    "id": "Nyr0aAAsGXjZ"
   },
   "source": [
    "## Encoding the Labels"
   ]
  },
  {
   "cell_type": "code",
   "execution_count": 24,
   "metadata": {
    "colab": {},
    "colab_type": "code",
    "id": "frI5HH4q-1HS"
   },
   "outputs": [],
   "source": [
    "genre_list = data.iloc[:, -2] #-1\n",
    "encoder = LabelEncoder()\n",
    "y = encoder.fit_transform(genre_list)"
   ]
  },
  {
   "cell_type": "code",
   "execution_count": 25,
   "metadata": {},
   "outputs": [
    {
     "name": "stdout",
     "output_type": "stream",
     "text": [
      "[0 0 0 0 0 0 0 0 0 0 0 0 0 0 0 0 0 0 0 0 0 0 0 0 0 0 0 0 0 0 0 0 0 0 0 0 0\n",
      " 0 0 0 0 0 0 0 0 0 0 0 0 0 0 0 0 0 0 0 0 0 0 0 0 0 0 0 0 0 0 0 0 0 0 0 0 0\n",
      " 0 0 0 0 0 0 0 0 0 0 0 0 0 0 0 0 0 0 0 0 0 0 0 0 0 0 1 1 1 1 1 1 1 1 1 1 1\n",
      " 1 1 1 1 1 1 1 1 1 1 1 1 1 1 1 1 1 1 1 1 1 1 1 1 1 1 1 1 1 1 1 1 1 1 1 1 1\n",
      " 1 1 1 1 1 1 1 1 1 1 1 1 1 1 1 1 1 1 1 1 1 1 1 1 1 1 1 1 1 1 1 1 1 1 1 1 1\n",
      " 1 1 1 1 1 1 1 1 1 1 1 1 1 1 1 2 2 2 2 2 2 2 2 2 2 2 2 2 2 2 2 2 2 2 2 2 2\n",
      " 2 2 2 2 2 2 2 2 2 2 2 2 2 2 2 2 2 2 2 2 2 2 2 2 2 2 2 2 2 2 2 2 2 2 2 2 2\n",
      " 2 2 2 2 2 2 2 2 2 2 2 2 2 2 2 2 2 2 2 2 2 2 2 2 2 2 2 2 2 2 2 2 2 2 2 2 2\n",
      " 2 2 2 2 3 3 3 3 3 3 3 3 3 3 3 3 3 3 3 3 3 3 3 3 3 3 3 3 3 3 3 3 3 3 3 3 3\n",
      " 3 3 3 3 3 3 3 3 3 3 3 3 3 3 3 3 3 3 3 3 3 3 3 3 3 3 3 3 3 3 3 3 3 3 3 3 3\n",
      " 3 3 3 3 3 3 3 3 3 3 3 3 3 3 3 3 3 3 3 3 3 3 3 3 3 3 3 3 3 3 4 4 4 4 4 4 4\n",
      " 4 4 4 4 4 4 4 4 4 4 4 4 4 4 4 4 4 4 4 4 4 4 4 4 4 4 4 4 4 4 4 4 4 4 4 4 4\n",
      " 4 4 4 4 4 4 4 4 4 4 4 4 4 4 4 4 4 4 4 4 4 4 4 4 4 4 4 4 4 4 4 4 4 4 4 4 4\n",
      " 4 4 4 4 4 4 4 4 4 4 4 4 4 4 4 4 4 4 4 5 5 5 5 5 5 5 5 5 5 5 5 5 5 5 5 5 5\n",
      " 5 5 5 5 5 5 5 5 5 5 5 5 5 5 5 5 5 5 5 5 5 5 5 5 5 5 5 5 5 5 5 5 5 5 5 5 5\n",
      " 5 5 5 5 5 5 5 5 5 5 5 5 5 5 5 5 5 5 5 5 5 5 5 5 5 5 5 5 5 5 5 5 5 5 5 5 5\n",
      " 5 5 5 5 5 5 5 5 6 6 6 6 6 6 6 6 6 6 6 6 6 6 6 6 6 6 6 6 6 6 6 6 6 6 6 6 6\n",
      " 6 6 6 6 6 6 6 6 6 6 6 6 6 6 6 6 6 6 6 6 6 6 6 6 6 6 6 6 6 6 6 6 6 6 6 6 6\n",
      " 6 6 6 6 6 6 6 6 6 6 6 6 6 6 6 6 6 6 6 6 6 6 6 6 6 6 6 6 6 6 6 6 6 6 7 7 7\n",
      " 7 7 7 7 7 7 7 7 7 7 7 7 7 7 7 7 7 7 7 7 7 7 7 7 7 7 7 7 7 7 7 7 7 7 7 7 7\n",
      " 7 7 7 7 7 7 7 7 7 7 7 7 7 7 7 7 7 7 7 7 7 7 7 7 7 7 7 7 7 7 7 7 7 7 7 7 7\n",
      " 7 7 7 7 7 7 7 7 7 7 7 7 7 7 7 7 7 7 7 7 7 7 7 8 8 8 8 8 8 8 8 8 8 8 8 8 8\n",
      " 8 8 8 8 8 8 8 8 8 8 8 8 8 8 8 8 8 8 8 8 8 8 8 8 8 8 8 8 8 8 8 8 8 8 8 8 8\n",
      " 8 8 8 8 8 8 8 8 8 8 8 8 8 8 8 8 8 8 8 8 8 8 8 8 8 8 8 8 8 8 8 8 8 8 8 8 8\n",
      " 8 8 8 8 8 8 8 8 8 8 8 8 9 9 9 9 9 9 9 9 9 9 9 9 9 9 9 9 9 9 9 9 9 9 9 9 9\n",
      " 9 9 9 9 9 9 9 9 9 9 9 9 9 9 9 9 9 9 9 9 9 9 9 9 9 9 9 9 9 9 9 9 9 9 9]\n"
     ]
    }
   ],
   "source": [
    "print(y)"
   ]
  },
  {
   "cell_type": "markdown",
   "metadata": {
    "colab_type": "text",
    "id": "Slm8W0-iGVhI"
   },
   "source": []
  },
  {
   "cell_type": "markdown",
   "metadata": {
    "colab_type": "text",
    "id": "_2n8a02zGfvP"
   },
   "source": [
    "## Scaling the Feature columns"
   ]
  },
  {
   "cell_type": "code",
   "execution_count": 12,
   "metadata": {
    "colab": {},
    "colab_type": "code",
    "id": "uqcqn-nyAofk"
   },
   "outputs": [],
   "source": [
    "scaler = StandardScaler()\n",
    "X = scaler.fit_transform(np.array(data.iloc[:, :-2], dtype = float))  #-1"
   ]
  },
  {
   "cell_type": "code",
   "execution_count": 20,
   "metadata": {},
   "outputs": [
    {
     "name": "stdout",
     "output_type": "stream",
     "text": [
      "[[-0.34809486 -0.57181952 -0.45041864 ... -0.22257026 -0.03193404\n",
      "   0.59571367]\n",
      " [-0.45620808 -0.92220568 -0.38308858 ... -0.04126695  0.5142383\n",
      "   0.41833093]\n",
      " [-0.18327533 -0.89103705 -0.92867878 ... -0.58469081 -0.3394376\n",
      "  -0.29248134]\n",
      " ...\n",
      " [ 0.13631436  1.7742102   1.86913117 ... -0.41816317 -0.03417004\n",
      "  -0.28903263]\n",
      " [-0.93754092  0.32687711  1.02314642 ...  1.19576383  0.62602022\n",
      "   0.71284742]\n",
      " [-0.47455628  0.30923015  1.28053478 ... -1.40288114 -0.09057725\n",
      "  -0.82636867]]\n"
     ]
    }
   ],
   "source": [
    "print(X)"
   ]
  },
  {
   "cell_type": "markdown",
   "metadata": {
    "colab_type": "text",
    "id": "e3VZvbwpGo9R"
   },
   "source": [
    "## Dividing data into training and Testing set"
   ]
  },
  {
   "cell_type": "code",
   "execution_count": 26,
   "metadata": {
    "colab": {},
    "colab_type": "code",
    "id": "F1GW3VvQA7Rj"
   },
   "outputs": [],
   "source": [
    "X_train, X_test, y_train, y_test = train_test_split(X, y, test_size=0.2)"
   ]
  },
  {
   "cell_type": "code",
   "execution_count": 27,
   "metadata": {
    "colab": {
     "base_uri": "https://localhost:8080/",
     "height": 34
    },
    "colab_type": "code",
    "id": "upuczQ-KBHJ5",
    "outputId": "1431a28b-e8b6-4db2-e505-7e149e37c0d7"
   },
   "outputs": [
    {
     "data": {
      "text/plain": [
       "768"
      ]
     },
     "execution_count": 27,
     "metadata": {},
     "output_type": "execute_result"
    }
   ],
   "source": [
    "len(y_train)"
   ]
  },
  {
   "cell_type": "code",
   "execution_count": 28,
   "metadata": {
    "colab": {
     "base_uri": "https://localhost:8080/",
     "height": 34
    },
    "colab_type": "code",
    "id": "LtoE_FqqBzM8",
    "outputId": "76555a2b-2030-48e1-b52d-d71b4ebae38e"
   },
   "outputs": [
    {
     "data": {
      "text/plain": [
       "192"
      ]
     },
     "execution_count": 28,
     "metadata": {},
     "output_type": "execute_result"
    }
   ],
   "source": [
    "len(y_test)"
   ]
  },
  {
   "cell_type": "code",
   "execution_count": 29,
   "metadata": {
    "colab": {
     "base_uri": "https://localhost:8080/",
     "height": 119
    },
    "colab_type": "code",
    "id": "ir9XaWgQB0lq",
    "outputId": "2ec90814-19d8-4f27-934a-1ce54406d4ea"
   },
   "outputs": [
    {
     "data": {
      "text/plain": [
       "array([-0.3551725 ,  1.02746961,  1.513174  ,  1.30759659,  0.42681933,\n",
       "        0.97835895, -0.77945382,  1.13787334, -1.25884186,  0.80444821,\n",
       "       -0.51097263,  1.06165849, -0.43246988,  1.47391853, -0.64281763,\n",
       "        0.97109856, -0.46536059,  0.35890297, -0.92720801,  0.23061455,\n",
       "       -0.82189098,  0.50869884,  0.28551781,  1.03134359,  0.27973686])"
      ]
     },
     "execution_count": 29,
     "metadata": {},
     "output_type": "execute_result"
    }
   ],
   "source": [
    "X_train[10]"
   ]
  },
  {
   "cell_type": "code",
   "execution_count": 30,
   "metadata": {},
   "outputs": [
    {
     "data": {
      "text/plain": [
       "25"
      ]
     },
     "execution_count": 30,
     "metadata": {},
     "output_type": "execute_result"
    }
   ],
   "source": [
    "X_train.shape[1]"
   ]
  },
  {
   "cell_type": "code",
   "execution_count": 31,
   "metadata": {},
   "outputs": [
    {
     "data": {
      "text/plain": [
       "array([4, 7, 0, 4, 7, 2, 8, 6, 7, 2, 3, 4, 4, 4, 5, 4, 4, 0, 0, 8, 8, 0,\n",
       "       7, 7, 5, 0, 3, 4, 6, 9, 6, 8, 9, 2, 0, 8, 4, 8, 3, 0, 4, 1, 5, 1,\n",
       "       7, 5, 5, 6, 1, 1, 6, 1, 2, 3, 1, 4, 9, 7, 8, 7, 6, 8, 5, 4, 1, 2,\n",
       "       2, 6, 6, 2, 0, 6, 3, 8, 7, 7, 7, 7, 4, 4, 4, 8, 7, 8, 7, 0, 5, 6,\n",
       "       5, 6, 3, 1, 6, 1, 6, 4, 9, 2, 6, 4, 4, 8, 8, 7, 4, 0, 5, 1, 7, 1,\n",
       "       8, 2, 6, 5, 5, 6, 2, 8, 5, 5, 0, 1, 5, 3, 5, 4, 2, 4, 4, 8, 2, 3,\n",
       "       5, 4, 1, 4, 3, 6, 2, 4, 6, 2, 0, 2, 2, 2, 4, 6, 4, 7, 8, 0, 1, 4,\n",
       "       0, 6, 3, 9, 7, 3, 4, 7, 1, 5, 0, 7, 0, 4, 3, 8, 3, 1, 2, 7, 2, 3,\n",
       "       4, 3, 7, 4, 4, 2, 7, 1, 8, 3, 5, 2, 3, 7, 8, 5])"
      ]
     },
     "execution_count": 31,
     "metadata": {},
     "output_type": "execute_result"
    }
   ],
   "source": [
    "y_test"
   ]
  },
  {
   "cell_type": "markdown",
   "metadata": {
    "colab_type": "text",
    "id": "Vp2yc5FWG04e"
   },
   "source": [
    "# Classification with Keras\n",
    "\n",
    "## Building our Network"
   ]
  },
  {
   "cell_type": "code",
   "execution_count": 32,
   "metadata": {
    "colab": {},
    "colab_type": "code",
    "id": "Qj3sc2uFEUMt"
   },
   "outputs": [],
   "source": [
    "from keras import models\n",
    "from keras import layers\n",
    "\n",
    "model = models.Sequential()\n",
    "model.add(layers.Dense(256, activation='relu', input_shape=(X_train.shape[1],)))\n",
    "\n",
    "model.add(layers.Dense(128, activation='relu'))\n",
    "\n",
    "model.add(layers.Dense(64, activation='relu'))\n",
    "\n",
    "model.add(layers.Dense(10, activation='softmax'))"
   ]
  },
  {
   "cell_type": "code",
   "execution_count": 33,
   "metadata": {
    "colab": {},
    "colab_type": "code",
    "id": "7yrsmpI6EjJ2"
   },
   "outputs": [],
   "source": [
    "model.compile(optimizer='adam',\n",
    "              loss='sparse_categorical_crossentropy',\n",
    "              metrics=['accuracy'])"
   ]
  },
  {
   "cell_type": "code",
   "execution_count": 34,
   "metadata": {
    "colab": {
     "base_uri": "https://localhost:8080/",
     "height": 697
    },
    "colab_type": "code",
    "id": "bP0hVm4aElS7",
    "outputId": "aacf234d-d0a9-4de4-91be-5fd45a33b279"
   },
   "outputs": [
    {
     "name": "stdout",
     "output_type": "stream",
     "text": [
      "Epoch 1/20\n",
      "768/768 [==============================] - 0s 346us/step - loss: 2.2052 - accuracy: 0.2057\n",
      "Epoch 2/20\n",
      "768/768 [==============================] - 0s 38us/step - loss: 1.9348 - accuracy: 0.3620\n",
      "Epoch 3/20\n",
      "768/768 [==============================] - 0s 52us/step - loss: 1.7240 - accuracy: 0.4362\n",
      "Epoch 4/20\n",
      "768/768 [==============================] - 0s 43us/step - loss: 1.5385 - accuracy: 0.4870\n",
      "Epoch 5/20\n",
      "768/768 [==============================] - 0s 47us/step - loss: 1.3652 - accuracy: 0.5456\n",
      "Epoch 6/20\n",
      "768/768 [==============================] - 0s 43us/step - loss: 1.2463 - accuracy: 0.5729\n",
      "Epoch 7/20\n",
      "768/768 [==============================] - 0s 55us/step - loss: 1.1421 - accuracy: 0.6237\n",
      "Epoch 8/20\n",
      "768/768 [==============================] - 0s 27us/step - loss: 1.0676 - accuracy: 0.6419\n",
      "Epoch 9/20\n",
      "768/768 [==============================] - 0s 50us/step - loss: 1.0074 - accuracy: 0.6667\n",
      "Epoch 10/20\n",
      "768/768 [==============================] - 0s 47us/step - loss: 0.9299 - accuracy: 0.6979\n",
      "Epoch 11/20\n",
      "768/768 [==============================] - 0s 43us/step - loss: 0.8752 - accuracy: 0.7201\n",
      "Epoch 12/20\n",
      "768/768 [==============================] - 0s 56us/step - loss: 0.8198 - accuracy: 0.7318\n",
      "Epoch 13/20\n",
      "768/768 [==============================] - 0s 53us/step - loss: 0.7718 - accuracy: 0.7604\n",
      "Epoch 14/20\n",
      "768/768 [==============================] - 0s 41us/step - loss: 0.7253 - accuracy: 0.7799\n",
      "Epoch 15/20\n",
      "768/768 [==============================] - 0s 39us/step - loss: 0.6873 - accuracy: 0.7930\n",
      "Epoch 16/20\n",
      "768/768 [==============================] - 0s 56us/step - loss: 0.6607 - accuracy: 0.7995\n",
      "Epoch 17/20\n",
      "768/768 [==============================] - 0s 41us/step - loss: 0.6259 - accuracy: 0.8047\n",
      "Epoch 18/20\n",
      "768/768 [==============================] - 0s 34us/step - loss: 0.5863 - accuracy: 0.8255\n",
      "Epoch 19/20\n",
      "768/768 [==============================] - 0s 57us/step - loss: 0.5617 - accuracy: 0.8229\n",
      "Epoch 20/20\n",
      "768/768 [==============================] - 0s 34us/step - loss: 0.5329 - accuracy: 0.8307\n"
     ]
    }
   ],
   "source": [
    "history = model.fit(X_train,\n",
    "                    y_train,\n",
    "                    epochs=20,\n",
    "                    batch_size=128)\n",
    "                   "
   ]
  },
  {
   "cell_type": "code",
   "execution_count": 35,
   "metadata": {
    "colab": {
     "base_uri": "https://localhost:8080/",
     "height": 34
    },
    "colab_type": "code",
    "id": "0m1J0_wUFK4C",
    "outputId": "ffd3bf36-29ea-437a-987c-9aa600b9dae6"
   },
   "outputs": [
    {
     "name": "stdout",
     "output_type": "stream",
     "text": [
      "192/192 [==============================] - 0s 328us/step\n"
     ]
    }
   ],
   "source": [
    "test_loss, test_acc = model.evaluate(X_test,y_test)"
   ]
  },
  {
   "cell_type": "code",
   "execution_count": 36,
   "metadata": {
    "colab": {
     "base_uri": "https://localhost:8080/",
     "height": 34
    },
    "colab_type": "code",
    "id": "f6HrjXeUF0Ko",
    "outputId": "ea282dbd-6f9e-48c7-de2d-dc9afde8949e"
   },
   "outputs": [
    {
     "name": "stdout",
     "output_type": "stream",
     "text": [
      "test_acc:  0.6927083134651184\n"
     ]
    }
   ],
   "source": [
    "print('test_acc: ',test_acc)"
   ]
  },
  {
   "cell_type": "markdown",
   "metadata": {
    "colab_type": "text",
    "id": "3yQmP_f5Kq0w"
   },
   "source": [
    "Tes accuracy is less than training dataa accuracy. This hints at Overfitting"
   ]
  },
  {
   "cell_type": "markdown",
   "metadata": {
    "colab_type": "text",
    "id": "-U2qzRJoHV9O"
   },
   "source": [
    "## Validating our approach\n",
    "Let's set apart 200 samples in our training data to use as a validation set:"
   ]
  },
  {
   "cell_type": "code",
   "execution_count": 37,
   "metadata": {
    "colab": {},
    "colab_type": "code",
    "id": "xJNbvYZoF7ZT"
   },
   "outputs": [],
   "source": [
    "x_val = X_train[:200]\n",
    "partial_x_train = X_train[200:]\n",
    "\n",
    "y_val = y_train[:200]\n",
    "partial_y_train = y_train[200:]"
   ]
  },
  {
   "cell_type": "markdown",
   "metadata": {
    "colab_type": "text",
    "id": "L1EkG59EHeEV"
   },
   "source": [
    "Now let's train our network for 20 epochs:"
   ]
  },
  {
   "cell_type": "code",
   "execution_count": 38,
   "metadata": {
    "colab": {
     "base_uri": "https://localhost:8080/",
     "height": 1071
    },
    "colab_type": "code",
    "id": "Dp3G4P3aP4k2",
    "outputId": "25e1a389-1ac2-425b-bd5f-05736b6e9b96"
   },
   "outputs": [
    {
     "name": "stdout",
     "output_type": "stream",
     "text": [
      "Train on 568 samples, validate on 200 samples\n",
      "Epoch 1/30\n",
      "568/568 [==============================] - 0s 680us/step - loss: 2.3132 - accuracy: 0.0898 - val_loss: 2.1179 - val_accuracy: 0.2950\n",
      "Epoch 2/30\n",
      "568/568 [==============================] - 0s 90us/step - loss: 2.1097 - accuracy: 0.3134 - val_loss: 1.9727 - val_accuracy: 0.3350\n",
      "Epoch 3/30\n",
      "568/568 [==============================] - 0s 42us/step - loss: 1.9557 - accuracy: 0.3644 - val_loss: 1.8535 - val_accuracy: 0.3650\n",
      "Epoch 4/30\n",
      "568/568 [==============================] - 0s 80us/step - loss: 1.8213 - accuracy: 0.3908 - val_loss: 1.7611 - val_accuracy: 0.3650\n",
      "Epoch 5/30\n",
      "568/568 [==============================] - 0s 51us/step - loss: 1.7014 - accuracy: 0.3908 - val_loss: 1.6878 - val_accuracy: 0.3750\n",
      "Epoch 6/30\n",
      "568/568 [==============================] - 0s 71us/step - loss: 1.5954 - accuracy: 0.4296 - val_loss: 1.6142 - val_accuracy: 0.4100\n",
      "Epoch 7/30\n",
      "568/568 [==============================] - 0s 48us/step - loss: 1.4942 - accuracy: 0.4683 - val_loss: 1.5468 - val_accuracy: 0.4450\n",
      "Epoch 8/30\n",
      "568/568 [==============================] - 0s 44us/step - loss: 1.4033 - accuracy: 0.5246 - val_loss: 1.4942 - val_accuracy: 0.4400\n",
      "Epoch 9/30\n",
      "568/568 [==============================] - 0s 75us/step - loss: 1.3191 - accuracy: 0.5405 - val_loss: 1.4699 - val_accuracy: 0.4550\n",
      "Epoch 10/30\n",
      "568/568 [==============================] - 0s 40us/step - loss: 1.2531 - accuracy: 0.5511 - val_loss: 1.4529 - val_accuracy: 0.4600\n",
      "Epoch 11/30\n",
      "568/568 [==============================] - 0s 82us/step - loss: 1.1878 - accuracy: 0.5968 - val_loss: 1.4356 - val_accuracy: 0.4800\n",
      "Epoch 12/30\n",
      "568/568 [==============================] - 0s 48us/step - loss: 1.1259 - accuracy: 0.6197 - val_loss: 1.3847 - val_accuracy: 0.5150\n",
      "Epoch 13/30\n",
      "568/568 [==============================] - 0s 54us/step - loss: 1.0663 - accuracy: 0.6197 - val_loss: 1.3312 - val_accuracy: 0.5350\n",
      "Epoch 14/30\n",
      "568/568 [==============================] - 0s 62us/step - loss: 1.0149 - accuracy: 0.6444 - val_loss: 1.2998 - val_accuracy: 0.5750\n",
      "Epoch 15/30\n",
      "568/568 [==============================] - 0s 78us/step - loss: 0.9706 - accuracy: 0.6637 - val_loss: 1.3243 - val_accuracy: 0.5650\n",
      "Epoch 16/30\n",
      "568/568 [==============================] - 0s 70us/step - loss: 0.9558 - accuracy: 0.6549 - val_loss: 1.3091 - val_accuracy: 0.5500\n",
      "Epoch 17/30\n",
      "568/568 [==============================] - 0s 34us/step - loss: 0.9125 - accuracy: 0.6725 - val_loss: 1.2957 - val_accuracy: 0.5700\n",
      "Epoch 18/30\n",
      "568/568 [==============================] - 0s 64us/step - loss: 0.8892 - accuracy: 0.6708 - val_loss: 1.2662 - val_accuracy: 0.5850\n",
      "Epoch 19/30\n",
      "568/568 [==============================] - 0s 62us/step - loss: 0.8601 - accuracy: 0.7007 - val_loss: 1.2622 - val_accuracy: 0.6100\n",
      "Epoch 20/30\n",
      "568/568 [==============================] - 0s 38us/step - loss: 0.8262 - accuracy: 0.7165 - val_loss: 1.2552 - val_accuracy: 0.5750\n",
      "Epoch 21/30\n",
      "568/568 [==============================] - 0s 80us/step - loss: 0.7959 - accuracy: 0.7377 - val_loss: 1.2445 - val_accuracy: 0.5700\n",
      "Epoch 22/30\n",
      "568/568 [==============================] - 0s 82us/step - loss: 0.7997 - accuracy: 0.7500 - val_loss: 1.2192 - val_accuracy: 0.6050\n",
      "Epoch 23/30\n",
      "568/568 [==============================] - 0s 56us/step - loss: 0.7459 - accuracy: 0.7482 - val_loss: 1.2546 - val_accuracy: 0.6150\n",
      "Epoch 24/30\n",
      "568/568 [==============================] - 0s 66us/step - loss: 0.7343 - accuracy: 0.7658 - val_loss: 1.2580 - val_accuracy: 0.5850\n",
      "Epoch 25/30\n",
      "568/568 [==============================] - 0s 76us/step - loss: 0.7204 - accuracy: 0.7553 - val_loss: 1.2125 - val_accuracy: 0.6000\n",
      "Epoch 26/30\n",
      "568/568 [==============================] - 0s 63us/step - loss: 0.7007 - accuracy: 0.7658 - val_loss: 1.2003 - val_accuracy: 0.5900\n",
      "Epoch 27/30\n",
      "568/568 [==============================] - 0s 79us/step - loss: 0.6867 - accuracy: 0.7623 - val_loss: 1.1862 - val_accuracy: 0.6400\n",
      "Epoch 28/30\n",
      "568/568 [==============================] - 0s 75us/step - loss: 0.6415 - accuracy: 0.8028 - val_loss: 1.2896 - val_accuracy: 0.6100\n",
      "Epoch 29/30\n",
      "568/568 [==============================] - 0s 69us/step - loss: 0.6762 - accuracy: 0.7799 - val_loss: 1.2358 - val_accuracy: 0.6200\n",
      "Epoch 30/30\n",
      "568/568 [==============================] - 0s 110us/step - loss: 0.6155 - accuracy: 0.8169 - val_loss: 1.1971 - val_accuracy: 0.5850\n",
      "192/192 [==============================] - 0s 162us/step\n"
     ]
    }
   ],
   "source": [
    "model = models.Sequential()\n",
    "model.add(layers.Dense(512, activation='relu', input_shape=(X_train.shape[1],)))\n",
    "model.add(layers.Dense(256, activation='relu'))\n",
    "model.add(layers.Dense(128, activation='relu'))\n",
    "model.add(layers.Dense(64, activation='relu'))\n",
    "model.add(layers.Dense(10, activation='softmax'))\n",
    "\n",
    "model.compile(optimizer='adam',\n",
    "              loss='sparse_categorical_crossentropy',\n",
    "              metrics=['accuracy'])\n",
    "\n",
    "model.fit(partial_x_train,\n",
    "          partial_y_train,\n",
    "          epochs=30,\n",
    "          batch_size=512,\n",
    "          validation_data=(x_val, y_val))\n",
    "results = model.evaluate(X_test, y_test)"
   ]
  },
  {
   "cell_type": "markdown",
   "metadata": {
    "colab_type": "text",
    "id": "dljqHfDPI6lH"
   },
   "source": []
  },
  {
   "cell_type": "code",
   "execution_count": 39,
   "metadata": {
    "colab": {
     "base_uri": "https://localhost:8080/",
     "height": 34
    },
    "colab_type": "code",
    "id": "Mvi9it1SI4aR",
    "outputId": "98b01ef2-3935-442b-82d6-45f56e036d39"
   },
   "outputs": [
    {
     "data": {
      "text/plain": [
       "[1.1176357169946034, 0.625]"
      ]
     },
     "execution_count": 39,
     "metadata": {},
     "output_type": "execute_result"
    }
   ],
   "source": [
    "results"
   ]
  },
  {
   "cell_type": "markdown",
   "metadata": {
    "colab_type": "text",
    "id": "r3hb8s1l4rBA"
   },
   "source": [
    "## Predictions on Test Data"
   ]
  },
  {
   "cell_type": "code",
   "execution_count": 40,
   "metadata": {
    "colab": {},
    "colab_type": "code",
    "id": "gudBAhIXJIi2"
   },
   "outputs": [],
   "source": [
    "predictions = model.predict(X_test)"
   ]
  },
  {
   "cell_type": "code",
   "execution_count": 41,
   "metadata": {
    "colab": {
     "base_uri": "https://localhost:8080/",
     "height": 34
    },
    "colab_type": "code",
    "id": "Xb7bVPSwJQF0",
    "outputId": "aca09c75-1d21-4847-bdd9-a0521dc8d948"
   },
   "outputs": [
    {
     "data": {
      "text/plain": [
       "(10,)"
      ]
     },
     "execution_count": 41,
     "metadata": {},
     "output_type": "execute_result"
    }
   ],
   "source": [
    "predictions[0].shape"
   ]
  },
  {
   "cell_type": "code",
   "execution_count": 42,
   "metadata": {
    "colab": {
     "base_uri": "https://localhost:8080/",
     "height": 34
    },
    "colab_type": "code",
    "id": "llusRQV0JRy9",
    "outputId": "a856289d-883a-47cb-c0fb-ec148330a60a"
   },
   "outputs": [
    {
     "data": {
      "text/plain": [
       "1.0"
      ]
     },
     "execution_count": 42,
     "metadata": {},
     "output_type": "execute_result"
    }
   ],
   "source": [
    "np.sum(predictions[0])"
   ]
  },
  {
   "cell_type": "code",
   "execution_count": 43,
   "metadata": {
    "colab": {
     "base_uri": "https://localhost:8080/",
     "height": 34
    },
    "colab_type": "code",
    "id": "0eoEuSZqJTdU",
    "outputId": "94c17d00-dd7f-40a1-84d2-78d1ebde6103"
   },
   "outputs": [
    {
     "data": {
      "text/plain": [
       "4"
      ]
     },
     "execution_count": 43,
     "metadata": {},
     "output_type": "execute_result"
    }
   ],
   "source": [
    "np.argmax(predictions[0])"
   ]
  },
  {
   "cell_type": "code",
   "execution_count": 0,
   "metadata": {
    "colab": {},
    "colab_type": "code",
    "id": "Utgt1bXfJVRN"
   },
   "outputs": [],
   "source": []
  }
 ],
 "metadata": {
  "accelerator": "TPU",
  "colab": {
   "include_colab_link": true,
   "name": "Untitled9.ipynb",
   "provenance": [],
   "version": "0.3.2"
  },
  "kernelspec": {
   "display_name": "Python 3",
   "language": "python",
   "name": "python3"
  },
  "language_info": {
   "codemirror_mode": {
    "name": "ipython",
    "version": 3
   },
   "file_extension": ".py",
   "mimetype": "text/x-python",
   "name": "python",
   "nbconvert_exporter": "python",
   "pygments_lexer": "ipython3",
   "version": "3.7.4"
  }
 },
 "nbformat": 4,
 "nbformat_minor": 1
}
