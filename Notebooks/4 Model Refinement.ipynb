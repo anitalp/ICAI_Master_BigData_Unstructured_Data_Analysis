{
 "cells": [
  {
   "cell_type": "markdown",
   "metadata": {},
   "source": [
    "# Classifying Urban sounds using Deep Learning\n",
    "\n",
    "## 4 Model Refinement "
   ]
  },
  {
   "cell_type": "markdown",
   "metadata": {},
   "source": [
    "### Load Preprocessed data "
   ]
  },
  {
   "cell_type": "code",
   "execution_count": 1,
   "metadata": {},
   "outputs": [],
   "source": [
    "# retrieve the preprocessed data from previous notebook\n",
    "\n",
    "%store -r x_train \n",
    "%store -r x_test \n",
    "%store -r y_train \n",
    "%store -r y_test \n",
    "%store -r yy \n",
    "%store -r le"
   ]
  },
  {
   "cell_type": "markdown",
   "metadata": {},
   "source": [
    "#### Model refinement\n",
    "\n",
    "In our inital attempt, we were able to achieve a Classification Accuracy score of: \n",
    "\n",
    "* Training data Accuracy:  92.3% \n",
    "* Testing data Accuracy:  87% \n",
    "\n",
    "We will now see if we can improve upon that score using a Convolutional Neural Network (CNN). "
   ]
  },
  {
   "cell_type": "markdown",
   "metadata": {},
   "source": [
    "#### Feature Extraction refinement \n",
    "\n",
    "In the prevous feature extraction stage, the MFCC vectors would vary in size for the different audio files (depending on the samples duration). \n",
    "\n",
    "However, CNNs require a fixed size for all inputs. To overcome this we will zero pad the output vectors to make them all the same size. "
   ]
  },
  {
   "cell_type": "code",
   "execution_count": 2,
   "metadata": {},
   "outputs": [],
   "source": [
    "import numpy as np\n",
    "max_pad_len = 174\n",
    "\n",
    "def extract_features(file_name):\n",
    "   \n",
    "    try:\n",
    "        audio, sample_rate = librosa.load(file_name, res_type='kaiser_fast') \n",
    "        mfccs = librosa.feature.mfcc(y=audio, sr=sample_rate, n_mfcc=40)\n",
    "        pad_width = max_pad_len - mfccs.shape[1]\n",
    "        mfccs = np.pad(mfccs, pad_width=((0, 0), (0, pad_width)), mode='constant')\n",
    "        \n",
    "    except Exception as e:\n",
    "        print(\"Error encountered while parsing file: \", file_name)\n",
    "        return None \n",
    "     \n",
    "    return mfccs"
   ]
  },
  {
   "cell_type": "code",
   "execution_count": 5,
   "metadata": {},
   "outputs": [
    {
     "name": "stdout",
     "output_type": "stream",
     "text": [
      "Finished feature extraction from  8732  files\n"
     ]
    }
   ],
   "source": [
    "# Load various imports \n",
    "import pandas as pd\n",
    "import os\n",
    "import librosa\n",
    "\n",
    "# Set the path to the full UrbanSound dataset \n",
    "fulldatasetpath = 'D:/Desktop_ANA_LeNovo/CLASES_UNIVERSIDAD/LABS/AUDIO/UrbanSound8K/audio/'\n",
    "\n",
    "metadata = pd.read_csv('../UrbanSound Dataset sample/metadata/UrbanSound8K.csv')\n",
    "\n",
    "features = []\n",
    "\n",
    "# Iterate through each sound file and extract the features \n",
    "for index, row in metadata.iterrows():\n",
    "    \n",
    "    file_name = os.path.join(os.path.abspath(fulldatasetpath),'fold'+str(row[\"fold\"])+'/',str(row[\"slice_file_name\"]))\n",
    "    \n",
    "    class_label = row[\"class_name\"]\n",
    "    data = extract_features(file_name)\n",
    "    \n",
    "    features.append([data, class_label])\n",
    "\n",
    "# Convert into a Panda dataframe \n",
    "featuresdf = pd.DataFrame(features, columns=['feature','class_label'])\n",
    "\n",
    "print('Finished feature extraction from ', len(featuresdf), ' files') "
   ]
  },
  {
   "cell_type": "code",
   "execution_count": 6,
   "metadata": {},
   "outputs": [],
   "source": [
    "from sklearn.preprocessing import LabelEncoder\n",
    "from keras.utils import to_categorical\n",
    "\n",
    "# Convert features and corresponding classification labels into numpy arrays\n",
    "X = np.array(featuresdf.feature.tolist())\n",
    "y = np.array(featuresdf.class_label.tolist())\n",
    "\n",
    "# Encode the classification labels\n",
    "le = LabelEncoder()\n",
    "yy = to_categorical(le.fit_transform(y)) \n",
    "\n",
    "# split the dataset \n",
    "from sklearn.model_selection import train_test_split \n",
    "\n",
    "x_train, x_test, y_train, y_test = train_test_split(X, yy, test_size=0.2, random_state = 42)"
   ]
  },
  {
   "cell_type": "markdown",
   "metadata": {},
   "source": [
    "### Convolutional Neural Network (CNN) model architecture \n",
    "\n",
    "\n",
    "We will modify our model to be a Convolutional Neural Network (CNN) again using Keras and a Tensorflow backend. \n",
    "\n",
    "Again we will use a `sequential` model, starting with a simple model architecture, consisting of four `Conv2D` convolution layers, with our final output layer being a `dense` layer. \n",
    "\n",
    "The convolution layers are designed for feature detection. It works by sliding a filter window over the input and performing a matrix multiplication and storing the result in a feature map. This operation is known as a convolution. \n",
    "\n",
    "\n",
    "The `filter` parameter specifies the number of nodes in each layer. Each layer will increase in size from 16, 32, 64 to 128, while the `kernel_size` parameter specifies the size of the kernel window which in this case is 2 resulting in a 2x2 filter matrix. \n",
    "\n",
    "The first layer will receive the input shape of (40, 174, 1) where 40 is the number of MFCC's 174 is the number of frames taking padding into account and the 1 signifying that the audio is mono. \n",
    "\n",
    "The activation function we will be using for our convolutional layers is `ReLU` which is the same as our previous model. We will use a smaller `Dropout` value of 20% on our convolutional layers. \n",
    "\n",
    "Each convolutional layer has an associated pooling layer of `MaxPooling2D` type with the final convolutional layer having a `GlobalAveragePooling2D` type. The pooling layer is do reduce the dimensionality of the model (by reducing the parameters and subsquent computation requirements) which serves to shorten the training time and reduce overfitting. The Max Pooling type takes the maximum size for each window and the Global Average Pooling type takes the average which is suitable for feeding into our `dense` output layer.  \n",
    "\n",
    "Our output layer will have 10 nodes (num_labels) which matches the number of possible classifications. The activation is for our output layer is `softmax`. Softmax makes the output sum up to 1 so the output can be interpreted as probabilities. The model will then make its prediction based on which option has the highest probability."
   ]
  },
  {
   "cell_type": "code",
   "execution_count": 7,
   "metadata": {},
   "outputs": [],
   "source": [
    "import numpy as np\n",
    "from keras.models import Sequential\n",
    "from keras.layers import Dense, Dropout, Activation, Flatten\n",
    "from keras.layers import Convolution2D, Conv2D, MaxPooling2D, GlobalAveragePooling2D\n",
    "from keras.optimizers import Adam\n",
    "from keras.utils import np_utils\n",
    "from sklearn import metrics \n",
    "\n",
    "num_rows = 40\n",
    "num_columns = 174\n",
    "num_channels = 1\n",
    "\n",
    "x_train = x_train.reshape(x_train.shape[0], num_rows, num_columns, num_channels)\n",
    "x_test = x_test.reshape(x_test.shape[0], num_rows, num_columns, num_channels)\n",
    "\n",
    "num_labels = yy.shape[1]\n",
    "filter_size = 2\n",
    "\n",
    "# Construct model \n",
    "model = Sequential()\n",
    "model.add(Conv2D(filters=16, kernel_size=2, input_shape=(num_rows, num_columns, num_channels), activation='relu'))\n",
    "model.add(MaxPooling2D(pool_size=2))\n",
    "model.add(Dropout(0.2))\n",
    "\n",
    "model.add(Conv2D(filters=32, kernel_size=2, activation='relu'))\n",
    "model.add(MaxPooling2D(pool_size=2))\n",
    "model.add(Dropout(0.2))\n",
    "\n",
    "model.add(Conv2D(filters=64, kernel_size=2, activation='relu'))\n",
    "model.add(MaxPooling2D(pool_size=2))\n",
    "model.add(Dropout(0.2))\n",
    "\n",
    "model.add(Conv2D(filters=128, kernel_size=2, activation='relu'))\n",
    "model.add(MaxPooling2D(pool_size=2))\n",
    "model.add(Dropout(0.2))\n",
    "model.add(GlobalAveragePooling2D())\n",
    "\n",
    "model.add(Dense(num_labels, activation='softmax')) "
   ]
  },
  {
   "cell_type": "markdown",
   "metadata": {},
   "source": [
    "### Compiling the model \n",
    "\n",
    "For compiling our model, we will use the same three parameters as the previous model: "
   ]
  },
  {
   "cell_type": "code",
   "execution_count": 8,
   "metadata": {},
   "outputs": [],
   "source": [
    "# Compile the model\n",
    "model.compile(loss='categorical_crossentropy', metrics=['accuracy'], optimizer='adam') "
   ]
  },
  {
   "cell_type": "code",
   "execution_count": 9,
   "metadata": {},
   "outputs": [
    {
     "name": "stdout",
     "output_type": "stream",
     "text": [
      "Model: \"sequential_1\"\n",
      "_________________________________________________________________\n",
      "Layer (type)                 Output Shape              Param #   \n",
      "=================================================================\n",
      "conv2d_1 (Conv2D)            (None, 39, 173, 16)       80        \n",
      "_________________________________________________________________\n",
      "max_pooling2d_1 (MaxPooling2 (None, 19, 86, 16)        0         \n",
      "_________________________________________________________________\n",
      "dropout_1 (Dropout)          (None, 19, 86, 16)        0         \n",
      "_________________________________________________________________\n",
      "conv2d_2 (Conv2D)            (None, 18, 85, 32)        2080      \n",
      "_________________________________________________________________\n",
      "max_pooling2d_2 (MaxPooling2 (None, 9, 42, 32)         0         \n",
      "_________________________________________________________________\n",
      "dropout_2 (Dropout)          (None, 9, 42, 32)         0         \n",
      "_________________________________________________________________\n",
      "conv2d_3 (Conv2D)            (None, 8, 41, 64)         8256      \n",
      "_________________________________________________________________\n",
      "max_pooling2d_3 (MaxPooling2 (None, 4, 20, 64)         0         \n",
      "_________________________________________________________________\n",
      "dropout_3 (Dropout)          (None, 4, 20, 64)         0         \n",
      "_________________________________________________________________\n",
      "conv2d_4 (Conv2D)            (None, 3, 19, 128)        32896     \n",
      "_________________________________________________________________\n",
      "max_pooling2d_4 (MaxPooling2 (None, 1, 9, 128)         0         \n",
      "_________________________________________________________________\n",
      "dropout_4 (Dropout)          (None, 1, 9, 128)         0         \n",
      "_________________________________________________________________\n",
      "global_average_pooling2d_1 ( (None, 128)               0         \n",
      "_________________________________________________________________\n",
      "dense_1 (Dense)              (None, 10)                1290      \n",
      "=================================================================\n",
      "Total params: 44,602\n",
      "Trainable params: 44,602\n",
      "Non-trainable params: 0\n",
      "_________________________________________________________________\n",
      "1747/1747 [==============================] - 3s 2ms/step\n",
      "Pre-training accuracy: 12.0778%\n"
     ]
    }
   ],
   "source": [
    "# Display model architecture summary \n",
    "model.summary()\n",
    "\n",
    "# Calculate pre-training accuracy \n",
    "score = model.evaluate(x_test, y_test, verbose=1)\n",
    "accuracy = 100*score[1]\n",
    "\n",
    "print(\"Pre-training accuracy: %.4f%%\" % accuracy)"
   ]
  },
  {
   "cell_type": "markdown",
   "metadata": {},
   "source": [
    "### Training \n",
    "\n",
    "Here we will train the model. As training a CNN can take a sigificant amount of time, we will start with a low number of epochs and a low batch size. If we can see from the output that the model is converging, we will increase both numbers.  "
   ]
  },
  {
   "cell_type": "code",
   "execution_count": 10,
   "metadata": {},
   "outputs": [
    {
     "name": "stdout",
     "output_type": "stream",
     "text": [
      "Train on 6985 samples, validate on 1747 samples\n",
      "Epoch 1/72\n",
      "6985/6985 [==============================] - 37s 5ms/step - loss: 3.3310 - accuracy: 0.2047 - val_loss: 2.0683 - val_accuracy: 0.2725\n",
      "\n",
      "Epoch 00001: val_loss improved from inf to 2.06832, saving model to saved_models/weights.best.basic_cnn.hdf5\n",
      "Epoch 2/72\n",
      "6985/6985 [==============================] - 36s 5ms/step - loss: 1.8387 - accuracy: 0.3578 - val_loss: 1.8689 - val_accuracy: 0.3898\n",
      "\n",
      "Epoch 00002: val_loss improved from 2.06832 to 1.86888, saving model to saved_models/weights.best.basic_cnn.hdf5\n",
      "Epoch 3/72\n",
      "6985/6985 [==============================] - 36s 5ms/step - loss: 1.5933 - accuracy: 0.4528 - val_loss: 1.6584 - val_accuracy: 0.4814\n",
      "\n",
      "Epoch 00003: val_loss improved from 1.86888 to 1.65844, saving model to saved_models/weights.best.basic_cnn.hdf5\n",
      "Epoch 4/72\n",
      "6985/6985 [==============================] - 36s 5ms/step - loss: 1.4504 - accuracy: 0.4963 - val_loss: 1.5376 - val_accuracy: 0.5209\n",
      "\n",
      "Epoch 00004: val_loss improved from 1.65844 to 1.53756, saving model to saved_models/weights.best.basic_cnn.hdf5\n",
      "Epoch 5/72\n",
      "6985/6985 [==============================] - 37s 5ms/step - loss: 1.3480 - accuracy: 0.5326 - val_loss: 1.4785 - val_accuracy: 0.5243\n",
      "\n",
      "Epoch 00005: val_loss improved from 1.53756 to 1.47853, saving model to saved_models/weights.best.basic_cnn.hdf5\n",
      "Epoch 6/72\n",
      "6985/6985 [==============================] - 36s 5ms/step - loss: 1.2805 - accuracy: 0.5606 - val_loss: 1.3783 - val_accuracy: 0.5633\n",
      "\n",
      "Epoch 00006: val_loss improved from 1.47853 to 1.37827, saving model to saved_models/weights.best.basic_cnn.hdf5\n",
      "Epoch 7/72\n",
      "6985/6985 [==============================] - 32s 5ms/step - loss: 1.2028 - accuracy: 0.5881 - val_loss: 1.3185 - val_accuracy: 0.5633\n",
      "\n",
      "Epoch 00007: val_loss improved from 1.37827 to 1.31854, saving model to saved_models/weights.best.basic_cnn.hdf5\n",
      "Epoch 8/72\n",
      "6985/6985 [==============================] - 33s 5ms/step - loss: 1.1368 - accuracy: 0.6059 - val_loss: 1.2438 - val_accuracy: 0.6062\n",
      "\n",
      "Epoch 00008: val_loss improved from 1.31854 to 1.24380, saving model to saved_models/weights.best.basic_cnn.hdf5\n",
      "Epoch 9/72\n",
      "6985/6985 [==============================] - 36s 5ms/step - loss: 1.0749 - accuracy: 0.6342 - val_loss: 1.1837 - val_accuracy: 0.6365\n",
      "\n",
      "Epoch 00009: val_loss improved from 1.24380 to 1.18373, saving model to saved_models/weights.best.basic_cnn.hdf5\n",
      "Epoch 10/72\n",
      "6985/6985 [==============================] - 34s 5ms/step - loss: 1.0089 - accuracy: 0.6548 - val_loss: 1.1217 - val_accuracy: 0.6319\n",
      "\n",
      "Epoch 00010: val_loss improved from 1.18373 to 1.12172, saving model to saved_models/weights.best.basic_cnn.hdf5\n",
      "Epoch 11/72\n",
      "6985/6985 [==============================] - 36s 5ms/step - loss: 0.9757 - accuracy: 0.6598 - val_loss: 1.0609 - val_accuracy: 0.6554\n",
      "\n",
      "Epoch 00011: val_loss improved from 1.12172 to 1.06088, saving model to saved_models/weights.best.basic_cnn.hdf5\n",
      "Epoch 12/72\n",
      "6985/6985 [==============================] - 35s 5ms/step - loss: 0.9307 - accuracy: 0.6805 - val_loss: 1.0119 - val_accuracy: 0.6938\n",
      "\n",
      "Epoch 00012: val_loss improved from 1.06088 to 1.01193, saving model to saved_models/weights.best.basic_cnn.hdf5\n",
      "Epoch 13/72\n",
      "6985/6985 [==============================] - 36s 5ms/step - loss: 0.8848 - accuracy: 0.6941 - val_loss: 0.9743 - val_accuracy: 0.6926\n",
      "\n",
      "Epoch 00013: val_loss improved from 1.01193 to 0.97434, saving model to saved_models/weights.best.basic_cnn.hdf5\n",
      "Epoch 14/72\n",
      "6985/6985 [==============================] - 34s 5ms/step - loss: 0.8505 - accuracy: 0.7075 - val_loss: 0.9849 - val_accuracy: 0.6777\n",
      "\n",
      "Epoch 00014: val_loss did not improve from 0.97434\n",
      "Epoch 15/72\n",
      "6985/6985 [==============================] - 35s 5ms/step - loss: 0.8293 - accuracy: 0.7207 - val_loss: 0.8998 - val_accuracy: 0.7235\n",
      "\n",
      "Epoch 00015: val_loss improved from 0.97434 to 0.89982, saving model to saved_models/weights.best.basic_cnn.hdf5\n",
      "Epoch 16/72\n",
      "6985/6985 [==============================] - 34s 5ms/step - loss: 0.7890 - accuracy: 0.7326 - val_loss: 0.8811 - val_accuracy: 0.7235\n",
      "\n",
      "Epoch 00016: val_loss improved from 0.89982 to 0.88114, saving model to saved_models/weights.best.basic_cnn.hdf5\n",
      "Epoch 17/72\n",
      "6985/6985 [==============================] - 36s 5ms/step - loss: 0.7605 - accuracy: 0.7386 - val_loss: 0.8469 - val_accuracy: 0.7338\n",
      "\n",
      "Epoch 00017: val_loss improved from 0.88114 to 0.84694, saving model to saved_models/weights.best.basic_cnn.hdf5\n",
      "Epoch 18/72\n",
      "6985/6985 [==============================] - 36s 5ms/step - loss: 0.7338 - accuracy: 0.7467 - val_loss: 0.8326 - val_accuracy: 0.7315\n",
      "\n",
      "Epoch 00018: val_loss improved from 0.84694 to 0.83263, saving model to saved_models/weights.best.basic_cnn.hdf5\n",
      "Epoch 19/72\n",
      "6985/6985 [==============================] - 34s 5ms/step - loss: 0.7241 - accuracy: 0.7506 - val_loss: 0.8223 - val_accuracy: 0.7315\n",
      "\n",
      "Epoch 00019: val_loss improved from 0.83263 to 0.82232, saving model to saved_models/weights.best.basic_cnn.hdf5\n",
      "Epoch 20/72\n",
      "6985/6985 [==============================] - 34s 5ms/step - loss: 0.6957 - accuracy: 0.7611 - val_loss: 0.7846 - val_accuracy: 0.7464\n",
      "\n",
      "Epoch 00020: val_loss improved from 0.82232 to 0.78461, saving model to saved_models/weights.best.basic_cnn.hdf5\n",
      "Epoch 21/72\n",
      "6985/6985 [==============================] - 34s 5ms/step - loss: 0.6788 - accuracy: 0.7678 - val_loss: 0.7762 - val_accuracy: 0.7470\n",
      "\n",
      "Epoch 00021: val_loss improved from 0.78461 to 0.77623, saving model to saved_models/weights.best.basic_cnn.hdf5\n",
      "Epoch 22/72\n",
      "6985/6985 [==============================] - 35s 5ms/step - loss: 0.6489 - accuracy: 0.7780 - val_loss: 0.6980 - val_accuracy: 0.7853\n",
      "\n",
      "Epoch 00022: val_loss improved from 0.77623 to 0.69797, saving model to saved_models/weights.best.basic_cnn.hdf5\n",
      "Epoch 23/72\n",
      "6985/6985 [==============================] - 37s 5ms/step - loss: 0.6275 - accuracy: 0.7800 - val_loss: 0.7363 - val_accuracy: 0.7642\n",
      "\n",
      "Epoch 00023: val_loss did not improve from 0.69797\n",
      "Epoch 24/72\n",
      "6985/6985 [==============================] - 37s 5ms/step - loss: 0.5990 - accuracy: 0.7937 - val_loss: 0.7247 - val_accuracy: 0.7590\n",
      "\n",
      "Epoch 00024: val_loss did not improve from 0.69797\n",
      "Epoch 25/72\n",
      "6985/6985 [==============================] - 37s 5ms/step - loss: 0.6075 - accuracy: 0.7947 - val_loss: 0.6843 - val_accuracy: 0.7853\n",
      "\n",
      "Epoch 00025: val_loss improved from 0.69797 to 0.68430, saving model to saved_models/weights.best.basic_cnn.hdf5\n",
      "Epoch 26/72\n",
      "6985/6985 [==============================] - 37s 5ms/step - loss: 0.5855 - accuracy: 0.7971 - val_loss: 0.7085 - val_accuracy: 0.7624\n",
      "\n",
      "Epoch 00026: val_loss did not improve from 0.68430\n",
      "Epoch 27/72\n",
      "6985/6985 [==============================] - 35s 5ms/step - loss: 0.5742 - accuracy: 0.8062 - val_loss: 0.6559 - val_accuracy: 0.7808\n",
      "\n",
      "Epoch 00027: val_loss improved from 0.68430 to 0.65588, saving model to saved_models/weights.best.basic_cnn.hdf5\n",
      "Epoch 28/72\n",
      "6985/6985 [==============================] - 35s 5ms/step - loss: 0.5406 - accuracy: 0.8153 - val_loss: 0.6576 - val_accuracy: 0.7871\n",
      "\n",
      "Epoch 00028: val_loss did not improve from 0.65588\n",
      "Epoch 29/72\n",
      "6985/6985 [==============================] - 35s 5ms/step - loss: 0.5163 - accuracy: 0.8252 - val_loss: 0.6235 - val_accuracy: 0.8008\n",
      "\n",
      "Epoch 00029: val_loss improved from 0.65588 to 0.62353, saving model to saved_models/weights.best.basic_cnn.hdf5\n",
      "Epoch 30/72\n",
      "6985/6985 [==============================] - 29s 4ms/step - loss: 0.5053 - accuracy: 0.8334 - val_loss: 0.6306 - val_accuracy: 0.7922\n",
      "\n",
      "Epoch 00030: val_loss did not improve from 0.62353\n",
      "Epoch 31/72\n",
      "6985/6985 [==============================] - 37s 5ms/step - loss: 0.5001 - accuracy: 0.8308 - val_loss: 0.5714 - val_accuracy: 0.8168\n",
      "\n",
      "Epoch 00031: val_loss improved from 0.62353 to 0.57144, saving model to saved_models/weights.best.basic_cnn.hdf5\n",
      "Epoch 32/72\n",
      "6985/6985 [==============================] - 35s 5ms/step - loss: 0.4884 - accuracy: 0.8355 - val_loss: 0.5781 - val_accuracy: 0.8248\n",
      "\n",
      "Epoch 00032: val_loss did not improve from 0.57144\n",
      "Epoch 33/72\n",
      "6985/6985 [==============================] - 33s 5ms/step - loss: 0.4840 - accuracy: 0.8285 - val_loss: 0.5832 - val_accuracy: 0.8151\n",
      "\n",
      "Epoch 00033: val_loss did not improve from 0.57144\n",
      "Epoch 34/72\n"
     ]
    },
    {
     "name": "stdout",
     "output_type": "stream",
     "text": [
      "6985/6985 [==============================] - 31s 4ms/step - loss: 0.4732 - accuracy: 0.8361 - val_loss: 0.5165 - val_accuracy: 0.8432\n",
      "\n",
      "Epoch 00034: val_loss improved from 0.57144 to 0.51654, saving model to saved_models/weights.best.basic_cnn.hdf5\n",
      "Epoch 35/72\n",
      "6985/6985 [==============================] - 32s 5ms/step - loss: 0.4654 - accuracy: 0.8445 - val_loss: 0.5245 - val_accuracy: 0.8409\n",
      "\n",
      "Epoch 00035: val_loss did not improve from 0.51654\n",
      "Epoch 36/72\n",
      "6985/6985 [==============================] - 33s 5ms/step - loss: 0.4780 - accuracy: 0.8366 - val_loss: 0.6075 - val_accuracy: 0.8105\n",
      "\n",
      "Epoch 00036: val_loss did not improve from 0.51654\n",
      "Epoch 37/72\n",
      "6985/6985 [==============================] - 34s 5ms/step - loss: 0.4481 - accuracy: 0.8447 - val_loss: 0.4927 - val_accuracy: 0.8449\n",
      "\n",
      "Epoch 00037: val_loss improved from 0.51654 to 0.49266, saving model to saved_models/weights.best.basic_cnn.hdf5\n",
      "Epoch 38/72\n",
      "6985/6985 [==============================] - 35s 5ms/step - loss: 0.4398 - accuracy: 0.8515 - val_loss: 0.5013 - val_accuracy: 0.8397\n",
      "\n",
      "Epoch 00038: val_loss did not improve from 0.49266\n",
      "Epoch 39/72\n",
      "6985/6985 [==============================] - 35s 5ms/step - loss: 0.4218 - accuracy: 0.8555 - val_loss: 0.5191 - val_accuracy: 0.8414\n",
      "\n",
      "Epoch 00039: val_loss did not improve from 0.49266\n",
      "Epoch 40/72\n",
      "6985/6985 [==============================] - 37s 5ms/step - loss: 0.4143 - accuracy: 0.8627 - val_loss: 0.4667 - val_accuracy: 0.8517\n",
      "\n",
      "Epoch 00040: val_loss improved from 0.49266 to 0.46670, saving model to saved_models/weights.best.basic_cnn.hdf5\n",
      "Epoch 41/72\n",
      "6985/6985 [==============================] - 34s 5ms/step - loss: 0.4102 - accuracy: 0.8594 - val_loss: 0.4711 - val_accuracy: 0.8523\n",
      "\n",
      "Epoch 00041: val_loss did not improve from 0.46670\n",
      "Epoch 42/72\n",
      "6985/6985 [==============================] - 38s 5ms/step - loss: 0.4022 - accuracy: 0.8618 - val_loss: 0.4508 - val_accuracy: 0.8626\n",
      "\n",
      "Epoch 00042: val_loss improved from 0.46670 to 0.45079, saving model to saved_models/weights.best.basic_cnn.hdf5\n",
      "Epoch 43/72\n",
      "6985/6985 [==============================] - 38s 5ms/step - loss: 0.3870 - accuracy: 0.8659 - val_loss: 0.4406 - val_accuracy: 0.8638\n",
      "\n",
      "Epoch 00043: val_loss improved from 0.45079 to 0.44058, saving model to saved_models/weights.best.basic_cnn.hdf5\n",
      "Epoch 44/72\n",
      "6985/6985 [==============================] - 36s 5ms/step - loss: 0.3779 - accuracy: 0.8680 - val_loss: 0.4720 - val_accuracy: 0.8420\n",
      "\n",
      "Epoch 00044: val_loss did not improve from 0.44058\n",
      "Epoch 45/72\n",
      "6985/6985 [==============================] - 35s 5ms/step - loss: 0.3818 - accuracy: 0.8689 - val_loss: 0.4439 - val_accuracy: 0.8620\n",
      "\n",
      "Epoch 00045: val_loss did not improve from 0.44058\n",
      "Epoch 46/72\n",
      "6985/6985 [==============================] - 36s 5ms/step - loss: 0.3637 - accuracy: 0.8744 - val_loss: 0.4368 - val_accuracy: 0.8643\n",
      "\n",
      "Epoch 00046: val_loss improved from 0.44058 to 0.43676, saving model to saved_models/weights.best.basic_cnn.hdf5\n",
      "Epoch 47/72\n",
      "6985/6985 [==============================] - 34s 5ms/step - loss: 0.3513 - accuracy: 0.8810 - val_loss: 0.4064 - val_accuracy: 0.8758\n",
      "\n",
      "Epoch 00047: val_loss improved from 0.43676 to 0.40637, saving model to saved_models/weights.best.basic_cnn.hdf5\n",
      "Epoch 48/72\n",
      "6985/6985 [==============================] - 35s 5ms/step - loss: 0.3572 - accuracy: 0.8760 - val_loss: 0.4050 - val_accuracy: 0.8752\n",
      "\n",
      "Epoch 00048: val_loss improved from 0.40637 to 0.40495, saving model to saved_models/weights.best.basic_cnn.hdf5\n",
      "Epoch 49/72\n",
      "6985/6985 [==============================] - 36s 5ms/step - loss: 0.3387 - accuracy: 0.8835 - val_loss: 0.4308 - val_accuracy: 0.8603\n",
      "\n",
      "Epoch 00049: val_loss did not improve from 0.40495\n",
      "Epoch 50/72\n",
      "6985/6985 [==============================] - 34s 5ms/step - loss: 0.3374 - accuracy: 0.8859 - val_loss: 0.3904 - val_accuracy: 0.8821\n",
      "\n",
      "Epoch 00050: val_loss improved from 0.40495 to 0.39043, saving model to saved_models/weights.best.basic_cnn.hdf5\n",
      "Epoch 51/72\n",
      "6985/6985 [==============================] - 35s 5ms/step - loss: 0.3365 - accuracy: 0.8832 - val_loss: 0.4363 - val_accuracy: 0.8580\n",
      "\n",
      "Epoch 00051: val_loss did not improve from 0.39043\n",
      "Epoch 52/72\n",
      "6985/6985 [==============================] - 35s 5ms/step - loss: 0.3235 - accuracy: 0.8859 - val_loss: 0.4150 - val_accuracy: 0.8672\n",
      "\n",
      "Epoch 00052: val_loss did not improve from 0.39043\n",
      "Epoch 53/72\n",
      "6985/6985 [==============================] - 35s 5ms/step - loss: 0.3337 - accuracy: 0.8842 - val_loss: 0.4446 - val_accuracy: 0.8546\n",
      "\n",
      "Epoch 00053: val_loss did not improve from 0.39043\n",
      "Epoch 54/72\n",
      "6985/6985 [==============================] - 36s 5ms/step - loss: 0.3203 - accuracy: 0.8888 - val_loss: 0.4056 - val_accuracy: 0.8689\n",
      "\n",
      "Epoch 00054: val_loss did not improve from 0.39043\n",
      "Epoch 55/72\n",
      "6985/6985 [==============================] - 35s 5ms/step - loss: 0.3208 - accuracy: 0.8898 - val_loss: 0.4133 - val_accuracy: 0.8643\n",
      "\n",
      "Epoch 00055: val_loss did not improve from 0.39043\n",
      "Epoch 56/72\n",
      "6985/6985 [==============================] - 37s 5ms/step - loss: 0.3100 - accuracy: 0.8936 - val_loss: 0.3786 - val_accuracy: 0.8792\n",
      "\n",
      "Epoch 00056: val_loss improved from 0.39043 to 0.37856, saving model to saved_models/weights.best.basic_cnn.hdf5\n",
      "Epoch 57/72\n",
      "6985/6985 [==============================] - 41s 6ms/step - loss: 0.3007 - accuracy: 0.8941 - val_loss: 0.3886 - val_accuracy: 0.8769\n",
      "\n",
      "Epoch 00057: val_loss did not improve from 0.37856\n",
      "Epoch 58/72\n",
      "6985/6985 [==============================] - 45s 6ms/step - loss: 0.2873 - accuracy: 0.9002 - val_loss: 0.4122 - val_accuracy: 0.8643\n",
      "\n",
      "Epoch 00058: val_loss did not improve from 0.37856\n",
      "Epoch 59/72\n",
      "6985/6985 [==============================] - 45s 6ms/step - loss: 0.2989 - accuracy: 0.8996 - val_loss: 0.3686 - val_accuracy: 0.8798\n",
      "\n",
      "Epoch 00059: val_loss improved from 0.37856 to 0.36864, saving model to saved_models/weights.best.basic_cnn.hdf5\n",
      "Epoch 60/72\n",
      "6985/6985 [==============================] - 45s 6ms/step - loss: 0.2805 - accuracy: 0.9051 - val_loss: 0.3825 - val_accuracy: 0.8764\n",
      "\n",
      "Epoch 00060: val_loss did not improve from 0.36864\n",
      "Epoch 61/72\n",
      "6985/6985 [==============================] - 45s 6ms/step - loss: 0.2826 - accuracy: 0.9021 - val_loss: 0.3591 - val_accuracy: 0.8878\n",
      "\n",
      "Epoch 00061: val_loss improved from 0.36864 to 0.35906, saving model to saved_models/weights.best.basic_cnn.hdf5\n",
      "Epoch 62/72\n",
      "6985/6985 [==============================] - 44s 6ms/step - loss: 0.2664 - accuracy: 0.9089 - val_loss: 0.3469 - val_accuracy: 0.8930\n",
      "\n",
      "Epoch 00062: val_loss improved from 0.35906 to 0.34689, saving model to saved_models/weights.best.basic_cnn.hdf5\n",
      "Epoch 63/72\n",
      "6985/6985 [==============================] - 43s 6ms/step - loss: 0.2683 - accuracy: 0.9059 - val_loss: 0.3347 - val_accuracy: 0.8947\n",
      "\n",
      "Epoch 00063: val_loss improved from 0.34689 to 0.33473, saving model to saved_models/weights.best.basic_cnn.hdf5\n",
      "Epoch 64/72\n",
      "6985/6985 [==============================] - 44s 6ms/step - loss: 0.2856 - accuracy: 0.9015 - val_loss: 0.3907 - val_accuracy: 0.8712\n",
      "\n",
      "Epoch 00064: val_loss did not improve from 0.33473\n",
      "Epoch 65/72\n",
      "6985/6985 [==============================] - 43s 6ms/step - loss: 0.2644 - accuracy: 0.9085 - val_loss: 0.3488 - val_accuracy: 0.8912\n",
      "\n",
      "Epoch 00065: val_loss did not improve from 0.33473\n",
      "Epoch 66/72\n",
      "6985/6985 [==============================] - 43s 6ms/step - loss: 0.2660 - accuracy: 0.9051 - val_loss: 0.3462 - val_accuracy: 0.8867\n",
      "\n",
      "Epoch 00066: val_loss did not improve from 0.33473\n",
      "Epoch 67/72\n",
      "6985/6985 [==============================] - 32s 5ms/step - loss: 0.2489 - accuracy: 0.9165 - val_loss: 0.3339 - val_accuracy: 0.8907\n",
      "\n",
      "Epoch 00067: val_loss improved from 0.33473 to 0.33385, saving model to saved_models/weights.best.basic_cnn.hdf5\n",
      "Epoch 68/72\n",
      "6985/6985 [==============================] - 25s 4ms/step - loss: 0.2436 - accuracy: 0.9147 - val_loss: 0.3400 - val_accuracy: 0.8924\n",
      "\n",
      "Epoch 00068: val_loss did not improve from 0.33385\n",
      "Epoch 69/72\n",
      "6985/6985 [==============================] - 25s 4ms/step - loss: 0.2502 - accuracy: 0.9134 - val_loss: 0.3763 - val_accuracy: 0.8809\n",
      "\n",
      "Epoch 00069: val_loss did not improve from 0.33385\n",
      "Epoch 70/72\n",
      "6985/6985 [==============================] - 25s 4ms/step - loss: 0.2323 - accuracy: 0.9184 - val_loss: 0.3325 - val_accuracy: 0.8895\n",
      "\n",
      "Epoch 00070: val_loss improved from 0.33385 to 0.33254, saving model to saved_models/weights.best.basic_cnn.hdf5\n",
      "Epoch 71/72\n"
     ]
    },
    {
     "name": "stdout",
     "output_type": "stream",
     "text": [
      "6985/6985 [==============================] - 26s 4ms/step - loss: 0.2491 - accuracy: 0.9114 - val_loss: 0.3326 - val_accuracy: 0.8878\n",
      "\n",
      "Epoch 00071: val_loss did not improve from 0.33254\n",
      "Epoch 72/72\n",
      "6985/6985 [==============================] - 23s 3ms/step - loss: 0.2346 - accuracy: 0.9207 - val_loss: 0.3381 - val_accuracy: 0.8907\n",
      "\n",
      "Epoch 00072: val_loss did not improve from 0.33254\n",
      "Training completed in time:  0:42:45.282508\n"
     ]
    }
   ],
   "source": [
    "from keras.callbacks import ModelCheckpoint \n",
    "from datetime import datetime \n",
    "\n",
    "#num_epochs = 12\n",
    "#num_batch_size = 128\n",
    "\n",
    "num_epochs = 72\n",
    "num_batch_size = 256\n",
    "\n",
    "checkpointer = ModelCheckpoint(filepath='saved_models/weights.best.basic_cnn.hdf5', \n",
    "                               verbose=1, save_best_only=True)\n",
    "start = datetime.now()\n",
    "\n",
    "model.fit(x_train, y_train, batch_size=num_batch_size, epochs=num_epochs, validation_data=(x_test, y_test), callbacks=[checkpointer], verbose=1)\n",
    "\n",
    "\n",
    "duration = datetime.now() - start\n",
    "print(\"Training completed in time: \", duration)"
   ]
  },
  {
   "cell_type": "markdown",
   "metadata": {},
   "source": [
    "### Test the model \n",
    "\n",
    "Here we will review the accuracy of the model on both the training and test data sets. "
   ]
  },
  {
   "cell_type": "code",
   "execution_count": 61,
   "metadata": {},
   "outputs": [
    {
     "name": "stdout",
     "output_type": "stream",
     "text": [
      "Training Accuracy:  0.9819613457408733\n",
      "Testing Accuracy:  0.9192902116210514\n"
     ]
    }
   ],
   "source": [
    "# Evaluating the model on the training and testing set\n",
    "score = model.evaluate(x_train, y_train, verbose=0)\n",
    "print(\"Training Accuracy: \", score[1])\n",
    "\n",
    "score = model.evaluate(x_test, y_test, verbose=0)\n",
    "print(\"Testing Accuracy: \", score[1])"
   ]
  },
  {
   "cell_type": "markdown",
   "metadata": {},
   "source": [
    "The Training and Testing accuracy scores are both high and an increase on our initial model. Training accuracy has increased by ~6% and Testing accuracy has increased by ~4%. \n",
    "\n",
    "There is a marginal increase in the difference between the Training and Test scores (~6% compared to ~5% previously) though the difference remains low so the model has not suffered from overfitting. "
   ]
  },
  {
   "cell_type": "markdown",
   "metadata": {},
   "source": [
    "### Predictions  \n",
    "\n",
    "Here we will modify our previous method for testing the models predictions on a specified audio .wav file. "
   ]
  },
  {
   "cell_type": "code",
   "execution_count": 50,
   "metadata": {},
   "outputs": [],
   "source": [
    "def print_prediction(file_name):\n",
    "    prediction_feature = extract_features(file_name) \n",
    "    prediction_feature = prediction_feature.reshape(1, num_rows, num_columns, num_channels)\n",
    "\n",
    "    predicted_vector = model.predict_classes(prediction_feature)\n",
    "    predicted_class = le.inverse_transform(predicted_vector) \n",
    "    print(\"The predicted class is:\", predicted_class[0], '\\n') \n",
    "\n",
    "    predicted_proba_vector = model.predict_proba(prediction_feature) \n",
    "    predicted_proba = predicted_proba_vector[0]\n",
    "    for i in range(len(predicted_proba)): \n",
    "        category = le.inverse_transform(np.array([i]))\n",
    "        print(category[0], \"\\t\\t : \", format(predicted_proba[i], '.32f') )"
   ]
  },
  {
   "cell_type": "markdown",
   "metadata": {},
   "source": [
    "### Validation \n",
    "\n",
    "#### Test with sample data \n",
    "\n",
    "As before we will verify the predictions using a subsection of the sample audio files we explored in the first notebook. We expect the bulk of these to be classified correctly. "
   ]
  },
  {
   "cell_type": "code",
   "execution_count": 51,
   "metadata": {},
   "outputs": [
    {
     "name": "stdout",
     "output_type": "stream",
     "text": [
      "The predicted class is: air_conditioner \n",
      "\n",
      "air_conditioner \t\t :  0.90663295984268188476562500000000\n",
      "car_horn \t\t :  0.00000379312382392527069896459579\n",
      "children_playing \t\t :  0.00372877437621355056762695312500\n",
      "dog_bark \t\t :  0.00003181818829034455120563507080\n",
      "drilling \t\t :  0.00387497572228312492370605468750\n",
      "engine_idling \t\t :  0.00299200275912880897521972656250\n",
      "gun_shot \t\t :  0.00765613839030265808105468750000\n",
      "jackhammer \t\t :  0.07329261302947998046875000000000\n",
      "siren \t\t :  0.00018024632299784570932388305664\n",
      "street_music \t\t :  0.00160682143177837133407592773438\n"
     ]
    }
   ],
   "source": [
    "# Class: Air Conditioner\n",
    "\n",
    "filename = '../UrbanSound Dataset sample/audio/100852-0-0-0.wav' \n",
    "print_prediction(filename) "
   ]
  },
  {
   "cell_type": "code",
   "execution_count": 52,
   "metadata": {
    "scrolled": true
   },
   "outputs": [
    {
     "name": "stdout",
     "output_type": "stream",
     "text": [
      "The predicted class is: drilling \n",
      "\n",
      "air_conditioner \t\t :  0.00070991273969411849975585937500\n",
      "car_horn \t\t :  0.00000001777174851724794280016795\n",
      "children_playing \t\t :  0.00001405069633619859814643859863\n",
      "dog_bark \t\t :  0.00000047111242906794359441846609\n",
      "drilling \t\t :  0.99598699808120727539062500000000\n",
      "engine_idling \t\t :  0.00000354658413925790227949619293\n",
      "gun_shot \t\t :  0.00000003223207656333215709310025\n",
      "jackhammer \t\t :  0.00052903906907886266708374023438\n",
      "siren \t\t :  0.00000098340262866258854046463966\n",
      "street_music \t\t :  0.00275487988255918025970458984375\n"
     ]
    }
   ],
   "source": [
    "# Class: Drilling\n",
    "\n",
    "filename = '../UrbanSound Dataset sample/audio/103199-4-0-0.wav'\n",
    "print_prediction(filename) "
   ]
  },
  {
   "cell_type": "code",
   "execution_count": 53,
   "metadata": {},
   "outputs": [
    {
     "name": "stdout",
     "output_type": "stream",
     "text": [
      "The predicted class is: street_music \n",
      "\n",
      "air_conditioner \t\t :  0.00011496015213197097182273864746\n",
      "car_horn \t\t :  0.00079288281267508864402770996094\n",
      "children_playing \t\t :  0.01791538484394550323486328125000\n",
      "dog_bark \t\t :  0.00257923710159957408905029296875\n",
      "drilling \t\t :  0.00007904539961600676178932189941\n",
      "engine_idling \t\t :  0.00006061193562345579266548156738\n",
      "gun_shot \t\t :  0.00000000007482268277181347571059\n",
      "jackhammer \t\t :  0.00000457825990451965481042861938\n",
      "siren \t\t :  0.00922307930886745452880859375000\n",
      "street_music \t\t :  0.96923023462295532226562500000000\n"
     ]
    }
   ],
   "source": [
    "# Class: Street music \n",
    "\n",
    "filename = '../UrbanSound Dataset sample/audio/101848-9-0-0.wav'\n",
    "print_prediction(filename) "
   ]
  },
  {
   "cell_type": "code",
   "execution_count": 64,
   "metadata": {},
   "outputs": [
    {
     "name": "stdout",
     "output_type": "stream",
     "text": [
      "The predicted class is: drilling \n",
      "\n",
      "air_conditioner \t\t :  0.00059866637457162141799926757812\n",
      "car_horn \t\t :  0.26391193270683288574218750000000\n",
      "children_playing \t\t :  0.00126012135297060012817382812500\n",
      "dog_bark \t\t :  0.27843952178955078125000000000000\n",
      "drilling \t\t :  0.34817233681678771972656250000000\n",
      "engine_idling \t\t :  0.00339049054309725761413574218750\n",
      "gun_shot \t\t :  0.05176293104887008666992187500000\n",
      "jackhammer \t\t :  0.03859317675232887268066406250000\n",
      "siren \t\t :  0.01271206419914960861206054687500\n",
      "street_music \t\t :  0.00115874561015516519546508789062\n"
     ]
    }
   ],
   "source": [
    "# Class: Car Horn \n",
    "\n",
    "filename = '../UrbanSound Dataset sample/audio/100648-1-0-0.wav'\n",
    "print_prediction(filename) "
   ]
  },
  {
   "cell_type": "markdown",
   "metadata": {},
   "source": [
    "#### Observations \n",
    "\n",
    "We can see that the model performs well. \n",
    "\n",
    "Interestingly, car horn was again incorrectly classifed but this time as drilling - though the per class confidence shows it was a close decision between car horn with 26% confidence and drilling at 34% confidence.  "
   ]
  },
  {
   "cell_type": "markdown",
   "metadata": {},
   "source": [
    "### Other audio\n",
    "\n",
    "Again we will further validate our model using a sample of various copyright free sounds that we not part of either our test or training data. "
   ]
  },
  {
   "cell_type": "code",
   "execution_count": 55,
   "metadata": {},
   "outputs": [
    {
     "name": "stdout",
     "output_type": "stream",
     "text": [
      "The predicted class is: dog_bark \n",
      "\n",
      "air_conditioner \t\t :  0.00053069164277985692024230957031\n",
      "car_horn \t\t :  0.01807974837720394134521484375000\n",
      "children_playing \t\t :  0.00958889070898294448852539062500\n",
      "dog_bark \t\t :  0.84292083978652954101562500000000\n",
      "drilling \t\t :  0.02251568622887134552001953125000\n",
      "engine_idling \t\t :  0.00286057707853615283966064453125\n",
      "gun_shot \t\t :  0.09233076870441436767578125000000\n",
      "jackhammer \t\t :  0.00147349410690367221832275390625\n",
      "siren \t\t :  0.00702858529984951019287109375000\n",
      "street_music \t\t :  0.00267084036022424697875976562500\n"
     ]
    }
   ],
   "source": [
    "filename = '../Evaluation audio/dog_bark_1.wav'\n",
    "print_prediction(filename) "
   ]
  },
  {
   "cell_type": "code",
   "execution_count": 66,
   "metadata": {
    "scrolled": true
   },
   "outputs": [
    {
     "name": "stdout",
     "output_type": "stream",
     "text": [
      "The predicted class is: jackhammer \n",
      "\n",
      "air_conditioner \t\t :  0.07861315459012985229492187500000\n",
      "car_horn \t\t :  0.00000012394852433317282702773809\n",
      "children_playing \t\t :  0.00000879450726642971858382225037\n",
      "dog_bark \t\t :  0.00000184070950126624666154384613\n",
      "drilling \t\t :  0.00003378492328920401632785797119\n",
      "engine_idling \t\t :  0.06372328102588653564453125000000\n",
      "gun_shot \t\t :  0.00000011736039340348725090734661\n",
      "jackhammer \t\t :  0.85761523246765136718750000000000\n",
      "siren \t\t :  0.00000361508728019543923437595367\n",
      "street_music \t\t :  0.00000013487000671830173814669251\n"
     ]
    }
   ],
   "source": [
    "filename = '../Evaluation audio/drilling_1.wav'\n",
    "\n",
    "print_prediction(filename) "
   ]
  },
  {
   "cell_type": "code",
   "execution_count": 65,
   "metadata": {},
   "outputs": [
    {
     "name": "stdout",
     "output_type": "stream",
     "text": [
      "The predicted class is: gun_shot \n",
      "\n",
      "air_conditioner \t\t :  0.00000001711038777330031734891236\n",
      "car_horn \t\t :  0.00000002828730849557814508443698\n",
      "children_playing \t\t :  0.00001153892753791296854615211487\n",
      "dog_bark \t\t :  0.00006763751298421993851661682129\n",
      "drilling \t\t :  0.00002225582647952251136302947998\n",
      "engine_idling \t\t :  0.00000385214798370725475251674652\n",
      "gun_shot \t\t :  0.99988853931427001953125000000000\n",
      "jackhammer \t\t :  0.00000000060133342749679741245927\n",
      "siren \t\t :  0.00000603337139182258397340774536\n",
      "street_music \t\t :  0.00000002041979207945132657187060\n"
     ]
    }
   ],
   "source": [
    "filename = '../Evaluation audio/gun_shot_1.wav'\n",
    "\n",
    "print_prediction(filename) "
   ]
  },
  {
   "cell_type": "markdown",
   "metadata": {},
   "source": [
    "#### Observations \n",
    "\n",
    "The performance of our final model is very good and has generalised well, seeming to predict well when tested against new audio data. "
   ]
  }
 ],
 "metadata": {
  "kernelspec": {
   "display_name": "Python 3",
   "language": "python",
   "name": "python3"
  },
  "language_info": {
   "codemirror_mode": {
    "name": "ipython",
    "version": 3
   },
   "file_extension": ".py",
   "mimetype": "text/x-python",
   "name": "python",
   "nbconvert_exporter": "python",
   "pygments_lexer": "ipython3",
   "version": "3.7.4"
  }
 },
 "nbformat": 4,
 "nbformat_minor": 2
}
