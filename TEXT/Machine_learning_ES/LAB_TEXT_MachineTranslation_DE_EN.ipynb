{
 "cells": [
  {
   "cell_type": "markdown",
   "metadata": {},
   "source": [
    "### Import Required Libraries"
   ]
  },
  {
   "cell_type": "code",
   "execution_count": 3,
   "metadata": {},
   "outputs": [
    {
     "name": "stderr",
     "output_type": "stream",
     "text": [
      "Using TensorFlow backend.\n",
      "UsageError: Line magic function `%` not found.\n"
     ]
    }
   ],
   "source": [
    "import string\n",
    "import re\n",
    "from numpy import array, argmax, random, take\n",
    "import pandas as pd\n",
    "from keras.models import Sequential\n",
    "from keras.layers import Dense, LSTM, Embedding, Bidirectional, RepeatVector, TimeDistributed\n",
    "from keras.preprocessing.text import Tokenizer\n",
    "from keras.callbacks import ModelCheckpoint\n",
    "from keras.preprocessing.sequence import pad_sequences\n",
    "from keras.models import load_model\n",
    "from keras import optimizers\n",
    "import matplotlib.pyplot as plt\n",
    "% matplotlib inline\n",
    "pd.set_option('display.max_colwidth', 200)"
   ]
  },
  {
   "cell_type": "markdown",
   "metadata": {},
   "source": [
    "### Read Data"
   ]
  },
  {
   "cell_type": "markdown",
   "metadata": {},
   "source": [
    "Our data is a text file of English-German sentence pairs. First we will read the file using the function defined below."
   ]
  },
  {
   "cell_type": "code",
   "execution_count": 4,
   "metadata": {},
   "outputs": [],
   "source": [
    "# function to read raw text file\n",
    "def read_text(filename):\n",
    "    # open the file\n",
    "    file = open(filename, mode='rt', encoding='utf-8')\n",
    "    # read all text\n",
    "    text = file.read()\n",
    "    file.close()\n",
    "    return text"
   ]
  },
  {
   "cell_type": "markdown",
   "metadata": {},
   "source": [
    "Now let's define a function to split the text into English-German pairs separated by '\\n' and then split these pairs into English sentences and German sentences."
   ]
  },
  {
   "cell_type": "code",
   "execution_count": 5,
   "metadata": {},
   "outputs": [],
   "source": [
    "# split a text into sentences\n",
    "def to_lines(text):\n",
    "    sents = text.strip().split('\\n')\n",
    "    sents = [i.split('\\t') for i in sents]\n",
    "    return sents"
   ]
  },
  {
   "cell_type": "markdown",
   "metadata": {},
   "source": [
    "__Download the data from [here.](http://www.manythings.org/anki/deu-eng.zip)__ and extract \"deu.txt\" in your working directory."
   ]
  },
  {
   "cell_type": "code",
   "execution_count": 6,
   "metadata": {},
   "outputs": [],
   "source": [
    "data = read_text(\"deu-eng\\deu_modif.txt\")\n",
    "deu_eng = to_lines(data)\n",
    "deu_eng = array(deu_eng)"
   ]
  },
  {
   "cell_type": "markdown",
   "metadata": {},
   "source": [
    "The actual data contains over 150,000 sentence-pairs. However, we will use the first 50,000 sentence pairs only to reduce the training time of the model. You can change this number as per you system computation power."
   ]
  },
  {
   "cell_type": "code",
   "execution_count": 7,
   "metadata": {},
   "outputs": [],
   "source": [
    "deu_eng = deu_eng[:50000,:]"
   ]
  },
  {
   "cell_type": "markdown",
   "metadata": {},
   "source": [
    "### Text Pre-Processing"
   ]
  },
  {
   "cell_type": "markdown",
   "metadata": {},
   "source": [
    "#### Text Cleaning\n",
    "\n",
    "Let's take a look at our data, then we will decide which pre-processing steps to adopt."
   ]
  },
  {
   "cell_type": "code",
   "execution_count": 8,
   "metadata": {
    "scrolled": true
   },
   "outputs": [
    {
     "data": {
      "text/plain": [
       "array([['Hi.', 'Hallo!'],\n",
       "       ['Hi.', 'Grüß Gott!'],\n",
       "       ['Run!', 'Lauf!'],\n",
       "       ...,\n",
       "       ['I wholeheartedly agree.', 'Ich stimme rückhaltlos zu.'],\n",
       "       ['I will always love you.', 'Ich werde dich immer lieben.'],\n",
       "       ['I will be back by nine.', 'Um neun bin ich wieder zurück.']],\n",
       "      dtype='<U537')"
      ]
     },
     "execution_count": 8,
     "metadata": {},
     "output_type": "execute_result"
    }
   ],
   "source": [
    "deu_eng"
   ]
  },
  {
   "cell_type": "markdown",
   "metadata": {},
   "source": [
    "We will get rid of the punctuation marks, and then convert the text to lower case."
   ]
  },
  {
   "cell_type": "code",
   "execution_count": 9,
   "metadata": {},
   "outputs": [],
   "source": [
    "# Remove punctuation\n",
    "deu_eng[:,0] = [s.translate(str.maketrans('', '', string.punctuation)) for s in deu_eng[:,0]]\n",
    "deu_eng[:,1] = [s.translate(str.maketrans('', '', string.punctuation)) for s in deu_eng[:,1]]"
   ]
  },
  {
   "cell_type": "code",
   "execution_count": 10,
   "metadata": {},
   "outputs": [
    {
     "data": {
      "text/plain": [
       "array([['Hi', 'Hallo'],\n",
       "       ['Hi', 'Grüß Gott'],\n",
       "       ['Run', 'Lauf'],\n",
       "       ...,\n",
       "       ['I wholeheartedly agree', 'Ich stimme rückhaltlos zu'],\n",
       "       ['I will always love you', 'Ich werde dich immer lieben'],\n",
       "       ['I will be back by nine', 'Um neun bin ich wieder zurück']],\n",
       "      dtype='<U537')"
      ]
     },
     "execution_count": 10,
     "metadata": {},
     "output_type": "execute_result"
    }
   ],
   "source": [
    "deu_eng"
   ]
  },
  {
   "cell_type": "code",
   "execution_count": 11,
   "metadata": {
    "scrolled": true
   },
   "outputs": [],
   "source": [
    "# convert to lowercase\n",
    "for i in range(len(deu_eng)):\n",
    "    deu_eng[i,0] = deu_eng[i,0].lower()\n",
    "    \n",
    "    deu_eng[i,1] = deu_eng[i,1].lower()"
   ]
  },
  {
   "cell_type": "code",
   "execution_count": 12,
   "metadata": {},
   "outputs": [
    {
     "data": {
      "text/plain": [
       "array([['hi', 'hallo'],\n",
       "       ['hi', 'grüß gott'],\n",
       "       ['run', 'lauf'],\n",
       "       ...,\n",
       "       ['i wholeheartedly agree', 'ich stimme rückhaltlos zu'],\n",
       "       ['i will always love you', 'ich werde dich immer lieben'],\n",
       "       ['i will be back by nine', 'um neun bin ich wieder zurück']],\n",
       "      dtype='<U537')"
      ]
     },
     "execution_count": 12,
     "metadata": {},
     "output_type": "execute_result"
    }
   ],
   "source": [
    "deu_eng"
   ]
  },
  {
   "cell_type": "markdown",
   "metadata": {},
   "source": [
    "#### Text to Sequence Conversion\n",
    "\n",
    "To feed our data in a Seq2Seq model, we will have to convert both the input and the output sentences into integer sequences of fixed length. Before that, let's visualise the length of the sentences. We will capture the lengths of all the sentences in two separate lists for English and German, respectively."
   ]
  },
  {
   "cell_type": "code",
   "execution_count": 13,
   "metadata": {},
   "outputs": [],
   "source": [
    "# empty lists\n",
    "eng_l = []\n",
    "deu_l = []\n",
    "\n",
    "# populate the lists with sentence lengths\n",
    "for i in deu_eng[:,0]:\n",
    "    eng_l.append(len(i.split()))\n",
    "\n",
    "for i in deu_eng[:,1]:\n",
    "    deu_l.append(len(i.split()))"
   ]
  },
  {
   "cell_type": "code",
   "execution_count": 18,
   "metadata": {},
   "outputs": [
    {
     "name": "stdout",
     "output_type": "stream",
     "text": [
      "       eng  deu\n",
      "0        1    1\n",
      "1        1    2\n",
      "2        1    1\n",
      "3        1    1\n",
      "4        1    1\n",
      "...    ...  ...\n",
      "49995    3    6\n",
      "49996    3    6\n",
      "49997    3    4\n",
      "49998    5    5\n",
      "49999    6    6\n",
      "\n",
      "[50000 rows x 2 columns]\n",
      "7\n",
      "15\n"
     ]
    }
   ],
   "source": [
    "length_df = pd.DataFrame({'eng':eng_l, 'deu':deu_l})\n",
    "print(length_df)\n",
    "print(max(length_df.eng))\n",
    "print(max(length_df.deu))"
   ]
  },
  {
   "cell_type": "code",
   "execution_count": 15,
   "metadata": {},
   "outputs": [
    {
     "data": {
      "image/png": "[encoded data removed]",
      "text/plain": [
       "<Figure size 432x288 with 2 Axes>"
      ]
     },
     "metadata": {
      "needs_background": "light"
     },
     "output_type": "display_data"
    }
   ],
   "source": [
    "length_df.hist(bins = 30)\n",
    "plt.show()"
   ]
  },
  {
   "cell_type": "markdown",
   "metadata": {},
   "source": [
    "The maximum length of the German sentences is 11 and that of the English phrases is 8."
   ]
  },
  {
   "cell_type": "markdown",
   "metadata": {},
   "source": [
    "Let's vectorize our text data by using Keras's Tokenizer() class. It will turn our sentences into sequences of integers. Then we will pad those sequences with zeros to make all the sequences of same length."
   ]
  },
  {
   "cell_type": "code",
   "execution_count": 19,
   "metadata": {},
   "outputs": [],
   "source": [
    "# function to build a tokenizer\n",
    "def tokenization(lines):\n",
    "    tokenizer = Tokenizer()\n",
    "    tokenizer.fit_on_texts(lines)\n",
    "    return tokenizer"
   ]
  },
  {
   "cell_type": "code",
   "execution_count": 20,
   "metadata": {},
   "outputs": [
    {
     "name": "stdout",
     "output_type": "stream",
     "text": [
      "English Vocabulary Size: 6361\n"
     ]
    }
   ],
   "source": [
    "# prepare english tokenizer\n",
    "eng_tokenizer = tokenization(deu_eng[:, 0])\n",
    "eng_vocab_size = len(eng_tokenizer.word_index) + 1\n",
    "\n",
    "eng_length = 8\n",
    "print('English Vocabulary Size: %d' % eng_vocab_size)"
   ]
  },
  {
   "cell_type": "code",
   "execution_count": 21,
   "metadata": {},
   "outputs": [
    {
     "name": "stdout",
     "output_type": "stream",
     "text": [
      "Deutch Vocabulary Size: 10597\n"
     ]
    }
   ],
   "source": [
    "# prepare Deutch tokenizer\n",
    "deu_tokenizer = tokenization(deu_eng[:, 1])\n",
    "deu_vocab_size = len(deu_tokenizer.word_index) + 1\n",
    "\n",
    "deu_length = 8\n",
    "print('Deutch Vocabulary Size: %d' % deu_vocab_size)"
   ]
  },
  {
   "cell_type": "code",
   "execution_count": 35,
   "metadata": {},
   "outputs": [
    {
     "name": "stdout",
     "output_type": "stream",
     "text": [
      "OrderedDict([('hallo', 35), ('grüß', 3), ('gott', 29), ('lauf', 8), ('potzdonner', 2), ('donnerwetter', 1), ('feuer', 24), ('hilfe', 129), ('zu', 2081), ('hülf', 1), ('stopp', 2), ('warte', 44), ('mach', 201), ('weiter', 115), ('ich', 11796), ('rannte', 48), ('verstehe', 51), ('aha', 1), ('probiere', 6), ('es', 4120), ('hab', 46), ('gewonnen', 69), ('habe', 2136), ('lächeln', 20), ('zum', 165), ('wohl', 51), ('iss', 22), ('auf', 1143), ('keine', 395), ('bewegung', 5), ('stehenbleiben', 2), ('kapiert', 2), ('verstanden', 29), ('einverstanden', 38), ('er', 2838), ('lief', 29), ('mit', 709), ('drück', 7), ('mich', 1639), ('nimm', 91), ('in', 883), ('den', 739), ('arm', 54), ('umarme', 2), ('fiel', 32), ('hin', 100), ('stürzte', 6), ('bin', 1798), ('hingefallen', 1), ('gestürzt', 1), ('weiß', 445), ('gelogen', 32), ('verloren', 145), ('bezahlt', 39), ('zahlte', 3), ('sang', 20), ('schwimme', 9), ('19', 3), ('jahre', 28), ('alt', 123), ('mir', 1823), ('gehts', 27), ('gut', 650), ('geht', 378), ('wach', 45), ('unmöglich', 13), ('das', 5206), ('kommt', 194), ('nicht', 4605), ('frage', 47), ('gibt’s', 9), ('doch', 113), ('ausgeschlossen', 3), ('keinster', 1), ('weise', 26), ('wirklich', 170), ('echt', 37), ('im', 310), ('ernst', 62), ('danke', 85), ('versuch’s', 6), ('wir', 2396), ('versuchen', 92), ('haben', 1058), ('warum', 502), ('frag', 35), ('tom', 11730), ('fragen', 62), ('sie', 5450), ('fragt', 11), ('fantastisch', 7), ('entspann', 5), ('dich', 1068), ('sei', 157), ('ungerecht', 15), ('fair', 13), ('nett', 55), ('seien', 50), ('geh', 155), ('weg', 202), ('hau', 12), ('ab', 178), ('verschwinde', 13), ('verdufte', 6), ('fort', 33), ('zieh', 39), ('leine', 9), ('vom', 39), ('acker', 7), ('verzieh', 8), ('verkrümele', 5), ('troll', 5), ('zisch', 5), ('pack', 9), ('’ne', 5), ('fliege', 11), ('schwirr', 5), ('die', 1760), ('sause', 5), ('scher', 10), ('ruf', 39), ('an', 901), ('komm', 202), ('herein', 46), ('schon', 299), ('macht', 249), ('hol', 40), ('raus', 62), ('verpiss', 3), ('gehen', 595), ('nach', 480), ('hause', 380), ('heim', 14), ('wiedersehen', 11), ('leb', 1), ('tschüss', 3), ('nachlassen', 3), ('kam', 172), ('rennt', 12), ('läuft', 48), ('hilf', 20), ('uns', 957), ('helft', 10), ('helfen', 279), ('schlage', 4), ('schlagt', 2), ('schlagen', 15), ('warten', 97), ('kurz', 42), ('umarmen', 11), ('umarmt', 10), ('drückt', 4), ('drücken', 6), ('weinte', 25), ('geweint', 30), ('schnarche', 3), ('gehe', 149), ('schlecht', 77), ('fett', 13), ('dick', 31), ('wurde', 395), ('getroffen', 79), ('neu', 58), ('traurig', 53), ('schüchtern', 32), ('nass', 19), ('ist', 8094), ('ordnung', 58), ('bins', 5), ('behalt', 8), ('ihn', 507), ('behalten', 35), ('behaltet', 7), ('küsst', 7), ('schließ', 20), ('schließe', 9), ('perfekt', 29), ('dran', 48), ('drauf', 15), ('sehen', 267), ('zeigs', 3), ('halts', 1), ('maul', 2), ('bis', 46), ('später', 50), ('hör', 108), ('nehmt', 19), ('nehmen', 105), ('aß', 26), ('hat', 2805), ('gegessen', 105), ('gerannt', 6), ('mal', 309), ('wartet', 20), ('wachen', 3), ('willkommen', 20), ('wer', 499), ('du', 3815), ('läufst', 2), ('laufen', 56), ('hast', 749), ('näher', 16), ('ein', 2204), ('mann', 136), ('tapfer', 18), ('seid', 309), ('fassen', 8), ('sich', 1073), ('fass', 23), ('fasst', 4), ('euch', 509), ('rufe', 26), ('rufen', 44), ('ruft', 22), ('kann', 1119), ('kopf', 41), ('hoch', 32), ('reg', 3), ('leg', 15), ('ihm', 213), ('handschellen', 5), ('legen', 26), ('finde', 35), ('findet', 13), ('finden', 71), ('beheben', 2), ('behebe', 1), ('repariere', 5), ('reparieren', 28), ('runter', 19), ('hinlegen', 2), ('deckung', 5), ('kommen', 252), ('jetzt', 444), ('ernsthaft', 6), ('nur', 230), ('greif', 1), ('dir', 732), ('viel', 303), ('vergnügen', 4), ('spaß', 113), ('feier', 6), ('schön', 92), ('sprach', 38), ('versucht', 69), ('was', 1339), ('süß', 51), ('wie', 1021), ('tief', 30), ('tu', 62), ('gefallen', 119), ('tun', 356), ('beeil', 9), ('geschafft', 31), ('habs', 6), ('gemacht', 284), ('komme', 119), ('klar', 26), ('zurecht', 8), ('über', 92), ('runden', 1), ('bekommen', 76), ('half', 16), ('geholfen', 52), ('gesprungen', 5), ('weigere', 3), ('trete', 1), ('zurück', 176), ('rasierte', 4), ('rasiert', 9), ('lächelte', 33), ('blieb', 50), ('dageblieben', 1), ('benutze', 11), ('gewartet', 11), ('gähnte', 3), ('gegähnt', 1), ('werde', 605), ('zahlen', 19), ('wieder', 206), ('da', 396), ('glatzköpfig', 1), ('eine', 1097), ('glatze', 7), ('beschäftigt', 158), ('taub', 12), ('gerecht', 12), ('frei', 62), ('satt', 9), ('dabei', 40), ('mache', 100), ('hier', 923), ('spät', 110), ('verirrt', 14), ('gemein', 21), ('der', 893), ('nächste', 13), ('reich', 81), ('sicher', 130), ('krank', 121), ('groß', 116), ('dünn', 17), ('ordentlich', 8), ('hässlich', 25), ('schwach', 27), ('hilft', 32), ('tut', 125), ('weh', 91), ('schmerzt', 11), ('klappt', 11), ('funktioniert', 44), ('seins', 2), ('heiß', 84), ('eintritt', 2), ('verboten', 6), ('kein', 400), ('zutritt', 1), ('küsse', 1), ('küssen', 28), ('lass', 301), ('allein', 160), ('lassen', 158), ('lasst', 137), ('losgehen', 6), ('vorsicht', 9), ('heirate', 2), ('darf', 149), ('rette', 2), ('rettet', 1), ('retten', 22), ('log', 12), ('setz', 43), ('setzen', 52), ('sprich', 32), ('lauter', 13), ('stehen', 45), ('steht', 76), ('stehe', 22), ('halte', 54), ('halten', 32), ('haltet', 15), ('probier', 16), ('sag', 93), ('sagen', 157), ('erzähl', 18), ('erzählen', 19), ('davon', 89), ('sagt', 82), ('hervorragend', 2), ('sagenhaft', 2), ('wunderbar', 12), ('gekommen', 110), ('gestorben', 57), ('starb', 41), ('wusste', 97), ('gewusst', 16), ('bescheid', 32), ('gegangen', 134), ('ging', 208), ('lügt', 28), ('gezahlt', 3), ('aufgehört', 19), ('schwamm', 5), ('geschwommen', 9), ('vertraue', 20), ('vertraut', 25), ('vertrauen', 46), ('versuch', 31), ('richtig', 41), ('warnen', 21), ('warne', 1), ('schau', 80), ('beobachte', 7), ('beobachten', 14), ('schaut', 36), ('schauen', 27), ('beobachtet', 18), ('stimmen', 19), ('sind', 1568), ('versuchten', 3), ('werden', 358), ('wozu', 11), ('für', 499), ('ausgeschieden', 1), ('schreib', 9), ('schreiben', 35), ('schreibt', 25), ('ihr', 1405), ('habt', 285), ('zielen', 2), ('antworten', 17), ('vögel', 15), ('fliegen', 21), ('gesundheit', 5), ('zuhause', 36), ('beruhige', 5), ('beruhigen', 5), ('essen', 179), ('können', 398), ('fang', 14), ('fange', 7), ('fangen', 21), ('fangt', 3), ('hierher', 41), ('her', 74), ('bald', 107), ('hunde', 46), ('bellen', 2), ('weine', 10), ('weint', 16), ('weinen', 88), ('stirb', 4), ('lüge', 14), ('leid', 59), ('entschuldigung', 14), ('entschuldigen', 23), ('ganz', 124), ('toll', 25), ('fühl', 1), ('folge', 13), ('vergiss', 17), ('daraus', 3), ('wird', 634), ('nichts', 306), ('kannst', 310), ('knicken', 2), ('tue', 31), ('hols', 1), ('rein', 52), ('schlafen', 59), ('ins', 104), ('bett', 91), ('legt', 7), ('hände', 51), ('dj', 3), ('plattenaufleger', 1), ('schnell', 169), ('träge', 4), ('fünf', 13), ('dollar', 18), ('schießen', 17), ('halt', 28), ('schrecklich', 22), ('lage', 11), ('seltsam', 15), ('seinen', 74), ('willen', 2), ('rennen', 25), ('ski', 13), ('fahren', 100), ('gewinnen', 63), ('geschummelt', 7), ('ohnmächtig', 12), ('ohnmacht', 8), ('fürchte', 12), ('ja', 79), ('aufgegeben', 13), ('gab', 100), ('meinst', 9), ('kicherte', 7), ('gebe', 24), ('füge', 2), ('wütend', 69), ('böse', 57), ('hatte', 275), ('amüsiert', 15), ('geschlagen', 40), ('hoffe', 103), ('aufgelegt', 2), ('lachte', 21), ('gefällt', 109), ('liebe', 243), ('vielleicht', 136), ('gewinne', 7), ('meine', 602), ('so', 505), ('gemeint', 20), ('von', 289), ('traf', 20), ('begegnet', 7), ('vermisse', 31), ('fehlt', 40), ('versprechs', 1), ('verspreche', 4), ('sagte', 101), ('nein', 48), ('gesehen', 277), ('einen', 862), ('sehe', 71), ('nahm', 63), ('genommen', 22), ('möchte', 226), ('will', 458), ('war', 1524), ('wachte', 8), ('würde', 142), ('anrufen', 41), ('kochen', 45), ('helfe', 12), ('leben', 185), ('gehorchen', 10), ('aufhören', 63), ('abbrechen', 2), ('singen', 73), ('bleiben', 111), ('reden', 81), ('fuß', 48), ('sauer', 30), ('blind', 18), ('gelangweilt', 11), ('langweilig', 34), ('knapp', 16), ('bei', 167), ('kasse', 4), ('pleite', 11), ('geheilt', 1), ('betrunken', 52), ('blau', 26), ('sterben', 70), ('früh', 62), ('erster', 9), ('erste', 8), ('glücklich', 194), ('froh', 31), ('bedürftig', 2), ('soweit', 14), ('weit', 66), ('recht', 159), ('nüchtern', 4), ('stecke', 6), ('fest', 33), ('müde', 140), ('zäh', 7), ('verärgert', 50), ('bestürzt', 26), ('gehöre', 7), ('beachte', 2), ('gar', 41), ('beachten', 2), ('okay', 57), ('schlimm', 14), ('brannte', 3), ('verbrannte', 4), ('geschneit', 7), ('geklappt', 4), ('halb', 17), ('vier', 9), ('745', 2), ('uhr', 115), ('sieben', 22), ('fünfundvierzig', 1), ('830', 1), ('viertel', 5), ('neun', 11), ('915\\xa0uhr', 1), ('fernseher', 41), ('kalt', 87), ('kühl', 4), ('dunkel', 34), ('einfach', 239), ('hart', 39), ('meins', 19), ('gehört', 205), ('geöffnet', 14), ('unsers', 1), ('vorbei', 59), ('sand', 6), ('wahr', 79), ('arbeit', 188), ('spring', 6), ('bleib', 45), ('bleibt', 33), ('gelassen', 18), ('behalt’s', 1), ('behalte', 9), ('warm', 29), ('verlasse', 12), ('verlassen', 65), ('sein', 734), ('ruhe', 36), ('etwas', 341), ('probieren', 15), ('lieg', 1), ('still', 54), ('und', 260), ('beweg', 3), ('hinten', 2), ('guck', 10), ('dreh', 6), ('locker', 6), ('rutsch', 1), ('stück', 9), ('guter', 113), ('schuss', 8), ('natürlich', 4), ('selbstverständlich', 2), ('jeden', 48), ('fall', 21), ('na', 15), ('aber', 27), ('bitte', 489), ('lies', 21), ('„ah“', 1), ('siehe', 1), ('unten', 28), ('hats', 2), ('unterschreibe', 4), ('unterschreiben', 19), ('unterschreib', 1), ('sitz', 4), ('sitzen', 14), ('dorthin', 54), ('harre', 1), ('aus', 850), ('beginnen', 13), ('ruhig', 70), ('cool', 17), ('tritt', 9), ('damit', 80), ('stoppen', 22), ('pass', 25), ('machs', 4), ('meinen', 186), ('übernimm', 3), ('übernehmt', 1), ('übernehmen', 7), ('ok', 8), ('wars', 2), ('fertig', 108), ('fielen', 2), ('stürzten', 1), ('schwammen', 3), ('zeit', 203), ('um', 349), ('verneigte', 3), ('döste', 2), ('fuhr', 29), ('erstarrte', 1), ('strickt', 1), ('bewegte', 9), ('schlief', 35), ('gesprochen', 35), ('schwimmt', 27), ('versuchte', 34), ('gewählt', 14), ('wählte', 4), ('winkte', 7), ('arbeitet', 74), ('noch', 565), ('einmal', 110), ('entsperr', 1), ('sieh', 35), ('seht', 15), ('waren', 151), ('einig', 5), ('stimmten', 3), ('sahen', 10), ('unterhalten', 8), ('warteten', 6), ('siegen', 6), ('los', 100), ('wen', 37), ('kümmert’s', 1), ('kümmert', 10), ('stand', 46), ('herrlich', 3), ('schreibe', 18), ('fährst', 3), ('idiot', 15), ('fängst', 2), ('stinkst', 2), ('stinkt', 8), ('stinken', 3), ('hasts', 1), ('bist', 897), ('ziel', 19), ('höher', 3), ('zielt', 1), ('alle', 348), ('bord', 12), ('sterbe', 10), ('gefeuert', 17), ('eingestellt', 9), ('liege', 5), ('komisch', 28), ('irre', 9), ('antworte', 6), ('antwortet', 6), ('18', 7), ('ihnen', 275), ('irgendwen', 2), ('herum', 18), ('vorsichtig', 41), ('vor', 251), ('gib', 195), ('obacht', 1), ('acht', 14), ('geduldig', 17), ('dem', 289), ('boden', 22), ('tatsachen', 3), ('bring', 50), ('wein', 38), ('nützlich', 6), ('machen', 332), ('trag', 2), ('prüfe', 2), ('prüfen', 3), ('überprüfen', 12), ('suche', 16), ('eines', 17), ('such', 7), ('frühzeitig', 3), ('kaputt', 44), ('hingegangen', 8), ('grab', 3), ('schneller', 21), ('männer', 27), ('gucken', 12), ('bewegt', 7), ('bewegen', 20), ('schubsen', 2), ('sing', 8), ('schrei', 8), ('schreien', 22), ('schreit', 11), ('trink', 20), ('pflicht', 15), ('langsam', 50), ('untersuchen', 2), ('volltanken', 3), ('job', 30), ('besorgt', 32), ('suchen', 28), ('brennt', 12), ('folgen', 28), ('folgt', 7), ('vergessen', 62), ('vergib', 3), ('arbeiten', 84), ('existiert', 3), ('gute', 98), ('nacht', 59), ('hustete', 8), ('bekam', 32), ('„ausreichend“', 2), ('legte', 28), ('freundlich', 26), ('liebenswürdig', 2), ('fies', 1), ('schaffte', 4), ('schweizer', 1), ('grausam', 13), ('klug', 23), ('elegant', 3), ('absurd', 3), ('schlau', 18), ('geschickt', 27), ('tragisch', 1), ('geb', 3), ('junge', 76), ('mensch', 54), ('menschlich', 2), ('bereit', 58), ('kaputtgemacht', 8), ('gebaut', 16), ('springen', 11), ('schwimmen', 89), ('abgesagt', 3), ('kaue', 2), ('kaugummi', 1), ('anderer', 16), ('meinung', 38), ('ansicht', 3), ('getrunkten', 1), ('esse', 61), ('fleisch', 33), ('reis', 19), ('beneide', 10), ('fühle', 67), ('repariert', 5), ('gefunden', 150), ('eins', 46), ('hasse', 111), ('gewann', 13), ('sieger', 2), ('höre', 41), ('meint', 9), ('vernommen', 2), ('gerade', 290), ('kannte', 25), ('kenne', 111), ('mag', 515), ('kunst', 5), ('tee', 64), ('gefällst', 1), ('hörte', 72), ('zugehört', 10), ('liebte', 29), ('machte', 66), ('fehlst', 10), ('brauche', 222), ('luft', 21), ('eis', 23), ('geriet', 6), ('panik', 15), ('tust', 17), ('versprochen', 12), ('erinnere', 24), ('zurückgetreten', 6), ('trat', 20), ('setzte', 31), ('schoss', 10), ('überlebt', 10), ('überlebte', 3), ('stimme', 57), ('gekotzt', 1), ('übergeben', 4), ('erbrochen', 2), ('gesagt', 167), ('verwende', 3), ('ruppig', 1), ('reingehen', 1), ('beeilen', 26), ('anfangen', 34), ('koch', 22), ('held', 16), ('mönch', 3), ('angst', 149), ('blutarmut', 1), ('koche', 15), ('besser', 92), ('voreingenommen', 8), ('pummelig', 3), ('mollig', 1), ('gleich', 53), ('berühmt', 19), ('dafür', 57), ('gierig', 9), ('verstecke', 5), ('bescheiden', 11), ('hungrig', 56), ('hunger', 64), ('immun', 1), ('drinnen', 27), ('einsam', 30), ('am', 154), ('verlieren', 27), ('verliere', 8), ('reif', 6), ('bewege', 3), ('ausgeruht', 1), ('ruiniert', 11), ('ledig', 3), ('single', 4), ('hinterlistig', 2), ('dreißig', 35), ('ignorier', 3), ('draußen', 77), ('ausgegangen', 22), ('tot', 50), ('kostenlos', 7), ('passiert', 71), ('wichtig', 38), ('zur', 105), ('sache', 24), ('funktionieren', 10), ('wette', 39), ('modeerscheinung', 1), ('vorübergehende', 1), ('laune', 26), ('lebt', 52), ('sperrig', 1), ('unhandlich', 1), ('sauber', 31), ('nah', 5), ('großartig', 59), ('grün', 14), ('cd', 8), ('rechnung', 32), ('glänzt', 1), ('steckt', 8), ('windig', 9), ('deins', 14), ('jesus', 5), ('stadt', 36), ('bezahlen', 53), ('heraus', 24), ('lasset', 1), ('beten', 5), ('abstimmen', 1), ('nochmal', 19), ('vorne', 9), ('vorausschauend', 1), ('kuck', 1), ('schlag', 8), ('dort', 186), ('mama', 16), ('draus', 1), ('kommentar', 7), ('problem', 63), ('ohne', 25), ('probleme', 9), ('ach', 3), ('hebe', 7), ('ziehen', 27), ('leise', 20), ('beruhigt', 4), ('ersetze', 1), ('tausche', 1), ('ersetzen', 2), ('tauschen', 2), ('ersetzt', 1), ('tauscht', 1), ('beeile', 3), ('„bitte“', 2), ('gelächelt', 7), ('riech', 3), ('beginne', 1), ('wachsam', 6), ('seite', 39), ('gas', 10), ('lern', 1), ('mehr', 240), ('bus', 68), ('fahre', 33), ('nickerchen', 6), ('rede', 27), ('schmecken', 7), ('schmeck', 1), ('alles', 214), ('betrüblich', 1), ('mogeln', 1), ('schummeln', 1), ('betrügen', 2), ('schliefen', 7), ('standen', 7), ('abgestimmt', 1), ('genügen', 4), ('stimmte', 16), ('hat’s', 1), ('gebissen', 13), ('rülpste', 4), ('stieß', 7), ('angerufen', 61), ('betrügt', 3), ('schummelt', 2), ('mogelt', 1), ('tanzte', 5), ('tanzt', 15), ('getan', 167), ('trinkt', 25), ('fährt', 38), ('auto', 310), ('versagte', 2), ('versagt', 4), ('vergaß', 3), ('kämpfte', 4), ('schnappte', 5), ('japste', 1), ('dummen', 1), ('fehler', 44), ('gehauen', 7), ('lustig', 50), ('schaute', 25), ('ächzte', 2), ('stöhnte', 5), ('nickte', 9), ('gehorchte', 1), ('fügte', 1), ('gefügt', 1), ('gehorcht', 4), ('malt', 2), ('hielt', 33), ('inne', 3), ('telefonierte', 2), ('telefoniert', 2), ('betete', 2), ('gebetet', 4), ('sah', 185), ('seufzte', 6), ('rauchte', 2), ('geraucht', 4), ('raucht', 15), ('schnarcht', 7), ('geblieben', 12), ('wartete', 18), ('zwinkerte', 7), ('gearbeitet', 27), ('arbeitete', 14), ('schrie', 17), ('geschrien', 8), ('heulen', 5), ('verletzt', 57), ('sicherheit', 26), ('pech', 13), ('gehabt', 13), ('streng', 6), ('strengt', 4), ('strengen', 2), ('mühe', 47), ('größere', 13), ('schalte', 13), ('rechts', 7), ('abbiegen', 1), ('moment', 17), ('augenblick', 12), ('wart', 21), ('krieg', 28), ('lügen', 40), ('kaufen', 45), ('cds', 4), ('hatten', 43), ('unseren', 8), ('lachten', 16), ('mögen', 96), ('rasteten', 1), ('lieben', 60), ('wollen', 114), ('jungs', 14), ('quitt', 3), ('faul', 25), ('neues', 74), ('ding', 13), ('gibt', 113), ('wo', 510), ('tat', 28), ('war’s', 1), ('als', 133), ('nächstes', 15), ('holz', 15), ('bestimmst', 1), ('entscheiden', 11), ('dürfen', 26), ('könnt', 96), ('schuldest', 8), ('dumm', 41), ('jemand', 89), ('dann', 28), ('durch', 23), ('verlaufen', 9), ('form', 7), ('verrückt', 74), ('kreativ', 8), ('diskret', 6), ('gnädig', 3), ('gewappnet', 3), ('gnadenlos', 4), ('vernünftig', 12), ('spezifisch', 3), ('tolerant', 2), ('selbst', 85), ('bier', 75), ('jungen', 24), ('sehr', 763), ('teile', 5), ('hut', 74), ('besuch', 10), ('tröste', 1), ('tröstet', 2), ('trösten', 1), ('verbindung', 20), ('setzt', 5), ('zähl', 3), ('dazu', 66), ('verlass', 12), ('sage', 48), ('fischen', 5), ('betrüge', 3), ('streitet', 2), ('lachen', 41), ('lach', 4), ('ausbrechen', 2), ('starr', 1), ('starren', 3), ('starrt', 1), ('sorge', 7), ('sorgen', 48), ('gedanken', 11), ('esst', 17), ('schließen', 23), ('wirf', 22), ('münze', 8), ('werfen', 10), ('werft', 7), ('vergeben', 17), ('vergebt', 1), ('sofort', 37), ('entlang', 8), ('lang', 33), ('kennen', 53), ('lesen', 80), ('davongekommen', 4), ('mumm', 2), ('alleine', 29), ('gehasst', 11), ('verhasst', 2), ('jung', 56), ('liebt', 116), ('braucht', 110), ('lenkte', 2), ('blödmann', 4), ('lügner', 33), ('schläft', 35), ('stinkreich', 2), ('mein', 681), ('alter', 37), ('daheim', 7), ('stark', 28), ('stockbetrunken', 1), ('stockbesoffen', 2), ('nochmals', 7), ('tasche', 44), ('geht’s', 8), ('merkwürdig', 7), ('stehts', 1), ('zwilling', 3), ('dösen', 2), ('online', 4), ('netz', 3), ('größer', 16), ('gefragt', 36), ('fragte', 16), ('grund', 27), ('nehme', 48), ('schuld', 72), ('gekauft', 116), ('hab’s', 7), ('verbrannt', 9), ('schaffen', 29), ('schule', 114), ('geschwänzt', 2), ('brot', 30), ('obst', 11), ('fand', 19), ('insekten', 7), ('mäuse', 3), ('milch', 55), ('dreihundert', 2), ('bargeld', 7), ('augen', 90), ('zögerte', 4), ('gezögert', 1), ('stellte', 10), ('beide', 68), ('beides', 2), ('kuchen', 55), ('katzen', 52), ('fisch', 47), ('gern', 137), ('gerne', 277), ('jazzmusik', 2), ('jazz', 6), ('mathe', 14), ('mathematik', 13), ('schnee', 17), ('mochte', 21), ('wohne', 20), ('lebe', 23), ('gesicht', 50), ('maria', 366), ('rindfleisch', 4), ('kinder', 89), ('rock', 6), ('geliebt', 29), ('muss', 405), ('kleber', 1), ('benötige', 14), ('nie', 262), ('oft', 78), ('dagegen', 23), ('verschlafen', 7), ('lese', 36), ('lippen', 12), ('las', 16), ('erholt', 6), ('dass', 528), ('sollst', 4), ('„hör', 1), ('auf“', 1), ('gerettet', 32), ('ufo', 4), ('fliegende', 1), ('untertasse', 1), ('hund', 207), ('gesorgt', 2), ('rieche', 8), ('benzin', 7), ('ergebe', 1), ('bares', 2), ('eier', 28), ('langweilte', 4), ('schwindlig', 6), ('besoffen', 8), ('glück', 56), ('gelegen', 2), ('gerührt', 5), ('naiv', 13), ('leichtgläubig', 10), ('geirrt', 15), ('unrecht', 33), ('arbeite', 38), ('teilnehmen', 2), ('kaufe', 8), ('absagen', 2), ('klarkommen', 11), ('einsteigen', 1), ('holen', 49), ('aufstehen', 10), ('nachsehen', 7), ('zurechtkommen', 3), ('verwenden', 3), ('auch', 209), ('siebzehn', 3), ('bäcker', 1), ('kind', 51), ('tollpatsch', 3), ('eigenbrötler', 2), ('arzt', 46), ('krankenschwester', 8), ('krankenpfleger', 2), ('angsthase', 3), ('feigling', 20), ('neugierig', 28), ('tanze', 4), ('diät', 13), ('faste', 1), ('pingelig', 9), ('gesund', 22), ('summe', 4), ('schulden', 14), ('verschuldet', 2), ('drin', 34), ('verliebt', 23), ('schmerzen', 29), ('eifersüchtig', 30), ('verheiratet', 29), ('nervös', 54), ('lügnerin', 9), ('darüber', 64), ('hinweg', 3), ('beliebt', 19), ('entspannt', 10), ('rente', 5), ('selbstsüchtig', 2), ('erschrocken', 4), ('aufrichtig', 11), ('bleibe', 9), ('bleib’', 1), ('pappsatt', 1), ('fassungslos', 4), ('spreche', 27), ('gesetz', 16), ('durst', 19), ('durstig', 10), ('gefangen', 26), ('unbewaffnet', 3), ('unglücklich', 17), ('ungewöhnlich', 12), ('oben', 31), ('nutzlos', 11), ('nichtsnutz', 5), ('wohlhabend', 12), ('gescheitert', 6), ('bedient', 6), ('ignoriere', 5), ('ignorieren', 7), ('ignoriert', 6), ('brav', 15), ('nächster', 4), ('toms', 282), ('neblig', 2), ('legal', 6), ('gesetzlich', 1), ('zugelassen', 2), ('schmeckt', 30), ('schmeckts', 1), ('mitnehmen', 20), ('ihres', 10), ('eures', 7), ('wärs', 5), ('möglich', 26), ('geschehen', 19), ('nebel', 4), ('regnen', 16), ('regnet', 24), ('schneit', 21), ('real', 2), ('brechen', 5), ('fünfzig', 3), ('yen', 9), ('montag', 39), ('fälschung', 4), ('witz', 45), ('schade', 4), ('regel', 10), ('bewölkt', 5), ('abgeschlossen', 13), ('keinen', 159), ('zweck', 6), ('bringt', 17), ('gift', 1), ('geheim', 3), ('frühling', 12), ('blöd', 20), ('dringend', 10), ('eilt', 2), ('dringlich', 1), ('drüber', 2), ('hinüber', 1), ('versuchs', 5), ('sies', 3), ('wissen', 175), ('sprechen', 100), ('loslegen', 3), ('nachprüfen', 6), ('tanzen', 53), ('wirs', 6), ('angriff', 2), ('hochgehen', 1), ('entspannen', 8), ('teilen', 9), ('studieren', 18), ('schaue', 11), ('genauer', 6), ('mittagessen', 33), ('liste', 25), ('wünsch', 4), ('vielen', 8), ('dank', 15), ('rauchen', 48), ('präg', 1), ('prägt', 1), ('prägen', 1), ('geld', 239), ('regiert', 2), ('welt', 22), ('gutes', 44), ('timing', 1), ('heißt', 23), ('niemand', 295), ('keiner', 77), ('karte', 25), ('pflanzen', 7), ('wachsen', 4), ('stell', 11), ('schießt', 2), ('verabschiede', 1), ('verabschiedet', 2), ('„auf', 2), ('wiedersehen“', 2), ('schick', 11), ('schicken', 11), ('schickt', 5), ('biss', 8), ('rot', 44), ('errötete', 2), ('bringen', 34), ('länger', 7), ('probiert', 4), ('dieb', 10), ('beiß', 1), ('spazieren', 15), ('handele', 1), ('handeln', 13), ('handelt', 8), ('wagen', 78), ('langsamer', 7), ('geil', 2), ('gratis', 1), ('enorm', 3), ('stimmt', 49), ('brannten', 1), ('riefen', 1), ('kamen', 12), ('vorbeigekommen', 5), ('tanzten', 1), ('umarmten', 3), ('drückten', 1), ('küssten', 6), ('lächelten', 5), ('gingen', 24), ('denk', 16), ('dies', 83), ('spricht', 56), ('mist', 3), ('blinzelte', 3), ('verändert', 33), ('veränderte', 1), ('betrogen', 12), ('betrog', 6), ('schummelte', 3), ('jubelte', 3), ('klatschte', 3), ('entschieden', 15), ('ertrank', 2), ('entkam', 5), ('atmete', 4), ('runzelte', 1), ('stirn', 1), ('blickte', 7), ('finster', 2), ('drein', 5), ('versteht', 22), ('freute', 2), ('hämisch', 1), ('grinste', 2), ('leidet', 5), ('unter', 58), ('zwängen', 1), ('einer', 85), ('zwangserkrankung', 1), ('wehgetan', 9), ('eingeatmet', 1), ('schallplattenunterhalter', 2), ('kahl', 1), ('friert', 3), ('hammertyp', 1), ('deprimiert', 10), ('gütig', 2), ('letzte', 19), ('laut', 35), ('dachschaden', 4), ('unhöflich', 12), ('rüpel', 1), ('lange', 84), ('leitung', 6), ('eitel', 2), ('aufgeblasen', 3), ('eingebildet', 5), ('kniete', 5), ('hört', 57), ('könnte', 158), ('bemerkt', 15), ('bezahlte', 7), ('malte', 2), ('voraus', 9), ('weggelaufen', 8), ('lehnte', 10), ('abgelehnt', 9), ('entspannte', 1), ('rief', 33), ('rutschte', 3), ('ausgerutscht', 2), ('nieste', 2), ('angehalten', 5), ('schwitzte', 2), ('geschwitzt', 2), ('unterrichtet', 19), ('erzählt', 27), ('stolperte', 5), ('gestolpert', 2), ('scharf', 4), ('angesagt', 1), ('außer', 12), ('betrübt', 7), ('aussteigen', 5), ('hellwach', 9), ('bescheuert', 3), ('liegt', 47), ('unzuverlässig', 18), ('witzig', 3), ('älter', 16), ('unternehmungslustig', 2), ('drehe', 4), ('cnn', 1), ('wählt', 2), ('wählen', 14), ('wähle', 7), ('deine', 325), ('wecke', 6), ('hölle', 1), ('lag', 22), ('falsch', 57), ('schluss', 15), ('treffen', 63), ('vermissen', 37), ('müssen', 175), ('brauchen', 123), ('erinnern', 19), ('daran', 62), ('setzten', 5), ('gestohlen', 32), ('kämpfen', 20), ('bewaffnet', 7), ('nahe', 10), ('zeitig', 4), ('stecken', 6), ('drecksloch', 1), ('verlust', 5), ('durcheinander', 11), ('team', 4), ('ego', 1), ('gejubelt', 1), ('entkommen', 26), ('reihe', 19), ('zubereiten', 3), ('stirbt', 4), ('nummer', 13), ('woran', 3), ('gemogelt', 2), ('kennst', 45), ('musst', 123), ('hingehen', 22), ('brauchst', 50), ('genau', 38), ('geweckt', 12), ('kommst', 44), ('gehörst', 2), ('eingeladen', 27), ('gibts', 4), ('polizei', 14), ('führe', 6), ('auszugehen', 4), ('aufmerksam', 15), ('objektiv', 6), ('realistisch', 3), ('kocht', 23), ('ei', 13), ('bringe', 14), ('fbi', 8), ('melde', 3), ('meldet', 3), ('tretet', 2), ('melden', 8), ('treten', 9), ('herauf', 5), ('zehn', 23), ('kümmere', 11), ('drum', 6), ('kümmern', 18), ('beschreibe', 1), ('einzuwenden', 4), ('gesungen', 14), ('gerufen', 14), ('unterschrieben', 5), ('seh', 3), ('mach’s', 3), ('trotzdem', 6), ('tu’s', 5), ('sie’s', 7), ('trinken', 45), ('rauchst', 2), ('lehrst', 1), ('dein', 303), ('bestes', 28), ('gebt', 40), ('euer', 67), ('geben', 122), ('tut’s', 1), ('merkt', 2), ('man', 138), ('funktioniert’s', 2), ('gräme', 1), ('nerv', 5), ('nerven', 7), ('steh', 8), ('fahr', 9), ('waffe', 32), ('fallen', 23), ('mutter', 90), ('porzellankiste', 1), ('immer', 271), ('sachte', 2), ('gewehr', 7), ('holt', 5), ('buch', 250), ('geister', 4), ('existieren', 1), ('hälfte', 8), ('drumrum', 1), ('guten', 19), ('abend', 56), ('hand', 42), ('endlich', 20), ('erwachsen', 13), ('händige', 1), ('frohe', 5), ('ostern', 2), ('fröhliche', 4), ('berliner', 4), ('imbiss', 3), ('mutig', 21), ('mut', 15), ('meidet', 3), ('schneidet', 5), ('stritt', 6), ('sitzenlassen', 3), ('laufpass', 7), ('gegeben', 88), ('hasst', 57), ('franzose', 2), ('dichter', 6), ('unleidlich', 2), ('stinkig', 1), ('ehrgeizig', 11), ('hinaus', 8), ('isst', 71), ('speist', 1), ('heldenhaft', 3), ('soeben', 2), ('getreten', 7), ('ließ', 61), ('läufer', 6), ('scheint', 132), ('sieht', 267), ('super', 6), ('töricht', 6), ('einfältig', 4), ('treuherzig', 2), ('religiöser', 1), ('eiferer', 1), ('mädels', 3), ('unterstütze', 6), ('unterstützen', 2), ('unterstützt', 2), ('hey', 30), ('ehrlichkeit', 2), ('zahlt', 8), ('arrogant', 9), ('barbarisch', 2), ('erbärmlich', 4), ('romantisch', 5), ('berührend', 1), ('bewundere', 19), ('hätte', 100), ('fast', 73), ('chinese', 1), ('chinesin', 1), ('schäme', 8), ('verwirrt', 46), ('verwundet', 7), ('bete', 2), ('entschuldigte', 4), ('äpfel', 29), ('kaviar', 1), ('zerbrochen', 10), ('rülpse', 1), ('zeichnen', 4), ('kaum', 53), ('erwarten', 8), ('geschnitten', 10), ('verdient', 41), ('verdiene', 5), ('egal', 20), ('stört', 10), ('singe', 11), ('trank', 15), ('trinke', 29), ('käse', 6), ('freude', 51), ('lebendig', 4), ('übel', 13), ('schwindelig', 6), ('blendend', 3), ('fühlte', 59), ('nackt', 14), ('joggen', 4), ('zweifel', 10), ('bohnen', 3), ('leiden', 29), ('sushi', 8), ('tests', 1), ('kuli', 7), ('nesselsucht', 1), ('beweise', 16), ('musik', 38), ('umarmte', 9), ('drückte', 7), ('improvisierte', 2), ('improvisiert', 2), ('süßigkeiten', 12), ('mädchen', 82), ('pizza', 34), ('zucker', 14), ('diese', 211), ('frauen', 23), ('verlor', 24), ('bücher', 68), ('spiele', 39), ('witze', 36), ('reisen', 10), ('schloss', 19), ('erfunden', 8), ('gefehlt', 5), ('sputen', 3), ('lernen', 59), ('taxi', 43), ('umarmung', 2), ('farbe', 15), ('schlaf', 17), ('wasser', 90), ('klavier', 21), ('selten', 35), ('löwen', 2), ('stern', 2), ('geschlafen', 30), ('gedacht', 13), ('dachte', 37), ('große', 63), ('angestrengt', 4), ('beweis', 9), ('erschüttert', 5), ('schläfrig', 18), ('versagen', 4), ('zurückkommen', 11), ('verspäte', 2), ('lieb', 11), ('vorbeikommen', 2), ('erklären', 28), ('kriege', 4), ('hole', 15), ('nachschauen', 2), ('verklagen', 8), ('99\\u202f', 1), ('kanadier', 34), ('vater', 144), ('freund', 80), ('genie', 13), ('jäger', 3), ('anwalt', 22), ('rechtsanwalt', 8), ('purist', 2), ('süchtig', 4), ('sucht', 15), ('verfallen', 1), ('ohr', 12), ('künstlerisch', 3), ('veranlagt', 2), ('blute', 3), ('bluffe', 1), ('diabetiker', 7), ('geschieden', 8), ('einigermaßen', 1), ('ertrinke', 2), ('ertrinken', 2), ('legastheniker', 1), ('legasthenikerin', 1), ('achtzehn', 4), ('erwartet', 19), ('kämpfe', 2), ('friere', 2), ('dankbar', 8), ('hausarrest', 1), ('obdachlos', 5), ('kater', 4), ('verkatert', 2), ('perth', 1), ('einem', 70), ('stau', 3), ('unschuldig', 19), ('engel', 10), ('aufständischer', 1), ('aufständische', 1), ('heilige', 2), ('heiliger', 6), ('unverletzt', 5), ('beleidigt', 14), ('zuverlässig', 7), ('ruhelos', 1), ('erbarmen', 3), ('schieße', 5), ('schlafe', 14), ('untröstlich', 3), ('verhungern', 11), ('stur', 6), ('studiere', 15), ('beste', 18), ('gründlich', 10), ('kitzlig', 1), ('völlig', 35), ('erschöpft', 16), ('nachgeschaut', 1), ('spinne', 4), ('eisen', 2), ('hirsch', 1), ('wolf', 3), ('krebs', 12), ('salz', 9), ('meines', 6), ('begonnen', 7), ('angefangen', 18), ('erschreckte', 2), ('gedauert', 4), ('schwarz', 26), ('leer', 28), ('fluch', 3), ('frucht', 4), ('pflanze', 3), ('schnäppchen', 1), ('fürs', 11), ('skurril', 2), ('hagelt', 1), ('gerücht', 10), ('unmoralisch', 5), ('morgen', 87), ('pfeife', 3), ('scherz', 19), ('unser', 70), ('niedrig', 3), ('rauskommst', 1), ('renn', 2), ('singt', 34), ('red', 3), ('zuerst', 24), ('voran', 7), ('überlass', 7), ('erledigen', 16), ('träumen', 14), ('nachdenken', 11), ('zeig’s', 5), ('zeigen', 30), ('zeigt’s', 1), ('rate', 12), ('ratet', 4), ('raten', 6), ('aufhört', 4), ('mary', 118), ('schwer', 67), ('unterbrechen', 5), ('dazwischengehen', 1), ('schweine', 4), ('ohren', 16), ('füße', 28), ('taten', 3), ('hüfte', 1), ('kiefer', 3), ('scherte', 1), ('darum', 37), ('niemanden', 29), ('interessiert’s', 5), ('interessiert', 15), ('unsere', 70), ('blicke', 3), ('trafen', 9), ('heb', 2), ('hebt', 4), ('heben', 7), ('beeilt', 6), ('enspannt', 1), ('enspann', 1), ('stelle', 24), ('dahin', 14), ('stellen', 15), ('schäm', 2), ('fuchs', 4), ('fassung', 1), ('irrt', 8), ('kennt', 72), ('erschoss', 2), ('verklagt', 4), ('hammer', 8), ('sollen', 45), ('lieber', 40), ('zeig', 39), ('weilchen', 2), ('hören', 84), ('filmen', 2), ('glotzen', 2), ('summen', 5), ('träum', 1), ('süße', 6), ('träume', 16), ('pause', 34), ('kommando', 3), ('kontrolle', 4), ('nimms', 3), ('leicht', 62), ('mantel', 25), ('genug', 48), ('heißen', 6), ('jubelten', 1), ('entkamen', 2), ('gaben', 7), ('hassen', 24), ('kannten', 13), ('gelacht', 16), ('weigerten', 2), ('entspannten', 1), ('erholten', 1), ('sagten', 7), ('hielten', 3), ('hörten', 10), ('schwitzten', 1), ('merken', 5), ('mitkriegen', 1), ('niedergeschlagen', 16), ('gefälscht', 2), ('verschwunden', 10), ('gehören', 31), ('dinge', 18), ('nahrung', 4), ('gold', 10), ('ihrer', 23), ('ihre', 195), ('unseres', 2), ('ekelhaft', 6), ('grauslich', 1), ('klappen', 1), ('antwortete', 16), ('billigt', 1), ('eingebrochen', 1), ('brach', 24), ('baute', 3), ('gluckste', 1), ('schrieb', 24), ('anwerben', 1), ('zusammen', 72), ('verirrte', 1), ('erschossen', 17), ('schnitt', 3), ('grimassen', 3), ('grimassierte', 1), ('verzog', 3), ('murrte', 1), ('maulte', 1), ('motzte', 1), ('schimpfte', 2), ('akne', 1), ('hasste', 12), ('beharrte', 1), ('bestand', 3), ('darauf', 29), ('spion', 6), ('veteran', 2), ('brutal', 1), ('gebrechlich', 2), ('beglückt', 1), ('treu', 3), ('unordentlich', 5), ('launisch', 8), ('ex', 2), ('fettleibig', 1), ('gruselig', 5), ('pfiffig', 2), ('klein', 40), ('albern', 6), ('reizend', 21), ('vage', 4), ('veganer', 1), ('weißer', 1), ('gewitzt', 4), ('möge', 6), ('meinte', 11), ('widersprach', 3), ('erhob', 4), ('einspruch', 1), ('ausgebrochen', 4), ('geraten', 12), ('versprach', 1), ('thomas', 4), ('eingelenkt', 1), ('nachgegeben', 1), ('zitterte', 3), ('zuckte', 3), ('achseln', 1), ('geblinzelt', 1), ('stottert', 2), ('erzählte', 6), ('verschwand', 5), ('wäre', 107), ('letzter', 4), ('verspätete', 5), ('pfiff', 4), ('erstaunt', 7), ('verblüfft', 15), ('heult', 2), ('schmutzig', 36), ('schuldig', 43), ('wahnsinnig', 12), ('erledigt', 11), ('niemandem', 20), ('traue', 3), ('keinem', 3), ('unglaublich', 21), ('glauben', 52), ('nutze', 5), ('benutzt', 20), ('gebrauch', 3), ('allen', 23), ('abwarten', 1), ('weck', 6), ('unheimlich', 7), ('gestanden', 5), ('araber', 1), ('verstehen', 43), ('bereiteten', 1), ('aßen', 3), ('mittag', 31), ('wussten', 24), ('mochten', 5), ('schauten', 5), ('blickten', 3), ('regen', 13), ('saßen', 7), ('sollten', 60), ('erfolgreich', 12), ('trauen', 4), ('greifen', 1), ('angreifen', 1), ('ausgehen', 9), ('fürchten', 6), ('vorurteile', 3), ('geschlossen', 18), ('verstecken', 14), ('scherzen', 7), ('niete', 3), ('null', 2), ('schande', 1), ('frau', 87), ('denn', 49), ('fernsehen', 24), ('erbaut', 8), ('soll', 64), ('fängt', 10), ('scherzt', 7), ('aufgeben', 17), ('dankst', 1), ('ausreichend', 4), ('daumen', 3), ('vergingen', 3), ('amüsierst', 3), ('amüsieren', 4), ('gehst', 41), ('mitkommen', 8), ('ausruhen', 24), ('weißt', 72), ('siehst', 96), ('erhitzt', 1), ('darfst', 28), ('müsst', 39), ('beängstigst', 2), ('beängstigen', 1), ('machst', 33), ('bleibst', 1), ('wirst', 132), ('stirbst', 3), ('liegst', 1), ('liegen', 6), ('entlassen', 29), ('eklig', 1), ('lügst', 14), ('scharfsinnig', 2), ('durchtrieben', 1), ('clever', 5), ('dämlich', 4), ('drückst', 1), ('gewachsen', 7), ('angefahren', 6), ('hinzu', 4), ('irgendwelche', 7), ('neuen', 30), ('sonst', 51), ('fan', 3), ('langweilst', 2), ('langweilt', 5), ('langweilen', 5), ('fachmann', 7), ('backen', 6), ('artig', 2), ('besonders', 13), ('untergliedere', 1), ('abreißen', 2), ('detailliere', 1), ('buchstabier', 1), ('schlüssel', 90), ('sicherheitsdienst', 7), ('mitmachen', 6), ('skaten', 2), ('reinigen', 2), ('tanz', 8), ('ertrunken', 7), ('geworden', 50), ('bewusstsein', 10), ('weggegangen', 3), ('geantwortet', 19), ('fische', 18), ('kapierst', 1), ('verstehst', 19), ('passt', 22), ('werd', 6), ('töte', 3), ('töten', 14), ('hinauf', 10), ('beachtet', 2), ('schubs', 1), ('schubst', 1), ('reagier', 1), ('hetz', 1), ('zeichne', 6), ('kreis', 2), ('spül', 1), ('herunter', 18), ('erbsen', 1), ('sogar', 11), ('sangen', 10), ('ausatmen', 1), ('füttere', 3), ('vogel', 16), ('füttert', 1), ('blumen', 15), ('blühen', 1), ('spiegelei', 1), ('zahn', 12), ('wenig', 29), ('ruhen', 3), ('tag', 135), ('paar', 26), ('sekunde', 9), ('hinunter', 13), ('verzisch', 1), ('segne', 1), ('augenblickchen', 1), ('schinken', 2), ('berät', 1), ('führt', 12), ('netztagebuch', 3), ('erkältet', 14), ('hosenträger', 2), ('zahnspange', 1), ('ignorierte', 5), ('engländer', 5), ('typ', 23), ('liest', 33), ('schlittschuh', 7), ('rollschuh', 3), ('skateboard', 1), ('skatet', 1), ('kuss', 11), ('küsste', 11), ('geküsst', 37), ('menge', 28), ('vorzeitig', 1), ('angelogen', 27), ('belogen', 6), ('gefiel', 9), ('blass', 12), ('fortgeschickt', 1), ('verkauft', 26), ('autos', 10), ('geschossen', 12), ('riecht', 19), ('hereingelegt', 3), ('bemüht', 2), ('bekifft', 2), ('gesteinigt', 1), ('erblindet', 2), ('erblindete', 4), ('österreicher', 1), ('miesepeter', 2), ('nörgler', 1), ('meckerfritze', 1), ('jesuit', 1), ('hinter', 38), ('lästig', 3), ('autist', 1), ('tokyo', 3), ('studiert', 26), ('lernt', 21), ('bedien', 1), ('bedienen', 3), ('oder', 54), ('hieressen', 4), ('1000', 5), ('seine', 165), ('nase', 32), ('blutete', 2), ('seil', 15), ('verspätet', 6), ('aufregend', 5), ('bewunderte', 4), ('amerikanerin', 5), ('japaner', 16), ('japanerin', 5), ('moslem', 3), ('huste', 2), ('paris', 13), ('niese', 2), ('lerne', 21), ('glaube', 158), ('spüren', 1), ('bekomme', 14), ('weitermachen', 10), ('zusehen', 6), ('herbeigeführt', 1), ('beigetragen', 1), ('heute', 251), ('verachte', 1), ('hingesehen', 1), ('schach', 12), ('übertrieben', 4), ('gefüttert', 7), ('spüre', 2), ('flau', 1), ('eingeschlafen', 17), ('schlechtes', 12), ('gewissen', 6), ('verziehen', 16), ('ausgeflippt', 1), ('ausgerastet', 1), ('geheiratet', 18), ('grippe', 4), ('ahnung', 9), ('musste', 27), ('boston', 144), ('französisch', 155), ('sellerie', 1), ('kaffee', 76), ('ausstehen', 13), ('winter', 9), ('schnupfen', 1), ('leide', 4), ('erkältung', 28), ('verabredung', 2), ('ring', 10), ('visum', 3), ('befehle', 10), ('gesündigt', 1), ('aufgestanden', 18), ('scherze', 7), ('menschen', 26), ('manches', 2), ('französische', 2), ('uhren', 2), ('knoblauch', 2), ('pferde', 16), ('filme', 10), ('zwiebeln', 4), ('reggae', 2), ('lachs', 4), ('löffel', 7), ('sport', 15), ('süßes', 9), ('tennis', 27), ('laufe', 7), ('züge', 3), ('tulpen', 2), ('arabisch', 9), ('herbst', 3), ('kamele', 1), ('spielfilme', 1), ('katze', 90), ('sohn', 56), ('natur', 5), ('pandas', 4), ('veranlasst', 2), ('faust', 5), ('gekocht', 5), ('aufgegossen', 1), ('abendessen', 39), ('zubereitet', 3), ('gebracht', 43), ('abendbrot', 8), ('heiratete', 9), ('rausgehen', 8), ('weigern', 1), ('wehren', 2), ('ankämpfen', 1), ('beinahe', 15), ('kredit', 1), ('plan', 65), ('briefmarken', 6), ('brauchte', 23), ('pferd', 38), ('geige', 5), ('violine', 3), ('zurückgetan', 1), ('gelesen', 19), ('rettete', 7), ('respektiere', 2), ('bedankte', 1), ('maus', 10), ('flugzeug', 10), ('jemanden', 20), ('krone', 1), ('haus', 135), ('kanns', 3), ('spaziergang', 5), ('vertraute', 8), ('twitter', 2), ('besucht', 13), ('freiwillig', 13), ('gemeldet', 7), ('meldete', 7), ('pferdchen', 1), ('pony', 1), ('schwimmbecken', 3), ('zumute', 15), ('wollte', 120), ('schämte', 5), ('geschämt', 1), ('zugesehen', 2), ('wandern', 4), ('hinein', 17), ('zuhören', 9), ('weckte', 6), ('nachts', 7), ('gedichte', 6), ('lieder', 6), ('gefiele', 8), ('erlaube', 5), ('zulassen', 5), ('umbringen', 11), ('fehlen', 22), ('ausrufen', 1), ('beweisen', 12), ('zeige', 13), ('verhindern', 4), ('übernehme', 3), ('sags', 4), ('ansehen', 9), ('krüppel', 1), ('patientin', 1), ('patient', 3), ('rotschopf', 2), ('student', 25), ('schüler', 19), ('schülerin', 2), ('studentin', 3), ('tatverdächtiger', 6), ('lehrer', 49), ('lehrerin', 8), ('tourist', 7), ('süchtiger', 1), ('künstler', 20), ('waisenkind', 4), ('überzeugt', 14), ('depressiv', 2), ('anders', 33), ('hoffnung', 38), ('geschmeichelt', 3), ('ungeduldig', 12), ('beeindruckt', 21), ('gang', 3), ('gefahr', 30), ('wahrhaben', 2), ('meinem', 70), ('motiviert', 5), ('fach', 14), ('übergewichtig', 10), ('unterwegs', 13), ('drüben', 32), ('zufrieden', 48), ('überrascht', 27), ('versichert', 6), ('unversichert', 3), ('überaus', 9), ('chef', 23), ('zurückgekommen', 13), ('gewesen', 24), ('nähe', 32), ('lama', 2), ('beschädigt', 9), ('ernstes', 4), ('fledermaus', 1), ('perücke', 6), ('blut', 13), ('latein', 4), ('rechtens', 2), ('eben', 10), ('auseinander', 1), ('tatsächlich', 6), ('schlimmer', 11), ('üblen', 2), ('geruch', 5), ('geschenk', 24), ('falle', 13), ('frostig', 1), ('eilte', 9), ('schaden', 9), ('wehtun', 2), ('14', 1), ('abends', 2), ('samstag', 7), ('pilz', 1), ('erleichterung', 3), ('geheimnis', 39), ('trifft', 6), ('gelaufen', 5), ('ofen', 2), ('befehl', 6), ('nervt', 6), ('geschäft', 18), ('wunderschön', 3), ('hoffnungslos', 3), ('verbessert', 4), ('unmenschlich', 1), ('mitternacht', 8), ('diesmal', 8), ('zahle', 4), ('veraltet', 1), ('besetzt', 7), ('bullen', 4), ('schwierig', 16), ('schiech', 1), ('unwahrscheinlich', 8), ('entsperrt', 1), ('freigeschaltet', 1), ('hängt', 8), ('befindet', 14), ('minute', 12), ('kontrollier', 3), ('kontrolliers', 1), ('kontrollieren', 7), ('kontrolliert', 4), ('kontrollierts', 1), ('verzieht', 1), ('zieht', 19), ('verschwinden', 4), ('verschwindet', 4), ('beschäftige', 1), ('trab', 1), ('klettere', 1), ('klettern', 7), ('klettert', 3), ('kontakt', 5), ('fasse', 1), ('paddel', 1), ('paddeln', 1), ('eintreten', 4), ('fortgehen', 3), ('zurückgehen', 7), ('belassen', 1), ('fortfahren', 4), ('tür', 143), ('tresor', 4), ('sterblich', 2), ('heißer', 6), ('feger', 2), ('kreischte', 1), ('reinkommen', 11), ('meiner', 34), ('rückenschmerzen', 5), ('rücken', 11), ('gefressen', 3), ('feuchtes', 3), ('haar', 38), ('kopfweh', 11), ('kopfschmerzen', 17), ('knie', 9), ('heiße', 12), ('nacken', 3), ('nackenschmerzen', 1), ('füller', 9), ('zog', 32), ('oh', 3), ('öffnen', 38), ('öffne', 19), ('tor', 9), ('öffnet', 10), ('mannschaft', 14), ('eulen', 5), ('niedlich', 5), ('verändern', 3), ('beliebige', 1), ('spiel', 40), ('bademantel', 1), ('schinden', 1), ('lest', 4), ('frieden', 13), ('würfel', 3), ('würfle', 2), ('würfele', 2), ('würfeln', 2), ('ende', 24), ('wiederschauen', 1), ('bückte', 1), ('abserviert', 2), ('verabscheute', 1), ('konnte', 80), ('aktiv', 10), ('falsche', 1), ('hoffnungen', 1), ('vorgemacht', 1), ('hörig', 1), ('schnelle', 2), ('läuferin', 2), ('fuchsteufelswild', 3), ('wut', 1), ('blauäugig', 1), ('türe', 7), ('einige', 15), ('deutlich', 3), ('rührt', 3), ('lasse', 9), ('zuversichtlich', 4), ('zusammenbleiben', 1), ('rühr', 5), ('suppe', 16), ('anzugeben', 3), ('misch', 3), ('dieses', 220), ('richte', 2), ('willst', 145), ('feg', 1), ('zimmer', 129), ('ziehe', 20), ('duschen', 3), ('abführen', 1), ('geschmäcker', 1), ('verschieden', 3), ('unsres', 1), ('unsrer', 1), ('unsre', 1), ('saturn', 1), ('kopie', 4), ('puppe', 12), ('tatsache', 5), ('faktum', 1), ('mythos', 1), ('risiko', 14), ('zeichen', 7), ('baum', 15), ('machbar', 2), ('reicht', 23), ('aufgabe', 11), ('glocke', 5), ('läutete', 3), ('tasse', 17), ('zerbrach', 2), ('gewannen', 2), ('siegten', 1), ('gesiegt', 1), ('besteht', 6), ('kündigten', 1), ('liebten', 3), ('verschwanden', 2), ('gutgehen', 4), ('asiaten', 2), ('zornig', 2), ('braun', 7), ('dummköpfe', 1), ('spione', 1), ('irren', 9), ('ändern', 36), ('japan', 10), ('dvd', 2), ('landkarte', 5), ('wortspiel', 1), ('wahnsinn', 4), ('dieser', 152), ('betet', 5), ('himmelt', 1), ('rannten', 9), ('applaudierte', 1), ('spendete', 1), ('beifall', 4), ('geklatscht', 1), ('applaudiert', 1), ('gespendet', 3), ('gebeichtet', 3), ('gestand', 4), ('beichtete', 2), ('ertüchtigte', 1), ('ertüchtigt', 1), ('trainiert', 5), ('hochschule', 1), ('abschluss', 4), ('weggehen', 12), ('pläne', 13), ('geknuddelt', 1), ('baby', 18), ('narr', 6), ('sportler', 3), ('poet', 4), ('chaot', 1), ('weichei', 1), ('ausland', 20), ('parteiisch', 1), ('pummel', 1), ('gerissen', 1), ('döst', 1), ('schlummert', 1), ('familie', 77), ('sparsam', 5), ('versteckt', 15), ('ehrlich', 31), ('witzelt', 1), ('verliert', 10), ('liebevoll', 1), ('papa', 8), ('vati', 2), ('normal', 26), ('mager', 15), ('raffiniert', 3), ('unfreundlich', 7), ('verrucht', 2), ('gesellte', 1), ('verließ', 14), ('nötig', 16), ('öffnete', 31), ('protestierte', 1), ('schubste', 1), ('aufgezogen', 1), ('erinnert', 11), ('stürmte', 4), ('saß', 36), ('reingelegt', 6), ('wankte', 2), ('erfolg', 22), ('zeigte', 10), ('gezeigt', 6), ('angeschrieben', 2), ('davor', 5), ('gewarnt', 15), ('achtzig', 1), ('aufdringlich', 1), ('wortkarg', 1), ('beängstigend', 2), ('beschwipst', 5), ('angetrunken', 2), ('drehte', 15), ('erblasste', 2), ('gen', 1), ('westen', 3), ('durchfallen', 1), ('zoomte', 2), ('umziehen', 12), ('adoptiert', 8), ('erstaunlich', 3), ('genervt', 4), ('verunsichert', 3), ('erstickt', 2), ('würgen', 1), ('verlobt', 10), ('hinkt', 6), ('humpelt', 3), ('packt', 4), ('ruht', 3), ('gewalttätig', 7), ('ihren', 62), ('füßen', 1), ('sechs', 29), ('geschnarcht', 1), ('worden', 59), ('rückendeckung', 1), ('bohnere', 1), ('fußboden', 5), ('bewundern', 4), ('erwischt', 10), ('habens', 1), ('wurden', 28), ('ausgeraubt', 12), ('regeln', 24), ('halfen', 5), ('prima', 4), ('papier', 14), ('werkzeug', 2), ('wieso', 26), ('bitten', 15), ('verspäten', 6), ('einziehen', 3), ('überleben', 11), ('werdens', 1), ('schämen', 2), ('cousins', 13), ('ärzte', 8), ('feinde', 13), ('fasten', 2), ('freunde', 68), ('freundinnen', 3), ('befreundet', 5), ('rechtsanwälte', 1), ('eltern', 32), ('schockiert', 9), ('sinken', 2), ('stocken', 1), ('gewinner', 2), ('angekommen', 36), ('warst', 41), ('wurdest', 7), ('angeschossen', 7), ('zirkus', 1), ('passierte', 6), ('zugetragen', 4), ('wahrheit', 38), ('übriggeblieben', 1), ('übrig', 6), ('wann', 163), ('welches', 18), ('angestellt', 2), ('fastet', 4), ('summt', 5), ('gewinnt', 16), ('wem', 48), ('zuschieben', 1), ('hilfst', 6), ('schreib’s', 1), ('irrst', 3), ('aussichtslos', 1), ('post', 6), ('schaust', 4), ('wirkst', 4), ('hineingehen', 10), ('fragst', 8), ('verdorben', 4), ('scheinst', 8), ('scheinen', 10), ('solltest', 42), ('solltet', 15), ('riechst', 5), ('scheitern', 2), ('würdest', 38), ('befangen', 1), ('beliebst', 2), ('belieben', 2), ('verlierst', 4), ('bezahlst', 1), ('höflich', 22), ('hübsch', 13), ('unfair', 7), ('niederträchtig', 1), ('cola', 1), ('benimm', 5), ('kleinen', 4), ('gestatten', 1), ('geeignet', 3), ('schläfst', 5), ('junggeselle', 3), ('beiden', 13), ('vögeln', 1), ('boote', 1), ('untergehen', 3), ('bereiten', 2), ('behilflich', 8), ('gesellen', 1), ('anfassen', 10), ('benutzen', 28), ('ball', 28), ('reinige', 2), ('käfig', 6), ('kühe', 6), ('fressen', 18), ('gras', 3), ('schneide', 9), ('zwei', 74), ('hälften', 3), ('schneiden', 11), ('mitten', 1), ('halbiere', 1), ('entzwei', 1), ('motor', 7), ('tod', 20), ('abgeschnitten', 6), ('sagtest', 6), ('sagtet', 1), ('hältst', 11), ('erledige', 2), ('eure', 82), ('selber', 10), ('schnurren', 3), ('tiger', 11), ('leugnest', 1), ('leugnen', 10), ('yoga', 8), ('betreibst', 2), ('betreibt', 5), ('betreiben', 1), ('du’s', 12), ('ihr’s', 3), ('hörst', 18), ('magst', 92), ('liebst', 21), ('vermisst', 35), ('recyceln', 1), ('recycelst', 1), ('recycelt', 1), ('ärgere', 3), ('ärgern', 1), ('kauf', 9), ('beschwer', 1), ('kümmer', 1), ('gehorch', 2), ('versuchung', 4), ('führen', 8), ('fern', 34), ('deinen', 100), ('salat', 4), ('genießen', 4), ('vorführung', 3), ('genieße', 5), ('schönen', 21), ('wünsche', 27), ('jeder', 78), ('bezahlten', 1), ('angeln', 14), ('bildet', 1), ('reihen', 2), ('bilden', 2), ('steig', 3), ('handtuch', 12), ('steige', 4), ('steigen', 10), ('steigt', 5), ('nun', 25), ('federn', 1), ('entledige', 1), ('entledigen', 3), ('ran', 3), ('leih', 2), ('helfende', 1), ('küss', 3), ('mitfahren', 4), ('park', 18), ('golf', 21), ('frohes', 1), ('jahr', 19), ('glückliches', 2), ('herzlichen', 3), ('glückwunsch', 4), ('geburtstag', 13), ('feiertage', 1), ('gebeten', 27), ('zählen', 22), ('kandidiert', 1), ('drachen', 5), ('zwölf', 2), ('söhne', 12), ('trägt', 42), ('bart', 10), ('fürchtet', 9), ('amerikaner', 6), ('schriftsteller', 8), ('schauspieler', 8), ('zierlich', 1), ('onkel', 12), ('aufgeschlossen', 7), ('mächtig', 3), ('hält', 15), ('rasch', 5), ('respektiert', 3), ('lied', 29), ('verraten', 24), ('redet', 26), ('gelähmt', 3), ('großer', 33), ('bisschen', 68), ('fleischhauer', 1), ('fanatiker', 2), ('spieler', 6), ('samurai', 1), ('faulpelz', 4), ('jasager', 2), ('tier', 7), ('autor', 1), ('exknacki', 1), ('gesetzloser', 2), ('pantoffelheld', 1), ('schlichtweg', 1), ('miteinander', 11), ('beim', 52), ('versteck', 2), ('bremse', 4), ('eindruck', 13), ('welche', 45), ('höhe', 2), ('kostet', 21), ('vergeht', 4), ('breit', 4), ('deinem', 24), ('eurem', 6), ('ihrem', 14), ('leute', 50), ('geschenke', 6), ('entgegen', 2), ('geheult', 1), ('bereits', 28), ('bekannt', 16), ('ungar', 1), ('ungarin', 1), ('schüchterner', 4), ('hundemüde', 2), ('london', 5), ('befinde', 3), ('banane', 7), ('apfel', 36), ('fing', 62), ('geglaubt', 20), ('glaubte', 12), ('verriet', 6), ('fahrrad', 72), ('rad', 13), ('leihe', 1), ('kaufte', 27), ('bein', 18), ('gebrochen', 30), ('wegen', 15), ('statt', 3), ('deinetwegen', 2), ('verwendung', 2), ('gebrauchen', 12), ('zähle', 11), ('verachtet', 3), ('durchgefallen', 5), ('treibe', 3), ('glücksspiel', 4), ('kapier', 1), ('getrunken', 25), ('tomaten', 3), ('übers', 6), ('folgte', 7), ('gefolgt', 15), ('wort', 53), ('frühaufsteher', 6), ('kirche', 11), ('mitgebracht', 57), ('garantiere', 1), ('schlaganfall', 4), ('trug', 26), ('nietenhose', 6), ('herbeigewinkt', 1), ('herbeigewunken', 1), ('montage', 1), ('absolut', 2), ('bügeln', 1), ('karaoke', 2), ('juristen', 2), ('rätsel', 7), ('spinnen', 11), ('spinat', 4), ('dreizehn', 4), ('traum', 26), ('fieber', 14), ('radio', 14), ('tisch', 31), ('pickup', 4), ('laster', 2), ('lastwagen', 8), ('lkw', 6), ('camion', 1), ('gedächtnis', 12), ('gedächtnisverlust', 1), ('idee', 71), ('ehefrau', 3), ('schwestern', 12), ('gehalten', 11), ('enttäuscht', 34), ('englisch', 42), ('schlösser', 1), ('kekse', 16), ('angle', 1), ('ketchup', 3), ('mahjong', 1), ('mahjongg', 1), ('herz', 34), ('nudeln', 3), ('austern', 2), ('saschimi', 1), ('meeresfrüchte', 3), ('geschichten', 4), ('unterhalte', 1), ('sonne', 16), ('angel', 1), ('jagen', 4), ('schildkröten', 3), ('harvard', 4), ('mandeln', 1), ('tiere', 9), ('bananen', 16), ('karotten', 8), ('nachtisch', 8), ('lasagne', 1), ('ipod', 2), ('partys', 2), ('puzzles', 2), ('sonnenuntergänge', 2), ('gebacken', 13), ('brachte', 27), ('universität', 3), ('ablehnen', 11), ('hobby', 10), ('zigarette', 3), ('briefmarke', 4), ('privatsphäre', 4), ('unterstützung', 3), ('operiert', 4), ('schluckauf', 2), ('hickse', 1), ('reise', 27), ('schulde', 31), ('100', 3), ('besitze', 3), ('bar', 7), ('bezahle', 5), ('bekenne', 1), ('züchte', 2), ('vieh', 1), ('rauskommt', 2), ('verabschiedete', 4), ('mund', 24), ('„nimm“', 1), ('5', 6), ('köchin', 2), ('verkaufe', 4), ('diene', 1), ('koreanisch', 2), ('französischunterricht', 2), ('unterrichte', 4), ('denke', 119), ('nannte', 4), ('gepäck', 3), ('bog', 3), ('normalerweise', 7), ('stuhl', 15), ('glas', 17), ('hundewelpen', 1), ('gehaltserhöhung', 5), ('gerechtigkeit', 3), ('popcorn', 6), ('rache', 10), ('ventilator', 4), ('spielen', 82), ('kündigen', 8), ('heimweh', 13), ('urlaub', 14), ('vergiftet', 11), ('gefoltert', 3), ('angeheuert', 1), ('brillenträger', 3), ('trage', 8), ('brille', 36), ('anzeigen', 1), ('wiederkommen', 6), ('geschrieben', 39), ('mitbringen', 3), ('tragen', 13), ('runterkommen', 1), ('rüber', 5), ('hinfahren', 1), ('schimpfen', 1), ('erschießen', 2), ('unterrichten', 3), ('danken', 17), ('einladen', 5), ('versuche', 21), ('anstrengen', 1), ('tante', 4), ('anfängerin', 1), ('anfänger', 3), ('botaniker', 1), ('botanikerin', 1), ('diabetikerin', 1), ('freier', 4), ('musiker', 4), ('musikerin', 1), ('netter', 8), ('pazifist', 1), ('pazifistin', 1), ('strafgefangener', 2), ('strafgefangene', 1), ('gefangener', 6), ('gefangene', 8), ('reicher', 5), ('verkäufer', 3), ('handelsvertreter', 1), ('vertreter', 1), ('teenager', 2), ('leider', 1), ('atheist', 4), ('offizier', 2), ('polizist', 14), ('todmüde', 1), ('zerstört', 13), ('weitsichtig', 1), ('fasziniert', 7), ('amüsiere', 1), ('analphabet', 3), ('analphabetin', 2), ('eilig', 12), ('schwierigkeiten', 25), ('bereite', 1), ('meditiere', 2), ('aufgibt', 1), ('dummkopf', 7), ('ferien', 6), ('optimistisch', 4), ('optimist', 6), ('übergewicht', 1), ('überarbeitet', 6), ('ziemlich', 90), ('aufgeregt', 23), ('älteste', 4), ('30', 10), ('arbeitslos', 6), ('untalentiert', 4), ('talent', 11), ('aufgebracht', 10), ('eintopf', 2), ('ruhestand', 11), ('lächelt', 6), ('möchten', 21), ('wert', 24), ('bär', 2), ('wink', 1), ('becher', 1), ('gebühr', 1), ('sinn', 16), ('klingt', 37), ('lecker', 7), ('absicht', 10), ('verkauf', 5), ('schneite', 2), ('unserer', 8), ('bestens', 3), ('weihnachten', 14), ('mittwoch', 1), ('abgemacht', 2), ('klassiker', 1), ('neuer', 7), ('versprechen', 26), ('bewundernswert', 1), ('überfall', 1), ('hinterhalt', 1), ('beleidigung', 1), ('brandneu', 1), ('nagelneu', 2), ('köstlich', 13), ('anderes', 12), ('inkorrekt', 1), ('3', 2), ('sinnlos', 3), ('überflüssig', 1), ('hauptverkehrszeit', 1), ('hauptgeschäftszeit', 1), ('stoßzeit', 1), ('riskant', 2), ('entscheidung', 41), ('geschieht', 7), ('wohnung', 6), ('zug', 31), ('entschuldige', 15), ('entschuldigt', 9), ('laufenden', 6), ('überlasse', 8), ('überlasst', 3), ('überlassen', 4), ('knaben', 1), ('üben', 6), ('viele', 61), ('starben', 5), ('blond', 6), ('ob', 11), ('vorangehen', 1), ('anschließen', 2), ('dazusetzen', 1), ('hinsetzen', 5), ('habgierig', 1), ('doofköpfe', 1), ('schlicht', 2), ('brust', 3), ('gelenke', 1), ('»tom«', 1), ('name', 26), ('platten', 7), ('handgelenk', 1), ('brüllte', 2), ('kenntnis', 2), ('gesetzt', 6), ('wirds', 6), ('erfahren', 12), ('begreifst', 1), ('begreift', 1), ('begreifen', 1), ('schmoll', 1), ('türen', 13), ('zeug', 7), ('melodie', 2), ('entferne', 1), ('weitergehen', 3), ('unterlassen', 2), ('preise', 11), ('gestiegen', 7), ('heran', 4), ('platz', 45), ('wissenschaft', 2), ('robben', 2), ('ernähren', 2), ('bestellen', 4), ('hinreißend', 4), ('schwärmt', 1), ('verehrt', 2), ('erwürgt', 3), ('genarrt', 1), ('krankenpflegerin', 1), ('unbeholfen', 2), ('wild', 4), ('spielt', 51), ('bach', 1), ('ärgerte', 3), ('tippt', 1), ('schwanger', 5), ('schädlich', 2), ('tratschen', 5), ('murren', 1), ('schnüffeln', 1), ('pfeifen', 9), ('sommer', 20), ('vorüber', 5), ('foto', 14), ('rat', 25), ('erzähle', 5), ('sprache', 6), ('boot', 13), ('erfordert', 3), ('ideal', 2), ('zauberhaft', 1), ('fix', 4), ('wären', 5), ('verbrechen', 10), ('selbstverständlichkeit', 2), ('turm', 4), ('huhn', 7), ('korrekt', 6), ('offensichtlich', 14), ('quatsch', 11), ('illegal', 5), ('logisch', 4), ('satz', 3), ('plastik', 2), ('unsinn', 7), ('unverschämt', 4), ('lautet', 18), ('typisch', 1), ('bellte', 1), ('preis', 22), ('stieg', 20), ('dach', 6), ('leckt', 4), ('abgefahren', 6), ('haken', 3), ('applaudierten', 2), ('spendeten', 2), ('hassten', 3), ('konnten', 8), ('gestritten', 2), ('ruinierten', 1), ('riechen', 8), ('erreicht', 6), ('tüchtig', 3), ('defekt', 3), ('idioten', 5), ('trost', 1), ('überleg', 4), ('denkt', 13), ('denken', 22), ('überlegen', 5), ('überlegt', 6), ('positiv', 4), ('ärgert', 2), ('beißt', 7), ('bissiger', 1), ('löwe', 7), ('test', 8), ('haarsträubend', 1), ('aufzustehen', 4), ('wird’s', 1), ('näherte', 3), ('wich', 5), ('zusammengeschlagen', 1), ('radelte', 1), ('zusammengebrochen', 2), ('notruf', 1), ('beklagt', 2), ('beklagte', 1), ('beschwert', 6), ('unterbrochen', 1), ('112', 1), ('65', 2), ('zeichnet', 1), ('grub', 2), ('loch', 11), ('gegraben', 1), ('mühelos', 1), ('fühlt', 15), ('benommen', 10), ('anruf', 5), ('geschnappt', 6), ('dicker', 1), ('gehackt', 1), ('getötet', 19), ('überfallen', 5), ('züchtete', 1), ('rosen', 7), ('baut', 3), ('ford', 4), ('dr', 1), ('phil', 1), ('asthma', 1), ('skorbut', 1), ('ratten', 3), ('reh', 1), ('beachtete', 1), ('schritt', 7), ('eingeschritten', 2), ('radfahrer', 1), ('motorradfahrer', 1), ('trinker', 2), ('zwerg', 1), ('wächter', 1), ('wachmann', 2), ('verlierer', 4), ('bergmann', 2), ('minenarbeiter', 1), ('minderjährig', 5), ('pilot', 3), ('rabbi', 1), ('amüsant', 5), ('schämt', 2), ('durchschnittlich', 1), ('ungelenk', 1), ('gefühllos', 1), ('vielschichtig', 1), ('zynisch', 1), ('hinterhältig', 4), ('hingebungsvoll', 2), ('angezogen', 11), ('fragwürdig', 1), ('staubt', 1), ('fällt', 12), ('konzentriert', 4), ('verzweifelt', 10), ('durchgedreht', 3), ('schnappt', 1), ('griesgram', 1), ('hilfreich', 8), ('abscheulich', 1), ('geschichte', 59), ('intensiv', 2), ('sympathisch', 6), ('liebenswert', 3), ('geizig', 3), ('idol', 1), ('ungezogen', 2), ('neutral', 1), ('nickt', 1), ('obszön', 1), ('dienst', 7), ('keucht', 2), ('freut', 8), ('präzise', 1), ('anwesend', 7), ('übersinnlich', 1), ('radikal', 1), ('egoistisch', 7), ('zittert', 3), ('oberflächlich', 1), ('ähnlich', 6), ('sitzt', 9), ('klüger', 2), ('schluchzt', 1), ('besonderes', 3), ('verwöhnt', 3), ('vollgegessen', 1), ('taktvoll', 1), ('neckisch', 1), ('derjenige', 7), ('berührt', 2), ('unbeeindruckt', 4), ('unbewegt', 1), ('bösartig', 1), ('jammert', 1), ('willig', 1), ('gähnt', 1), ('unversehrt', 2), ('gepflegt', 4), ('gescheit', 3), ('wache', 6), ('nieder', 16), ('besten', 6), ('pistolen', 1), ('nüsse', 3), ('thunfisch', 3), ('wohnt', 50), ('bleich', 6), ('überblick', 1), ('lärm', 10), ('geführt', 6), ('weggezogen', 1), ('gebraucht', 11), ('besitzt', 12), ('bewusstlos', 9), ('gezwickt', 1), ('innen', 3), ('erinnerte', 5), ('umgeschrieben', 1), ('grüßen', 4), ('lässt', 24), ('schien', 68), ('scheint’s', 1), ('anscheinend', 1), ('netten', 1), ('zweimal', 13), ('sollte', 96), ('verschlief', 1), ('gerochen', 3), ('gestochen', 3), ('gestartet', 1), ('tatenlos', 1), ('hintergrund', 1), ('gestoppt', 2), ('zurückgehalten', 1), ('notizen', 10), ('risiken', 4), ('hinters', 2), ('licht', 20), ('abwesend', 2), ('heulte', 3), ('flennte', 1), ('sanft', 4), ('mürrisch', 1), ('umgebracht', 21), ('zweiter', 5), ('nähen', 3), ('nähte', 1), ('skifahren', 5), ('spießer', 1), ('empfindlich', 3), ('zustimmen', 21), ('beißen', 4), ('verhandeln', 3), ('eifrig', 5), ('verbessern', 3), ('blutet', 10), ('bezaubernd', 5), ('gelaunt', 7), ('furchtlos', 6), ('trauert', 2), ('grinsen', 2), ('harmlos', 4), ('lacht', 12), ('zögert', 5), ('mittellos', 3), ('boss', 3), ('labil', 2), ('bauchgefühl', 2), ('bauch', 7), ('süßigkeit', 1), ('soße', 3), ('charme', 2), ('wasch', 5), ('wasche', 3), ('straße', 22), ('passen', 8), ('ewig', 8), ('zogen', 1), ('vermählt', 2), ('mordsspaß', 2), ('streit', 4), ('mussten', 6), ('anhalten', 5), ('bauernhof', 3), ('gäste', 3), ('helden', 1), ('brauchten', 4), ('respektieren', 4), ('kapitulierten', 1), ('ausgetrickst', 2), ('vertrauten', 3), ('meldeten', 1), ('schi', 2), ('sternhagelvoll', 1), ('hätten', 9), ('begraben', 5), ('herausbekommen', 20), ('anmalen', 1), ('aufhalten', 54), ('brüder', 19), ('entschlossen', 11), ('genies', 2), ('hilflos', 6), ('fürchterlich', 5), ('partner', 5), ('studenten', 15), ('land', 22), ('gedanke', 4), ('welcher', 14), ('wofür', 14), ('passieren', 13), ('nützt', 3), ('geldautomaten', 2), ('trinkgeld', 6), ('weggenommen', 6), ('weggeräumt', 4), ('entfernt', 5), ('beseitigt', 4), ('verletzen', 7), ('beisammen', 1), ('werdet', 30), ('wisch', 1), ('wischen', 1), ('könntest', 25), ('führung', 4), ('könnten', 36), ('könntet', 13), ('widerst', 2), ('widern', 1), ('schmeichelst', 2), ('lernst', 9), ('verstört', 2), ('würden', 13), ('würdet', 8), ('schaffst', 4), ('feiges', 1), ('summst', 2), ('fit', 3), ('größte', 7), ('nichtsnutze', 1), ('gewinnst', 2), ('deines', 5), ('schlechter', 51), ('deiner', 38), ('eurer', 8), ('drei', 82), ('fünfzehn', 1), ('kenterte', 1), ('langweile', 8), ('getränke', 2), ('rote', 18), ('vorbereitet', 10), ('geist', 5), ('neidisch', 8), ('guckst', 2), ('rentner', 1), ('lächelst', 2), ('arbeitest', 19), ('stattdessen', 1), ('bälle', 1), ('rund', 2), ('bienen', 4), ('honig', 3), ('benehmt', 2), ('benehmen', 4), ('doof', 5), ('bürste', 3), ('ehemann', 8), ('tüte', 3), ('anschaffen', 1), ('beteiligen', 1), ('danach', 9), ('aufmachen', 6), ('auslassen', 3), ('dus', 2), ('kartons', 2), ('klatsche', 2), ('räum', 8), ('klapp', 1), ('hol’s', 1), ('besuchen', 24), ('nachhause', 8), ('wenn', 58), ('grunde', 2), ('zählt', 6), ('krähen', 3), ('zugestimmt', 9), ('gefahren', 15), ('protestiert', 1), ('reagiert', 3), ('fallenlassen', 9), ('gemundet', 1), ('liebtest', 2), ('meintest', 1), ('meinten', 2), ('grabe', 2), ('tiefes', 1), ('krawatte', 15), ('rap', 1), ('erinnerst', 10), ('glaubst', 13), ('glaubt', 34), ('vertraust', 2), ('möchtest', 32), ('möchtet', 8), ('snob', 2), ('knausrig', 1), ('hinterher', 10), ('flipp', 1), ('betrink', 1), ('zuleide', 7), ('beleidigen', 1), ('beleidige', 2), ('unterbrich', 1), ('lüg', 4), ('daneben', 9), ('übertreib’s', 1), ('parken', 13), ('widersetze', 1), ('streu', 1), ('wunde', 4), ('erschieße', 1), ('necke', 1), ('vertrau', 3), ('schaf', 1), ('taschen', 9), ('sichs', 1), ('schöne', 24), ('träumt', 6), ('beteten', 1), ('diesem', 16), ('fahrt', 5), ('frösche', 3), ('werkzeugkiste', 1), ('rasen', 10), ('sachen', 23), ('gönne', 5), ('gönnen', 3), ('gönnt', 1), ('mitleid', 9), ('fackelt', 1), ('begann', 33), ('hintergangen', 4), ('morgengrauen', 3), ('erfüllte', 1), ('holte', 5), ('strebsam', 1), ('kamera', 19), ('schlechte', 37), ('reizt', 2), ('äthiopier', 1), ('unmöglicher', 1), ('träumer', 3), ('maler', 3), ('medium', 1), ('übersinnliche', 2), ('geisteskräfte', 1), ('kräfte', 1), ('schlauer', 5), ('unverheiratet', 9), ('fußball', 25), ('fußballfreund', 2), ('erwähnt', 7), ('wirkt', 11), ('vertreibt', 1), ('radios', 1), ('whisky', 1), ('starrte', 9), ('lernte', 5), ('fleißig', 22), ('zugewinkt', 1), ('wellenreiten', 2), ('surfen', 5), ('komödiant', 1), ('studentenverbindung', 1), ('verbindungsstudent', 1), ('gärtner', 3), ('linkshänder', 3), ('unsozial', 1), ('bekommt', 13), ('bruder', 63), ('vierzig', 8), ('querschnittsgelähmt', 1), ('fotogen', 3), ('helium', 1), ('hellte', 3), ('heiterer', 1), ('album', 3), ('he', 12), ('ausweis', 3), ('getürkt', 1), ('hisst', 1), ('segel', 1), ('kerze', 12), ('1245\\xa0uhr', 1), ('dreiviertel', 2), ('1245', 1), ('gewagt', 1), ('fühlen', 13), ('fühlst', 12), ('woher', 22), ('interessant', 15), ('gekostet', 8), ('enden', 2), ('verabscheue', 3), ('totmüde', 1), ('einzudösen', 1), ('spanien', 2), ('tokio', 7), ('eile', 13), ('sitze', 1), ('patsche', 3), ('sprachlos', 5), ('entkleide', 1), ('schätzen', 6), ('orange', 5), ('apfelsine', 4), ('zunge', 5), ('reserviert', 8), ('gerülpst', 1), ('leisten', 22), ('rauch', 7), ('verleugnen', 1), ('zurückkehren', 4), ('riskieren', 4), ('ungeschehen', 1), ('beriet', 1), ('kontaktiert', 4), ('heruntergeladen', 3), ('tode', 2), ('schippe', 1), ('fiebrig', 2), ('erleichtert', 8), ('genauso', 13), ('isoliert', 2), ('übergangen', 1), ('außen', 1), ('gefühlt', 2), ('300', 3), ('jedes', 18), ('antwort', 48), ('erhalten', 6), ('beerdigungen', 1), ('hausaufgaben', 14), ('politik', 3), ('waschbären', 2), ('reptilien', 1), ('kriechtiere', 1), ('einzukaufen', 4), ('kälte', 6), ('diesen', 81), ('teppich', 4), ('furchtbar', 17), ('hochzeiten', 2), ('esel', 1), ('laptop', 3), ('schwester', 50), ('theorie', 10), ('trockene', 2), ('haut', 11), ('10', 3), ('trommel', 2), ('geräusch', 12), ('ellbogen', 2), ('eingezogen', 2), ('geduscht', 4), ('grad', 2), ('gespieben', 1), ('andauernd', 3), ('niesen', 4), ('namen', 47), ('typen', 3), ('gegend', 5), ('gelernt', 22), ('raum', 16), ('baseball', 8), ('cartoons', 1), ('zeichentrickfilme', 1), ('auberginen', 1), ('kartoffeln', 7), ('rotwein', 6), ('lache', 6), ('feiere', 3), ('interesse', 2), ('broccoli', 1), ('komödien', 1), ('western', 1), ('zufügen', 2), ('böses', 8), ('wiedergesehen', 5), ('eventuell', 2), ('eingeschätzt', 3), ('armee', 6), ('verstand', 13), ('beine', 23), ('unbedingt', 3), ('internet', 3), ('brauch', 4), ('eimer', 5), ('leiter', 5), ('taschentuch', 2), ('koffein', 4), ('konzentrieren', 6), ('rasieren', 6), ('niemals', 30), ('treffe', 4), ('bestellt', 17), ('rechnungen', 2), ('spielte', 16), ('gitarre', 25), ('gespielt', 7), ('bevorzuge', 1), ('aufgesetzt', 2), ('brief', 38), ('ausgelesen', 1), ('empfehle', 1), ('geahnt', 2), ('ahnte', 1), ('film', 30), ('giraffe', 1), ('muster', 2), ('schüttelte', 4), ('ganzen', 30), ('roch', 6), ('speck', 4), ('schwedisch', 2), ('unterstützte', 2), ('vitamine', 3), ('redete', 8), ('geredet', 13), ('duschbad', 1), ('duschte', 1), ('gestimmt', 8), ('dasselbe', 4), ('gleiche', 8), ('zuschauen', 1), ('zeuge', 2), ('geboren', 33), ('entsetzt', 8), ('gedemütigt', 6), ('skeptisch', 5), ('wünschte', 32), ('gingest', 1), ('dauern', 14), ('abstreiten', 11), ('nachgeben', 3), ('einlenken', 1), ('notiert', 1), ('aufgeschrieben', 2), ('gabel', 7), ('limonade', 2), ('ausprobieren', 4), ('bliebe', 1), ('umhören', 1), ('pünktlich', 14), ('verteidigen', 3), ('begleite', 1), ('informieren', 1), ('nachschlagen', 3), ('erwähnen', 1), ('benachrichtigen', 3), ('bestelle', 5), ('kooperieren', 5), ('mitarbeiten', 2), ('jackson', 1), ('gast', 2), ('nichte', 3), ('rivale', 2), ('tvsüchtig', 1), ('fernsehsüchtig', 1), ('zimmermann', 4), ('schreiner', 1), ('tischler', 2), ('chauffeur', 2), ('stadtmädchen', 1), ('kommunistin', 1), ('detektiv', 3), ('schütze', 3), ('glücklicher', 9), ('hausfrau', 2), ('masochist', 1), ('nachteule', 2), ('nachtmensch', 2), ('nachtschwärmer', 2), ('professor', 4), ('professorin', 3), ('risikofreudig', 1), ('abenteuerlustig', 2), ('sternzeichen', 1), ('wassermann', 1), ('ingenieur', 3), ('optimistin', 1), ('flehe', 4), ('langerweile', 3), ('farbenblind', 3), ('farbenfehlsichtig', 1), ('verstopfung', 1), ('kooperiere', 1), ('tagträumen', 1), ('beschämt', 6), ('altere', 1), ('eigener', 3), ('kurzsichtig', 1), ('bereich', 2), ('schlitzohr', 1), ('diebin', 1), ('streite', 5), ('todernst', 3), ('schreie', 1), ('beharrlich', 8), ('ersetzbar', 4), ('spontan', 2), ('copilot', 1), ('peinlich', 5), ('großen', 32), ('gucke', 2), ('kellner', 2), ('genossen', 10), ('faxen', 1), ('dicke', 4), ('reicht’s', 1), ('autistisch', 2), ('plappert', 1), ('blufft', 2), ('kämpft', 4), ('gutaussehend', 6), ('infiziert', 1), ('atmet', 7), ('giftig', 3), ('versalzen', 4), ('ärztin', 7), ('zebra', 1), ('erlaubt', 7), ('café', 1), ('fluss', 11), ('fluß', 1), ('ethisch', 1), ('freitag', 5), ('umgehauen', 1), ('kaputtgegangen', 1), ('notwendig', 6), ('billig', 17), ('eigenartig', 3), ('erscheinen', 1), ('klang', 12), ('schmeckte', 4), ('süßen', 5), ('geschmack', 3), ('herrschte', 2), ('frost', 2), ('schmerzlos', 1), ('gelohnt', 1), ('rolle', 8), ('spaßig', 2), ('ne', 1), ('arge', 1), ('sackgasse', 1), ('schöner', 17), ('fasan', 1), ('abkürzung', 5), ('überraschung', 6), ('akzeptabel', 2), ('annehmbar', 3), ('frisch', 7), ('spottbillig', 1), ('verdientes', 1), ('schönes', 20), ('wetter', 8), ('unpassend', 1), ('irrelevant', 2), ('belanglos', 2), ('belang', 2), ('bloß', 24), ('zauberei', 1), ('irreführend', 1), ('bombe', 1), ('langt', 1), ('lächerlich', 14), ('erschreckend', 4), ('verpack', 3), ('übe', 1), ('übt', 1), ('rest', 3), ('wechselgeld', 5), ('bewahren', 6), ('knete', 1), ('teig', 1), ('blei', 3), ('metall', 2), ('hinterlasse', 1), ('nachricht', 39), ('hinterlassen', 6), ('verlasst', 1), ('zitronen', 1), ('vortritt', 1), ('saufen', 1), ('betrinken', 3), ('gießen', 1), ('improvisieren', 1), ('zuckerschlecken', 1), ('ponyhof', 1), ('betrachte', 4), ('himmel', 18), ('serviert', 6), ('entscheide', 1), ('verkleinere', 1), ('kleiner', 10), ('verwitwet', 1), ('anprobieren', 4), ('unvermeidlich', 5), ('benötigt', 3), ('jeans', 4), ('eingelaufen', 2), ('schuhe', 58), ('quietschen', 2), ('anzug', 12), ('grau', 5), ('„nie“', 1), ('angenehm', 5), ('erfreut', 15), ('freue', 25), ('erkennen', 2), ('ändert', 4), ('oktober', 13), ('flasche', 8), ('fenster', 57), ('aufgegangen', 5), ('streiche', 2), ('zaun', 3), ('feiern', 8), ('stift', 21), ('schäl', 2), ('hierhin', 6), ('drücke', 2), ('druckknopf', 1), ('setze', 4), ('puzzlespielen', 1), ('zurückweisung', 1), ('donut', 1), ('drogen', 2), ('naturwissenschaften', 1), ('sichere', 2), ('worauf', 9), ('hinauswill', 1), ('230', 21), ('schicke', 1), ('haie', 1), ('vergab', 1), ('hübsche', 7), ('botengänge', 1), ('sängerin', 5), ('sturkopf', 1), ('wählerisch', 10), ('gekniffen', 2), ('ohrfeigte', 3), ('ohrfeige', 3), ('erstach', 1), ('erstochen', 3), ('führte', 10), ('fesselte', 1), ('gefesselt', 1), ('aufgeweckt', 4), ('weiße', 8), ('zeigt', 5), ('durchsetzungsvermögen', 1), ('17', 2), ('langgeht', 2), ('karten', 11), ('aufrecht', 1), ('spanisch', 1), ('buchstabieren', 2), ('stiehl', 1), ('unterlasse', 3), ('wimmern', 1), ('aspirin', 6), ('tabletten', 3), ('geschichtchen', 1), ('offen', 26), ('freiheraus', 1), ('kostete', 2), ('glatt', 3), ('pagode', 1), ('betrug', 1), ('kindisch', 5), ('bezweifeln', 2), ('zweifelhaft', 2), ('gewiss', 2), ('kleid', 27), ('zeugs', 1), ('gestern', 61), ('persönlich', 6), ('hase', 6), ('pfeffer', 5), ('feucht', 5), ('voll', 24), ('knurrte', 4), ('erstarb', 1), ('stank', 3), ('see', 15), ('blätter', 3), ('erötete', 1), ('mond', 7), ('bezahlung', 6), ('strom', 2), ('meer', 10), ('soldat', 5), ('brunnen', 9), ('trocken', 4), ('wind', 15), ('keinerlei', 1), ('seife', 8), ('redeten', 2), ('melonen', 2), ('piloten', 1), ('verdienen', 10), ('scheren', 1), ('fuhren', 6), ('ignorierten', 3), ('wohnen', 21), ('vermissten', 1), ('fehlte', 1), ('verkaufen', 16), ('besuchten', 1), ('dreckig', 11), ('lagen', 1), ('denen', 6), ('russen', 2), ('streiten', 6), ('vettern', 3), ('praktikanten', 1), ('assistenzärzte', 1), ('größten', 3), ('hotel', 11), ('pfirsich', 1), ('schreibtisch', 21), ('schicksal', 10), ('stumpfsinnig', 1), ('unnütz', 1), ('neuigkeit', 2), ('jene', 4), ('zeiten', 3), ('jedem', 3), ('beschleunigte', 2), ('beschleunigt', 1), ('handelte', 5), ('benahm', 6), ('betrunkener', 1), ('verängstigt', 9), ('dazugegeben', 1), ('zugegeben', 3), ('ums', 7), ('genehmigt', 1), ('angegriffen', 7), ('backte', 3), ('stumm', 2), ('lippe', 1), ('malen', 3), ('verursacht', 4), ('verfolgte', 4), ('ausgecheckt', 1), ('leistete', 4), ('beitrag', 9), ('geleistet', 13), ('hinterging', 1), ('bestritten', 2), ('entworfen', 3), ('gejagt', 1), ('bestanden', 18), ('rührte', 3), ('ekelt', 1), ('duckte', 1), ('genießt', 5), ('übertrieb', 1), ('übertreibt', 1), ('fütterte', 7), ('verstummte', 2), ('unbehaglich', 3), ('ungutes', 1), ('gefühl', 8), ('narren', 2), ('wehrte', 1), ('gekämpft', 3), ('flippte', 2), ('geärgert', 3), ('geändert', 17), ('erregt', 3), ('panisch', 1), ('messer', 33), ('gesellschaft', 11), ('husten', 11), ('buckel', 2), ('gewisser', 5), ('hicks', 1), ('ausgesorgt', 1), ('mehrere', 2), ('möglichkeiten', 2), ('kaninchen', 9), ('geheimnisse', 11), ('durchhaltevermögen', 2), ('oper', 2), ('vorschriften', 3), ('inspiriert', 2), ('barbier', 1), ('einsiedler', 2), ('eremit', 1), ('legende', 1), ('verrückter', 6), ('pirat', 1), ('töpfer', 1), ('priester', 2), ('prinz', 3), ('wahnsinniger', 2), ('rassist', 3), ('rapper', 1), ('einsteiger', 1), ('seemann', 4), ('senior', 1), ('sänger', 8), ('raucher', 4), ('wellenreiter', 1), ('schneider', 1), ('komischer', 3), ('kauz', 1), ('schräger', 1), ('agnostisch', 1), ('magersüchtig', 1), ('athletisch', 5), ('barfuß', 3), ('sorglos', 2), ('charmant', 3), ('fröhlich', 5), ('ahnungslos', 2), ('hustet', 1), ('glaubwürdig', 4), ('kultiviert', 1), ('ausschlaggebend', 2), ('geistesgestört', 1), ('untreu', 2), ('umständen', 1), ('entsprechend', 1), ('unschlüssig', 1), ('durchnässt', 1), ('ertrinkt', 2), ('begeistert', 15), ('gebildet', 1), ('beredt', 1), ('überzeugend', 2), ('flieht', 1), ('ausgehungert', 1), ('flexibel', 5), ('kraftvoll', 1), ('großzügig', 9), ('kichert', 1), ('grinst', 1), ('stöhnt', 1), ('beinen', 1), ('heimwehkrank', 1), ('hoffnungsloser', 6), ('humorvoll', 1), ('unreif', 2), ('unbeweglich', 2), ('schock', 8), ('unsicher', 10), ('involviert', 2), ('kniet', 2), ('klopft', 1), ('verwaltet', 1), ('barmherzig', 1), ('feind', 26), ('neurotisch', 1), ('gehorsam', 2), ('empört', 4), ('pervers', 1), ('rational', 1), ('rücksichtslos', 6), ('reformiert', 1), ('rastlos', 1), ('verrichtet', 2), ('einkäufe', 1), ('einkaufen', 9), ('angewidert', 4), ('unruhig', 4), ('übermütig', 1), ('aufgekratzt', 1), ('niest', 1), ('kontaktfreudig', 2), ('temperamentvoll', 1), ('verhungert', 4), ('starrköpfig', 2), ('selbstmordgefährdet', 2), ('schwitzt', 2), ('taktlos', 1), ('talentiert', 5), ('endstadium', 1), ('kitzelig', 1), ('unermüdlich', 1), ('beunruhigt', 7), ('unvoreingenommen', 3), ('entnervt', 1), ('verschwender', 4), ('verschwenderisch', 4), ('rechthaberisch', 5), ('kleinlich', 1), ('smart', 1), ('taff', 2), ('sprang', 9), ('erschien', 3), ('freilassung', 1), ('kaution', 1), ('gerichtsverhandlung', 1), ('guckte', 2), ('weitergegessen', 1), ('weiterbewegt', 1), ('weiterversucht', 1), ('tötete', 3), ('beugte', 3), ('stich', 8), ('blues', 1), ('salsa', 1), ('zündete', 6), ('streichholz', 2), ('lebte', 6), ('gewohnt', 11), ('kaltem', 1), ('blick', 11), ('verfroren', 1), ('flott', 1), ('festgefahren', 1), ('angespannt', 5), ('abgenommen', 16), ('chili', 1), ('supergerne', 1), ('aussagen', 1), ('möglicherweise', 11), ('vermisste', 2), ('außerhalb', 3), ('überreagiert', 2), ('verschied', 1), ('rugby', 2), ('aufgenommen', 3), ('erschreckt', 9), ('toller', 6), ('bereitwillig', 2), ('stoisch', 1), ('bären', 4), ('tenor', 1), ('schlückchen', 2), ('bremste', 2), ('stach', 3), ('bewahrte', 2), ('ergeben', 2), ('bad', 12), ('badete', 2), ('fotos', 9), ('dressiert', 1), ('erneut', 16), ('wandte', 4), ('warnte', 1), ('beleidigend', 2), ('unnachgiebig', 1), ('alarmiert', 2), ('geblendet', 1), ('gemobbt', 1), ('niedergeschmettert', 2), ('trotzig', 1), ('bedenken', 2), ('betagt', 1), ('ausweichend', 1), ('nachsichtig', 1), ('unartig', 2), ('keuchte', 1), ('schluchzte', 1), ('niedergestochen', 1), ('taser', 1), ('beschossen', 1), ('begleitete', 1), ('fliehen', 4), ('empfängt', 1), ('benützen', 1), ('medaille', 1), ('einwendungen', 1), ('rühren', 6), ('handschuhe', 10), ('herausfinden', 6), ('charmeur', 2), ('experte', 2), ('sank', 1), ('gesunken', 1), ('genial', 2), ('saukomisch', 1), ('verantwortlich', 9), ('cousin', 13), ('neffe', 5), ('abstoßend', 1), ('aufzuhalten', 5), ('gähnen', 3), ('schaltet', 2), ('schalten', 3), ('wände', 1), ('hintrittst', 1), ('wohin', 27), ('zehen', 6), ('verhafteten', 2), ('verhaftet', 8), ('nennen', 11), ('nahmen', 6), ('machten', 6), ('erklärten', 1), ('rohen', 3), ('umgezogen', 3), ('picknicks', 1), ('brachten', 5), ('waffeln', 1), ('fachleute', 1), ('duschten', 1), ('zurückhaben', 1), ('wiederhaben', 10), ('lager', 1), ('aufschlagen', 2), ('kampieren', 1), ('kooperativ', 1), ('hinkommen', 1), ('angler', 1), ('stammen', 1), ('nachbarn', 6), ('optimisten', 1), ('verwandte', 1), ('getrennt', 4), ('seelenverwandt', 2), ('hattest', 8), ('gefürchtet', 1), ('riesiger', 1), ('schlips', 3), ('grober', 1), ('verpasst', 26), ('sagst', 18), ('motivation', 2), ('wieviel', 1), ('darin', 15), ('schiefgelaufen', 2), ('worum', 4), ('gewinn', 1), ('kumpel', 2), ('beruflich', 2), ('kamm', 3), ('ruder', 1), ('zoo', 6), ('beiträge', 6), ('beschimpft', 1), ('ergab', 1), ('weshalb', 5), ('fragten', 1), ('erholen', 3), ('wärest', 2), ('betreffende', 1), ('versteckst', 2), ('wusstest', 6), ('wusstet', 3), ('wisst', 20), ('leidtun', 3), ('dahinter', 3), ('schönheit', 3), ('sexist', 1), ('störst', 1), ('nervst', 2), ('enervierend', 1), ('überheblich', 3), ('blutest', 4), ('bluten', 3), ('täuschst', 2), ('betrügst', 1), ('schummelst', 1), ('träumst', 3), ('partnerin', 1), ('bemitleidenswert', 1), ('spielst', 7), ('abgelaufen', 2), ('weniger', 4), ('8', 1), ('bellt', 3), ('des', 21), ('wegs', 1), ('sicherung', 1), ('durchgebrannt', 1), ('unsichtbar', 1), ('ans', 7), ('telefon', 37), ('katholisch', 2), ('zauberer', 3), ('sportlich', 3), ('errötest', 1), ('erröten', 2), ('errötet', 2), ('trinkst', 13), ('studierst', 7), ('irgendwas', 8), ('seinem', 23), ('interessierts', 1), ('atlantis', 2), ('achtung', 6), ('aufpassen', 2), ('flexibler', 3), ('flügel', 1), ('zügele', 1), ('atme', 2), ('atmen', 10), ('putzt', 1), ('zähne', 14), ('putzen', 3), ('zwinge', 5), ('bekennen', 2), ('fordere', 2), ('irgendwann', 2), ('leihen', 6), ('irgendjemand', 4), ('erlauben', 8), ('bestellung', 5), ('kirschen', 1), ('bedacht', 2), ('unterricht', 9), ('spiegel', 5), ('schließt', 5), ('sag’s', 3), ('konzentriere', 2), ('graben', 8), ('grabt', 1), ('beherrsche', 2), ('reiss', 1), ('reiß', 3), ('riemen', 2), ('überquere', 1), ('normales', 3), ('gedrängt', 1), ('angefasst', 5), ('gebellt', 1), ('jemals', 7), ('je', 14), ('kanntest', 5), ('aufgehalten', 7), ('etwa', 15), ('wollt', 26), ('weinst', 4), ('lehnst', 1), ('pasta', 2), ('ruhst', 1), ('mögt', 16), ('tōfu', 1), ('wohnst', 7), ('lebst', 7), ('besitzen', 2), ('solch', 3), ('unbesorgt', 1), ('störe', 3), ('täusche', 3), ('täuschen', 8), ('täuscht', 3), ('stör', 1), ('erwischen', 5), ('rase', 1), ('belästige', 1), ('weitermachst', 1), ('lärme', 2), ('treib', 2), ('spielchen', 1), ('bescheiß', 1), ('sprecht', 8), ('verpetz', 1), ('verpetzt', 6), ('verpetzen', 1), ('linie', 7), ('erfüllung', 1), ('saft', 9), ('eiweis', 1), ('sprangen', 1), ('blieben', 8), ('merkten', 1), ('aufgefallen', 8), ('gemerkt', 5), ('erkläre', 5), ('erklärt', 7), ('füll', 2), ('tank', 2), ('beende', 1), ('befolge', 2), ('welchem', 3), ('weiche', 3), ('getränk', 10), ('schwert', 7), ('treppe', 12), ('schirm', 9), ('zurückgekehrt', 8), ('wunderschönen', 1), ('aufgegessen', 2), ('muffins', 3), ('buk', 7), ('verhalten', 6), ('verstieß', 3), ('gegen', 32), ('fremdgegangen', 1), ('mittags', 1), ('kurzem', 2), ('erfüllt', 4), ('faszinierte', 2), ('rückwärts', 1), ('reparierte', 1), ('flog', 5), ('graues', 2), ('picasso', 1), ('langes', 6), ('verabscheut', 1), ('höflicher', 3), ('bub', 2), ('aggressiv', 6), ('italiener', 1), ('ungesellig', 2), ('vollkommen', 18), ('heimgekommen', 5), ('tagebuch', 13), ('diesbezüglich', 2), ('angelt', 7), ('jagt', 4), ('orangen', 6), ('tierlieb', 1), ('fischt', 4), ('gemalt', 3), ('hisste', 3), ('flagge', 4), ('geschüttelt', 2), ('stunde', 13), ('spielzeug', 6), ('geworfen', 2), ('belog', 4), ('wendete', 1), ('früher', 25), ('alkohol', 10), ('freigesprochen', 4), ('frankreich', 5), ('schlafanzug', 2), ('sonntags', 4), ('gentleman', 8), ('erwachsener', 3), ('historiker', 4), ('geschichtswissenschaftler', 2), ('rettungsschwimmer', 1), ('nichtraucher', 1), ('kluger', 7), ('gespannt', 2), ('senil', 1), ('klasse', 7), ('intelligent', 5), ('knauserig', 2), ('haare', 56), ('brieftasche', 7), ('hieß', 3), ('pferden', 4), ('hüte', 5), ('plädieren', 1), ('sonderbar', 3), ('ungemein', 1), ('seiner', 11), ('verkühlung', 1), ('katarrh', 1), ('gewalt', 8), ('pflichte', 1), ('runtergehauen', 1), ('auswärts', 5), ('ausländer', 3), ('brasilien', 1), ('norwegen', 1), ('brate', 1), ('hexe', 1), ('scheiß', 2), ('schwitzen', 5), ('armbanduhr', 12), ('verbeugte', 3), ('beklagen', 2), ('erreichen', 8), ('erretten', 1), ('behaupten', 2), ('ertragen', 8), ('bunt', 1), ('zurückhalten', 2), ('eingefangen', 3), ('sammle', 3), ('comics', 5), ('gestellt', 14), ('entgegengetreten', 1), ('erwägung', 1), ('gezogen', 6), ('pizzalieferant', 1), ('pizzalieferantin', 1), ('akzeptiere', 6), ('keins', 6), ('fremd', 2), ('keines', 4), ('allesesser', 1), ('prüfung', 21), ('phantastisch', 7), ('gebauchpinselt', 1), ('machtlos', 5), ('beschützt', 1), ('erquickt', 1), ('schmerz', 9), ('mütze', 10), ('beruf', 1), ('6', 2), ('geholt', 1), ('630\\xa0uhr', 5), ('schätze', 11), ('schlimme', 3), ('impfen', 1), ('gründe', 3), ('halloween', 4), ('chemie', 7), ('rechner', 10), ('heuchelei', 1), ('pest', 3), ('granate', 1), ('quittung', 5), ('roller', 1), ('wenige', 8), ('heuschnupfen', 2), ('sodbrennen', 2), ('anweisungen', 4), ('wahl', 23), ('zukunft', 5), ('lungenentzündung', 3), ('stifte', 6), ('video', 5), ('zwanzig', 2), ('home', 2), ('run', 2), ('erzielt', 1), ('erzielte', 2), ('mühsam', 1), ('rechte', 9), ('übung', 4), ('vornamen', 3), ('erlaubte', 2), ('hereinzukommen', 3), ('australien', 23), ('samstage', 1), ('astrologie', 1), ('schokolade', 6), ('elefanten', 2), ('frische', 6), ('frischen', 1), ('roman', 4), ('sprachen', 6), ('popmusik', 1), ('überraschungen', 2), ('strand', 9), ('achte', 3), ('suchte', 9), ('pfund', 3), ('fotoapparat', 10), ('portemonnaie', 8), ('abenteuer', 5), ('astronomie', 1), ('sternenkunde', 1), ('dinosaurier', 4), ('gartenarbeit', 1), ('eiscreme', 2), ('alte', 16), ('afroamerikanische', 1), ('küche', 16), ('„seelennahrung“', 1), ('wald', 4), ('weggeschickt', 2), ('begangen', 3), ('angefertigt', 2), ('kochte', 5), ('spaghetti', 3), ('brechstange', 1), ('brecheisen', 1), ('klempner', 2), ('umschläge', 1), ('neue', 30), ('hose', 15), ('band', 6), ('auge', 17), ('bestellte', 10), ('überlistet', 2), ('computer', 16), ('passte', 1), ('schlagzeug', 3), ('sprit', 2), ('tinte', 6), ('„times“', 1), ('etikett', 1), ('hoffen', 7), ('erkannte', 5), ('erkannt', 8), ('weigerte', 8), ('bereue', 7), ('rieb', 4), ('„bleib', 1), ('zurück“', 1), ('neben', 21), ('heimgehen', 4), ('ausgegeben', 1), ('regelmäßig', 1), ('selbstgespräche', 2), ('besuchte', 8), ('scheidung', 1), ('i', 1), ('martini', 1), ('aufessen', 1), ('frustriert', 2), ('damals', 9), ('erniedrigt', 1), ('kampf', 8), ('siegreich', 2), ('wusch', 8), ('übersetzen', 3), ('bank', 30), ('sonntag', 8), ('freuen', 5), ('hierbleiben', 4), ('bestrafen', 1), ('bestraft', 7), ('allem', 2), ('verzeihen', 10), ('langgehen', 1), ('abnehmen', 5), ('beschützen', 13), ('abwasch', 4), ('fünfundzwanzig', 1), ('fahrer', 8), ('mentor', 2), ('bürger', 1), ('vereinigten', 1), ('staaten', 1), ('groggy', 1), ('journalist', 3), ('langschläfer', 1), ('fotonarr', 1), ('hobbyfotograf', 1), ('alleinerziehende', 3), ('übersetzerin', 2), ('übersetzer', 2), ('verdrossen', 1), ('beidhänderin', 1), ('beidhänder', 2), ('händen', 2), ('gleichermaßen', 1), ('ehemaliger', 2), ('marinesoldat', 1), ('vermeide', 1), ('backe', 2), ('unzufrieden', 8), ('übertreibe', 2), ('amerika', 9), ('high', 2), ('dicht', 1), ('dachboden', 4), ('lobby', 1), ('foyer', 1), ('lade', 5), ('mitglied', 6), ('quicklebendig', 1), ('überdrehe', 1), ('stolz', 24), ('total', 7), ('komplett', 2), ('bankrott', 1), ('pensioniert', 1), ('rechtshänderin', 2), ('gestresst', 3), ('vorurteilsfrei', 1), ('hochzufrieden', 2), ('riesendurst', 1), ('diener', 1), ('schlimmeres', 3), ('ausfindig', 2), ('verfügbar', 2), ('selbstsicher', 1), ('gefährlich', 16), ('erreichbar', 2), ('ansteckend', 3), ('bleistift', 20), ('eignet', 2), ('2231374', 1), ('blume', 2), ('verkäuflich', 2), ('bissig', 2), ('schneien', 15), ('euro', 3), ('interessierte', 1), ('zappenduster', 3), ('stockfinster', 2), ('stockdunkel', 2), ('springt', 9), ('erst', 31), ('bedeutet', 13), ('bedeutung', 1), ('waschen', 12), ('erscheint', 2), ('bestimmt', 25), ('warmer', 2), ('dauert', 6), ('gruppe', 2), ('handy', 2), ('angewohnheit', 1), ('messe', 1), ('traumjob', 2), ('vollmond', 1), ('verrückte', 3), ('sonnenblume', 2), ('sonniger', 1), ('windiger', 1), ('illusion', 1), ('mild', 1), ('bitterkalt', 1), ('klart', 2), ('bequem', 5), ('kompliziert', 13), ('denkbar', 1), ('hergeholt', 1), ('gefroren', 3), ('reine', 1), ('glückssache', 1), ('waschtag', 1), ('droge', 6), ('affenfleisch', 1), ('trick', 3), ('gesetzeswidrig', 1), ('sofa', 6), ('regnerisch', 1), ('bedauerlich', 2), ('deren', 4), ('transparent', 1), ('unnötig', 3), ('bitter', 2), ('klebrig', 1), ('schwül', 1), ('stickig', 2), ('privatvergnügen', 2), ('asien', 2), ('nenn', 4), ('nenne', 2), ('verrichte', 3), ('werk', 1), ('kühlen', 1), ('links', 5), ('verrichten', 10), ('rübergehen', 1), ('„vater', 1), ('kind“', 1), ('poker', 4), ('steck', 1), ('zünde', 3), ('unsterblich', 2), ('senke', 1), ('senken', 1), ('leiser', 13), ('sende', 2), ('triff', 2), ('mars', 3), ('planet', 5), ('wildfang', 1), ('verpasste', 1), ('nachher', 2), ('dose', 3), ('deutsches', 2), ('deutschen', 1), ('flöhe', 1), ('entzündet', 1), ('zuckt', 1), ('goldfisch', 2), ('winzig', 2), ('posteingang', 1), ('langweilige', 2), ('juckt', 5), ('puls', 9), ('socken', 16), ('bauchschmerzen', 4), ('magenschmerzen', 4), ('geldbeutel', 4), ('schlägt', 2), ('kennenzulernen', 4), ('interessieren', 1), ('fleiß', 2), ('schweiß', 3), ('unterrichtete', 2), ('nix', 1), ('stehengeblieben', 4), ('gehorche', 1), ('o', 2), ('behutsam', 5), ('zurücktreten', 3), ('wenden', 3), ('pumpen', 1), ('reifen', 4), ('pump', 1), ('kiste', 20), ('beschweren', 3), ('begrabbeln', 1), ('eher', 4), ('artikel', 5), ('wirklichkeit', 1), ('rom', 5), ('italien', 8), ('griff', 4), ('angelaufen', 1), ('bezwungen', 1), ('bezwang', 1), ('verachtete', 1), ('tuberkulose', 2), ('1960', 3), ('scheiden', 4), ('bmw', 2), ('trockenes', 5), ('vergötterte', 1), ('vergöttert', 1), ('beleidigte', 3), ('pianistin', 1), ('lässig', 1), ('eigensinnig', 3), ('hartnäckig', 2), ('angeschaut', 2), ('abgekommen', 2), ('zurückgewiesen', 1), ('kamel', 3), ('geritten', 1), ('ritt', 1), ('lebewohl', 1), ('angelächelt', 1), ('überraschte', 4), ('befördert', 12), ('wucht', 3), ('häuschen', 1), ('wir’s', 3), ('größe', 7), ('schlangen', 5), ('deswegen', 13), ('verspätung', 6), ('starte', 2), ('meckern', 1), ('unterlass', 2), ('tagträumerei', 1), ('hauen', 3), ('einzumischen', 1), ('anzulügen', 1), ('belügen', 5), ('erschrecken', 1), ('prahlen', 1), ('sekkieren', 1), ('supermann', 1), ('schluck', 4), ('pille', 1), ('vorkehrungen', 1), ('vorsichtsmaßnahmen', 1), ('trefft', 1), ('sicherheitsvorkehrungen', 1), ('jemandem', 19), ('neuigkeiten', 9), ('hingehauen', 2), ('ergibt', 3), ('person', 14), ('duftet', 3), ('ungeschickt', 3), ('vermeiden', 2), ('umgehen', 9), ('überfragt', 1), ('freudige', 1), ('irrsinnig', 1), ('eitles', 1), ('geschwätz', 1), ('unheilbar', 1), ('lachhaft', 2), ('angelegenheit', 6), ('weder', 2), ('punkt', 1), ('ärgerlich', 2), ('schädel', 2), ('zweiundvierzig', 1), ('„nein“', 3), ('batterie', 3), ('vorhang', 3), ('beule', 1), ('riesig', 2), ('gequietscht', 1), ('ziege', 2), ('meckerte', 1), ('löste', 5), ('gilt', 1), ('mikrophon', 2), ('untergegangen', 1), ('party', 14), ('fete', 2), ('beendet', 2), ('vereist', 1), ('rau', 3), ('stürmisch', 1), ('sturm', 11), ('schalter', 2), ('zwillinge', 6), ('woche', 33), ('ertönte', 2), ('verheilte', 1), ('klingel', 3), ('nennt', 11), ('ausgehoben', 1), ('achten', 3), ('entdeckt', 6), ('gedankt', 1), ('verschlossen', 6), ('wiederkehren', 1), ('verfolgen', 3), ('klatschnass', 2), ('verräter', 3), ('knabe', 1), ('839', 2), ('kritisch', 3), ('trainer', 2), ('schwachsinn', 1), ('pathetisch', 3), ('pathos', 2), ('sabotage', 1), ('stoppte', 1), ('ereignen', 3), ('bewundert', 3), ('schlug', 21), ('schluchzen', 1), ('brötchen', 4), ('tagesanbruch', 1), ('hervor', 2), ('angerannt', 2), ('gewechselt', 3), ('eindeutig', 2), ('kletterte', 2), ('konzentrierte', 1), ('berichtigte', 1), ('verbesserte', 1), ('korrigierte', 3), ('erschaffen', 2), ('dekoriert', 1), ('einwände', 2), ('h', 1), ('2009', 1), ('2013', 6), ('gefängnis', 21), ('kleidet', 2), ('weiteten', 1), ('verliebte', 1), ('behandelt', 2), ('verzeiht', 2), ('vergibt', 1), ('briet', 1), ('warf', 11), ('tätowieren', 2), ('erhielt', 3), ('ängstlich', 9), ('aufgewachsen', 8), ('vision', 1), ('ehrgeiz', 7), ('alibi', 5), ('hausdiener', 1), ('geschwür', 1), ('charisma', 1), ('hühner', 2), ('fertiggemacht', 1), ('sommersprossen', 2), ('immunität', 2), ('schlafstörungen', 1), ('leukämie', 1), ('trunkenheit', 1), ('steuer', 4), ('belangt', 1), ('oliven', 2), ('süden', 3), ('sirenen', 3), ('schwarze', 14), ('hoffte', 3), ('summte', 2), ('verletzte', 3), ('beeindruckte', 1), ('marie', 5), ('marys', 8), ('böser', 4), ('hochstapler', 2), ('schlagzeuger', 2), ('schlagzeugspieler', 1), ('faschist', 1), ('turner', 1), ('pianist', 2), ('installateur', 1), ('hellseher', 2), ('realist', 1), ('makler', 1), ('immobilienmakler', 1), ('flüchtling', 1), ('lkwfahrer', 2), ('lastwagenfahrer', 3), ('lasterfahrer', 3), ('jodler', 1), ('anpassungsfähig', 1), ('selbstbewusst', 3), ('abkömmlich', 1), ('bartlos', 1), ('bilingual', 1), ('engagiert', 3), ('verpflichtet', 3), ('kompetent', 4), ('zuvorkommend', 2), ('betrügerisch', 1), ('defensiv', 1), ('delirium', 2), ('anspruchsvoll', 2), ('unehrlich', 1), ('gestört', 2), ('exzentrisch', 1), ('effektiv', 2), ('effizient', 2), ('woanders', 2), ('emotional', 5), ('energisch', 1), ('ausgezeichnet', 3), ('überschwänglich', 2), ('fanatisch', 1), ('tollkühn', 1), ('vergesslich', 10), ('grotesk', 1), ('murrt', 1), ('urkomisch', 3), ('ehrenhaft', 1), ('hitzköpfig', 1), ('unlogisch', 1), ('unparteiisch', 2), ('teilnahmslos', 1), ('fortschritte', 2), ('impulsiv', 4), ('bande', 4), ('unaufrichtig', 4), ('erfinderisch', 5), ('lüstern', 1), ('legendär', 1), ('unbarmherzig', 2), ('miserabel', 2), ('murmelt', 1), ('nachlässig', 7), ('unausstehlich', 3), ('obsessiv', 1), ('widerspenstig', 2), ('organisiert', 2), ('führer', 5), ('nimmt', 9), ('blatt', 8), ('freimütig', 2), ('überglücklich', 3), ('perplex', 2), ('besessen', 1), ('praktisch', 7), ('bedauert', 1), ('zurückhaltend', 2), ('seriös', 1), ('belastbar', 1), ('sarkastisch', 3), ('geheimnisvoll', 2), ('sensibel', 2), ('schamlos', 1), ('hemd', 34), ('hemdlos', 1), ('skizziert', 1), ('hockt', 1), ('suspendiert', 9), ('gesprächig', 5), ('unentschieden', 1), ('alleinstehend', 2), ('unbeliebt', 1), ('begriff', 4), ('wacht', 2), ('schwächer', 2), ('pfeift', 3), ('jude', 1), ('langweiler', 1), ('kauft', 6), ('familienmitglied', 1), ('aufgeführt', 2), ('stabil', 1), ('drogeneinfluss', 1), ('geniest', 1), ('zugeschaut', 1), ('wühlte', 1), ('packte', 3), ('schob', 4), ('weitergesungen', 1), ('textete', 1), ('menschenkenntnis', 1), ('230\\xa0uhr', 9), ('hockey', 3), ('naturfreund', 1), ('ponys', 1), ('boxt', 1), ('vorn', 6), ('angesehen', 6), ('geistreich', 1), ('wirkte', 7), ('wackelig', 1), ('arbeitsplatz', 2), ('anmerken', 1), ('genickt', 1), ('belauscht', 1), ('zwickte', 1), ('bridge', 1), ('vorhergesagt', 1), ('senden', 2), ('druck', 2), ('wahrscheinlich', 21), ('gekündigt', 4), ('romane', 2), ('achtet', 2), ('baumstamm', 1), ('nachrichten', 14), ('schalt', 2), ('punktete', 1), ('herrisch', 1), ('widerstandsfähig', 1), ('gutzugehen', 1), ('schlurfte', 2), ('scheußlich', 3), ('stiehlt', 1), ('erstarrt', 1), ('studierte', 5), ('vorgeschlagen', 1), ('flucht', 3), ('yogaunterricht', 1), ('kitzelte', 1), ('quälte', 1), ('veränderung', 3), ('bauer', 3), ('landwirt', 2), ('plapperte', 1), ('bluffte', 1), ('prahlte', 3), ('aufgeräumt', 4), ('aufmunternd', 1), ('eingeäschert', 2), ('besiegt', 2), ('deportiert', 1), ('eingesperrt', 2), ('treulos', 1), ('träumte', 1), ('ekstatisch', 1), ('hingerichtet', 4), ('starke', 9), ('ermordet', 13), ('begnadigt', 1), ('freigelassen', 3), ('ausgewählt', 1), ('hungerte', 1), ('unrasiert', 1), ('beobachtete', 1), ('jogging', 1), ('bettnässer', 1), ('trophäe', 2), ('wettlauf', 2), ('bemerken', 1), ('akzeptieren', 3), ('zusagen', 1), ('einwilligen', 1), ('wahnhafte', 2), ('störungen', 2), ('erbleichte', 1), ('hysterisch', 3), ('innovativ', 2), ('klingelte', 8), ('ungeschlagen', 2), ('folter', 1), ('auszubrechen', 1), ('stellt', 6), ('biegen', 3), ('heizung', 1), ('lauft', 3), ('gieß', 1), ('ebenfalls', 4), ('fingen', 8), ('1830\\xa0uhr', 1), ('verlangen', 3), ('angewiesen', 6), ('störten', 1), ('frühstück', 14), ('verabscheuen', 2), ('vernahmen', 1), ('schüsse', 4), ('armen', 3), ('wollten', 6), ('kennengelernt', 15), ('irrten', 1), ('gestrandet', 1), ('sieg', 4), ('davongetragen', 1), ('schrieben', 1), ('nachfolgen', 2), ('klassenkameraden', 2), ('nicken', 1), ('osten', 3), ('analphabeten', 1), ('meditieren', 2), ('furchtsam', 2), ('verwandt', 8), ('umzingelt', 4), ('ausprobiert', 1), ('aussicht', 5), ('welch', 5), ('ausblick', 2), ('lustiger', 4), ('schwere', 3), ('heuchler', 4), ('albtraum', 2), ('alptraum', 6), ('kluges', 2), ('kerlchen', 1), ('besagt', 1), ('wovon', 3), ('ziehst', 2), ('wunsch', 5), ('endet', 4), ('zoll', 1), ('sitzplatz', 3), ('terminkalender', 9), ('mami', 1), ('ausgang', 2), ('billiger', 3), ('festgenommen', 5), ('hergebracht', 2), ('dame', 5), ('benachrichtigt', 4), ('hamlet', 2), ('wessen', 50), ('gesperrt', 3), ('eigelbe', 1), ('gelb', 2), ('vermasselt', 3), ('kucken', 1), ('leistest', 3), ('jünger', 7), ('zitieren', 3), ('steckenpferd', 2), ('therapie', 4), ('schienst', 1), ('wart’s', 3), ('lögest', 1), ('löget', 1), ('lögen', 1), ('freundin', 23), ('starrsinnig', 1), ('schreist', 1), ('redselig', 3), ('versicherung', 1), ('vogelscheuche', 1), ('wertlos', 1), ('rotes', 9), ('hosenstall', 2), ('regnete', 5), ('heftig', 2), ('heftiger', 1), ('gewitter', 1), ('unwetter', 2), ('fügen', 2), ('nachvollziehen', 3), ('einzige', 17), ('ammoniak', 1), ('lauge', 1), ('kerzen', 9), ('bettwanzen', 1), ('vampire', 1), ('vampir', 1), ('zweisprachig', 2), ('bürgermeister', 4), ('polizisten', 3), ('schutzmann', 1), ('meide', 1), ('schlechten', 4), ('umgang', 2), ('anderen', 15), ('warnung', 2), ('dieben', 1), ('bauen', 8), ('nester', 1), ('faszinieren', 1), ('krankenwagen', 4), ('krankenhaus', 14), ('euren', 20), ('ausleihen', 5), ('bissen', 1), ('verschieben', 2), ('springschnurspringen', 1), ('schleife', 1), ('binden', 1), ('rausschmeißen', 5), ('feuern', 2), ('champagner', 2), ('kokain', 1), ('vergleiche', 1), ('fakten', 4), ('rückgeld', 1), ('verhandlung', 2), ('vertagt', 2), ('lohnt', 6), ('verteidigt', 1), ('hierhergekommen', 6), ('beschäftigten', 3), ('ort', 7), ('genannt', 10), ('rausgeworfen', 2), ('gezeichnet', 1), ('wohntest', 1), ('wohntet', 1), ('wohnten', 2), ('beabsichtigt', 3), ('alarmanlage', 2), ('ameisen', 1), ('zuliebe', 1), ('stimmst', 3), ('haustier', 3), ('maisgrütze', 2), ('rose', 4), ('verkaufst', 2), ('sahne', 1), ('gewogen', 1), ('relevant', 1), ('enttäusch', 3), ('enttäuschen', 3), ('palme', 1), ('erwähne', 1), ('wiederhol', 1), ('wiederholen', 6), ('menschenseele', 3), ('droh', 1), ('fehle', 3), ('waffen', 9), ('erde', 3), ('mutti', 1), ('mamma', 1), ('busse', 2), ('jede', 11), ('schrien', 2), ('krischen', 1), ('überlebten', 1), ('butter', 6), ('heiz', 1), ('grill', 1), ('teuer', 26), ('brat', 1), ('bratet', 1), ('braten', 1), ('bettfertig', 1), ('decken', 4), ('tempotuch', 2), ('tage', 7), ('—', 1), ('irgendwo', 5), ('geradeaus', 3), ('männern', 4), ('damen', 1), ('hamster', 1), ('geläutet', 1), ('heu', 2), ('wohlbehalten', 2), ('rasend', 2), ('erpresste', 2), ('erpresst', 2), ('blockierte', 1), ('neigte', 3), ('stock', 4), ('aufgetaucht', 3), ('letztes', 6), ('verstorben', 1), ('abgekratzt', 1), ('abgegeben', 3), ('lotus', 1), ('vase', 4), ('lebensunterhalt', 1), ('erfroren', 3), ('schachtel', 11), ('steckte', 3), ('tipp', 2), ('ermüdete', 2), ('erholte', 2), ('genas', 2), ('ergriff', 6), ('erhängte', 1), ('hängte', 3), ('blonde', 1), ('blondes', 4), ('braune', 6), ('braunes', 3), ('grüne', 5), ('reue', 1), ('kurzes', 4), ('kurze', 9), ('kleine', 13), ('geborener', 2), ('mutiger', 4), ('draufgänger', 2), ('dramatiker', 1), ('physiker', 2), ('echter', 12), ('wissenschaftler', 3), ('ungefähr', 20), ('unrettbar', 2), ('inkompetent', 7), ('unfähig', 2), ('einflussreich', 2), ('vertrauenswürdig', 2), ('momentan', 2), ('sms', 2), ('beging', 5), ('selbstmord', 4), ('hals', 7), ('abgereist', 2), ('kyoto', 3), ('osaka', 2), ('ehre', 2), ('augenlicht', 3), ('offenbar', 2), ('beiseite', 6), ('hob', 15), ('meilen', 2), ('chinesisch', 5), ('russisch', 2), ('aufgeblieben', 2), ('stahl', 6), ('lehrt', 8), ('freigenommen', 1), ('übte', 1), ('verrat', 1), ('verdrehte', 3), ('verstoßen', 3), ('übertreten', 1), ('strahlte', 2), ('ganze', 44), ('äußerst', 8), ('rastete', 2), ('hinwegkommen', 6), ('studienanfänger', 1), ('anfangssemestern', 1), ('hochverschuldet', 1), ('georgia', 1), ('georgien', 1), ('knast', 3), ('sahnt', 1), ('vertrauensselig', 3), ('nägel', 3), ('bitteschön', 1), ('adresse', 17), ('geländer', 1), ('schatz', 1), ('wär’s', 23), ('wende', 2), ('aufenthalt', 4), ('pflichtete', 1), ('24', 2), ('vierundzwanzig', 1), ('ecuador', 1), ('england', 2), ('gleichen', 4), ('hamburger', 3), ('bade', 6), ('täglich', 3), ('vwbus', 1), ('bulli', 1), ('kaktus', 1), ('hybridauto', 1), ('plötzlich', 10), ('finger', 14), ('bürstete', 2), ('anbrennen', 2), ('wachschutz', 1), ('wachdienst', 2), ('chopin', 4), ('vorwurf', 10), ('heiraten', 13), ('einordnen', 1), ('aufs', 9), ('ertrage', 3), ('umentschieden', 1), ('gekriegt', 1), ('verlange', 3), ('rückvergütung', 1), ('besseres', 5), ('universitätsabschluss', 1), ('gekannt', 10), ('steuererklärung', 1), ('werfe', 1), ('pool', 3), ('bedauere', 3), ('durchgefahren', 1), ('klausur', 4), ('schließlich', 4), ('letztendlich', 1), ('schal', 4), ('ausweg', 2), ('note', 1), ('reifenpanne', 1), ('umsonst', 2), ('blauen', 1), ('eingefallen', 2), ('unfall', 10), ('interviews', 1), ('vorstellungsgespräche', 1), ('regnerische', 1), ('regentage', 1), ('wüste', 1), ('tochter', 20), ('schnelles', 1), ('schnellen', 1), ('rosa', 5), ('rosafarbenes', 1), ('vorschlag', 6), ('lösung', 6), ('ohrenschmerzen', 2), ('altes', 8), ('mundgeruch', 1), ('vorstehende', 1), ('sonnenbrille', 2), ('nichten', 2), ('unterbrach', 2), ('marine', 1), ('hierhergezogen', 1), ('fliegt', 3), ('selbstvertrauen', 3), ('herausforderungen', 2), ('volkslieder', 1), ('rockmusik', 1), ('sandwiches', 1), ('sauerkraut', 2), ('farben', 6), ('modell', 4), ('stil', 9), ('komfortabel', 2), ('scharfes', 7), ('photo', 2), ('feilsche', 1), ('hingerissen', 1), ('serie', 1), ('minuten', 7), ('kalender', 1), ('tastatur', 1), ('zahnpasta', 1), ('gemocht', 11), ('verschlafe', 1), ('verdanke', 3), ('football', 1), ('zerrung', 1), ('zugezogen', 3), ('ampel', 6), ('treibstoff', 2), ('hügel', 7), ('empfohlen', 3), ('sonnenaufgang', 3), ('geschaut', 1), ('mitteilen', 1), ('unterschrieb', 7), ('formular', 1), ('käfer', 1), ('verschluckt', 1), ('erdkundelehrer', 1), ('erdkundelehrerin', 1), ('deucht', 1), ('highway', 1), ('58', 2), ('fernstraße', 1), ('gerächt', 1), ('gewöhnlich', 5), ('wasserbett', 1), ('teller', 4), ('hereinkommen', 7), ('jacke', 5), ('mitgefühl', 1), ('sympathie', 1), ('pfadfinder', 3), ('schüchternes', 1), ('fremder', 3), ('entmutigt', 2), ('dämmerte', 1), ('zurückgelassen', 3), ('überwältigt', 1), ('gewaschen', 13), ('geträumt', 5), ('herumgeschäkert', 1), ('aufgewacht', 3), ('lotto', 3), ('anziehen', 12), ('arbeitszeit', 3), ('ausführen', 2), ('besorge', 1), ('zurückgeben', 1), ('hinkriegen', 1), ('freilassen', 1), ('überraschen', 2), ('verständigen', 1), ('zahnarzt', 2), ('opa', 2), ('frisör', 1), ('verheirateter', 4), ('geduldiger', 3), ('völliges', 2), ('wrack', 4), ('astronom', 1), ('einzelkind', 8), ('gewissenhaft', 4), ('erwarte', 7), ('baff', 2), ('springe', 2), ('unersetzlich', 4), ('austauschbar', 1), ('lediglich', 3), ('vermute', 4), ('fanatikerin', 1), ('spielerin', 1), ('ungeheuer', 3), ('monster', 2), ('hellsehen', 1), ('künstlerin', 2), ('eigentümer', 2), ('eigentümerin', 1), ('besitzer', 3), ('besitzerin', 1), ('allzu', 12), ('dienstmädchen', 1), ('altmodisch', 2), ('schwebe', 2), ('siebten', 1), ('wolke', 1), ('atem', 9), ('direkt', 5), ('kunden', 5), ('mitbewohner', 4), ('mitbewohnerin', 2), ('vertrieben', 1), ('marias', 17), ('kuckt', 1), ('also', 5), ('reines', 4), ('ausgangssperre', 1), ('sperrstunde', 1), ('belohnung', 2), ('tödlich', 1), ('zerfiel', 1), ('stücke', 2), ('angegossen', 1), ('richtungen', 1), ('wiederholt', 2), ('abgekühlt', 1), ('notlüge', 1), ('sonnig', 1), ('ägyptisch', 1), ('geregnet', 3), ('pausenlos', 1), ('ununterbrochen', 1), ('bedrückend', 3), ('deprimierend', 2), ('beeindruckend', 5), ('reinste', 1), ('chaos', 2), ('geplant', 6), ('ungeplant', 2), ('wächst', 3), ('verwirren', 3), ('20', 4), ('büro', 18), ('bißchen', 1), ('fettig', 3), ('wacklig', 1), ('frachtschiff', 1), ('frachter', 1), ('bewölkter', 1), ('wörterbuch', 10), ('immerhin', 1), ('anfang', 3), ('tolle', 9), ('angenehmer', 3), ('holder', 1), ('nette', 8), ('blödes', 1), ('wahre', 11), ('notfall', 4), ('hässliche', 1), ('wolkig', 2), ('vertraulich', 1), ('kälter', 2), ('ausgabe', 1), ('thema', 7), ('unverkäuflich', 1), ('teil', 13), ('lebens', 2), ('möglichkeit', 3), ('schlafenszeit', 1), ('aufzuhören', 4), ('inakzeptabel', 2), ('pfanne', 3), ('heia', 1), ('leg’s', 1), ('weiterraten', 1), ('merke', 2), ('rechten', 4), ('entwischen', 1), ('strohhalme', 4), ('beschleunigen', 2), ('drängeln', 1), ('aufbrechen', 5), ('personalausweis', 4), ('reichen', 3), ('ausflug', 3), ('unternehmen', 4), ('entzünden', 2), ('sterne', 4), ('vorhersage', 4), ('hebamme', 1), ('lebhaft', 2), ('segnen', 1), ('meisten', 2), ('gebunden', 1), ('entlaufen', 1), ('abgestürzt', 4), ('notebook', 2), ('brett', 4), ('hirn', 1), ('leergefegt', 1), ('vibrierte', 1), ('schweinestall', 1), ('schulterschmerzen', 2), ('schultern', 4), ('widerstehen', 4), ('wettet', 3), ('sichtweite', 1), ('sicht', 1), ('beschwerte', 1), ('bemerkte', 2), ('traut', 4), ('erkenne', 7), ('überredet', 1), ('gegensätze', 1), ('bezahl', 1), ('beschuldigten', 1), ('informiere', 1), ('verhalte', 1), ('einpacken', 2), ('packen', 7), ('packe', 3), ('mir’s', 2), ('bind', 1), ('schürze', 2), ('masken', 2), ('lege', 9), ('belästigen', 3), ('zeitverschwendung', 3), ('vergeude', 4), ('duften', 1), ('kommenden', 2), ('fluchte', 2), ('lautstark', 1), ('entschied', 6), ('hinzugehen', 1), ('treibt', 3), ('frühaufsteherin', 2), ('bild', 22), ('blaue', 11), ('attraktiv', 6), ('einunddreißig', 2), ('asozial', 1), ('umgeschaut', 1), ('ausgesehen', 5), ('drängte', 1), ('französin', 2), ('polnisch', 1), ('rausgeschmissen', 2), ('schmiss', 1), ('depressionen', 1), ('modebewusst', 4), ('argument', 1), ('überaktiv', 1), ('badewanne', 3), ('vertrag', 7), ('unterschreibt', 1), ('schweigen', 3), ('seide', 3), ('faultiere', 1), ('löse', 1), ('irgendwie', 13), ('dazwischengekommen', 1), ('netze', 2), ('weben', 1), ('stehlen', 3), ('quälen', 1), ('rumzumachen', 1), ('nachzulaufen', 1), ('unterbrechungen', 1), ('augenblicklich', 1), ('wäsche', 5), ('pillen', 1), ('ratschlag', 2), ('gefangenen', 1), ('hiervon', 4), ('medizin', 2), ('nächsten', 15), ('freunden', 13), ('termiten', 1), ('herzen', 5), ('nachfrage', 2), ('unverzichtbar', 2), ('essentiell', 1), ('prächtig', 2), ('wundert', 1), ('armselig', 1), ('akte', 3), ('schwerer', 2), ('tanne', 1), ('tannenbaum', 1), ('gürtellinie', 1), ('wetten', 3), ('ersten', 6), ('supereinfach', 1), ('schreckenerregend', 1), ('richtige', 10), ('einstellung', 4), ('gürtel', 1), ('düsten', 1), ('frisst', 2), ('scheck', 10), ('geplatzt', 1), ('takt', 1), ('publikum', 1), ('knarrte', 2), ('spalt', 1), ('dreht', 2), ('erlosch', 3), ('kicherten', 1), ('klemmt', 3), ('pistole', 7), ('ladehemmung', 1), ('heimmannschaft', 1), ('stumpf', 3), ('zitrone', 1), ('deckel', 1), ('augenlid', 1), ('liebenden', 1), ('markt', 2), ('konferenz', 2), ('endete', 5), ('meeting', 1), ('erschütterte', 1), ('schiff', 13), ('soldaten', 5), ('strahlt', 1), ('taktik', 2), ('funktionierte', 4), ('urteil', 1), ('schlimmste', 3), ('überstanden', 1), ('götter', 1), ('glaubten', 1), ('erröteten', 1), ('schoben', 1), ('tranken', 4), ('fühlten', 1), ('bedroht', 9), ('folgten', 1), ('jagten', 1), ('füchse', 2), ('gekidnappt', 1), ('folterten', 1), ('keuchten', 1), ('gernhaben', 2), ('kannibalen', 1), ('identisch', 1), ('mörder', 7), ('wundervoll', 3), ('mitgenommen', 1), ('ihrige', 1), ('ihrs', 3), ('undicht', 2), ('betrifft', 6), ('brennen', 2), ('kokosnuss', 1), ('adverb', 1), ('berechtigt', 1), ('gerechtfertigt', 1), ('unbezahlbar', 1), ('haltestelle', 3), ('silber', 1), ('sonnabend', 2), ('donnerstag', 1), ('zurückgeantwortet', 1), ('frühstückte', 2), ('keks', 6), ('keuchen', 1), ('gezwinkert', 1), ('geliehen', 8), ('ausgeborgt', 1), ('zuzusehen', 1), ('bewältigen', 1), ('schafft', 4), ('gesichtsfarbe', 1), ('änderte', 4), ('rückzieher', 4), ('behauptet', 3), ('betracht', 2), ('gehustet', 1), ('verlangte', 2), ('verschmäht', 1), ('abgekauft', 2), ('widerstand', 2), ('kehrte', 6), ('gelitten', 1), ('bettler', 1), ('kürzlich', 1), ('starker', 4), ('gefärbt', 1), ('hastig', 4), ('zurückgestoßen', 1), ('abgestoßen', 1), ('zugenommen', 8), ('gewicht', 2), ('bewertet', 2), ('sonnenbrand', 4), ('rhabarber', 1), ('anfall', 1), ('gefrühstückt', 6), ('windows', 1), ('7', 3), ('falschen', 4), ('hohen', 3), ('iq', 1), ('ruderboot', 1), ('allergien', 3), ('iphone', 1), ('arthritis', 1), ('dunkle', 3), ('hautfarbe', 1), ('plattfüße', 1), ('unentschuldigt', 1), ('arme', 5), ('andere', 23), ('potenzial', 1), ('möhren', 5), ('joggt', 1), ('ahmte', 1), ('bücherwurm', 2), ('diplomat', 1), ('braves', 2), ('artiges', 1), ('braver', 1), ('mechaniker', 1), ('pfarrer', 2), ('kerl', 14), ('sträfling', 1), ('halbes', 2), ('reporter', 1), ('großgewachsener', 1), ('hochgewachsener', 1), ('telepath', 1), ('virtuose', 1), ('kriegsheld', 1), ('schwächling', 1), ('dilettant', 1), ('analytisch', 1), ('redegewandt', 1), ('großkopfig', 1), ('schielt', 1), ('mutlos', 1), ('diplomatisch', 1), ('widerlich', 3), ('abgelenkt', 1), ('unbekümmert', 1), ('entbehrlich', 2), ('gesellig', 3), ('gelegt', 4), ('hitzkopf', 1), ('unentschlossen', 3), ('indiskret', 2), ('unfehlbar', 1), ('unflexibel', 4), ('einsichtig', 1), ('aufschlussreich', 1), ('intolerant', 1), ('marmelade', 3), ('meditiert', 2), ('methodisch', 1), ('sorgfältig', 2), ('akribisch', 1), ('bewegungslos', 1), ('tomás', 1), ('stiefpapa', 2), ('stiefsohn', 2), ('mysteriös', 1), ('alten', 6), ('kunde', 2), ('ältester', 2), ('empörend', 1), ('leidenschaftlich', 1), ('photogen', 1), ('dickköpfig', 1), ('besitzergreifend', 2), ('produktiv', 1), ('unerbittlich', 1), ('bemerkenswert', 2), ('reumütig', 1), ('respektvoll', 1), ('misstrauisch', 5), ('anführer', 2), ('nachdenklich', 3), ('betroffen', 2), ('unschlagbar', 1), ('unbeirrt', 1), ('entkleidet', 1), ('unangenehm', 1), ('unvorbereitet', 1), ('unbegabt', 2), ('offenherzig', 1), ('fromm', 1), ('verletzlich', 2), ('einzelgänger', 2), ('bergarbeiter', 1), ('hoffnungsvoll', 3), ('heiratsantrag', 2), ('abgehauen', 1), ('behält', 1), ('putzte', 6), ('kroch', 2), ('klopfte', 2), ('geklopft', 1), ('einfühlungsvermögen', 1), ('gewichte', 1), ('blondhaarige', 1), ('blondinen', 1), ('zeltet', 1), ('landwirtschaft', 1), ('hummer', 2), ('wurst', 1), ('eislaufen', 4), ('surft', 2), ('bowling', 4), ('wohnte', 3), ('schuldbewusst', 1), ('mutet', 1), ('ausgezehrt', 1), ('zappelig', 1), ('verdutzt', 3), ('geschockt', 3), ('dünner', 1), ('geduld', 6), ('angelte', 1), ('risotto', 1), ('rituale', 1), ('pfannkuchen', 1), ('missverstanden', 2), ('missverstand', 1), ('agiert', 1), ('klamotten', 2), ('ausgezahlt', 1), ('schuldet', 6), ('miete', 5), ('spähte', 1), ('kricket', 1), ('vergiftete', 2), ('kandidierte', 2), ('bürgermeisteramt', 1), ('kandidat', 1), ('verpfiffen', 1), ('reagierte', 2), ('mietete', 2), ('fünfundsechzig', 1), ('erwiderte', 3), ('\\u200b\\u200bund', 1), ('rettung', 1), ('schmerze', 1), ('bestrebt', 1), ('spürte', 3), ('hierhergeschickt', 1), ('servierte', 3), ('deckte', 1), ('wechselte', 5), ('gänge', 1), ('gangart', 1), ('schief', 5), ('ausfallen', 1), ('freien', 1), ('geklungen', 4), ('hockte', 2), ('steif', 2), ('drohte', 4), ('ausgeführt', 1), ('angebissen', 1), ('reist', 8), ('umgedreht', 1), ('videoband', 1), ('aufgezeichnet', 1), ('spuckte', 2), ('erbrach', 1), ('schwor', 1), ('hineingegangen', 2), ('gassi', 2), ('lösungen', 1), ('verlangt', 6), ('respekt', 4), ('ergebnisse', 2), ('sinnt', 1), ('updates', 1), ('trachtet', 1), ('ungezogenes', 1), ('durchsetzungsstark', 1), ('verprügelt', 1), ('brillant', 1), ('bekümmert', 1), ('hocherfreut', 1), ('unbeschwert', 1), ('koma', 4), ('not', 2), ('elend', 1), ('abschied', 1), ('clubben', 1), ('besiegen', 4), ('gestehen', 1), ('reagieren', 1), ('filzhut', 1), ('leuchten', 2), ('fantasievoll', 2), ('kinnlade', 1), ('stinkt’s', 2), ('zahltag', 2), ('wechsle', 2), ('kanal', 1), ('biege', 1), ('winterschlaf', 1), ('acrylfarbe', 1), ('nutzt', 2), ('rastet', 1), ('rostet', 1), ('venus', 1), ('schieß', 2), ('findest', 8), ('ausschau', 2), ('flüssigkeit', 1), ('verabredet', 1), ('sturzbetrunken', 2), ('stiegen', 1), ('voreinander', 1), ('zulieferer', 1), ('lernten', 2), ('ließen', 2), ('sehnen', 1), ('suchten', 2), ('parks', 1), ('steuern', 3), ('spenden', 3), ('wahrlich', 1), ('kanu', 2), ('gemietet', 1), ('streben', 1), ('schlacht', 1), ('befragen', 1), ('konsultieren', 1), ('wirken', 3), ('wehrlos', 2), ('schutzlos', 2), ('trauer', 2), ('journalisten', 1), ('ausdauernd', 1), ('losfahren', 3), ('bestohlen', 1), ('0', 1), ('warme', 1), ('kleider', 3), ('wurdet', 3), ('depp', 1), ('großartige', 6), ('großartiger', 6), ('einfall', 2), ('herrlicher', 1), ('hattet', 4), ('angehabt', 3), ('denkst', 19), ('wiegst', 2), ('wiegen', 2), ('wiegt', 4), ('bittet', 3), ('bastelt', 1), ('sack', 2), ('woraus', 9), ('fleck', 1), ('hauptfach', 5), ('stellst', 1), ('105', 1), ('flugsteig', 1), ('brandy', 1), ('einladung', 6), ('rückerstattung', 3), ('wodka', 3), ('hergestellt', 4), ('mona', 1), ('lisa', 1), ('verantwortung', 1), ('„befriedigend“', 1), ('gibst', 7), ('verkehrt', 2), ('sowas', 3), ('lust', 7), ('mitzumachen', 1), ('entzündlich', 1), ('brennbar', 1), ('schauspielerinnen', 1), ('solcher', 2), ('kamst', 1), ('beantworten', 3), ('verneinen', 1), ('verfehlen', 4), ('hättest', 10), ('europäisch', 3), ('japanisch', 9), ('fabelhaft', 1), ('umwerfend', 4), ('atemberaubend', 1), ('sahst', 1), ('bringst', 3), ('zauberst', 1), ('dürft', 7), ('ausgelassen', 3), ('sinnen', 2), ('rufst', 1), ('stress', 3), ('nimmst', 6), ('mörderin', 2), ('widerwärtig', 1), ('ekelerregend', 1), ('ungebildet', 1), ('steckst', 2), ('veralberst', 1), ('sicherer', 1), ('ferkel', 1), ('schwein', 7), ('erzählst', 1), ('expertin', 2), ('fachfrau', 1), ('großes', 23), ('gekratzt', 1), ('aufstand', 2), ('verwirre', 3), ('weiterer', 1), ('verging', 2), ('beantworte', 3), ('beantwortet', 1), ('mahlzeiten', 3), ('inbegriffen', 2), ('inkludiert', 1), ('buddhist', 2), ('gläubig', 1), ('krimineller', 2), ('gewaffnet', 1), ('spinnt', 2), ('befinden', 2), ('überdrüssig', 2), ('dessen', 7), ('verwendest', 1), ('vegetarier', 5), ('vegetarierin', 1), ('kalte', 5), ('enthält', 2), ('hopfen', 1), ('kissen', 2), ('schläger', 2), ('mieten', 4), ('aufheben', 1), ('weiterlaufen', 1), ('kaltes', 1), ('beherrscht', 1), ('beherrschen', 2), ('lohnen', 1), ('befasse', 1), ('bestochen', 3), ('hierfür', 1), ('bedankt', 4), ('überprüft', 7), ('nachgeprüft', 4), ('rechtsanwältin', 2), ('genäht', 2), ('klinge', 1), ('ehepartner', 2), ('irgendeinen', 1), ('sprichst', 6), ('mozart', 4), ('roboter', 3), ('mitfahrgelegenheit', 3), ('happen', 1), ('zahnfleischbluten', 1), ('erkälte', 3), ('abhängig', 1), ('verlegenheit', 3), ('versteh', 2), ('paranoid', 2), ('gekränkt', 1), ('szene', 1), ('mucks', 2), ('zwing', 5), ('zwingt', 2), ('zwingen', 5), ('verpass', 1), ('gönnerhaft', 3), ('spare', 1), ('leutseliges', 1), ('dummheiten', 1), ('blödsinn', 4), ('weitersagen', 1), ('steine', 2), ('könig', 6), ('zerronnen', 1), ('rückseite', 2), ('gerieten', 2), ('drehten', 1), ('zögerten', 1), ('einzigartig', 3), ('leeren', 1), ('felder', 1), ('füllt', 1), ('lücken', 1), ('füllen', 1), ('formularfelder', 1), ('wichtigste', 1), ('bedanke', 1), ('beispiel', 10), ('gib\\xa0mir', 1), ('erschieß', 1), ('labor', 3), ('helm', 6), ('stufen', 2), ('besen', 2), ('fernbedienung', 2), ('fröhliches', 1), ('erntedankfest', 1), ('flug', 15), ('erlitten', 1), ('riet', 2), ('rechtzeitig', 10), ('erkundigt', 3), ('bat', 36), ('spitze', 5), ('meile', 2), ('radfahren', 2), ('zwang', 4), ('überholt', 1), ('alzheimer', 2), ('schwaches', 1), ('klappe', 9), ('langen', 7), ('fettiges', 1), ('fußschritte', 1), ('autofahrer', 2), ('busfahrer', 2), ('einfacher', 4), ('kriegswaise', 1), ('arbeitstier', 2), ('fbiagent', 2), ('klassenkamerad', 2), ('kommilitone', 1), ('arbeitskollege', 1), ('kollege', 2), ('scharfen', 2), ('herzlos', 1), ('handkuss', 1), ('urteilsvermögen', 1), ('luxus', 1), ('temperament', 3), ('durchgegangen', 2), ('aufmerksamkeit', 6), ('schwatzen', 3), ('liebend', 2), ('verreist', 3), ('müsste', 4), ('berührte', 5), ('nutzte', 1), ('gefälschten', 2), ('zuneigung', 1), ('„ipad\\xa04“', 2), ('vergeltung', 2), ('allmählich', 5), ('siebzig', 1), ('kilo', 4), ('weitergearbeitet', 2), ('kreationist', 1), ('dreckiger', 3), ('phantomschreiber', 1), ('abstinenzler', 1), ('vollkommenes', 1), ('wohlhabender', 3), ('morgenaktiver', 1), ('ehrlicher', 5), ('bodenständig', 1), ('kartenspiel', 1), ('selbständig', 1), ('schilde', 3), ('anmarsch', 2), ('zerrissen', 1), ('voller', 9), ('ruß', 1), ('anschrift', 2), ('hi', 1), ('besiegelt', 1), ('erkaltet', 1), ('schritte', 2), ('bewerkstelligt', 2), ('verwirklichen', 1), ('umsetzen', 1), ('standet', 1), ('wirtschaftslage', 2), ('ich’s', 4), ('eheleben', 2), ('angebot', 16), ('berate', 1), ('willigte', 2), ('grille', 1), ('prophet', 1), ('183', 1), ('m', 1), ('meter', 2), ('dreiundachtzig', 1), ('vorausgesehen', 2), ('pro', 4), ('magie', 2), ('tshirt', 3), ('roten', 5), ('bestätigen', 9), ('aushelfen', 1), ('vorstellen', 8), ('reiten', 3), ('radel', 1), ('vertrage', 2), ('ausschließen', 2), ('hereinlassen', 3), ('anlügen', 7), ('sünde', 1), ('code', 1), ('geknackt', 1), ('datei', 5), ('gelöscht', 2), ('scheinheiligkeit', 1), ('bezweifele', 3), ('betrat', 2), ('höhle', 2), ('elendiglich', 1), ('befürchtete', 2), ('hundekalt', 1), ('becken', 2), ('heftigen', 1), ('hinreißen', 1), ('lampenfieber', 2), ('haufen', 3), ('reichte', 4), ('unanständige', 1), ('augenbrauen', 1), ('fernzusehen', 1), ('blaues', 3), ('festen', 2), ('beschwerde', 4), ('reklamation', 2), ('aquarium', 1), ('glasauge', 1), ('grünes', 5), ('kleines', 7), ('zahnschmerzen', 5), ('zahnweh', 1), ('fettige', 1), ('eigenes', 9), ('geschwister', 5), ('feinmachen', 1), ('kriegen', 3), ('proben', 1), ('weglaufen', 7), ('abhauen', 2), ('kameras', 3), ('fotoapparate', 2), ('cousinen', 5), ('explosionen', 1), ('kreischen', 2), ('schulter', 8), ('jogge', 1), ('email', 4), ('umgelegt', 1), ('witwe', 1), ('weiss', 1), ('vorstellungsvermögen', 1), ('unverschlossen', 1), ('la', 1), ('liebsten', 5), ('kerzenlicht', 2), ('diskomusik', 1), ('pferderennen', 1), ('himbeeren', 1), ('tomatensuppe', 1), ('garten', 14), ('armut', 1), ('sehne', 1), ('anstellung', 3), ('autoschlüssel', 8), ('regenschirm', 14), ('verlegt', 2), ('koreanisches', 1), ('apfelwein', 1), ('bärtige', 1), ('schmetterlinge', 2), ('ziegenkäse', 2), ('sommerregen', 1), ('übersetze', 2), ('videospiele', 3), ('versprechungen', 2), ('oftmals', 1), ('verfehlt', 2), ('letzten', 8), ('monat', 8), ('mähte', 3), ('tätigen', 1), ('moneten', 1), ('mauspad', 1), ('mausunterlage', 1), ('stoppuhr', 1), ('freiwilligen', 2), ('briefumschlag', 2), ('körperlotion', 1), ('handcreme', 1), ('inspiration', 4), ('dahinterkommen', 2), ('häufig', 4), ('eingesteckt', 3), ('ideen', 5), ('comichefte', 1), ('neulich', 2), ('unlängst', 1), ('bilder', 3), ('dusche', 11), ('stunden', 7), ('psychologie', 1), ('glaub', 2), ('nachgedacht', 6), ('wüsstest', 2), ('dableiben', 2), ('kümmerte', 3), ('reiste', 6), ('per', 6), ('pedes', 1), ('unversucht', 1), ('stecker', 5), ('fernsehers', 2), ('herausgezogen', 1), ('bulle', 1), ('streicheltiger', 1), ('details', 3), ('singst', 5), ('dableibst', 1), ('dableibt', 1), ('aufhörst', 3), ('wartest', 1), ('dickliches', 1), ('1972', 1), ('1979', 1), ('1980', 1), ('1982', 1), ('1988', 2), ('gezwungen', 2), ('verhört', 1), ('stinklangweilig', 1), ('heidenangst', 3), ('wiege', 3), ('130', 1), ('verneint', 2), ('begleiten', 17), ('herbringen', 1), ('küchenchef', 1), ('kürze', 1), ('ess', 1), ('loswerden', 4), ('gieße', 1), ('decke', 3), ('eingehen', 4), ('überlege', 1), ('verlobte', 2), ('vormund', 1), ('nachbar', 2), ('nachbarin', 2), ('städter', 1), ('schwimmer', 6), ('lausiger', 1), ('fotograf', 1), ('lastwagenfahrerin', 1), ('lasterfahrerin', 1), ('furcht', 4), ('hunden', 12), ('kunststudent', 1), ('bibliothek', 7), ('klaustrophob', 2), ('ihretwegen', 1), ('singapur', 1), ('zustimmst', 1), ('zuzuhören', 2), ('wanne', 1), ('urlaubsreisender', 1), ('puffmais', 1), ('socke', 2), ('kriminelle', 1), ('sklave', 2), ('arbeitsfrei', 2), ('balkon', 2), ('überwunden', 1), ('verdaut', 1), ('französischen', 4), ('anzufangen', 4), ('geldmangel', 1), ('chefin', 4), ('schuldige', 2), ('doppelt', 3), ('berg', 5), ('fuji', 7), ('unwissenheit', 1), ('seligkeit', 1), ('christ', 2), ('feiert', 4), ('kompliment', 2), ('reparatur', 2), ('eichhörnchen', 4), ('überhaupt', 53), ('geladen', 4), ('echtes', 2), ('brücke', 4), ('angekettet', 1), ('milchmann', 1), ('recyclebar', 1), ('wiederverwertbar', 1), ('handtasche', 12), ('nimmer', 1), ('streich', 1), ('hoax', 1), ('leichter', 5), ('vergleichbares', 1), ('schmerzhaft', 2), ('schwarzes', 4), ('großem', 1), ('nutzen', 1), ('eimern', 1), ('schüttet', 1), ('vorzüglich', 1), ('beseitigen', 3), ('wegschaffen', 1), ('tagelang', 2), ('schwierige', 5), ('handgefertigt', 1), ('faszinierend', 2), ('hypnotisierend', 1), ('verhindert', 1), ('spießig', 1), ('persönliches', 1), ('profil', 1), ('kubanische', 1), ('zigarre', 2), ('französisches', 1), ('grausame', 1), ('regelung', 1), ('bewiesene', 1), ('ablenkungsmanöver', 1), ('dumme', 2), ('blöde', 4), ('tippfehler', 2), ('druckfehler', 1), ('unklare', 1), ('ecke', 3), ('jenseits', 2), ('vernunft', 1), ('kühlschrank', 7), ('messing', 3), ('gefertigt', 2), ('erstes', 2), ('unpersönlich', 1), ('überfüllt', 1), ('unvergesslich', 2), ('beunruhigend', 2), ('weitem', 1), ('europa', 5), ('griechenland', 1), ('konfitüre', 1), ('urteile', 2), ('betreten', 1), ('rasens', 1), ('gesetze', 1), ('lektion', 3), ('anschauen', 5), ('verzichten', 3), ('empor', 1), ('gewendet', 1), ('widmet', 1), ('glasierte', 1), ('kellnerin', 2), ('sopran', 1), ('vergelte', 1), ('dir’s', 2), ('vergelten', 1), ('dürfte', 2), ('nahrhaft', 2), ('feiertag', 4), ('endgültig', 5), ('akku', 1), ('stiefel', 6), ('toyota', 2), ('krabbeln', 1), ('versiegelt', 1), ('raste', 2), ('„warum“', 1), ('magen', 2), ('ists', 1), ('achtete', 2), ('angeles', 1), ('wünscht', 5), ('währt', 2), ('offiziell', 2), ('lehrern', 1), ('koffer', 11), ('liegengeblieben', 1), ('projekt', 2), ('fehl', 2), ('misslang', 2), ('bambus', 1), ('schäle', 3), ('gurken', 7), ('schält', 1), ('müll', 4), ('sprunghaft', 1), ('spielsachen', 3), ('verband', 1), ('spar', 2), ('kraft', 3), ('schulen', 3), ('meerwasser', 1), ('salzig', 4), ('luftpost', 5), ('postkarte', 3), ('schütteln', 1), ('rasur', 1), ('text', 5), ('hühnerfleich', 1), ('tauchte', 4), ('gleichmäßige', 1), ('manieren', 2), ('zauberin', 1), ('stammt', 3), ('hinterließ', 1), ('antiquitäten', 2), ('star', 1), ('pflückte', 1), ('gedroht', 1), ('reize', 1), ('sexy', 1), ('pfiffiges', 1), ('intelligentes', 1), ('alkoholikerin', 1), ('besprechung', 2), ('klassenkameradin', 2), ('kommilitonin', 2), ('patentante', 2), ('patin', 1), ('dreiunddreißig', 1), ('auszubessern', 1), ('ständig', 9), ('versagern', 1), ('herumzualbern', 1), ('anzuschauen', 1), ('anzustarren', 2), ('anzuschreien', 4), ('kitzelt', 2), ('op', 1), ('maske', 5), ('mittel', 1), ('anwälten', 1), ('hinweis', 5), ('überraschend', 4), ('schmackhaft', 1), ('jahren', 5), ('wär', 1), ('männerarbeit', 1), ('hübscher', 3), ('hübsches', 6), ('totale', 1), ('trottel', 5), ('nervig', 1), ('botschaft', 4), ('auslöser', 2), ('deshalb', 11), ('wecker', 3), ('geklingelt', 3), ('„ja“', 2), ('achse', 1), ('kneipe', 2), ('proppenvoll', 1), ('scheune', 4), ('weggeflogen', 2), ('altbacken', 1), ('summer', 1), ('panne', 1), ('konzert', 5), ('krähe', 5), ('fortgeflogen', 1), ('dannen', 1), ('disko', 1), ('hechelt', 1), ('türknauf', 2), ('wirtschaft', 1), ('flamme', 1), ('gelichtet', 1), ('tratschten', 1), ('eingestürzt', 1), ('geschmolzen', 1), ('schmilzt', 2), ('taut', 1), ('hell', 3), ('piepste', 1), ('ozean', 2), ('papagei', 1), ('teich', 4), ('zugefroren', 4), ('drucker', 2), ('papierstau', 2), ('manipuliert', 2), ('fels', 2), ('server', 2), ('ausgefallen', 2), ('hemden', 4), ('signal', 1), ('lichtete', 1), ('feuerten', 1), ('gelöst', 4), ('laden', 6), ('umgefallen', 2), ('wellen', 1), ('verfault', 1), ('weht', 5), ('worte', 4), ('wörter', 2), ('adoptierten', 1), ('ringer', 1), ('hergebeten', 1), ('krochen', 1), ('fanden', 1), ('ausgelacht', 2), ('alleingelassen', 1), ('heimlich', 1), ('liefen', 4), ('umher', 1), ('umhergelaufen', 1), ('antun', 7), ('nelken', 1), ('überall', 11), ('cousine', 8), ('harte', 3), ('kerle', 3), ('garnichts', 1), ('zottelig', 1), ('ergebnis', 2), ('spiels', 1), ('ali', 1), ('alis', 1), ('straßenkarte', 1), ('empfinde', 2), ('meiste', 1), ('gatte', 4), ('diebstahl', 2), ('geistigen', 1), ('eigentums', 1), ('misslich', 1), ('ordinär', 1), ('erdboden', 1), ('unterhose', 2), ('tacos', 1), ('stoßen', 1), ('binde', 2), ('schnürsenkel', 5), ('schrauben', 3), ('schraube', 4), ('drehen', 1), ('fraß', 3), ('schnarchen', 4), ('schweinefleisch', 3), ('aushalten', 5), ('erwischte', 2), ('forelle', 3), ('tröstete', 1), ('überzeugte', 1), ('riss', 1), ('stapel', 1), ('abgestritten', 2), ('angetan', 5), ('verhungerte', 2), ('hungers', 2), ('fleckfieber', 1), ('sondern', 3), ('leistet', 4), ('schnallt', 2), ('verwendet', 1), ('floh', 1), ('kanada', 2), ('befolgt', 1), ('rang', 1), ('wacker', 1), ('kappe', 1), ('beraten', 1), ('besorgte', 1), ('erhängt', 1), ('coolen', 1), ('pferdeschwanz', 1), ('wampe', 1), ('waschbrettbauch', 1), ('dreirad', 1), ('lockiges', 1), ('rücklagen', 1), ('dichtes', 1), ('schreiten', 1), ('differential', 1), ('integralrechnung', 1), ('zielscheibe', 1), ('barkeeper', 1), ('imker', 1), ('bienenzüchter', 1), ('züchtet', 2), ('esser', 4), ('biologe', 1), ('geborene', 2), ('wackerer', 1), ('kommunist', 1), ('fröhlicher', 1), ('landei', 1), ('hinterwäldler', 1), ('bibliothekar', 1), ('nerd', 1), ('kanaille', 1), ('sozialist', 1), ('zweiten', 1), ('studienjahr', 1), ('terrorist', 1), ('zäher', 1), ('wahrer', 6), ('frauenheld', 1), ('schürzenjäger', 1), ('zoowärter', 1), ('angestellter', 1), ('streitlustig', 2), ('rücksichtsvoll', 1), ('kooperiert', 2), ('new', 2), ('yorker', 1), ('hyperaktiv', 1), ('besserung', 3), ('wege', 4), ('hof', 1), ('unsensibel', 1), ('belügt', 2), ('jagd', 2), ('pessimistisch', 1), ('launenhaft', 1), ('schwächlich', 1), ('superschnell', 2), ('stalkt', 1), ('splitternackt', 1), ('splitterfasernackt', 2), ('begriffsstutzig', 1), ('übergibt', 1), ('guckt', 3), ('entführte', 1), ('bewusst', 3), ('gutem', 1), ('lacrosse', 1), ('rothaarige', 1), ('93', 1), ('97', 1), ('innenstadt', 2), ('veranlasste', 1), ('abgelegt', 4), ('bereitete', 4), ('melkte', 1), ('kuh', 3), ('theaters', 1), ('kniff', 1), ('vermutlich', 4), ('haaren', 4), ('lüftete', 1), ('orchideen', 1), ('nachgelaufen', 1), ('beruhigte', 2), ('empfehlung', 1), ('ausgesprochen', 4), ('wohltätigkeitsorganisation', 1), ('charity', 1), ('beleibt', 1), ('salzte', 1), ('anspannung', 1), ('schickte', 7), ('rudern', 1), ('schwingt', 1), ('schluckte', 3), ('beigebracht', 10), ('versetzte', 1), ('schrecken', 2), ('feuerrot', 1), ('wassermangel', 1), ('aufgefunden', 1), ('klemme', 2), ('ausgestoßen', 1), ('geächtet', 1), ('geschubst', 1), ('speichelte', 1), ('ulkig', 1), ('verspürte', 1), ('schwenkte', 1), ('fahne', 4), ('kontaktlinsen', 2), ('geknickt', 1), ('zurückrufen', 3), ('anwenden', 1), ('zugezwinkert', 1), ('kostenloses', 2), ('zugeben', 1), ('testament', 2), ('wehte', 3), ('brummte', 1), ('niedrigen', 1), ('alarm', 4), ('ton', 1), ('lautstärke', 1), ('uranus', 1), ('instinkt', 5), ('geschmeckt', 1), ('spass', 1), ('überein', 3), ('fertigwerden', 1), ('haltmachen', 1), ('mieteten', 2), ('hindurch', 3), ('kilometerweit', 1), ('lebend', 3), ('weizen', 2), ('nahrungsmittel', 1), ('beenden', 1), ('unterbinden', 1), ('einstellen', 1), ('einhalt', 1), ('gebieten', 1), ('arretieren', 1), ('getätigt', 2), ('anzukommen', 1), ('ausfahrt', 1), ('abfahrt', 1), ('achtsam', 1), ('einander', 11), ('benötigen', 7), ('freiwillige', 2), ('gezeltet', 1), ('zelt', 1), ('begannen', 1), ('kino', 4), ('amüsierten', 4), ('fahrgäste', 1), ('weile', 3), ('konservativ', 3), ('enthusiastisch', 1), ('flitterwochen', 3), ('hüten', 2), ('überdrehen', 1), ('vorerst', 4), ('johannsens', 2), ('gleichaltrig', 2), ('alters', 1), ('verschwenden', 5), ('cia', 1), ('wale', 2), ('säugetiere', 3), ('kürbis', 1), ('zufall', 2), ('langer', 3), ('niederträchtiger', 1), ('seltsamer', 5), ('absonderlicher', 1), ('zeitgenosse', 1), ('ah', 2), ('hornochse', 1), ('dienen', 1), ('sauwetter', 1), ('schreckliches', 2), ('erwartest', 1), ('nützen', 2), ('hämoglobin', 1), ('hierbei', 2), ('welchen', 3), ('trieb', 5), ('angetrieben', 3), ('station', 2), ('widerliches', 1), ('ekelhaftes', 1), ('besprochen', 2), ('bekommst', 6), ('backst', 1), ('worin', 5), ('stärken', 1), ('stachelschwein', 1), ('laus', 1), ('leber', 1), ('zahl', 1), ('stehst', 4), ('hochzeit', 3), ('hingelegt', 4), ('hingestellt', 4), ('hingetan', 4), ('beteiligt', 2), ('uniform', 3), ('bäckerei', 1), ('museum', 3), ('toilette', 11), ('hereingelassen', 4), ('aufgestellt', 1), ('eigner', 1), ('schiffs', 1), ('überdreht', 2), ('eigentlich', 8), ('wärst', 4), ('eid', 1), ('tollen', 2), ('jagst', 2), ('schreck', 1), ('eingejagt', 1), ('starten', 1), ('verpatzt', 1), ('ablauf', 2), ('blaß', 1), ('legtest', 1), ('legten', 2), ('begegnest', 1), ('friseur', 3), ('loslassen', 1), ('zunichte', 2), ('gefährdet', 1), ('entfernen', 2), ('bereuen', 7), ('gemahlin', 1), ('schlaumeier', 1), ('feiglinge', 2), ('rassisten', 1), ('meidest', 1), ('meiden', 1), ('charismatisch', 3), ('kooperierst', 1), ('extrovertiert', 3), ('introvertiert', 3), ('belügst', 1), ('prinzessin', 2), ('bekleidet', 5), ('durchschaubar', 2), ('übernimmst', 1), ('„wen', 1), ('kümmert’s“\\xa0–', 1), ('„mich“', 1), ('kalter', 1), ('schläfchen', 1), ('bruch', 1), ('ratschläge', 2), ('rundum', 1), ('umtausch', 1), ('aluminium', 1), ('schwäne', 1), ('plätze', 4), ('gerüchte', 3), ('überlebende', 1), ('versuchst', 1), ('erfahrung', 2), ('phantasie', 13), ('unabhängig', 2), ('facebook', 9), ('schreibst', 6), ('spionierst', 2), ('überwachst', 1), ('wenigstens', 5), ('entenküken', 1), ('löwenjunge', 1), ('angewohnheiten', 2), ('abzulegen', 1), ('überlebenskünstler', 2), ('schwermütig', 1), ('überbewertet', 1), ('kleidung', 5), ('badeanzug', 1), ('verbrenn', 1), ('anmelden', 1), ('plätzchen', 4), ('kontaktieren', 1), ('aufnehmen', 2), ('kopien', 1), ('abholen', 4), ('scheuern', 1), ('kau', 2), ('kauen', 2), ('kaut', 2), ('ritterlichkeit', 1), ('räumt', 1), ('räumen', 1), ('messen', 1), ('jederzeit', 2), ('wettbewerb', 3), ('kontaktiere', 1), ('virus', 1), ('zypern', 1), ('insel', 3), ('unausweichlich', 1), ('lösche', 1), ('löscht', 1), ('löschen', 1), ('tempel', 2), ('zerstöre', 2), ('empfindliche', 2), ('empfindlichen', 1), ('erworben', 3), ('angeschrien', 7), ('irgendwer', 2), ('irgendjemanden', 2), ('gedrückt', 2), ('dagelassen', 2), ('spieltest', 1), ('gebadet', 1), ('kanntet', 2), ('fluche', 1), ('sarkasmus', 3), ('vernehme', 1), ('solange', 3), ('b', 1), ('unterrichtest', 1), ('übereinstimmung', 1), ('motto', 1), ('kompaktdisks', 1), ('kaugummis', 3), ('führst', 1), ('englische', 2), ('kochst', 3), ('apfelsinen', 3), ('surfst', 1), ('erkennst', 2), ('erkennt', 1), ('zigarren', 3), ('gefällig', 1), ('trägst', 2), ('brillenträgerin', 2), ('trauben', 3), ('beängstigt', 2), ('wärt', 1), ('kletter', 1), ('öffentlichkeit', 2), ('quere', 2), ('zweifle', 1), ('wage', 4), ('anzufassen', 2), ('untersteh', 1), ('rage', 3), ('schmeißen', 1), ('verzapf', 1), ('schmarren', 1), ('frierst', 1), ('traust', 3), ('gemüse', 8), ('krise', 1), ('klatschten', 3), ('freiheit', 3), ('ticket', 7), ('schaffe', 4), ('portmonee', 1), ('oma', 1), ('halblang', 1), ('wochen', 6), ('chance', 20), ('stärke', 2), ('halbe', 3), ('reiche', 1), ('wochenende', 11), ('missbraucht', 2), ('gereizt', 2), ('fingerhut', 1), ('tränen', 11), ('flöte', 3), ('einbrecher', 2), ('bestieg', 1), ('genua', 1), ('wales', 1), ('übereinander', 2), ('entkräftete', 1), ('gewiesen', 1), ('gegenteil', 2), ('traurigen', 1), ('todes', 1), ('ferrari', 1), ('verfehlte', 3), ('meister', 1), ('ehrenwort', 1), ('begrüßte', 1), ('begrüßt', 1), ('amüsierte', 1), ('tiefe', 3), ('lustigen', 1), ('laute', 4), ('nasenbluten', 2), ('rundes', 2), ('zweitarbeit', 2), ('gehandelt', 1), ('begabungen', 1), ('picassos', 1), ('flugreisen', 2), ('fischhändler', 2), ('eifersüchtiger', 2), ('gelehrter', 2), ('gemeiner', 1), ('ungezogener', 2), ('unhöflicher', 1), ('frauenhasser', 2), ('statur', 1), ('buße', 2), ('streut', 1), ('asche', 1), ('haupt', 1), ('gutherzig', 2), ('wäscht', 3), ('lieh', 2), ('pesos', 2), ('warzenmelonen', 2), ('cantaloupemelonen', 1), ('cardiff', 1), ('komfortables', 2), ('nebenan', 3), ('verdächtig', 2), ('nachtlokale', 2), ('witzige', 2), ('bemerkung', 2), ('helfer', 2), ('käfige', 2), ('kofferraum', 2), ('stubste', 1), ('erreichte', 5), ('schuhgeschäft', 2), ('irrte', 1), ('wienerte', 1), ('unterzeichnete', 1), ('fluchen', 4), ('verblieb', 2), ('behandelte', 2), ('christentum', 1), ('ohio', 1), ('warteschlange', 2), ('anfangs', 4), ('bedauern', 2), ('goldmedaille', 3), ('jenem', 2), ('bericht', 5), ('kehrt', 1), ('kardiologe', 2), ('kettenraucher', 2), ('flink', 1), ('spätentwickler', 1), ('spätzünder', 2), ('eingerostet', 1), ('angeheitert', 1), ('unberechenbar', 1), ('partylöwe', 2), ('drehbuchautor', 1), ('kondition', 1), ('physischer', 1), ('verfassung', 3), ('ausgezeichneter', 1), ('körperlicher', 1), ('opernliebhaber', 1), ('opernfan', 1), ('heimreise', 2), ('arg', 3), ('bedrängnis', 1), ('bester', 8), ('tetris', 1), ('greift', 1), ('wangen', 1), ('abweisend', 1), ('körper', 7), ('getäuscht', 4), ('großfamilie', 1), ('verkaufte', 2), ('pullover', 7), ('halfter', 1), ('verdirbt', 1), ('revanche', 1), ('mochtest', 3), ('magnete', 1), ('buchstabiert', 1), ('bedingungen', 4), ('elektriker', 1), ('bohre', 1), ('erstarke', 1), ('indien', 2), ('pflücke', 1), ('ausnahmsweise', 3), ('auserwählte', 2), ('kurznachricht', 1), ('gespenster', 1), ('bleistifte', 2), ('kostüm', 1), ('sandwich', 3), ('belegtes', 2), ('schälen', 1), ('hinnehmen', 1), ('hühnchen', 1), ('erdnüsse', 2), ('einschlafen', 2), ('nirgendwohin', 3), ('identifizieren', 2), ('missachten', 1), ('kann’s', 1), ('räumte', 5), ('postkarten', 1), ('vollständig', 5), ('bremsen', 4), ('zählte', 2), ('200', 1), ('zweihundert', 2), ('gezählt', 5), ('manchmal', 12), ('date', 1), ('geländewagen', 1), ('banken', 1), ('müsli', 1), ('einkaufszentrum', 2), ('deplatziert', 1), ('handtücher', 4), ('zusammengelegt', 1), ('seltsame', 7), ('heimgezahlt', 1), ('abgerechnet', 1), ('empfangen', 2), ('vorahnung', 1), ('festnehmen', 4), ('raushängen', 1), ('hass', 1), ('dorf', 2), ('bierbauch', 2), ('behinderung', 1), ('hohes', 2), ('laufende', 1), ('gästezimmer', 1), ('blinddarmentzündung', 2), ('bohrenden', 1), ('freizeit', 1), ('tennisarm', 1), ('geschah', 3), ('flüstern', 3), ('versteckte', 11), ('aufgehoben', 4), ('aufregen', 1), ('anfühlt', 1), ('funkioniert', 2), ('french', 1), ('toast', 1), ('käsepizza', 1), ('drachenfrüchte', 1), ('helle', 3), ('liebesgeschichten', 2), ('kartoffelsalat', 5), ('hacke', 1), ('webseite', 3), ('vortrag', 2), ('sperrte', 1), ('nachgesehen', 3), ('beherrschung', 4), ('chinesisches', 1), ('brombeeren', 1), ('erdbeeren', 1), ('firma', 4), ('pulli', 1), ('kochkunst', 1), ('abgebogen', 2), ('gelang', 3), ('hineinzukommen', 2), ('zufällig', 5), ('club', 1), ('überzeugen', 3), ('aussehen', 7), ('gesessen', 1), ('leichten', 2), ('niere', 1), ('schmerzmittel', 2), ('tuch', 1), ('papiertaschentuch', 1), ('kleiderbügel', 1), ('passwort', 3), ('kennwort', 1), ('wiedergutmachung', 1), ('streitereien', 1), ('angeboten', 5), ('öfters', 1), ('3000', 1), ('gestrichen', 1), ('geputzt', 1), ('beeilte', 2), ('blitz', 3), ('bonus', 1), ('überarbeitete', 1), ('revidierte', 1), ('revidiert', 1), ('vorige', 1), ('antrag', 2), ('gesandt', 1), ('kunstgeschichte', 1), ('unterdrückte', 2), ('daraufgesetzt', 1), ('kreuz', 1), ('verrissen', 1), ('ausgezogen', 7), ('zerriss', 4), ('hinzusehen', 1), ('angemacht', 2), ('freimütigkeit', 3), ('mikroskop', 1), ('geschehe', 1), ('zwar', 1), ('orangensaft', 2), ('steak', 3), ('besaufen', 1), ('vermögenden', 1), ('ruhiges', 1), ('fürchtete', 2), ('bauklötze', 1), ('gestaunt', 1), ('bange', 1), ('einzelheiten', 4), ('freuden', 1), ('verreisen', 3), ('deutsch', 8), ('kapierte', 1), ('hörtest', 1), ('werds', 2), ('ginge', 3), ('zugesagt', 1), ('bejaht', 2), ('hierherkommen', 1), ('stadtplan', 4), ('daiquiri', 1), ('arbeitszimmer', 2), ('magermilch', 1), ('vereinfache', 1), ('wiedergutmachen', 2), ('vorlesen', 3), ('überdenken', 1), ('überleg’s', 1), ('aktualisieren', 1), ('assistent', 2), ('assistentin', 2), ('leibwächter', 1), ('leibwächterin', 1), ('zuhörer', 1), ('zuhörerin', 1), ('verheiratete', 1), ('perfektionist', 2), ('tattookünstlerin', 1), ('tennisspieler', 6), ('tennisspielerin', 2), ('vorm', 3), ('autowaschanlage', 1), ('diensten', 1), ('abgeholt', 1), ('rechne', 4), ('entwerfe', 1), ('verdurste', 2), ('maßen', 3), ('apartment', 1), ('berühmtheit', 1), ('wissenschaftlerin', 1), ('beschwere', 1), ('stimmung', 3), ('mische', 1), ('eingeschüchtert', 1), ('geschäftsführer', 2), ('judo', 1), ('englischen', 3), ('opfer', 3), ('derzeit', 2), ('arbeitsstelle', 5), ('vollen', 2), ('füllung', 1), ('geldbörse', 2), ('vertan', 1), ('1', 1), ('primzahl', 1), ('weihnachtsmann', 1), ('arrest', 2), ('irgendetwas', 8), ('japanisches', 3), ('uboot', 1), ('kanonen', 1), ('spatzen', 2), ('kanonenfeuer', 1), ('spatzenbekämpfung', 1), ('eiskalt', 3), ('schneeweiß', 1), ('prophezeiung', 1), ('schmiert', 1), ('dauerte', 4), ('sonnenenergie', 2), ('geschäftige', 2), ('kompromiss', 3), ('stockdunkle', 1), ('fabelhafte', 1), ('törichte', 1), ('kinderspiel', 4), ('steinhart', 1), ('stein', 7), ('eng', 1), ('verdammt', 1), ('günstig', 1), ('unverzeihlich', 2), ('unentschuldbar', 1), ('unwichtig', 4), ('echte', 3), ('liebstes', 1), ('liebster', 1), ('liebste', 1), ('knobelaufgabe', 1), ('trostloser', 1), ('freies', 2), ('riesenfehler', 1), ('hohe', 1), ('betrag', 1), ('störung', 2), ('\\u200b\\u200bgroß', 1), ('11', 2), ('elf', 4), ('insiderwitz', 1), ('eingeweihte', 1), ('älteres', 1), ('außerordentlich', 1), ('wolken', 1), ('bricht', 2), ('chic', 2), ('modisch', 1), ('bloßes', 1), ('hirngespinst', 2), ('placebo', 3), ('verhandelbar', 1), ('unbekannt', 1), ('kratzer', 1), ('vorübergehend', 2), ('zeitaufwendig', 2), ('wirksam', 1), ('eigene', 7), ('jupiter', 1), ('portion', 2), ('pommes', 2), ('frites', 1), ('erfordet', 1), ('art', 3), ('feierabend', 1), ('bierchen', 1), ('obergeschoss', 1), ('überreagieren', 2), ('ruinieren', 2), ('termin', 1), ('merlin', 1), ('1791', 1), ('kanadierin', 6), ('tierarzt', 1), ('katzenminze', 1), ('garnelen', 1), ('geschwollen', 1), ('bescheidene', 1), ('ziele', 1), ('heimat', 3), ('spukt', 7), ('notizbuch', 3), ('klingelt', 2), ('zimmerschlüssel', 1), ('zimmernummer', 3), ('rachen', 1), ('ganzer', 2), ('wimper', 1), ('gezuckt', 1), ('geringste', 3), ('aufschlag', 1), ('gewohnheiten', 1), ('abzuschütteln', 1), ('verbündeten', 1), ('begrenzt', 1), ('pfirsiche', 1), ('volk', 1), ('lüfte', 2), ('lüftet', 2), ('lüften', 2), ('korrigieren', 1), ('nuschele', 2), ('blinker', 2), ('schlafanzüge', 1), ('bekleide', 1), ('schriftlich', 1), ('armband', 2), ('rambo', 2), ('älteren', 1), ('leuten', 3), ('krempel', 1), ('ärmel', 2), ('demnächst', 1), ('übermorgen', 1), ('getanzt', 3), ('geschenkt', 2), ('schenkte', 5), ('2000', 1), ('klatschbase', 1), ('gutmütig', 1), ('geachtet', 1), ('fräulein', 1), ('strotzt', 1), ('wohlbefinden', 1), ('quatschte', 1), ('wange', 2), ('schnürte', 1), ('bass', 1), ('verpfändet', 1), ('reservierte', 2), ('buchte', 1), ('gebucht', 1), ('gereist', 3), ('wies', 6), ('modernes', 1), ('willensstark', 2), ('schafe', 3), ('freches', 1), ('freche', 1), ('gästebuch', 2), ('scheiben', 1), ('schneid', 1), ('einigen', 1), ('gefällt’s', 1), ('dazwischen', 1), ('tages', 3), ('kritisieren', 1), ('blödeln', 1), ('herumzuspielen', 1), ('herumzuhacken', 1), ('herzumzublödeln', 1), ('thailand', 1), ('information', 1), ('jenes', 2), ('einiges', 2), ('fachgebiet', 1), ('ordentlicher', 1), ('unerwartet', 3), ('marke', 1), ('ausgezeichnete', 2), ('tolles', 2), ('gedicht', 6), ('zitronenbaum', 2), ('rekord', 1), ('ausnahme', 2), ('entspricht', 1), ('gesunden', 1), ('menschenverstand', 2), ('entmutigend', 1), ('beschämend', 2), ('rausgeschmissenes', 1), ('blödsinnig', 1), ('binsenwahrheit', 1), ('hinzunehmen', 1), ('unannehmbar', 1), ('unangebracht', 1), ('ebendas', 1), ('ebendarum', 1), ('erwärmte', 1), ('auktion', 1), ('läutet', 1), ('meinige', 1), ('bluse', 4), ('busch', 1), ('ranzig', 1), ('knopf', 9), ('putzig', 1), ('tische', 1), ('bänke', 1), ('drastisch', 1), ('getreide', 1), ('sprung', 1), ('angerichtet', 3), ('schuh', 1), ('zufriedenen', 3), ('feueralarm', 2), ('erscholl', 1), ('lebensmittel', 1), ('lichter', 1), ('brüllt', 1), ('endlos', 1), ('lumpen', 1), ('zart', 2), ('affe', 3), ('schockierte', 1), ('aller', 3), ('sau', 1), ('fror', 2), ('saal', 1), ('rappelvoll', 1), ('narbe', 2), ('verheilt', 2), ('sinkt', 1), ('verdunkelte', 1), ('trüb', 1), ('netzpräsenz', 1), ('nachgelassen', 2), ('reißverschluss', 3), ('angeschlagen', 2), ('weitere', 2), ('zeugen', 4), ('zweie', 1), ('bedingung', 1), ('schuhen', 1), ('christen', 1), ('bauern', 2), ('schlachtfeld', 1), ('erkannten', 1), ('chor', 1), ('eröffneten', 2), ('untergrundbahn', 2), ('brave', 1), ('unzertrennlich', 2), ('verspotten', 1), ('normale', 1), ('landwirte', 1), ('geortet', 1), ('kanne', 2), ('bedeuten', 2), ('schublade', 5), ('goldmine', 1), ('handel', 1), ('enormer', 1), ('gewaltiger', 1), ('zeitung', 12), ('makabrer', 1), ('eiswürfel', 2), ('tolerieren', 2), ('inderin', 1), ('rumpelkammer', 1), ('ohrwurm', 1), ('herren', 1), ('lauten', 2), ('solche', 8), ('tōkyō', 1), ('missbrauchte', 1), ('berufstätig', 1), ('fertiggericht', 1), ('tiefkühlgericht', 1), ('gestoßen', 2), ('tänzer', 7), ('nägeln', 2), ('netzkamera', 1), ('möglichen', 1), ('schimpfwörter', 1), ('vorhin', 2), ('ölwechsel', 1), ('überprüfte', 2), ('ölstand', 2), ('sammelt', 3), ('kämmte', 1), ('konfrontierte', 1), ('zustande', 1), ('teilte', 1), ('beschloss', 3), ('liefert', 3), ('pizzas', 1), ('pizzen', 1), ('handstand', 5), ('lausige', 1), ('auffassung', 1), ('tragische', 1), ('enttäuschte', 2), ('trocknete', 1), ('datsun', 1), ('ermunterte', 1), ('zwickmühle', 1), ('täuschte', 1), ('tauben', 1), ('verschränkte', 1), ('ängstigte', 1), ('630', 2), ('überholte', 2), ('klitschnass', 1), ('schnurrbart', 1), ('bösen', 1), ('kapuzenpulli', 1), ('krampf', 1), ('kahle', 1), ('schwarzen', 4), ('lippenspalte', 1), ('vergangenheit', 1), ('knieschmerzen', 1), ('angina', 1), ('mandelentzündung', 1), ('erhitzte', 1), ('verbarg', 1), ('tiefpunkt', 1), ('angelangt', 1), ('hupte', 1), ('hupe', 1), ('demütigte', 1), ('telefonat', 1), ('unternimmt', 1), ('rucksackreisen', 1), ('biochemiker', 1), ('labertasche', 1), ('tagträumer', 1), ('straftäter', 1), ('familienmensch', 1), ('feuerschlucker', 1), ('normaler', 1), ('pfandleiher', 1), ('programmierer', 1), ('psychopath', 1), ('wagehals', 1), ('waghalsiger', 1), ('wagemutiger', 1), ('steinmetz', 1), ('starkes', 2), ('dummer', 1), ('arbeitswütig', 3), ('architekt', 1), ('geizhals', 2), ('knurrig', 1), ('grantig', 1), ('geartet', 1), ('hütet', 1), ('unwiderstehlich', 3), ('hüpft', 1), ('verlässt', 1), ('psychisch', 1), ('selbstverliebt', 1), ('13', 1), ('jüngster', 1), ('versnobt', 1), ('rechtshänder', 1), ('versager', 1), ('schwachkopf', 1), ('memme', 1), ('jüngste', 1), ('begabt', 7), ('warmherzig', 1), ('vergeudet', 1), ('vertut', 2), ('verschwendet', 4), ('brünette', 1), ('curry', 1), ('angesteckt', 3), ('elendsviertel', 2), ('slum', 2), ('armenviertel', 1), ('verwirrten', 1), ('zögerlich', 1), ('würdevoll', 1), ('gehetzten', 1), ('johannes', 2), ('glückssspiel', 1), ('tratschtante', 1), ('rückte', 1), ('schweigend', 1), ('geldschrank', 2), ('siebensachen', 1), ('schälte', 2), ('pflanzte', 4), ('karroten', 1), ('kopfsalat', 1), ('5\\u202fkm', 1), ('weigert', 3), ('bereute', 1), ('schwieg', 1), ('entschuppte', 1), ('lockerer', 1), ('schlürfte', 1), ('zittern', 4), ('startete', 1), ('zeh', 4), ('geologie', 2), ('gelehrt', 2), ('bedrohte', 1), ('pflegte', 1), ('tapferer', 4), ('verschollen', 1), ('verscholl', 1), ('gesteckt', 5), ('ersticken', 1), ('gedankenlos', 2), ('traumatisiert', 1), ('abgewiesen', 1), ('unterzog', 1), ('entziehungskur', 1), ('wischte', 2), ('erwachte', 2), ('schutzhelm', 1), ('einzelhandel', 1), ('unaufgeräumt', 1), ('ausstellen', 1), ('kaffees', 2), ('fahrkarten', 1), ('eintrittskarten', 2), ('regenschirme', 1), ('nebenkosten', 1), ('erleidet', 1), ('mangel', 1), ('mannschaften', 1), ('gegenüber', 2), ('gefasst', 6), ('vereinbarung', 1), ('mündliche', 1), ('einkauf', 1), ('hoffentlich', 1), ('losgelegt', 3), ('stellten', 1), ('forderungen', 1), ('dampfschiff', 1), ('eisenstange', 1), ('freigehalten', 1), ('würzen', 1), ('richtung', 1), ('umkehren', 1), ('dachten', 3), ('wüssten', 1), ('wüsstet', 1), ('reisten', 1), ('wuschen', 1), ('täten', 2), ('häftlinge', 1), ('fremden', 1), ('zeitplan', 1), ('einzuhalten', 1), ('unserem', 2), ('klub', 1), ('bizarre', 1), ('herrliches', 1), ('absurde', 1), ('optionen', 2), ('fertigst', 1), ('bastelst', 1), ('krieges', 1), ('nachgeschlagen', 1), ('schlägst', 2), ('buchstabe', 1), ('sonnenuntergang', 1), ('krach', 1), ('punktestand', 1), ('bewandert', 1), ('hindert', 1), ('busfahrschein', 1), ('dient', 2), ('datum', 1), ('wievielte', 4), ('heutige', 1), ('menü', 1), ('liebling', 1), ('pension', 1), ('brichst', 1), ('dateien', 2), ('akten', 1), ('gingt', 1), ('rotstift', 1), ('weißbrot', 1), ('vergesse', 2), ('villa', 1), ('bibel', 2), ('verfasst', 1), ('verfasste', 1), ('fremde', 1), ('humpelst', 1), ('schmollst', 1), ('gähnst', 1), ('zögerst', 1), ('begleitet', 1), ('güte', 3), ('kasten', 2), ('karton', 4), ('puh', 1), ('kurzen', 1), ('aufsatz', 3), ('lügenbold', 2), ('kanadierinnen', 4), ('überlegst', 1), ('ausborgen', 2), ('bezwingen', 1), ('einfälle', 3), ('liebhabe', 1), ('ohrring', 3), ('spielhebel', 1), ('joystick', 3), ('aufwachen', 1), ('erwachen', 1), ('überfahren', 1), ('duftest', 1), ('klingst', 3), ('superhübsch', 1), ('erkälten', 1), ('lustiges', 2), ('arbeitshai', 2), ('streitsüchtig', 3), ('verwirrst', 3), ('unüberlegt', 1), ('überreagierst', 1), ('süßeste', 2), ('hilfsbereit', 2), ('vergeudest', 2), ('munition', 2), ('verschwendest', 2), ('vergeuden', 1), ('emsig', 1), ('fahrkarte', 3), ('zebras', 1), ('streifen', 1), ('zucchini', 1), ('„hallo“', 1), ('kalmar', 1), ('tentakel', 1), ('füg', 1), ('fügt', 1), ('amputation', 1), ('strauß', 1), ('jedenfalls', 2), ('affen', 2), ('brillen', 1), ('maschine', 1), ('ängstigst', 1), ('ängstigen', 1), ('drehst', 1), ('sauna', 1), ('geisteskrankheit', 1), ('flugfertig', 1), ('flugbereit', 1), ('nonne', 2), ('spionieren', 1), ('drollig', 1), ('fälschungen', 1), ('blas', 1), ('blast', 1), ('erwünscht', 2), ('vollversion', 1), ('110', 2), ('verlängern', 1), ('ausrichten', 1), ('anschalten', 1), ('anmachen', 1), ('empfinden', 1), ('zulegen', 1), ('liefern', 1), ('überbringen', 3), ('spülbecken', 3), ('reichst', 1), ('erraten', 2), ('c', 2), ('programmieren', 2), ('rinder', 1), ('veränderungen', 1), ('erkältungen', 1), ('kontext', 1), ('baumwolle', 3), ('wechseln', 1), ('hundert', 2), ('tote', 4), ('beglichen', 1), ('überbring', 1), ('diamanten', 1), ('erbeten', 1), ('kauftest', 1), ('katzenfutter', 1), ('öfter', 1), ('färbst', 1), ('ißt', 1), ('tätowierung', 3), ('tattoo', 1), ('haustiere', 3), ('tesafilm', 1), ('klebeband', 1), ('brokkoli', 2), ('brezeln', 1), ('schwimmst', 2), ('feierst', 1), ('meditierst', 1), ('anglistik', 1), ('redest', 2), ('kimono', 1), ('delphine', 1), ('delfine', 1), ('verzage', 1), ('negativ', 2), ('brich', 1), ('friss', 1), ('vergesst', 1), ('rege', 1), ('steigere', 1), ('steigern', 1), ('doll', 2), ('bohr', 1), ('zupf', 1), ('ankommen', 5), ('fordern', 2), ('verschütten', 1), ('rühre', 3), ('fürchteten', 1), ('ungeschicklichkeit', 1), ('unbeholfenheit', 3), ('unterschiede', 1), ('grenzt', 1), ('apparat', 3), ('besorg', 2), ('gönn', 1), ('rucksack', 3), ('beschuldigt', 1), ('genieß', 1), ('fertiggestellt', 4), ('vermessen', 4), ('ausgemessen', 4), ('gemessen', 2), ('angenommen', 4), ('zielte', 1), ('unternahm', 1), ('selbstmordversuch', 1), ('begehen', 2), ('katholik', 3), ('atemzug', 3), ('genf', 1), ('überquerte', 5), ('anmut', 1), ('entschloss', 4), ('verschlang', 2), ('mahlzeit', 1), ('einziges', 2), ('leerte', 2), ('doktortitel', 1), ('22', 1), ('hungrigen', 1), ('50', 2), ('jegliche', 1), ('dunkles', 2), ('ausländisches', 2), ('aussprache', 1), ('behaarte', 2), ('einkommen', 4), ('angenehme', 1), ('kräftige', 3), ('gehör', 4), ('sonderbare', 2), ('vorstellungen', 2), ('töchter', 5), ('versehen', 2), ('japanischer', 1), ('athlet', 1), ('redner', 2), ('scharfer', 1), ('kritiker', 1), ('fauler', 3), ('abgebrüht', 2), ('sechzig', 3), ('zweiundfünfzig', 1), ('energie', 3), ('tauchen', 4), ('zufriedenzustellen', 3), ('herr', 4), ('bäckt', 4), ('backt', 3), ('einfaches', 4), ('indisch', 1), ('schweres', 2), ('yokohama', 2), ('unhöfliche', 2), ('unverschämte', 1), ('ausrede', 2), ('ausgedacht', 4), ('durchaus', 4), ('bügelte', 7), ('hosen', 5), ('nackig', 1), ('rausgerannt', 1), ('verspottet', 2), ('zeichnete', 1), ('notiz', 3), ('zugesteckt', 1), ('portugiesisch', 2), ('erkrankte', 1), ('solle', 5), ('bänderriss', 1), ('geübt', 3), ('kennenlernen', 9), ('smoking', 2), ('augenklappe', 2), ('hilfskellner', 1), ('abräumer', 1), ('bedienungsgehilfe', 1), ('billigen', 1), ('nervenbündel', 1), ('nervliches', 1), ('waschechter', 1), ('spanier', 1), ('scheut', 1), ('lungenkrebs', 2), ('amateur', 2), ('halbbruder', 3), ('mitzuhelfen', 1), ('duscht', 2), ('klassenclown', 1), ('behandlung', 1), ('beschützend', 1), ('unlauter', 1), ('allerseits', 1), ('herausgefunden', 4), ('ergangen', 1), ('stoppt', 1), ('personen', 1), ('heilig', 1), ('abbitte', 1), ('verzeihung', 6), ('immerzu', 2), ('unternehmer', 1), ('baue', 2), ('mauer', 1), ('fußballbegeisterter', 1), ('kleide', 1), ('verlache', 2), ('baskisch', 1), ('ähnele', 1), ('melke', 1), ('wische', 1), ('schrecklichen', 2), ('vertue', 1), ('verschwende', 2), ('beantragt', 1), ('apfelkuchen', 1), ('inständig', 1), ('dazubleiben', 1), ('lampe', 1), ('frisches', 1), ('aschenbecher', 1), ('fingerkuppe', 2), ('gegenübertreten', 2), ('einmischen', 1), ('wegzugehen', 2), ('seltene', 1), ('münzen', 1), ('konsultiert', 1), ('überquert', 1), ('paarmal', 1), ('liegestütze', 1), ('informiert', 1), ('durchgelesen', 1), ('großstädte', 1), ('interessiere', 1), ('diskriminiere', 1), ('angeschwindelt', 1), ('nachtragend', 1), ('geheuer', 1), ('scheitere', 1), ('drink', 4), ('wohltätigkeit', 1), ('almosen', 1), ('poesie', 1), ('spende', 1), ('faxte', 1), ('gesucht', 4), ('gebäude', 4), ('bisweilen', 1), ('gehemmt', 1), ('physik', 2), ('herzanfall', 2), ('missgeschick', 1), ('eingebung', 1), ('eifersüchtige', 2), ('abschiede', 2), ('erdnussbutter', 2), ('stummfilme', 1), ('schlimmen', 1), ('bessere', 3), ('besseren', 3), ('kreditkarte', 2), ('shirt', 1), ('halbschwester', 2), ('reservierung', 2), ('vorbehalt', 1), ('leichte', 6), ('leichtes', 3), ('halsweh', 1), ('halsschmerzen', 6), ('wunden', 3), ('stiefbruder', 2), ('bauchweh', 1), ('naschkatze', 2), ('zwillingsschwester', 1), ('holzkamm', 2), ('rückenprobleme', 1), ('sehvermögen', 1), ('beurteilt', 5), ('verkannt', 1), ('nirgends', 3), ('absolute', 3), ('voranmachen', 1), ('gelangen', 1), ('prioritäten', 1), ('schimmer', 2), ('grade', 1), ('gebärdensprache', 1), ('herrn', 1), ('hinauswillst', 2), ('dosen', 1), ('dosenobst', 1), ('country', 1), ('dunklen', 2), ('angebraten', 1), ('male', 1), ('ohrringe', 2), ('paprika', 1), ('technischen', 1), ('spielereien', 1), ('papierflugzeug', 1), ('papierflieger', 1), ('gebastelt', 1), ('wirtschaftswissenschaft', 2), ('soziologie', 1), ('ebensogut', 1), ('respektlos', 2), ('auswendig', 3), ('riesenmist', 1), ('mittagszeit', 1), ('januar', 1), ('kochkünste', 1), ('dampf', 1), ('ablassen', 1), ('schale', 1), ('sauberes', 1), ('übersetzung', 2), ('notizblock', 1), ('erlaubnis', 1), ('genehmigung', 1), ('autorisiert', 1), ('bettdecken', 1), ('anleitung', 1), ('bedenkzeit', 2), ('bezweifelt', 1), ('gelebt', 2), ('eistee', 1), ('fünfzigtausend', 2), ('spannte', 1), ('reut', 2), ('widerstrebend', 1), ('„lass', 1), ('sein“', 1), ('ewigkeit', 1), ('schlafenden', 1), ('mischte', 1), ('angeschnitten', 1), ('eröffnet', 1), ('kenn', 1), ('seiest', 3), ('fotografiert', 1), ('anprobiert', 1), ('anzurufen', 4), ('hahn', 1), ('zugedreht', 1), ('unterschätzt', 5), ('hinaufgegangen', 1), ('mp3player', 1), ('mp3spieler', 1), ('segeln', 1), ('zuhörst', 1), ('befürchtet', 1), ('einzelgängerin', 1), ('bücherei', 2), ('theater', 3), ('geblutet', 1), ('todlangweilig', 1), ('biene', 1), ('bürgen', 1), ('wünscht’', 1), ('wär’', 2), ('vögelein', 1), ('seele', 4), ('bieten', 1), ('manhattan', 1), ('vorsichtiger', 1), ('bittest', 1), ('rächen', 1), ('sozialhilfe', 1), ('wahrnehmen', 2), ('dazusein', 1), ('stiefvater', 2), ('französischlehrer', 1), ('französischlehrerin', 1), ('krebspatient', 1), ('blondine', 2), ('polizeibeamter', 1), ('polizistin', 1), ('privatperson', 1), ('flugangst', 1), ('gesetzesentwurf', 1), ('katzenallergie', 2), ('allergisch', 5), ('maisallergie', 1), ('mais', 1), ('hundeallergie', 1), ('stauballergie', 1), ('archäologin', 1), ('archäologe', 1), ('achtklässler', 1), ('verfügung', 1), ('verzehre', 1), ('frühstücke', 2), ('freust', 1), ('fitnessstudio', 1), ('geschäftlich', 3), ('demselben', 1), ('ultramüde', 1), ('bügele', 1), ('reinemachen', 1), ('vergewissere', 1), ('essbarem', 1), ('abhalten', 2), ('gewöhnt', 6), ('anzeige', 1), ('erstatten', 1), ('lesens', 3), ('schreibens', 1), ('vorgeladen', 1), ('abgebrochen', 1), ('verrückten', 1), ('herzschrittmacher', 1), ('lausigen', 1), ('entschluss', 1), ('island', 1), ('kurs', 2), ('betrachtet', 1), ('23', 1), ('taxifahrerin', 2), ('geständnis', 1), ('stundenplan', 1), ('aufzug', 2), ('diamant', 1), ('ausderhaut', 1), ('nieseln', 1), ('tröpfeln', 1), ('leuchtet', 1), ('dunkeln', 3), ('gekennzeichnet', 1), ('kindische', 1), ('handlung', 1), ('wertvoll', 1), ('mode', 2), ('ente', 1), ('höflichkeit', 1), ('fehlalarm', 1), ('gepasst', 4), ('bescheuerte', 2), ('blöder', 1), ('höherer', 1), ('schreckliche', 4), ('absichtlich', 4), ('kosten', 5), ('zeitlang', 1), ('familiengeheimnis', 1), ('erkrankung', 1), ('kopfhaut', 1), ('undankbare', 1), ('volle', 2), ('böhmische', 1), ('dörfer', 1), ('extremfall', 1), ('tagen', 5), ('kochend', 1), ('vorstellbar', 1), ('keller', 5), ('leder', 1), ('speisekarte', 1), ('vorhersehbar', 5), ('aufzuwachen', 1), ('ohnehin', 1), ('befriedigend', 1), ('zufriedenstellend', 1), ('täte', 3), ('vermögen', 1), ('halbinsel', 1), ('kämm', 1), ('schweig', 1), ('lämmer', 1), ('lämmchen', 1), ('handfläche', 1), ('diskutieren', 2), ('frühstücken', 3), ('schneemann', 4), ('verschnaufen', 1), ('lincoln', 1), ('1865', 1), ('wägen', 1), ('lenken', 2), ('grenzen', 1), ('bäume', 5), ('umgestürzt', 1), ('feilte', 1), ('gesichtshaut', 1), ('straffen', 1), ('fetengängerin', 1), ('ausschließlich', 1), ('irgendwelchen', 2), ('veranstaltungen', 1), ('kutschieren', 1), ('unattraktiv', 1), ('gestrickt', 1), ('strickte', 1), ('halskette', 1), ('gnädige', 1), ('eingangshalle', 1), ('geteiltes', 1), ('nikon', 1), ('doktor', 3), ('entsetzlich', 3), ('pochen', 1), ('burg', 2), ('abgebrannt', 1), ('linke', 4), ('motorrad', 1), ('idiotin', 1), ('sohnes', 1), ('lila', 1), ('alpträume', 4), ('furchteinflößend', 1), ('angsteinflößend', 1), ('entrinnt', 1), ('bisher', 2), ('schlimmes', 2), ('öl', 1), ('aufgebraucht', 1), ('bewerben', 1), ('ehe', 1), ('verletz', 1), ('tötet', 1), ('anwesenheit', 1), ('irritieren', 1), ('verschließe', 1), ('merk', 1), ('verschone', 1), ('umblättern', 2), ('versprich', 2), ('schubfach', 2), ('zwecklos', 2), ('schulanfang', 1), ('doppelter', 1), ('ausführung', 1), ('briefträgerin', 1), ('teeservice', 2), ('erschienen', 2), ('tänzerin', 4), ('schriftstellerin', 1), ('stille', 2), ('botin', 1), ('miniröcke', 1), ('stopfte', 1), ('knallte', 1), ('geklaut', 5), ('forderte', 2), ('anzuhalten', 1), ('befunden', 2), ('picknick', 1), ('bauchtänzerin', 1), ('gelenkig', 2), ('religiös', 2), ('strumpfhosen', 2), ('ausgeht', 1), ('oberhalb', 4), ('unterschrift', 2), ('smog', 2), ('gehüllt', 1), ('bedeckt', 1), ('bedeckte', 1), ('behoben', 1), ('manche', 1), ('erspare', 1), ('aktienkurse', 1), ('sumatra', 1), ('schaff', 2), ('aufgehen', 3), ('bushaltestelle', 3), ('einzelne', 1), ('hühnchenfleisch', 1), ('erlebnis', 1), ('vorherzusehen', 1), ('phantastische', 1), ('günstiges', 1), ('günstiger', 2), ('brosche', 1), ('kluge', 2), ('frauenarbeit', 1), ('enttäuschend', 1), ('despektierlich', 1), ('spezialität', 1), ('verwundbare', 1), ('schwachstelle', 1), ('zahnbürste', 2), ('ratsam', 1), ('anzuraten', 1), ('alternative', 1), ('pseudowissenschaft', 1), ('purer', 1), ('herausforderung', 1), ('haupttor', 1), ('wünschen', 6), ('beginnt', 4), ('säugling', 2), ('krabbelt', 1), ('grenze', 1), ('kabinett', 1), ('miauen', 1), ('tickt', 1), ('versammlung', 1), ('gericht', 2), ('zugehen', 1), ('gate', 3), ('geistern', 3), ('heimgesucht', 2), ('flammen', 2), ('seen', 1), ('beleuchtung', 1), ('postsendung', 1), ('übergekocht', 1), ('löst', 1), ('desto', 3), ('speisekammer', 1), ('reinfall', 1), ('taube', 1), ('gurrt', 1), ('trivial', 1), ('ufer', 1), ('unwahr', 1), ('bettlaken', 3), ('sprecher', 1), ('speer', 1), ('bleicht', 1), ('temperatur', 1), ('4', 1), ('nachmittags', 1), ('tumor', 1), ('gutartig', 1), ('wasserleitung', 3), ('platzte', 1), ('verdreckt', 2), ('heilt', 3), ('ausnahmen', 1), ('gegenmittel', 1), ('gegengift', 1), ('unterschied', 2), ('heißes', 1), ('kapitän', 2), ('hauptmann', 1), ('bekämpften', 1), ('angebaut', 1), ('lebten', 1), ('ernannt', 1), ('tägliche', 1), ('pflege', 1), ('blicken', 1), ('zahlten', 1), ('basketball', 4), ('schienen', 1), ('ubahn', 1), ('treppauf', 1), ('touristen', 1), ('unschuldige', 1), ('bedrohung', 1), ('freudentränen', 1), ('losgegangen', 1), ('weich', 3), ('kläffer', 1), ('zustimmung', 1), ('kanarienvogel', 1), ('spind', 1), ('gesichtspunkt', 1), ('großartiges', 1), ('zauberstab', 1), ('leihwagen', 1), ('mietwagen', 1), ('selbstgemachte', 1), ('traumberuf', 1), ('glückstag', 3), ('schlafzimmer', 3), ('hinhauen', 2), ('brechend', 1), ('verzehr', 1), ('essbar', 1), ('beengt', 1), ('sweatshirt', 1), ('zerbrechlich', 2), ('wand', 1), ('häuser', 2), ('zeitplanung', 1), ('riesige', 2), ('eigenmächtig', 1), ('verfährt', 1), ('verläuft', 2), ('gummibärchen', 1), ('zögern', 1), ('flehte', 3), ('gnade', 1), ('hauchte', 1), ('rühmte', 1), ('bilanzen', 1), ('hingekriegt', 1), ('sehnte', 1), ('giert', 1), ('gepfuscht', 1), ('schlampig', 1), ('schludrige', 1), ('durchgehalten', 1), ('verschwieg', 1), ('zurückgewinkt', 1), ('schlampige', 1), ('spatz', 1), ('vögelchen', 1), ('landete', 2), ('ertrug', 1), ('kläglich', 1), ('benebelt', 1), ('feuerte', 2), ('hergeschafft', 1), ('einsen', 1), ('kribbelig', 1), ('9\\xa0uhr', 1), ('17\\xa0uhr', 1), ('gebrochenen', 1), ('vollbart', 1), ('grammophon', 2), ('nettes', 1), ('platzt', 1), ('hutschnur', 1), ('seidenschal', 1), ('steifen', 2), ('wutprobleme', 1), ('ruhiggestellt', 1), ('übergeschnappt', 1), ('talente', 1), ('autorität', 1), ('gespräch', 3), ('gebügelt', 1), ('vetter', 1), ('bodybuilder', 1), ('vielbeschäftigte', 1), ('verbreiteter', 1), ('hirsche', 1), ('hundetrainer', 1), ('drogenabhängig', 3), ('berühmter', 1), ('farmarbeiter', 1), ('feuerwehrmann', 1), ('pingeliger', 1), ('bandenmitglied', 1), ('glasbläser', 1), ('golfspieler', 1), ('arbeiter', 3), ('frauentyp', 1), ('berauscht', 1), ('millionär', 1), ('neurologe', 1), ('nervenarzt', 1), ('parkwächter', 1), ('konditor', 1), ('dürres', 1), ('gemächlicher', 1), ('fußgänger', 1), ('taxifahrer', 3), ('berufserfahrener', 1), ('synchronsprecher', 1), ('buchhalter', 1), ('kunstkritiker', 1), ('kunsthändler', 1), ('aufrichtiger', 1), ('belästigt', 1), ('unsportlich', 1), ('hirnschaden', 1), ('hackt', 1), ('rauschgift', 1), ('extrem', 2), ('brät', 1), ('kartenspielen', 1), ('grillt', 1), ('verantwortungslos', 1), ('unverantwortlich', 1), ('schlank', 1), ('gießt', 1), ('vorname', 2), ('engstirnig', 1), ('bußgeld', 1), ('strafe', 2), ('schizophren', 1), ('schilt', 2), ('schimpft', 1), ('egozentriker', 1), ('versendet', 1), ('fax', 2), ('faxt', 1), ('erkrankt', 1), ('183\\u202fm', 1), ('stärkste', 1), ('uninteressant', 4), ('verlässlich', 3), ('ehegatte', 1), ('schlauste', 1), ('gleichgewicht', 1), ('system', 3), ('mangelt', 3), ('gebricht', 1), ('disziplin', 2), ('antrieb', 1), ('herzlich', 1), ('volksmusik', 3), ('wortspiele', 1), ('haust', 1), ('belud', 1), ('versteinert', 1), ('gehörsinn', 1), ('senkte', 5), ('erklärung', 5), ('goss', 3), ('schauspiel', 1), ('hereingekommen', 2), ('moppte', 1), ('mauszeiger', 1), ('situiert', 1), ('murmelte', 1), ('schutz', 1), ('pink', 1), ('übermannte', 1), ('überwältigte', 1), ('kassierer', 1), ('warteliste', 1), ('löschte', 1), ('neige', 1), ('empfahl', 1), ('lockerte', 1), ('benannte', 1), ('sträubte', 1), ('spulte', 1), ('spülte', 1), ('schnellsten', 1), ('unsauber', 2), ('schatten', 2), ('couch', 1), ('kanapee', 1), ('tam', 1), ('chaiselongue', 1), ('punkte', 1), ('dünger', 1), ('dreimal', 1), ('nippte', 2), ('friedlich', 1), ('verschüttete', 2), ('verschüttet', 2), ('zertrat', 1), ('insekt', 1), ('kichern', 2), ('unterkriegen', 1), ('standhaft', 1), ('trommeln', 1), ('neigt', 3), ('trägheit', 1), ('ellenbogen', 1), ('fährte', 1), ('rehs', 1), ('bestreiten', 1), ('umzubringen', 4), ('schaltete', 4), ('eingeschaltet', 2), ('benutzte', 3), ('zahnstocher', 1), ('bang', 1), ('nervosität', 1), ('auspacken', 1), ('einrad', 1), ('holzfäller', 1), ('lebendigem', 1), ('leibe', 1), ('elektrisch', 1), ('geisel', 1), ('hauslehrer', 1), ('kabine', 1), ('führerhaus', 1), ('kajüte', 1), ('hütte', 1), ('beschützer', 1), ('selbstmordkandidat', 1), ('skrupellos', 1), ('populär', 2), ('safari', 1), ('klapperte', 1), ('sehenswürdigkeiten', 2), ('wackelte', 2), ('weiterhin', 2), ('nikolausmütze', 1), ('strohhut', 1), ('zusammengearbeitet', 1), ('zurückschlagen', 1), ('karriere', 1), ('mobiltelefon', 2), ('noten', 1), ('zitterten', 1), ('trockenen', 1), ('instinkten', 4), ('intuition', 1), ('sauce', 1), ('arbeitslosigkeit', 1), ('strenge', 1), ('besucher', 1), ('anstellen', 1), ('reflektiert', 1), ('spiegelt', 1), ('wider', 1), ('geschnitzt', 1), ('klären', 1), ('davonlaufen', 1), ('schützen', 1), ('paddelten', 1), ('flussabwärts', 2), ('gemeinsam', 3), ('falsches', 2), ('zuschulden', 1), ('wählten', 2), ('bürgermeisterin', 1), ('vollendeten', 1), ('flugzeuge', 1), ('gegenseitig', 3), ('zeitnehmer', 1), ('losfuhr', 1), ('apfelsinensaft', 1), ('pünktlichkeit', 2), ('spielten', 1), ('fabrik', 1), ('glückliche', 1), ('klaustrophobisch', 1), ('intim', 1), ('nähern', 1), ('dritter', 1), ('terroristen', 1), ('säen', 1), ('samen', 1), ('unterschiedlich', 1), ('alkoholisiert', 3), ('würdevoller', 1), ('perfekte', 1), ('selbstsüchtige', 1), ('egoistische', 1), ('gattin', 1), ('zeichnest', 1), ('pflichten', 1), ('wünschst', 1), ('brandursache', 1), ('ursache', 2), ('brandes', 1), ('bell', 1), ('pelikane', 1), ('zugestoßen', 1), ('widerfahren', 1), ('denkfabrik', 1), ('plus', 2), ('weiterzumachen', 1), ('motiv', 1), ('gedenkst', 1), ('bereitest', 1), ('dekorierst', 1), ('beobachtest', 1), ('korb', 1), ('tumult', 1), ('diagnose', 3), ('analyse', 3), ('spitzname', 2), ('benutzername', 2), ('vorgefallen', 1), ('aufgetragen', 1), ('messgeräte', 1), ('parkuhren', 1), ('tanten', 2), ('hintun', 1), ('botschaftsgebäude', 1), ('briefkasten', 1), ('bahnhof', 3), ('aktentasche', 1), ('badezimmer', 4), ('klo', 2), ('eingang', 2), ('apotheke', 1), ('sekretär', 1), ('gehalt', 2), ('gepflanzt', 1), ('wes', 1), ('lachst', 2), ('schlaft', 1), ('herzurichten', 1), ('funkeln', 1), ('antwortest', 1), ('brüllst', 1), ('hättet', 3), ('verdienst', 5), ('beeindruckst', 1), ('imponierst', 1), ('segen', 2), ('einbildungskraft', 1), ('stimmts', 1), ('ungezwungen', 3), ('bedeutest', 1), ('wesentliche', 1), ('berühren', 3), ('überschätzt', 1), ('unterschätzen', 2), ('gemeine', 2), ('weichst', 1), ('weichen', 1), ('parkst', 1), ('außergewöhnlich', 2), ('unentbehrlich', 1), ('unabkömmlich', 1), ('tatverdächtige', 2), ('zitterst', 1), ('hasenfuß', 1), ('’n', 1), ('knall', 1), ('forderst', 1), ('fordert', 1), ('sündenbock', 1), ('einfallslos', 1), ('phantasielos', 1), ('unvorhersehbar', 4), ('willensstärke', 3), ('gebessert', 1), ('„wer', 1), ('das“\\xa0—', 1), ('„ich', 1), ('das“', 1), ('schwanz', 1), ('verfolgt', 1), ('delfin', 1), ('säugetier', 2), ('dächern', 1), ('dingen', 1), ('unfälle', 1), ('anwälte', 3), ('gesamtes', 1), ('gesamte', 1), ('stets', 2), ('bilde', 1), ('triffst', 3), ('ermüdest', 1), ('kindermädchen', 2), ('tierkinder', 1), ('verbreiten', 2), ('barcelona', 1), ('hinuntergehst', 1), ('taschendieben', 2), ('scharfe', 1), ('milchflaschen', 1), ('heimatstadt', 1), ('behauptungen', 1), ('brad', 1), ('pitt', 1), ('studentenausweis', 2), ('putz', 1), ('geschäfte', 1), ('abschreiben', 1), ('anbieten', 1), ('vorspielen', 1), ('ausmachen', 1), ('ausschalten', 3), ('annehmen', 1), ('rangehen', 1), ('gefangennehmen', 1), ('freinehmen', 3), ('wandel', 1), ('wandels', 1), ('erwachsene', 1), ('kohle', 1), ('fossiler', 1), ('brennstoff', 1), ('bevor', 3), ('vormittag', 3), ('kompasse', 1), ('norden', 1), ('schlaue', 1), ('aufgerufen', 1), ('haareschneider', 1), ('haarschneider', 1), ('massieren', 2), ('massage', 3), ('verpassen', 3), ('registrieren', 1), ('einschreiben', 1), ('salzen', 1), ('hingehe', 1), ('umsteigen', 1), ('fliegst', 1), ('budweiser', 3), ('light', 3), ('feuerzeug', 2), ('website', 3), ('konfektionsgröße', 1), ('schweinelende', 1), ('wurzelbier', 1), ('piano', 3), ('batterien', 1), ('rasierwasser', 1), ('aftershave', 3), ('bettle', 1), ('hinausgehen', 1), ('zurückzutreten', 5), ('färbt', 1), ('vergraben', 1), ('knochen', 2), ('mauerblümchen', 1), ('seifenblase', 1), ('platzen', 1), ('alkoholeinfluss', 1), ('trau', 1), ('wunder', 2), ('sentimental', 2), ('halbem', 1), ('halber', 1), ('strecke', 1), ('zögere', 1), ('verlier', 2), ('rüttle', 1), ('plaudere', 1), ('starre', 1), ('kontinent', 1), ('blindes', 1), ('korn', 2), ('schätzt', 1), ('unerwartete', 1), ('erwartungen', 3), ('gering', 2), ('schnallen', 1), ('anschnallen', 1), ('hold', 1), ('pelzmäntel', 1), ('sonderangebot', 1), ('wiederzusehen', 3), ('wohnzimmer', 1), ('erschuf', 2), ('all', 3), ('geschellt', 1), ('bekannte', 2), ('adoptierte', 1), ('rächte', 1), ('ganzes', 2), ('scham', 1), ('königin', 1), ('linken', 2), ('gelächter', 2), ('mehrmals', 1), ('abzuholen', 1), ('räusperte', 1), ('möbeln', 1), ('besiegte', 1), ('vergoss', 1), ('träne', 1), ('arbeitsüberlastung', 1), ('überanstrengung', 1), ('ausgerenkt', 1), ('tiefen', 2), ('abschleppwagen', 1), ('heruntergefallen', 1), ('zehntausend', 2), ('üble', 1), ('angehängt', 1), ('deutschland', 4), ('zuletzt', 1), ('medikamentenallergie', 1), ('perfekten', 1), ('seltsamen', 2), ('dolmetschte', 1), ('gebürtiger', 1), ('deutscher', 2), ('geburt', 2), ('heroinabhängig', 1), ('vernunftmensch', 1), ('selfmademan', 1), ('hochgearbeitet', 1), ('scharfschütze', 1), ('verzogenes', 1), ('verdacht', 1), ('erhaben', 1), ('munter', 1), ('fidel', 1), ('heiter', 1), ('allzeit', 1), ('armeeoffizier', 1), ('eh', 1), ('diebstahls', 1), ('intimfreund', 1), ('gewöhnlicher', 1), ('angeber', 1), ('seines', 2), ('sieges', 1), ('unverwandt', 1), ('gesundem', 1), ('italienisches', 1), ('neunzig', 1), ('öffentlichen', 1), ('versorgungsnetzen', 1), ('schauspielerin', 3), ('60', 3), ('beraubte', 2), ('zuzustimmen', 1), ('lustige', 1), ('erwürgen', 1), ('zugedrückt', 1), ('ipad', 1), ('mini', 1), ('neunzehn', 1), ('rugbyspieler', 1), ('afrika', 3), ('begierig', 1), ('exkommuniziert', 1), ('einziger', 2), ('schnarchte', 2), ('geräuschvoll', 1), ('stierte', 1), ('bronzemedaille', 1), ('silbermedaille', 1), ('einzelgängerisch', 1), ('stattlicher', 1), ('junger', 1), ('meereskundler', 1), ('meeresforscher', 1), ('ozeanograph', 1), ('geschäftsreise', 1), ('durchgeknallt', 1), ('veralbert', 1), ('älterer', 1), ('zahnfleisch', 1), ('verdächtiger', 1), ('stärker', 4), ('heizen', 1), ('bediene', 1), ('räder', 1), ('klingen', 2), ('wittern', 1), ('kindern', 3), ('konntest', 6), ('konntet', 3), ('schnitte', 1), ('schnittwunden', 1), ('entgangen', 1), ('dahintergekommen', 2), ('stadtmitte', 1), ('womit', 4), ('melkt', 1), ('prüfst', 1), ('gegenwärtig', 1), ('mathetest', 1), ('mathearbeit', 1), ('matheprüfung', 1), ('matheklausur', 1), ('empfang', 1), ('tapferkeit', 3), ('bürojob', 1), ('zwinkere', 1), ('speiübel', 1), ('ernte', 2), ('heize', 1), ('klassenzimmer', 2), ('bahnhofs', 1), ('erwartete', 1), ('ärger', 1), ('glasvase', 1), ('gebrauchten', 1), ('verabschieden', 2), ('zaubertricks', 1), ('bezeugen', 1), ('hitze', 3), ('fällte', 1), ('durchquerte', 1), ('illegales', 1), ('rechtswidriges', 1), ('rechnete', 1), ('mitbekommen', 3), ('sonderlich', 4), ('zugemacht', 2), ('dunkelheit', 1), ('ratgeber', 1), ('erteilt', 1), ('oboe', 1), ('rasiere', 2), ('briefe', 1), ('cabrio', 1), ('erklärte', 1), ('verlängerte', 1), ('neugeboren', 1), ('amöbe', 1), ('erdbeben', 1), ('vernachlässigt', 1), ('rezept', 1), ('verbiete', 1), ('vorgefunden', 1), ('unterhaltung', 1), ('klassentreffen', 1), ('geschichtsunterricht', 1), ('verknallt', 1), ('erinnerungsvermögen', 3), ('tropfenden', 1), ('wasserhahn', 6), ('studentenvisum', 1), ('touristenvisum', 1), ('zwillingsbruder', 1), ('gewisse', 1), ('spielschulden', 1), ('hergekommen', 1), ('lebensversicherung', 2), ('geldprobleme', 1), ('eigenen', 3), ('ausweichplan', 1), ('furchtbare', 1), ('fürchterliche', 2), ('fönen', 1), ('füttern', 2), ('einlegen', 2), ('wecken', 2), ('beschluss', 1), ('läuten', 1), ('seiet', 2), ('gutgeht', 2), ('eule', 1), ('opossum', 1), ('wűrdest', 1), ('aussieht', 1), ('wurscht', 1), ('koreanische', 1), ('herangehensweise', 1), ('titellied', 1), ('liebeslied', 2), ('färbe', 1), ('animes', 2), ('offenheit', 1), ('freimut', 1), ('geraden', 1), ('blicks', 1), ('find’s', 1), ('anzusehen', 1), ('anrufe', 1), ('häppchen', 1), ('spannung', 1), ('eilen', 1), ('zurückzahlen', 2), ('größeren', 1), ('kleiderschrank', 1), ('sonnenöl', 1), ('sonnencreme', 1), ('biologie', 1), ('rohrzucker', 1), ('halbtags', 1), ('hunderttausend', 1), ('öcken', 1), ('vollgestopft', 1), ('verschob', 2), ('veranstaltung', 1), ('wiedererkannt', 6), ('tennisspielen', 2), ('bäuchlings', 1), ('morgens', 2), ('kenntest', 1), ('weggeworfen', 2), ('gutgehe', 1), ('türgriff', 2), ('gedreht', 1), ('vorstellungskraft', 1), ('zusammensein', 2), ('färben', 2), ('mango', 1), ('korea', 1), ('bereisen', 1), ('sekretärin', 1), ('gesundes', 1), ('zweifellos', 1), ('angeklagt', 1), ('bezug', 1), ('irrtest', 1), ('ködern', 2), ('wüsste', 1), ('fortging', 1), ('mcdonalds', 1), ('riete', 1), ('verwetten', 1), ('nachkontrollieren', 1), ('rätst', 1), ('gläser', 1), ('großmutter', 1), ('golfanhänger', 1), ('golffan', 1), ('golfliebhaber', 1), ('golfsportbegeisterter', 1), ('college', 1), ('landjunge', 1), ('rennwagenfahrer', 1), ('rennwagenfahrerin', 1), ('romantiker', 1), ('fürchterlicher', 2), ('schrecklicher', 4), ('höhenangst', 1), ('akrophobie', 1), ('restaurant', 1), ('putze', 2), ('beeinflussen', 2), ('beeinflussbar', 1), ('handwerk', 1), ('verbittert', 2), ('keineswegs', 1), ('hinsehen', 1), ('geldsack', 1), ('hierauf', 1), ('verdienste', 1), ('unwohl', 1), ('bestellungen', 3), ('schlaftrunken', 1), ('festes', 1), ('mittagspause', 2), ('videospiel', 1), ('spitäler', 1), ('krankenhäuser', 1), ('arbeitssuche', 1), ('ersticke', 2), ('entsetzlicher', 1), ('schachspieler', 1), ('inzwischen', 1), ('mitgeteilt', 1), ('fudschi', 1), ('bestiegen', 2), ('hab’', 1), ('heimgekehrt', 1), ('entdeckung', 1), ('drohungen', 1), ('eingegangen', 2), ('dienstag', 2), ('direktflug', 1), ('actionfilm', 1), ('hauses', 3), ('geläufiger', 1), ('weitverbreiteter', 1), ('parfüm', 1), ('dresscode', 1), ('kleiderordnung', 1), ('schulbus', 1), ('irgendein', 1), ('biologisch', 1), ('abbaubar', 1), ('material', 1), ('kopfschmerz', 1), ('frustrierend', 1), ('gänsehaut', 2), ('natürliche', 1), ('bestätigt', 1), ('traurige', 4), ('unanständig', 1), ('geringen', 1), ('geringem', 1), ('erweisen', 1), ('angemessen', 2), ('liebhaberei', 1), ('tango', 1), ('samstagabend', 1), ('gemeinsame', 1), ('anstrengung', 1), ('riesenerfolg', 2), ('magischer', 1), ('einfachere', 1), ('furchtbarer', 1), ('unerträglich', 2), ('verwirrend', 4), ('klärt', 1), ('vorkommen', 1), ('zweites', 1), ('wärmer', 1), ('investition', 1), ('häufiger', 1), ('notwendiges', 1), ('fesselnde', 1), ('rutschiger', 1), ('abhang', 1), ('klarer', 1), ('geldverschwendung', 1), ('explodiert', 3), ('schwieriges', 1), ('beschreiben', 1), ('komplex', 1), ('formalität', 1), ('lieblingsessen', 1), ('lieblingslied', 1), ('ungleicher', 1), ('haltbar', 2), ('leiste', 1), ('holzauge', 1), ('klopfe', 2), ('hereinkommst', 1), ('sätze', 2), ('schlafende', 1), ('erbauen', 1), ('überstürzen', 1), ('volleyball', 3), ('stamm', 1), ('sungen', 1), ('zwitschern', 1), ('holzfällen', 1), ('markieren', 1), ('model', 1), ('exfrau', 1), ('hulatänzerin', 1), ('hula', 1), ('onkologin', 1), ('stiefmutter', 1), ('stiefschwester', 1), ('spärlich', 1), ('wolle', 1), ('borgen', 1), ('rüberkommen', 1), ('herumführen', 2), ('mai', 1), ('april', 1), ('andermal', 1), ('anspringen', 2), ('angeschwollen', 2), ('graue', 1), ('getrogen', 1), ('linker', 1), ('vibriert', 1), ('darunter', 1), ('abgetragen', 1), ('einkaufstasche', 1), ('faulenzt', 1), ('nachgehen', 1), ('weisheitszahn', 2), ('bestärkte', 1), ('ermutigte', 3), ('leugnet', 1), ('ermutigt', 1), ('experten', 1), ('entgeht', 3), ('kernenergie', 1), ('phase', 1), ('herüber', 1), ('urteilt', 1), ('urteilen', 1), ('erhitze', 1), ('bügle', 1), ('zündet', 1), ('zähler', 1), ('übersetzt', 1), ('vermehren', 1), ('augenbinde', 1), ('rollschuhlaufen', 1), ('klartext', 2), ('katalog', 1), ('theaterstück', 1), ('totgeschlagen', 1), ('startsignal', 1), ('1996', 1), ('doppelkinn', 2), ('figur', 2), ('lispelt', 1), ('schmale', 1), ('taille', 1), ('schwimmerin', 1), ('kyūshū', 1), ('näht', 1), ('russischen', 1), ('pop', 1), ('york', 1), ('ausgeschlagen', 1), ('getauft', 2), ('jätete', 2), ('unkraut', 2), ('gejätet', 1), ('hundertzwanzig', 1), ('hübschen', 1), ('dickköpfiges', 1), ('ältere', 1), ('unmündig', 1), ('dritten', 1), ('reisepass', 2), ('skizzen', 2), ('einfachheit', 1), ('trumpf', 1), ('lehn', 1), ('hautpflege', 1), ('manchen', 1), ('verspäteten', 1), ('gange', 1), ('zuweilen', 1), ('verirren', 1), ('schlechtzumachen', 1), ('quälgeist', 1), ('vorwürfe', 1), ('anzubaggern', 1), ('anzumachen', 1), ('kaulquappen', 1), ('traten', 1), ('wiederkomme', 3), ('benötigst', 1), ('gespenstergeschichte', 1), ('umgekommen', 1), ('update', 1), ('bandit', 1), ('halunke', 1), ('vielversprechend', 1), ('leck', 1), ('direkter', 1), ('unerhebliches', 1), ('detail', 2), ('überlaufen', 2), ('tropfen', 1), ('hauptsache', 1), ('strategie', 3), ('verständlich', 1), ('vollkommener', 1), ('ebendahin', 1), ('jacksons', 1), ('flughafen', 2), ('antilope', 1), ('buchladen', 1), ('buchhandlung', 1), ('kugel', 1), ('fauchte', 1), ('stühle', 2), ('aufeinanderstapeln', 1), ('frieren', 1), ('entzückt', 1), ('gefäß', 1), ('daten', 1), ('knarrend', 1), ('brummt', 1), ('experiment', 2), ('misserfolg', 1), ('scheiterte', 1), ('tropft', 1), ('beruht', 1), ('gegenseitigkeit', 1), ('erwidert', 1), ('lichten', 1), ('weinten', 1), ('muskel', 1), ('brand', 1), ('menschenleer', 1), ('zustand', 1), ('patienten', 1), ('verschlechterte', 1), ('pastete', 1), ('durchgeführt', 1), ('meinerseits', 1), ('ausgetrocknet', 1), ('sickerte', 1), ('durchgesickert', 1), ('spann', 1), ('unterhaltsam', 1), ('straßen', 2), ('operation', 2), ('überflutet', 1), ('taifun', 1), ('1945', 1), ('neunzehnhundertvierundfünfzig', 1), ('1954', 1), ('lauwarm', 1), ('walfisch', 1), ('dritt', 1), ('fettfleck', 1), ('gelbe', 2), ('mäusespeck', 1), ('kauften', 1), ('brachen', 2), ('schweden', 1), ('tauschten', 1), ('grüße', 2), ('veranlassten', 1), ('verpassten', 1), ('zurückgeblieben', 1), ('verachteten', 1), ('teilten', 1), ('untereinander', 1), ('unterhielten', 1), ('stundenlang', 1), ('wahrheitsserum', 1), ('vortäuschungen', 1), ('fähige', 1), ('matheunterricht', 1), ('kriminellen', 1), ('spielkarten', 1), ('tellerrand', 2), ('hinausschauen', 1), ('stoff', 1), ('currygericht', 1), ('verschoben', 1), ('chinesischer', 2), ('fächer', 1), ('geschäftsauto', 1), ('firmenwagen', 1), ('apfelbaum', 1), ('heldenroman', 1), ('unangemessen', 1), ('rathaus', 1), ('birne', 1), ('vips', 1), ('wichtige', 1), ('persönlichkeiten', 1), ('vermieten', 1), ('feste', 1), ('schnur', 1), ('lehrbuch', 2), ('leere', 1), ('anordnungen', 1), ('schmeißt', 1), ('trinkgelder', 1), ('zwischenprüfung', 1), ('bravour', 1), ('kleinkind', 1), ('benimmt', 2), ('schlimmsten', 1), ('minister', 1), ('gebrauchtwagen', 1), ('zäumte', 1), ('striegelte', 2), ('vogelhaus', 2), ('knöpfte', 1), ('zerlegte', 1), ('truthahn', 1), ('unterhielt', 1), ('netzbriefkasten', 1), ('durchgesehen', 1), ('ballte', 1), ('verstrickt', 1), ('traute', 2), ('zurückgeschrieben', 1), ('frühen', 1), ('explosion', 2), ('pier', 1), ('scheunendrescher', 1), ('flirtete', 1), ('mädchenhaft', 1), ('ungeschoren', 1), ('hauptrolle', 1), ('wuchs', 1), ('schätzte', 1), ('hirntumor', 1), ('blendende', 1), ('hektische', 2), ('aussichten', 1), ('beheiztes', 1), ('privatjet', 1), ('privatflugzeug', 1), ('reiskocher', 1), ('rosengarten', 1), ('stichfestes', 1), ('verstopfte', 1), ('aufbrausendes', 1), ('waffeleisen', 1), ('verwiesen', 1), ('ausgehalten', 1), ('reflexe', 1), ('beigetreten', 1), ('klagen', 1), ('prinzipien', 1), ('makellose', 1), ('felsen', 1), ('büschen', 1), ('gebüsch', 1), ('schrank', 2), ('verkroch', 1), ('hörer', 1), ('johns', 1), ('verlogener', 1), ('vogelbeobachter', 1), ('automechaniker', 1), ('autoverkäufer', 1), ('konservativer', 1), ('drückeberger', 1), ('wunderheiler', 1), ('drummer', 1), ('chirurg', 1), ('gutaussehender', 2), ('hausmann', 1), ('freundlicher', 1), ('kleptomane', 1), ('mächtiger', 1), ('psychiater', 1), ('psychologe', 1), ('schafzüchter', 1), ('unruhestifter', 1), ('medizinmann', 1), ('schamane', 1), ('yogalehrer', 1), ('verhält', 1), ('fähiger', 2), ('bankier', 1), ('unterhalter', 1), ('ungewöhnliches', 1), ('bereitet', 1), ('gräbt', 1), ('spendet', 1), ('gesundheitszustand', 1), ('gesundheitlich', 1), ('bügelt', 1), ('adoptivsohn', 1), ('großvater', 1), ('waffel', 1), ('dienstfrei', 1), ('lotse', 1), ('spaßverderber', 1), ('höchstens', 1), ('geschwätzig', 1), ('makeup', 2), ('geschminkt', 1), ('umgibt', 1), ('distanz', 1), ('erschlug', 2), ('flexibilität', 1), ('laufenlassen', 1), ('angelassen', 1), ('indisches', 1), ('tschaikowski', 1), ('schimpansen', 1), ('rohe', 3), ('mohrrüben', 1), ('betrachtete', 1), ('30\\xa0kg', 1), ('kilogramm', 1), ('superdoll', 1), ('dämpfte', 1), ('pilgerfahrt', 1), ('strengte', 1), ('russische', 1), ('geldes', 1), ('bot', 1), ('lebenslauf', 1), ('aufgebauscht', 1), ('strich', 2), ('setzlinge', 1), ('trompete', 1), ('machtwort', 1), ('pulle', 1), ('ergriffen', 1), ('loszulassen', 1), ('kratzte', 1), ('schrubbte', 1), ('durchsuchte', 1), ('sichtlich', 2), ('intelligenten', 1), ('papiere', 1), ('bewundernd', 1), ('gespart', 1), ('vorteil', 2), ('unterweist', 1), ('waschlappen', 1), ('gekümmert', 1), ('spielend', 1), ('übernahm', 1), ('knallrot', 1), ('aufgedreht', 2), ('unterzogen', 1), ('rechenschieber', 1), ('erpresser', 1), ('liebeskummer', 1), ('getragen', 1), ('aufgepasst', 1), ('dritte', 1), ('donner', 1), ('entenjagd', 1), ('ausrasten', 1), ('gedulden', 1), ('schreiend', 1), ('triathlon', 1), ('seidenhemd', 1), ('amerikanische', 2), ('steuerbehörde', 3), ('indische', 1), ('ghanaische', 1), ('streckte', 1), ('feuchte', 1), ('schmutzige', 1), ('trocknet', 2), ('1939', 1), ('1941', 1), ('kalorien', 1), ('stören', 1), ('fußballer', 1), ('begruben', 1), ('kriegsbeil', 1), ('beigelegt', 1), ('flinte', 1), ('veränderten', 1), ('änderten', 1), ('bezwangen', 1), ('verlustes', 1), ('frühstücksspeck', 2), ('beschwerden', 1), ('übriggelassen', 1), ('offengelassen', 1), ('großstadt', 1), ('sandburg', 1), ('sommerlager', 1), ('zusammenarbeiten', 2), ('posierten', 1), ('ruhten', 1), ('kindheit', 1), ('verbracht', 1), ('abheben', 1), ('nachdem', 2), ('abreisen', 1), ('heimweg', 1), ('erlebt', 1), ('nachspioniert', 2), ('enttäuschung', 1), ('scheußliche', 1), ('großzügiges', 1), ('wundervolle', 1), ('glücksfall', 1), ('wasserverschwendung', 1), ('aufregendes', 1), ('spannendes', 1), ('symptome', 1), ('unterstellen', 1), ('hobbys', 1), ('beibringen', 3), ('lehren', 1), ('nennst', 1), ('bezeichnest', 1), ('bezieht', 1), ('außerdem', 1), ('nützte', 1), ('beschlossen', 2), ('dahinterkommt', 1), ('gings', 1), ('lautete', 2), ('kisten', 1), ('wichtiger', 1), ('vollständiger', 1), ('nachnamen', 1), ('nachname', 1), ('schuhgröße', 2), ('seit', 1), ('fähre', 1), ('lift', 1), ('mikrofon', 4), ('telefonbuch', 1), ('schenk', 1), ('geschenkeladen', 1), ('präsident', 2), ('enkelsohn', 1), ('fürchtest', 1), ('radium', 1), ('dynamit', 1), ('taufpatin', 1), ('ausbildung', 1), ('eingemischt', 1), ('zurückgewichen', 1), ('zurückgezogen', 1), ('geparkt', 3), ('bahn', 1), ('aufziehen', 1), ('aufklaren', 1), ('begleitest', 1), ('weisheit', 1), ('begründen', 1), ('eingeloggt', 1), ('500', 1), ('zähmen', 1), ('anschreien', 1), ('ängstigt', 1), ('runtergefallen', 1), ('armseliger', 1), ('hinbekommen', 1), ('freak', 1), ('geborgen', 1), ('erfüllen', 1), ('fleißiger', 1), ('zurückgerufen', 3), ('säet', 1), ('erntet', 1), ('saat', 1), ('enttäuschst', 1), ('müsstest', 1), ('landen', 1), ('gewöhnen', 4), ('drankommen', 3), ('naive', 1), ('naivling', 1), ('vergisst', 1), ('umgehend', 1), ('unbesiegbar', 1), ('schmunzelst', 1), ('beobachtungsgabe', 2), ('vielseitig', 1), ('konto', 2), ('haarschnitt', 1), ('methode', 1), ('wildtiere', 1), ('steife', 1), ('brise', 1), ('herab', 3), ('saugt', 1), ('gezähmt', 1), ('ausgebucht', 1), ('richtigen', 2), ('ebenhier', 1), ('schlauen', 1), ('lautsprecher', 1), ('seismologe', 2), ('seismologin', 2), ('verjagen', 1), ('junggesellen', 2), ('suchst', 3), ('drohst', 1), ('drohen', 1), ('droht', 1), ('ernste', 1), ('babys', 1), ('dachse', 1), ('löcher', 1), ('hinfällst', 2), ('zeitschriften', 2), ('papiertüte', 2), ('aussuchen', 1), ('abschließen', 1), ('planeten', 1), ('zumachen', 3), ('omelett', 1), ('kopfstand', 2), ('buchhaltung', 1), ('orgel', 3), ('staubsaugen', 3), ('nächstenliebe', 1), ('kostspielig', 1), ('zwischen', 1), ('probier’s', 1), ('gekonnt', 1), ('mähen', 2), ('verplappern', 1), ('klicken', 1), ('wolltet', 1), ('wolltest', 1), ('alligatoren', 1), ('gleichzeitig', 1), ('ufos', 2), ('grünen', 2), ('wohltätige', 1), ('zwecke', 1), ('spitznamen', 1), ('schuhanzieher', 1), ('schuhlöffel', 1), ('albträume', 3), ('tortellini', 2), ('weißwein', 1), ('rauche', 1), ('treibst', 1), ('sportarten', 1), ('rasierst', 3), ('mastercard', 2), ('aufhöre', 1), ('tätowiert', 1), ('treue', 1), ('quietschespielzeug', 1), ('spielverderber', 1), ('beschuldige', 1), ('änder', 1), ('jage', 1), ('ruhm', 3), ('übereilt', 1), ('begib', 1), ('begebt', 1), ('begeben', 1), ('anzünden', 1), ('renne', 1), ('versenden', 1), ('verhätschel', 1), ('nichts\\xa0–', 1), ('unterschätze', 3), ('trockener', 2), ('absorbiert', 1), ('osterfest', 1), ('bildung', 1), ('elfen', 1), ('nannten', 1), ('puppen', 1), ('marionetten', 1), ('position', 1), ('posten', 1), ('erhältlich', 1), ('verschlägt', 1), ('reisende', 1), ('abschiedskuss', 2), ('weiteren', 2), ('eisenkugel', 2), ('pyjama', 6), ('hänge', 2), ('123', 1), ('niederlage', 2), ('weltberühmt', 1), ('bettelte', 1), ('blies', 1), ('dutzend', 1), ('croûtons', 1), ('schallendes', 1), ('leichtigkeit', 1), ('hangzhou', 1), ('äußern', 1), ('abzugeben', 1), ('zeitungen', 1), ('undenkbare', 1), ('kleidete', 1), ('färbte', 2), ('lohn', 1), ('angewurzelt', 1), ('amputiert', 1), ('anfertigen', 2), ('dunkelbraune', 1), ('bräune', 1), ('strahlende', 1), ('fastball', 1), ('goldenes', 1), ('sauklaue', 1), ('großbritannien', 1), ('britain', 1), ('bestimmtes', 1), ('violinist', 1), ('intelligenter', 2), ('staub', 1), ('lebhafte', 1), ('aktiver', 1), ('büroangestellter', 1), ('taugenichts', 1), ('holzkopf', 1), ('dürstet', 2), ('hektisches', 1), ('schlichtes', 1), ('playboy', 1), ('reiches', 1), ('frist', 2), ('versäumt', 1), ('zurückgezahlt', 1), ('spitzte', 1), ('hellhörig', 1), ('erwiesen', 1), ('fristlos', 1), ('armer', 2), ('china', 1), ('raubte', 1), ('spart', 1), ('tönen', 1), ('abseits', 1), ('purzelbaum', 1), ('musikant', 2), ('richtiger', 2), ('trunkenbold', 1), ('säufer', 1), ('wunderbarer', 1), ('streichelte', 1), ('haaresbreite', 1), ('ballkönig', 1), ('brillengläser', 1), ('bestehen', 1), ('besessener', 1), ('baseballspieler', 2), ('ergebener', 1), ('wortes', 1), ('gesangslehrer', 1), ('pfiffiger', 1), ('willensschwacher', 1), ('rauschgiftsüchtig', 1), ('drogensüchtig', 1), ('usbürger', 1), ('asiatischer', 1), ('abstammung', 1), ('sowohl', 1), ('grillen', 1), ('dichten', 1), ('auszuspionieren', 1), ('bespitzeln', 1), ('stützt', 1), ('zusammenspiels', 1), ('würdig', 1), ('schwager', 1), ('schindet', 1), ('telefonnummer', 1), ('schnieke', 1), ('handschrift', 1), ('verworfen', 1), ('überraschten', 1), ('einfluss', 1), ('motorhaube', 1), ('nachmittag', 3), ('jagdsaison', 1), ('gespenst', 1), ('optimismus', 3), ('trauriger', 1), ('bekanntschaft', 1), ('räume', 1), ('billige', 1), ('anzuschließen', 1), ('rendezvous', 1), ('montiere', 1), ('automotoren', 2), ('gewaltiges', 1), ('beerdigung', 2), ('schongarer', 1), ('hintereingang', 1), ('gitarrenspiel', 1), ('weiterzugehen', 1), ('abstände', 1), ('alleinlassen', 1), ('abwenden', 1), ('zurücklassen', 1), ('behälter', 1), ('frisur', 1), ('zugelegt', 1), ('zerstörte', 1), ('unrechtmäßiges', 1), ('dummheit', 1), ('dummes', 1), ('kritisiert', 1), ('gewußt', 1), ('pfennig', 1), ('mark', 1), ('heller', 1), ('erinnerung', 1), ('kunstverständnis', 1), ('käme', 2), ('beben', 1), ('freigegeben', 1), ('sooft', 1), ('„eins“', 1), ('„sehr', 1), ('gut“', 1), ('anonymen', 1), ('40', 1), ('spezielles', 1), ('asthmaanfall', 1), ('streichen', 1), ('warteschlangen', 1), ('strippe', 1), ('komisches', 1), ('appetit', 2), ('bärenhunger', 1), ('teilzeitstelle', 1), ('großartigen', 1), ('knöchel', 1), ('5000', 1), ('verbergen', 1), ('anzuziehen', 1), ('forderung', 1), ('zumindest', 1), ('bürsten', 1), ('kämmen', 1), ('hacken', 1), ('abgehen', 2), ('ausgepackt', 1), ('hilfeschrei', 1), ('klingeln', 1), ('wiederkämest', 1), ('wiederkämet', 1), ('wiederkämen', 1), ('kämest', 1), ('kämet', 1), ('kürzeren', 1), ('anhört', 1), ('kriegst', 1), ('wagens', 1), ('losgelassen', 1), ('obama', 1), ('vieles', 1), ('klassische', 1), ('dunkelrot', 1), ('tabak', 1), ('ländlichen', 1), ('gebiet', 1), ('geguckt', 2), ('lieblingsstift', 1), ('weihnachtslieder', 1), ('bärten', 1), ('lösen', 1), ('leidenschaft', 1), ('tapiokapudding', 1), ('jakitori', 1), ('losgeschickt', 1), ('amerikanisches', 1), ('usbkabel', 1), ('zweite', 1), ('farbstifte', 1), ('vorbereiten', 1), ('skier', 1), ('zuvor', 1), ('verdanken', 1), ('selters', 1), ('alleinarbeit', 1), ('weiterzusagen', 1), ('erwies', 1), ('weitgehend', 2), ('vorgelesen', 1), ('zuzwinkerte', 1), ('erblickte', 1), ('entferntes', 1), ('bezweifle', 1), ('liebest', 1), ('ausgemacht', 1), ('freundschaft', 1), ('kamillentee', 1), ('direkte', 1), ('vergnügt', 1), ('seist', 1), ('vergnügst', 1), ('kennenlernst', 1), ('ansiehst', 1), ('anseht', 1), ('lehrling', 1), ('imstande', 1), ('abzulehnen', 1), ('gefreut', 1), ('angefressen', 1), ('bergen', 1), ('phantasiert', 1), ('sichergehen', 1), ('necken', 1), ('gegner', 2), ('gescholten', 1), ('großgezogen', 1), ('befand', 1), ('unmittelbar', 1), ('vergangenen', 1), ('jener', 1), ('überrumpelt', 1), ('wärme', 1), ('ferngesehen', 1), ('hinsicht', 1), ('sowieso', 1), ('netzauftritt', 1), ('ganzem', 1), ('rückhaltlos', 1)])\n"
     ]
    }
   ],
   "source": [
    "print(deu_tokenizer.word_counts)"
   ]
  },
  {
   "cell_type": "markdown",
   "metadata": {},
   "source": [
    "Given below is a function to prepare the sequences. It will also perform sequence padding to a maximum sentence length as mentioned above. "
   ]
  },
  {
   "cell_type": "code",
   "execution_count": 22,
   "metadata": {},
   "outputs": [],
   "source": [
    "# encode and pad sequences\n",
    "def encode_sequences(tokenizer, length, lines):\n",
    "    # integer encode sequences\n",
    "    seq = tokenizer.texts_to_sequences(lines)\n",
    "    # pad sequences with 0 values\n",
    "    seq = pad_sequences(seq, maxlen=length, padding='post')\n",
    "    print(seq)\n",
    "    print(len(seq))\n",
    "    return seq"
   ]
  },
  {
   "cell_type": "code",
   "execution_count": 36,
   "metadata": {},
   "outputs": [
    {
     "name": "stdout",
     "output_type": "stream",
     "text": [
      "<bound method Tokenizer.texts_to_sequences of <keras_preprocessing.text.Tokenizer object at 0x000001D5AD17AA08>>\n"
     ]
    }
   ],
   "source": []
  },
  {
   "cell_type": "markdown",
   "metadata": {},
   "source": [
    "### Model Building"
   ]
  },
  {
   "cell_type": "markdown",
   "metadata": {},
   "source": [
    "We will now split the data into train and test set for model training and evaluation, respectively."
   ]
  },
  {
   "cell_type": "code",
   "execution_count": 23,
   "metadata": {},
   "outputs": [],
   "source": [
    "from sklearn.model_selection import train_test_split\n",
    "train, test = train_test_split(deu_eng, test_size=0.2, random_state = 12)"
   ]
  },
  {
   "cell_type": "markdown",
   "metadata": {},
   "source": [
    "It's time to encode the sentences. We will encode German sentences as the input sequences and English sentences as the target sequences. It will be done for both train and test datasets."
   ]
  },
  {
   "cell_type": "code",
   "execution_count": 24,
   "metadata": {},
   "outputs": [
    {
     "name": "stdout",
     "output_type": "stream",
     "text": [
      "[[ 203  102   48 ...    0    0    0]\n",
      " [   1   20  180 ...    0    0    0]\n",
      " [  97  784 2968 ...    0    0    0]\n",
      " ...\n",
      " [   1  202 7407 ...    0    0    0]\n",
      " [  17  274  659 ...    0    0    0]\n",
      " [   9   10   36 ...    0    0    0]]\n",
      "[[  11    3   23 ...    0    0    0]\n",
      " [   2   13  188 ...    0    0    0]\n",
      " [  56 1295  525 ...    0    0    0]\n",
      " ...\n",
      " [   2  283 3034 ...    0    0    0]\n",
      " [   8  614    4 ...    0    0    0]\n",
      " [  10 1723    5 ...    0    0    0]]\n"
     ]
    }
   ],
   "source": [
    "# prepare training data\n",
    "trainX = encode_sequences(deu_tokenizer, deu_length, train[:, 1])\n",
    "trainY = encode_sequences(eng_tokenizer, eng_length, train[:, 0])"
   ]
  },
  {
   "cell_type": "code",
   "execution_count": 27,
   "metadata": {},
   "outputs": [
    {
     "name": "stdout",
     "output_type": "stream",
     "text": [
      "(40000, 8)\n",
      "(40000, 8)\n"
     ]
    }
   ],
   "source": [
    "print(trainX.shape)\n",
    "print(trainY.shape)"
   ]
  },
  {
   "cell_type": "code",
   "execution_count": 25,
   "metadata": {},
   "outputs": [
    {
     "name": "stdout",
     "output_type": "stream",
     "text": [
      "[[ 21 566 500 ...   0   0   0]\n",
      " [  1 346  18 ...   0   0   0]\n",
      " [  7 195  15 ...   0   0   0]\n",
      " ...\n",
      " [  2   3  12 ...   0   0   0]\n",
      " [ 57  33   8 ...   0   0   0]\n",
      " [ 29  67  11 ...   0   0   0]]\n",
      "[[  3  57   7 ...   0   0   0]\n",
      " [  2 157 162 ...   0   0   0]\n",
      " [ 12 356   1 ...   0   0   0]\n",
      " ...\n",
      " [  1   4   5 ...   0   0   0]\n",
      " [ 54 175   3 ...   0   0   0]\n",
      " [ 39  11  20 ...   0   0   0]]\n"
     ]
    }
   ],
   "source": [
    "# prepare validation data\n",
    "testX = encode_sequences(deu_tokenizer, deu_length, test[:, 1])\n",
    "testY = encode_sequences(eng_tokenizer, eng_length, test[:, 0])"
   ]
  },
  {
   "cell_type": "code",
   "execution_count": 28,
   "metadata": {},
   "outputs": [
    {
     "name": "stdout",
     "output_type": "stream",
     "text": [
      "(10000, 8)\n",
      "(10000, 8)\n"
     ]
    }
   ],
   "source": [
    "print(testX.shape)\n",
    "print(testY.shape)"
   ]
  },
  {
   "cell_type": "markdown",
   "metadata": {},
   "source": [
    "Now comes the exciting part! Let us define our Seq2Seq model architecture. We are using an Embedding layer and an LSTM layer as our encoder and another LSTM layer followed by a Dense layer as the decoder.  "
   ]
  },
  {
   "cell_type": "code",
   "execution_count": 29,
   "metadata": {},
   "outputs": [],
   "source": [
    "# build NMT model\n",
    "def build_model(in_vocab, out_vocab, in_timesteps, out_timesteps, units):\n",
    "    model = Sequential()\n",
    "    model.add(Embedding(in_vocab, units, input_length=in_timesteps, mask_zero=True))\n",
    "    model.add(LSTM(units))\n",
    "    model.add(RepeatVector(out_timesteps))    \n",
    "    model.add(LSTM(units, return_sequences=True))\n",
    "    model.add(Dense(out_vocab, activation='softmax'))\n",
    "    return model"
   ]
  },
  {
   "cell_type": "markdown",
   "metadata": {},
   "source": [
    "Details about the RepeatVector :  https://campus.datacamp.com/courses/machine-translation-in-python/implementing-an-encoder-decoder-model-with-keras?ex=6"
   ]
  },
  {
   "cell_type": "markdown",
   "metadata": {},
   "source": [
    "We are using RMSprop optimizer in this model as it is usually a good choice for recurrent neural networks."
   ]
  },
  {
   "cell_type": "code",
   "execution_count": 29,
   "metadata": {},
   "outputs": [
    {
     "name": "stdout",
     "output_type": "stream",
     "text": [
      "10597\n",
      "6361\n",
      "8\n",
      "8\n"
     ]
    }
   ],
   "source": [
    "print(deu_vocab_size)\n",
    "print(eng_vocab_size)\n",
    "print(deu_length)\n",
    "print(eng_length)"
   ]
  },
  {
   "cell_type": "code",
   "execution_count": 30,
   "metadata": {},
   "outputs": [],
   "source": [
    "model = build_model(deu_vocab_size, eng_vocab_size, deu_length, eng_length, 512)\n",
    "rms = optimizers.RMSprop(lr=0.001)\n",
    "model.compile(optimizer=rms, loss='sparse_categorical_crossentropy')"
   ]
  },
  {
   "cell_type": "markdown",
   "metadata": {},
   "source": [
    "Please note that we have used __'sparse_categorical_crossentropy'__ as the loss function because it allows us to use the target sequence as it is instead of one hot encoded format. One hot encoding the target sequences with such a huge vocabulary might consume our system's entire memory."
   ]
  },
  {
   "cell_type": "markdown",
   "metadata": {},
   "source": [
    "It seems we are all set to start training our model. We will train it for 30 epochs and with a batch size of 512. You may change and play these hyperparameters. We will also be using __ModelCheckpoint()__ to save the best model with lowest validation loss. I personally prefer this method over early stopping."
   ]
  },
  {
   "cell_type": "code",
   "execution_count": 31,
   "metadata": {
    "scrolled": true
   },
   "outputs": [
    {
     "name": "stderr",
     "output_type": "stream",
     "text": [
      "C:\\Users\\ana_2\\Anaconda3\\lib\\site-packages\\tensorflow_core\\python\\framework\\indexed_slices.py:424: UserWarning: Converting sparse IndexedSlices to a dense Tensor of unknown shape. This may consume a large amount of memory.\n",
      "  \"Converting sparse IndexedSlices to a dense Tensor of unknown shape. \"\n"
     ]
    },
    {
     "name": "stdout",
     "output_type": "stream",
     "text": [
      "Train on 32000 samples, validate on 8000 samples\n",
      "Epoch 1/30\n",
      "32000/32000 [==============================] - 270s 8ms/step - loss: 3.4852 - val_loss: 2.9231\n",
      "\n",
      "Epoch 00001: val_loss improved from inf to 2.92312, saving model to model.h1.24_jan_19\n",
      "Epoch 2/30\n",
      "32000/32000 [==============================] - 256s 8ms/step - loss: 2.8514 - val_loss: 2.8277\n",
      "\n",
      "Epoch 00002: val_loss improved from 2.92312 to 2.82767, saving model to model.h1.24_jan_19\n",
      "Epoch 3/30\n",
      "32000/32000 [==============================] - 38819s 1s/step - loss: 2.6708 - val_loss: 2.6531\n",
      "\n",
      "Epoch 00003: val_loss improved from 2.82767 to 2.65306, saving model to model.h1.24_jan_19\n",
      "Epoch 4/30\n",
      "32000/32000 [==============================] - 172s 5ms/step - loss: 2.4866 - val_loss: 2.5386\n",
      "\n",
      "Epoch 00004: val_loss improved from 2.65306 to 2.53858, saving model to model.h1.24_jan_19\n",
      "Epoch 5/30\n",
      "32000/32000 [==============================] - 165s 5ms/step - loss: 2.3500 - val_loss: 2.4082\n",
      "\n",
      "Epoch 00005: val_loss improved from 2.53858 to 2.40816, saving model to model.h1.24_jan_19\n",
      "Epoch 6/30\n",
      "32000/32000 [==============================] - 167s 5ms/step - loss: 2.2206 - val_loss: 2.3082\n",
      "\n",
      "Epoch 00006: val_loss improved from 2.40816 to 2.30825, saving model to model.h1.24_jan_19\n",
      "Epoch 7/30\n",
      "32000/32000 [==============================] - 168s 5ms/step - loss: 2.1036 - val_loss: 2.2385\n",
      "\n",
      "Epoch 00007: val_loss improved from 2.30825 to 2.23854, saving model to model.h1.24_jan_19\n",
      "Epoch 8/30\n",
      "32000/32000 [==============================] - 170s 5ms/step - loss: 1.9965 - val_loss: 2.1851\n",
      "\n",
      "Epoch 00008: val_loss improved from 2.23854 to 2.18512, saving model to model.h1.24_jan_19\n",
      "Epoch 9/30\n",
      "32000/32000 [==============================] - 166s 5ms/step - loss: 1.8999 - val_loss: 2.0844\n",
      "\n",
      "Epoch 00009: val_loss improved from 2.18512 to 2.08436, saving model to model.h1.24_jan_19\n",
      "Epoch 10/30\n",
      "32000/32000 [==============================] - 162s 5ms/step - loss: 1.8036 - val_loss: 2.0471\n",
      "\n",
      "Epoch 00010: val_loss improved from 2.08436 to 2.04709, saving model to model.h1.24_jan_19\n",
      "Epoch 11/30\n",
      "32000/32000 [==============================] - 177s 6ms/step - loss: 1.7131 - val_loss: 1.9719\n",
      "\n",
      "Epoch 00011: val_loss improved from 2.04709 to 1.97186, saving model to model.h1.24_jan_19\n",
      "Epoch 12/30\n",
      "32000/32000 [==============================] - 164s 5ms/step - loss: 1.6168 - val_loss: 1.9203\n",
      "\n",
      "Epoch 00012: val_loss improved from 1.97186 to 1.92035, saving model to model.h1.24_jan_19\n",
      "Epoch 13/30\n",
      "32000/32000 [==============================] - 176s 6ms/step - loss: 1.5281 - val_loss: 1.8579\n",
      "\n",
      "Epoch 00013: val_loss improved from 1.92035 to 1.85788, saving model to model.h1.24_jan_19\n",
      "Epoch 14/30\n",
      "32000/32000 [==============================] - 181s 6ms/step - loss: 1.4372 - val_loss: 1.7832\n",
      "\n",
      "Epoch 00014: val_loss improved from 1.85788 to 1.78323, saving model to model.h1.24_jan_19\n",
      "Epoch 15/30\n",
      "32000/32000 [==============================] - 161s 5ms/step - loss: 1.3509 - val_loss: 1.7506\n",
      "\n",
      "Epoch 00015: val_loss improved from 1.78323 to 1.75064, saving model to model.h1.24_jan_19\n",
      "Epoch 16/30\n",
      "32000/32000 [==============================] - 173s 5ms/step - loss: 1.2690 - val_loss: 1.7169\n",
      "\n",
      "Epoch 00016: val_loss improved from 1.75064 to 1.71695, saving model to model.h1.24_jan_19\n",
      "Epoch 17/30\n",
      "32000/32000 [==============================] - 169s 5ms/step - loss: 1.1913 - val_loss: 1.6620\n",
      "\n",
      "Epoch 00017: val_loss improved from 1.71695 to 1.66196, saving model to model.h1.24_jan_19\n",
      "Epoch 18/30\n",
      "32000/32000 [==============================] - 185s 6ms/step - loss: 1.1171 - val_loss: 1.6265\n",
      "\n",
      "Epoch 00018: val_loss improved from 1.66196 to 1.62654, saving model to model.h1.24_jan_19\n",
      "Epoch 19/30\n",
      "32000/32000 [==============================] - 176s 5ms/step - loss: 1.0436 - val_loss: 1.5870\n",
      "\n",
      "Epoch 00019: val_loss improved from 1.62654 to 1.58703, saving model to model.h1.24_jan_19\n",
      "Epoch 20/30\n",
      "32000/32000 [==============================] - 179s 6ms/step - loss: 0.9777 - val_loss: 1.5532\n",
      "\n",
      "Epoch 00020: val_loss improved from 1.58703 to 1.55316, saving model to model.h1.24_jan_19\n",
      "Epoch 21/30\n",
      "32000/32000 [==============================] - 161s 5ms/step - loss: 0.9109 - val_loss: 1.5339\n",
      "\n",
      "Epoch 00021: val_loss improved from 1.55316 to 1.53394, saving model to model.h1.24_jan_19\n",
      "Epoch 22/30\n",
      "32000/32000 [==============================] - 166s 5ms/step - loss: 0.8519 - val_loss: 1.5063\n",
      "\n",
      "Epoch 00022: val_loss improved from 1.53394 to 1.50627, saving model to model.h1.24_jan_19\n",
      "Epoch 23/30\n",
      "32000/32000 [==============================] - 176s 6ms/step - loss: 0.7943 - val_loss: 1.4833\n",
      "\n",
      "Epoch 00023: val_loss improved from 1.50627 to 1.48331, saving model to model.h1.24_jan_19\n",
      "Epoch 24/30\n",
      "32000/32000 [==============================] - 177s 6ms/step - loss: 0.7371 - val_loss: 1.4690\n",
      "\n",
      "Epoch 00024: val_loss improved from 1.48331 to 1.46896, saving model to model.h1.24_jan_19\n",
      "Epoch 25/30\n",
      "32000/32000 [==============================] - 169s 5ms/step - loss: 0.6840 - val_loss: 1.4698\n",
      "\n",
      "Epoch 00025: val_loss did not improve from 1.46896\n",
      "Epoch 26/30\n",
      "32000/32000 [==============================] - 195s 6ms/step - loss: 0.6347 - val_loss: 1.4331\n",
      "\n",
      "Epoch 00026: val_loss improved from 1.46896 to 1.43314, saving model to model.h1.24_jan_19\n",
      "Epoch 27/30\n",
      "32000/32000 [==============================] - 173s 5ms/step - loss: 0.5858 - val_loss: 1.4281\n",
      "\n",
      "Epoch 00027: val_loss improved from 1.43314 to 1.42808, saving model to model.h1.24_jan_19\n",
      "Epoch 28/30\n",
      "32000/32000 [==============================] - 162s 5ms/step - loss: 0.5427 - val_loss: 1.4307\n",
      "\n",
      "Epoch 00028: val_loss did not improve from 1.42808\n",
      "Epoch 29/30\n",
      "32000/32000 [==============================] - 168s 5ms/step - loss: 0.5011 - val_loss: 1.4003\n",
      "\n",
      "Epoch 00029: val_loss improved from 1.42808 to 1.40032, saving model to model.h1.24_jan_19\n",
      "Epoch 30/30\n",
      "32000/32000 [==============================] - 171s 5ms/step - loss: 0.4608 - val_loss: 1.3994\n",
      "\n",
      "Epoch 00030: val_loss improved from 1.40032 to 1.39940, saving model to model.h1.24_jan_19\n"
     ]
    }
   ],
   "source": [
    "filename = 'model.h1.24_jan_19'\n",
    "checkpoint = ModelCheckpoint(filename, monitor='val_loss', verbose=1, save_best_only=True, mode='min')\n",
    "\n",
    "history = model.fit(trainX, trainY.reshape(trainY.shape[0], trainY.shape[1], 1), \n",
    "          epochs=30, batch_size=512, \n",
    "          validation_split = 0.2,\n",
    "          callbacks=[checkpoint], verbose=1)"
   ]
  },
  {
   "cell_type": "markdown",
   "metadata": {},
   "source": [
    "Let's compare the training loss and the validation loss."
   ]
  },
  {
   "cell_type": "code",
   "execution_count": 32,
   "metadata": {},
   "outputs": [
    {
     "data": {
      "image/png": "[encoded data removed]",
      "text/plain": [
       "<Figure size 432x288 with 1 Axes>"
      ]
     },
     "metadata": {
      "needs_background": "light"
     },
     "output_type": "display_data"
    }
   ],
   "source": [
    "plt.plot(history.history['loss'])\n",
    "plt.plot(history.history['val_loss'])\n",
    "plt.legend(['train','validation'])\n",
    "plt.show()"
   ]
  },
  {
   "cell_type": "markdown",
   "metadata": {},
   "source": [
    "### Make Predictions"
   ]
  },
  {
   "cell_type": "markdown",
   "metadata": {},
   "source": [
    "Let's load the saved model to make predictions."
   ]
  },
  {
   "cell_type": "code",
   "execution_count": 33,
   "metadata": {},
   "outputs": [
    {
     "name": "stderr",
     "output_type": "stream",
     "text": [
      "C:\\Users\\ana_2\\Anaconda3\\lib\\site-packages\\tensorflow_core\\python\\framework\\indexed_slices.py:424: UserWarning: Converting sparse IndexedSlices to a dense Tensor of unknown shape. This may consume a large amount of memory.\n",
      "  \"Converting sparse IndexedSlices to a dense Tensor of unknown shape. \"\n"
     ]
    }
   ],
   "source": [
    "model = load_model('model.h1.24_jan_19')\n",
    "preds = model.predict_classes(testX.reshape((testX.shape[0],testX.shape[1])))"
   ]
  },
  {
   "cell_type": "code",
   "execution_count": 34,
   "metadata": {},
   "outputs": [],
   "source": [
    "def get_word(n, tokenizer):\n",
    "    for word, index in tokenizer.word_index.items():\n",
    "        if index == n:\n",
    "            return word\n",
    "    return None"
   ]
  },
  {
   "cell_type": "code",
   "execution_count": 35,
   "metadata": {},
   "outputs": [],
   "source": [
    "# convert predictions into text (English)\n",
    "preds_text = []\n",
    "for i in preds:\n",
    "    temp = []\n",
    "    for j in range(len(i)):\n",
    "        t = get_word(i[j], eng_tokenizer)\n",
    "        if j > 0:\n",
    "            if (t == get_word(i[j-1], eng_tokenizer)) or (t == None):\n",
    "                temp.append('')\n",
    "            else:\n",
    "                temp.append(t)\n",
    "             \n",
    "        else:\n",
    "            if(t == None):\n",
    "                temp.append('')\n",
    "            else:\n",
    "                temp.append(t)            \n",
    "        \n",
    "    preds_text.append(' '.join(temp))"
   ]
  },
  {
   "cell_type": "code",
   "execution_count": 36,
   "metadata": {},
   "outputs": [],
   "source": [
    "pred_df = pd.DataFrame({'actual' : test[:,0], 'predicted' : preds_text})"
   ]
  },
  {
   "cell_type": "code",
   "execution_count": 37,
   "metadata": {},
   "outputs": [],
   "source": [
    "pd.set_option('display.max_colwidth', 200)"
   ]
  },
  {
   "cell_type": "code",
   "execution_count": 38,
   "metadata": {},
   "outputs": [
    {
     "data": {
      "text/html": [
       "<div>\n",
       "<style scoped>\n",
       "    .dataframe tbody tr th:only-of-type {\n",
       "        vertical-align: middle;\n",
       "    }\n",
       "\n",
       "    .dataframe tbody tr th {\n",
       "        vertical-align: top;\n",
       "    }\n",
       "\n",
       "    .dataframe thead th {\n",
       "        text-align: right;\n",
       "    }\n",
       "</style>\n",
       "<table border=\"1\" class=\"dataframe\">\n",
       "  <thead>\n",
       "    <tr style=\"text-align: right;\">\n",
       "      <th></th>\n",
       "      <th>actual</th>\n",
       "      <th>predicted</th>\n",
       "    </tr>\n",
       "  </thead>\n",
       "  <tbody>\n",
       "    <tr>\n",
       "      <td>0</td>\n",
       "      <td>you need to wake up</td>\n",
       "      <td>you should to awake</td>\n",
       "    </tr>\n",
       "    <tr>\n",
       "      <td>1</td>\n",
       "      <td>i feel old</td>\n",
       "      <td>i feel old</td>\n",
       "    </tr>\n",
       "    <tr>\n",
       "      <td>2</td>\n",
       "      <td>im sorry tom</td>\n",
       "      <td>sorry   it</td>\n",
       "    </tr>\n",
       "    <tr>\n",
       "      <td>3</td>\n",
       "      <td>hide the money</td>\n",
       "      <td>is  money</td>\n",
       "    </tr>\n",
       "    <tr>\n",
       "      <td>4</td>\n",
       "      <td>is someone calling me</td>\n",
       "      <td>help me</td>\n",
       "    </tr>\n",
       "    <tr>\n",
       "      <td>5</td>\n",
       "      <td>you should work hard</td>\n",
       "      <td>you should work hard</td>\n",
       "    </tr>\n",
       "    <tr>\n",
       "      <td>6</td>\n",
       "      <td>tom has a big problem</td>\n",
       "      <td>tom has a small nose</td>\n",
       "    </tr>\n",
       "    <tr>\n",
       "      <td>7</td>\n",
       "      <td>he lives with his mom</td>\n",
       "      <td>he lives her old</td>\n",
       "    </tr>\n",
       "    <tr>\n",
       "      <td>8</td>\n",
       "      <td>whats toms job</td>\n",
       "      <td>whats toms job</td>\n",
       "    </tr>\n",
       "    <tr>\n",
       "      <td>9</td>\n",
       "      <td>i dont want to drive</td>\n",
       "      <td>i dont want to</td>\n",
       "    </tr>\n",
       "    <tr>\n",
       "      <td>10</td>\n",
       "      <td>tom will fail</td>\n",
       "      <td>tom will</td>\n",
       "    </tr>\n",
       "    <tr>\n",
       "      <td>11</td>\n",
       "      <td>tom phoned</td>\n",
       "      <td>tom was</td>\n",
       "    </tr>\n",
       "    <tr>\n",
       "      <td>12</td>\n",
       "      <td>lock the door</td>\n",
       "      <td>shut the door</td>\n",
       "    </tr>\n",
       "    <tr>\n",
       "      <td>13</td>\n",
       "      <td>its not good</td>\n",
       "      <td>its not good</td>\n",
       "    </tr>\n",
       "    <tr>\n",
       "      <td>14</td>\n",
       "      <td>i love soul food</td>\n",
       "      <td>i love</td>\n",
       "    </tr>\n",
       "  </tbody>\n",
       "</table>\n",
       "</div>"
      ],
      "text/plain": [
       "                   actual                 predicted\n",
       "0     you need to wake up   you should to awake    \n",
       "1              i feel old           i feel old     \n",
       "2            im sorry tom            sorry   it    \n",
       "3          hide the money            is  money     \n",
       "4   is someone calling me             help me      \n",
       "5    you should work hard  you should work hard    \n",
       "6   tom has a big problem   tom has a small nose   \n",
       "7   he lives with his mom      he lives her old    \n",
       "8          whats toms job       whats toms job     \n",
       "9    i dont want to drive        i dont want to    \n",
       "10          tom will fail            tom will      \n",
       "11             tom phoned             tom was      \n",
       "12          lock the door        shut the door     \n",
       "13           its not good         its not good     \n",
       "14       i love soul food              i love      "
      ]
     },
     "execution_count": 38,
     "metadata": {},
     "output_type": "execute_result"
    }
   ],
   "source": [
    "pred_df.head(15)"
   ]
  },
  {
   "cell_type": "code",
   "execution_count": 39,
   "metadata": {},
   "outputs": [
    {
     "data": {
      "text/html": [
       "<div>\n",
       "<style scoped>\n",
       "    .dataframe tbody tr th:only-of-type {\n",
       "        vertical-align: middle;\n",
       "    }\n",
       "\n",
       "    .dataframe tbody tr th {\n",
       "        vertical-align: top;\n",
       "    }\n",
       "\n",
       "    .dataframe thead th {\n",
       "        text-align: right;\n",
       "    }\n",
       "</style>\n",
       "<table border=\"1\" class=\"dataframe\">\n",
       "  <thead>\n",
       "    <tr style=\"text-align: right;\">\n",
       "      <th></th>\n",
       "      <th>actual</th>\n",
       "      <th>predicted</th>\n",
       "    </tr>\n",
       "  </thead>\n",
       "  <tbody>\n",
       "    <tr>\n",
       "      <td>9985</td>\n",
       "      <td>do you need a ride</td>\n",
       "      <td>can i sit you</td>\n",
       "    </tr>\n",
       "    <tr>\n",
       "      <td>9986</td>\n",
       "      <td>it is very small</td>\n",
       "      <td>its very small</td>\n",
       "    </tr>\n",
       "    <tr>\n",
       "      <td>9987</td>\n",
       "      <td>we can handle that</td>\n",
       "      <td>we can count it</td>\n",
       "    </tr>\n",
       "    <tr>\n",
       "      <td>9988</td>\n",
       "      <td>nobody believes you</td>\n",
       "      <td>no one believes you</td>\n",
       "    </tr>\n",
       "    <tr>\n",
       "      <td>9989</td>\n",
       "      <td>tom never changes</td>\n",
       "      <td>tom never laughs</td>\n",
       "    </tr>\n",
       "    <tr>\n",
       "      <td>9990</td>\n",
       "      <td>i just emailed you</td>\n",
       "      <td>i just found him tom</td>\n",
       "    </tr>\n",
       "    <tr>\n",
       "      <td>9991</td>\n",
       "      <td>tom is so stupid</td>\n",
       "      <td>tom is so stupid</td>\n",
       "    </tr>\n",
       "    <tr>\n",
       "      <td>9992</td>\n",
       "      <td>i found tom</td>\n",
       "      <td>i found tom</td>\n",
       "    </tr>\n",
       "    <tr>\n",
       "      <td>9993</td>\n",
       "      <td>i met mary yesterday</td>\n",
       "      <td>i saw her yesterday</td>\n",
       "    </tr>\n",
       "    <tr>\n",
       "      <td>9994</td>\n",
       "      <td>try and stop me</td>\n",
       "      <td>try  to me</td>\n",
       "    </tr>\n",
       "    <tr>\n",
       "      <td>9995</td>\n",
       "      <td>does that feel good</td>\n",
       "      <td>this is out</td>\n",
       "    </tr>\n",
       "    <tr>\n",
       "      <td>9996</td>\n",
       "      <td>do you like dancing</td>\n",
       "      <td>do you like to dance</td>\n",
       "    </tr>\n",
       "    <tr>\n",
       "      <td>9997</td>\n",
       "      <td>tom is a con man</td>\n",
       "      <td>tom is a poet artist</td>\n",
       "    </tr>\n",
       "    <tr>\n",
       "      <td>9998</td>\n",
       "      <td>why arent you there</td>\n",
       "      <td>why are you there</td>\n",
       "    </tr>\n",
       "    <tr>\n",
       "      <td>9999</td>\n",
       "      <td>how do we stop tom</td>\n",
       "      <td>how can we stop tom</td>\n",
       "    </tr>\n",
       "  </tbody>\n",
       "</table>\n",
       "</div>"
      ],
      "text/plain": [
       "                    actual                predicted\n",
       "9985    do you need a ride        can i sit you    \n",
       "9986      it is very small      its very small     \n",
       "9987    we can handle that      we can count it    \n",
       "9988   nobody believes you  no one believes you    \n",
       "9989     tom never changes    tom never laughs     \n",
       "9990    i just emailed you  i just found him tom   \n",
       "9991      tom is so stupid     tom is so stupid    \n",
       "9992           i found tom         i found tom     \n",
       "9993  i met mary yesterday  i saw her yesterday    \n",
       "9994       try and stop me           try  to me    \n",
       "9995   does that feel good         this is out     \n",
       "9996   do you like dancing  do you like to dance   \n",
       "9997      tom is a con man  tom is a poet artist   \n",
       "9998   why arent you there    why are you there    \n",
       "9999    how do we stop tom   how can we stop tom   "
      ]
     },
     "execution_count": 39,
     "metadata": {},
     "output_type": "execute_result"
    }
   ],
   "source": [
    "pred_df.tail(15)"
   ]
  },
  {
   "cell_type": "code",
   "execution_count": 37,
   "metadata": {},
   "outputs": [
    {
     "data": {
      "text/html": [
       "<div>\n",
       "<style scoped>\n",
       "    .dataframe tbody tr th:only-of-type {\n",
       "        vertical-align: middle;\n",
       "    }\n",
       "\n",
       "    .dataframe tbody tr th {\n",
       "        vertical-align: top;\n",
       "    }\n",
       "\n",
       "    .dataframe thead th {\n",
       "        text-align: right;\n",
       "    }\n",
       "</style>\n",
       "<table border=\"1\" class=\"dataframe\">\n",
       "  <thead>\n",
       "    <tr style=\"text-align: right;\">\n",
       "      <th></th>\n",
       "      <th>actual</th>\n",
       "      <th>predicted</th>\n",
       "    </tr>\n",
       "  </thead>\n",
       "  <tbody>\n",
       "    <tr>\n",
       "      <th>9985</th>\n",
       "      <td>tom knew the risks</td>\n",
       "      <td>tom was all of</td>\n",
       "    </tr>\n",
       "    <tr>\n",
       "      <th>9986</th>\n",
       "      <td>what does she do</td>\n",
       "      <td>what does you do</td>\n",
       "    </tr>\n",
       "    <tr>\n",
       "      <th>9987</th>\n",
       "      <td>she still loved him</td>\n",
       "      <td>she still him sing</td>\n",
       "    </tr>\n",
       "    <tr>\n",
       "      <th>9988</th>\n",
       "      <td>i want to be careful</td>\n",
       "      <td>i want to be boston</td>\n",
       "    </tr>\n",
       "    <tr>\n",
       "      <th>9989</th>\n",
       "      <td>im here arent i</td>\n",
       "      <td>im here</td>\n",
       "    </tr>\n",
       "    <tr>\n",
       "      <th>9990</th>\n",
       "      <td>youre a hypocrite</td>\n",
       "      <td>youre a hypocrite</td>\n",
       "    </tr>\n",
       "    <tr>\n",
       "      <th>9991</th>\n",
       "      <td>i gave you a book</td>\n",
       "      <td>i gave you a book</td>\n",
       "    </tr>\n",
       "    <tr>\n",
       "      <th>9992</th>\n",
       "      <td>lets do it</td>\n",
       "      <td>do  it</td>\n",
       "    </tr>\n",
       "    <tr>\n",
       "      <th>9993</th>\n",
       "      <td>i broke my leg skiing</td>\n",
       "      <td>i broke my</td>\n",
       "    </tr>\n",
       "    <tr>\n",
       "      <th>9994</th>\n",
       "      <td>i was victorious</td>\n",
       "      <td>i was been asleep</td>\n",
       "    </tr>\n",
       "    <tr>\n",
       "      <th>9995</th>\n",
       "      <td>what a pretty woman</td>\n",
       "      <td>what a wife</td>\n",
       "    </tr>\n",
       "    <tr>\n",
       "      <th>9996</th>\n",
       "      <td>well come with you</td>\n",
       "      <td>were come with you</td>\n",
       "    </tr>\n",
       "    <tr>\n",
       "      <th>9997</th>\n",
       "      <td>i am the same age</td>\n",
       "      <td>im am the same age</td>\n",
       "    </tr>\n",
       "    <tr>\n",
       "      <th>9998</th>\n",
       "      <td>who should we believe</td>\n",
       "      <td>who do we going</td>\n",
       "    </tr>\n",
       "    <tr>\n",
       "      <th>9999</th>\n",
       "      <td>whats it good for</td>\n",
       "      <td>whats she good for</td>\n",
       "    </tr>\n",
       "  </tbody>\n",
       "</table>\n",
       "</div>"
      ],
      "text/plain": [
       "                     actual               predicted\n",
       "9985     tom knew the risks      tom was all of    \n",
       "9986       what does she do    what does you do    \n",
       "9987    she still loved him  she still him sing    \n",
       "9988   i want to be careful  i want to be boston   \n",
       "9989        im here arent i           im here      \n",
       "9990      youre a hypocrite  youre a hypocrite     \n",
       "9991      i gave you a book    i gave you a book   \n",
       "9992             lets do it             do  it     \n",
       "9993  i broke my leg skiing         i broke my     \n",
       "9994       i was victorious   i was been asleep    \n",
       "9995    what a pretty woman        what a wife     \n",
       "9996     well come with you  were come with you    \n",
       "9997      i am the same age   im am the same age   \n",
       "9998  who should we believe     who do we going    \n",
       "9999      whats it good for  whats she good for    "
      ]
     },
     "execution_count": 37,
     "metadata": {},
     "output_type": "execute_result"
    }
   ],
   "source": [
    "pred_df.tail(15)"
   ]
  },
  {
   "cell_type": "code",
   "execution_count": 40,
   "metadata": {},
   "outputs": [
    {
     "data": {
      "text/html": [
       "<div>\n",
       "<style scoped>\n",
       "    .dataframe tbody tr th:only-of-type {\n",
       "        vertical-align: middle;\n",
       "    }\n",
       "\n",
       "    .dataframe tbody tr th {\n",
       "        vertical-align: top;\n",
       "    }\n",
       "\n",
       "    .dataframe thead th {\n",
       "        text-align: right;\n",
       "    }\n",
       "</style>\n",
       "<table border=\"1\" class=\"dataframe\">\n",
       "  <thead>\n",
       "    <tr style=\"text-align: right;\">\n",
       "      <th></th>\n",
       "      <th>actual</th>\n",
       "      <th>predicted</th>\n",
       "    </tr>\n",
       "  </thead>\n",
       "  <tbody>\n",
       "    <tr>\n",
       "      <td>3769</td>\n",
       "      <td>are you overweight</td>\n",
       "      <td>are you</td>\n",
       "    </tr>\n",
       "    <tr>\n",
       "      <td>6744</td>\n",
       "      <td>i didnt see a ghost</td>\n",
       "      <td>i didnt not a</td>\n",
       "    </tr>\n",
       "    <tr>\n",
       "      <td>1956</td>\n",
       "      <td>the price is going up</td>\n",
       "      <td>the wind is come</td>\n",
       "    </tr>\n",
       "    <tr>\n",
       "      <td>6860</td>\n",
       "      <td>tom isnt a painter</td>\n",
       "      <td>tom isnt a</td>\n",
       "    </tr>\n",
       "    <tr>\n",
       "      <td>1201</td>\n",
       "      <td>am i boring you</td>\n",
       "      <td>am i boring you</td>\n",
       "    </tr>\n",
       "    <tr>\n",
       "      <td>7790</td>\n",
       "      <td>its getting late</td>\n",
       "      <td>its is late</td>\n",
       "    </tr>\n",
       "    <tr>\n",
       "      <td>8263</td>\n",
       "      <td>its worthless junk</td>\n",
       "      <td>its not no</td>\n",
       "    </tr>\n",
       "    <tr>\n",
       "      <td>6170</td>\n",
       "      <td>heres some water</td>\n",
       "      <td>heres a just</td>\n",
       "    </tr>\n",
       "    <tr>\n",
       "      <td>1436</td>\n",
       "      <td>mary sings soprano</td>\n",
       "      <td>mary is at a</td>\n",
       "    </tr>\n",
       "    <tr>\n",
       "      <td>5354</td>\n",
       "      <td>i have a truck</td>\n",
       "      <td>i have a twin</td>\n",
       "    </tr>\n",
       "    <tr>\n",
       "      <td>543</td>\n",
       "      <td>whos overreacting</td>\n",
       "      <td>whos goes here</td>\n",
       "    </tr>\n",
       "    <tr>\n",
       "      <td>7200</td>\n",
       "      <td>just apologize</td>\n",
       "      <td>just about to</td>\n",
       "    </tr>\n",
       "    <tr>\n",
       "      <td>8340</td>\n",
       "      <td>let me do it</td>\n",
       "      <td>let me handle this</td>\n",
       "    </tr>\n",
       "    <tr>\n",
       "      <td>8970</td>\n",
       "      <td>im toms cousin</td>\n",
       "      <td>im toms</td>\n",
       "    </tr>\n",
       "    <tr>\n",
       "      <td>8893</td>\n",
       "      <td>tom is concerned</td>\n",
       "      <td>tom is worried</td>\n",
       "    </tr>\n",
       "  </tbody>\n",
       "</table>\n",
       "</div>"
      ],
      "text/plain": [
       "                     actual               predicted\n",
       "3769     are you overweight           are you      \n",
       "6744    i didnt see a ghost       i didnt not a    \n",
       "1956  the price is going up    the wind is come    \n",
       "6860     tom isnt a painter         tom isnt a     \n",
       "1201        am i boring you     am i boring you    \n",
       "7790       its getting late        its is late     \n",
       "8263     its worthless junk         its not no     \n",
       "6170       heres some water       heres a just     \n",
       "1436     mary sings soprano        mary is at a    \n",
       "5354         i have a truck       i have a twin    \n",
       "543       whos overreacting     whos goes here     \n",
       "7200         just apologize      just about to     \n",
       "8340           let me do it  let me handle this    \n",
       "8970         im toms cousin           im toms      \n",
       "8893       tom is concerned     tom is worried     "
      ]
     },
     "execution_count": 40,
     "metadata": {},
     "output_type": "execute_result"
    }
   ],
   "source": [
    "pred_df.sample(15)"
   ]
  },
  {
   "cell_type": "code",
   "execution_count": null,
   "metadata": {},
   "outputs": [],
   "source": []
  }
 ],
 "metadata": {
  "kernelspec": {
   "display_name": "Python 3",
   "language": "python",
   "name": "python3"
  },
  "language_info": {
   "codemirror_mode": {
    "name": "ipython",
    "version": 3
   },
   "file_extension": ".py",
   "mimetype": "text/x-python",
   "name": "python",
   "nbconvert_exporter": "python",
   "pygments_lexer": "ipython3",
   "version": "3.7.4"
  }
 },
 "nbformat": 4,
 "nbformat_minor": 2
}
