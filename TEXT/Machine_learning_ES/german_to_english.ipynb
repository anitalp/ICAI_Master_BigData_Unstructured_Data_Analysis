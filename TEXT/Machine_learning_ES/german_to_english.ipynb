{
 "cells": [
  {
   "cell_type": "markdown",
   "metadata": {},
   "source": [
    "### Import Required Libraries"
   ]
  },
  {
   "cell_type": "code",
   "execution_count": 3,
   "metadata": {},
   "outputs": [
    {
     "name": "stderr",
     "output_type": "stream",
     "text": [
      "Using TensorFlow backend.\n",
      "UsageError: Line magic function `%` not found.\n"
     ]
    }
   ],
   "source": [
    "import string\n",
    "import re\n",
    "from numpy import array, argmax, random, take\n",
    "import pandas as pd\n",
    "from keras.models import Sequential\n",
    "from keras.layers import Dense, LSTM, Embedding, Bidirectional, RepeatVector, TimeDistributed\n",
    "from keras.preprocessing.text import Tokenizer\n",
    "from keras.callbacks import ModelCheckpoint\n",
    "from keras.preprocessing.sequence import pad_sequences\n",
    "from keras.models import load_model\n",
    "from keras import optimizers\n",
    "import matplotlib.pyplot as plt\n",
    "% matplotlib inline\n",
    "pd.set_option('display.max_colwidth', 200)"
   ]
  },
  {
   "cell_type": "markdown",
   "metadata": {},
   "source": [
    "### Read Data"
   ]
  },
  {
   "cell_type": "markdown",
   "metadata": {},
   "source": [
    "Our data is a text file of English-German sentence pairs. First we will read the file using the function defined below."
   ]
  },
  {
   "cell_type": "code",
   "execution_count": 4,
   "metadata": {},
   "outputs": [],
   "source": [
    "# function to read raw text file\n",
    "def read_text(filename):\n",
    "    # open the file\n",
    "    file = open(filename, mode='rt', encoding='utf-8')\n",
    "    # read all text\n",
    "    text = file.read()\n",
    "    file.close()\n",
    "    return text"
   ]
  },
  {
   "cell_type": "markdown",
   "metadata": {},
   "source": [
    "Now let's define a function to split the text into English-German pairs separated by '\\n' and then split these pairs into English sentences and German sentences."
   ]
  },
  {
   "cell_type": "code",
   "execution_count": 5,
   "metadata": {},
   "outputs": [],
   "source": [
    "# split a text into sentences\n",
    "def to_lines(text):\n",
    "    sents = text.strip().split('\\n')\n",
    "    sents = [i.split('\\t') for i in sents]\n",
    "    return sents"
   ]
  },
  {
   "cell_type": "markdown",
   "metadata": {},
   "source": [
    "__Download the data from [here.](http://www.manythings.org/anki/deu-eng.zip)__ and extract \"deu.txt\" in your working directory."
   ]
  },
  {
   "cell_type": "code",
   "execution_count": 12,
   "metadata": {},
   "outputs": [],
   "source": [
    "data = read_text(\"deu-eng\\deu_modif.txt\")\n",
    "deu_eng = to_lines(data)\n",
    "deu_eng = array(deu_eng)"
   ]
  },
  {
   "cell_type": "markdown",
   "metadata": {},
   "source": [
    "The actual data contains over 150,000 sentence-pairs. However, we will use the first 50,000 sentence pairs only to reduce the training time of the model. You can change this number as per you system computation power."
   ]
  },
  {
   "cell_type": "code",
   "execution_count": 13,
   "metadata": {},
   "outputs": [],
   "source": [
    "deu_eng = deu_eng[:50000,:]"
   ]
  },
  {
   "cell_type": "markdown",
   "metadata": {},
   "source": [
    "### Text Pre-Processing"
   ]
  },
  {
   "cell_type": "markdown",
   "metadata": {},
   "source": [
    "#### Text Cleaning\n",
    "\n",
    "Let's take a look at our data, then we will decide which pre-processing steps to adopt."
   ]
  },
  {
   "cell_type": "code",
   "execution_count": 14,
   "metadata": {
    "scrolled": true
   },
   "outputs": [
    {
     "data": {
      "text/plain": [
       "array([['Hi.', 'Hallo!'],\n",
       "       ['Hi.', 'Grüß Gott!'],\n",
       "       ['Run!', 'Lauf!'],\n",
       "       ...,\n",
       "       ['I wholeheartedly agree.', 'Ich stimme rückhaltlos zu.'],\n",
       "       ['I will always love you.', 'Ich werde dich immer lieben.'],\n",
       "       ['I will be back by nine.', 'Um neun bin ich wieder zurück.']],\n",
       "      dtype='<U537')"
      ]
     },
     "execution_count": 14,
     "metadata": {},
     "output_type": "execute_result"
    }
   ],
   "source": [
    "deu_eng"
   ]
  },
  {
   "cell_type": "markdown",
   "metadata": {},
   "source": [
    "We will get rid of the punctuation marks, and then convert the text to lower case."
   ]
  },
  {
   "cell_type": "code",
   "execution_count": 15,
   "metadata": {},
   "outputs": [],
   "source": [
    "# Remove punctuation\n",
    "deu_eng[:,0] = [s.translate(str.maketrans('', '', string.punctuation)) for s in deu_eng[:,0]]\n",
    "deu_eng[:,1] = [s.translate(str.maketrans('', '', string.punctuation)) for s in deu_eng[:,1]]"
   ]
  },
  {
   "cell_type": "code",
   "execution_count": 16,
   "metadata": {},
   "outputs": [
    {
     "data": {
      "text/plain": [
       "array([['Hi', 'Hallo'],\n",
       "       ['Hi', 'Grüß Gott'],\n",
       "       ['Run', 'Lauf'],\n",
       "       ...,\n",
       "       ['I wholeheartedly agree', 'Ich stimme rückhaltlos zu'],\n",
       "       ['I will always love you', 'Ich werde dich immer lieben'],\n",
       "       ['I will be back by nine', 'Um neun bin ich wieder zurück']],\n",
       "      dtype='<U537')"
      ]
     },
     "execution_count": 16,
     "metadata": {},
     "output_type": "execute_result"
    }
   ],
   "source": [
    "deu_eng"
   ]
  },
  {
   "cell_type": "code",
   "execution_count": 17,
   "metadata": {
    "scrolled": true
   },
   "outputs": [],
   "source": [
    "# convert to lowercase\n",
    "for i in range(len(deu_eng)):\n",
    "    deu_eng[i,0] = deu_eng[i,0].lower()\n",
    "    \n",
    "    deu_eng[i,1] = deu_eng[i,1].lower()"
   ]
  },
  {
   "cell_type": "code",
   "execution_count": 18,
   "metadata": {},
   "outputs": [
    {
     "data": {
      "text/plain": [
       "array([['hi', 'hallo'],\n",
       "       ['hi', 'grüß gott'],\n",
       "       ['run', 'lauf'],\n",
       "       ...,\n",
       "       ['i wholeheartedly agree', 'ich stimme rückhaltlos zu'],\n",
       "       ['i will always love you', 'ich werde dich immer lieben'],\n",
       "       ['i will be back by nine', 'um neun bin ich wieder zurück']],\n",
       "      dtype='<U537')"
      ]
     },
     "execution_count": 18,
     "metadata": {},
     "output_type": "execute_result"
    }
   ],
   "source": [
    "deu_eng"
   ]
  },
  {
   "cell_type": "markdown",
   "metadata": {},
   "source": [
    "#### Text to Sequence Conversion\n",
    "\n",
    "To feed our data in a Seq2Seq model, we will have to convert both the input and the output sentences into integer sequences of fixed length. Before that, let's visualise the length of the sentences. We will capture the lengths of all the sentences in two separate lists for English and German, respectively."
   ]
  },
  {
   "cell_type": "code",
   "execution_count": 19,
   "metadata": {},
   "outputs": [],
   "source": [
    "# empty lists\n",
    "eng_l = []\n",
    "deu_l = []\n",
    "\n",
    "# populate the lists with sentence lengths\n",
    "for i in deu_eng[:,0]:\n",
    "    eng_l.append(len(i.split()))\n",
    "\n",
    "for i in deu_eng[:,1]:\n",
    "    deu_l.append(len(i.split()))"
   ]
  },
  {
   "cell_type": "code",
   "execution_count": 20,
   "metadata": {},
   "outputs": [],
   "source": [
    "length_df = pd.DataFrame({'eng':eng_l, 'deu':deu_l})"
   ]
  },
  {
   "cell_type": "code",
   "execution_count": 21,
   "metadata": {},
   "outputs": [
    {
     "data": {
      "image/png": "[encoded data removed]",
      "text/plain": [
       "<Figure size 432x288 with 2 Axes>"
      ]
     },
     "metadata": {
      "needs_background": "light"
     },
     "output_type": "display_data"
    }
   ],
   "source": [
    "length_df.hist(bins = 30)\n",
    "plt.show()"
   ]
  },
  {
   "cell_type": "markdown",
   "metadata": {},
   "source": [
    "The maximum length of the German sentences is 11 and that of the English phrases is 8."
   ]
  },
  {
   "cell_type": "markdown",
   "metadata": {},
   "source": [
    "Let's vectorize our text data by using Keras's Tokenizer() class. It will turn our sentences into sequences of integers. Then we will pad those sequences with zeros to make all the sequences of same length."
   ]
  },
  {
   "cell_type": "code",
   "execution_count": 22,
   "metadata": {},
   "outputs": [],
   "source": [
    "# function to build a tokenizer\n",
    "def tokenization(lines):\n",
    "    tokenizer = Tokenizer()\n",
    "    tokenizer.fit_on_texts(lines)\n",
    "    return tokenizer"
   ]
  },
  {
   "cell_type": "code",
   "execution_count": 23,
   "metadata": {},
   "outputs": [
    {
     "name": "stdout",
     "output_type": "stream",
     "text": [
      "English Vocabulary Size: 6361\n"
     ]
    }
   ],
   "source": [
    "# prepare english tokenizer\n",
    "eng_tokenizer = tokenization(deu_eng[:, 0])\n",
    "eng_vocab_size = len(eng_tokenizer.word_index) + 1\n",
    "\n",
    "eng_length = 8\n",
    "print('English Vocabulary Size: %d' % eng_vocab_size)"
   ]
  },
  {
   "cell_type": "code",
   "execution_count": 24,
   "metadata": {},
   "outputs": [
    {
     "name": "stdout",
     "output_type": "stream",
     "text": [
      "Deutch Vocabulary Size: 10597\n"
     ]
    }
   ],
   "source": [
    "# prepare Deutch tokenizer\n",
    "deu_tokenizer = tokenization(deu_eng[:, 1])\n",
    "deu_vocab_size = len(deu_tokenizer.word_index) + 1\n",
    "\n",
    "deu_length = 8\n",
    "print('Deutch Vocabulary Size: %d' % deu_vocab_size)"
   ]
  },
  {
   "cell_type": "markdown",
   "metadata": {},
   "source": [
    "Given below is a function to prepare the sequences. It will also perform sequence padding to a maximum sentence length as mentioned above. "
   ]
  },
  {
   "cell_type": "code",
   "execution_count": 25,
   "metadata": {},
   "outputs": [],
   "source": [
    "# encode and pad sequences\n",
    "def encode_sequences(tokenizer, length, lines):\n",
    "    # integer encode sequences\n",
    "    seq = tokenizer.texts_to_sequences(lines)\n",
    "    # pad sequences with 0 values\n",
    "    seq = pad_sequences(seq, maxlen=length, padding='post')\n",
    "    return seq"
   ]
  },
  {
   "cell_type": "markdown",
   "metadata": {},
   "source": [
    "### Model Building"
   ]
  },
  {
   "cell_type": "markdown",
   "metadata": {},
   "source": [
    "We will now split the data into train and test set for model training and evaluation, respectively."
   ]
  },
  {
   "cell_type": "code",
   "execution_count": 26,
   "metadata": {},
   "outputs": [],
   "source": [
    "from sklearn.model_selection import train_test_split\n",
    "train, test = train_test_split(deu_eng, test_size=0.2, random_state = 12)"
   ]
  },
  {
   "cell_type": "markdown",
   "metadata": {},
   "source": [
    "It's time to encode the sentences. We will encode German sentences as the input sequences and English sentences as the target sequences. It will be done for both train and test datasets."
   ]
  },
  {
   "cell_type": "code",
   "execution_count": 27,
   "metadata": {},
   "outputs": [],
   "source": [
    "# prepare training data\n",
    "trainX = encode_sequences(deu_tokenizer, deu_length, train[:, 1])\n",
    "trainY = encode_sequences(eng_tokenizer, eng_length, train[:, 0])"
   ]
  },
  {
   "cell_type": "code",
   "execution_count": 28,
   "metadata": {},
   "outputs": [],
   "source": [
    "# prepare validation data\n",
    "testX = encode_sequences(deu_tokenizer, deu_length, test[:, 1])\n",
    "testY = encode_sequences(eng_tokenizer, eng_length, test[:, 0])"
   ]
  },
  {
   "cell_type": "markdown",
   "metadata": {},
   "source": [
    "Now comes the exciting part! Let us define our Seq2Seq model architecture. We are using an Embedding layer and an LSTM layer as our encoder and another LSTM layer followed by a Dense layer as the decoder.  "
   ]
  },
  {
   "cell_type": "code",
   "execution_count": 29,
   "metadata": {},
   "outputs": [],
   "source": [
    "# build NMT model\n",
    "def build_model(in_vocab, out_vocab, in_timesteps, out_timesteps, units):\n",
    "    model = Sequential()\n",
    "    model.add(Embedding(in_vocab, units, input_length=in_timesteps, mask_zero=True))\n",
    "    model.add(LSTM(units))\n",
    "    model.add(RepeatVector(out_timesteps))\n",
    "    model.add(LSTM(units, return_sequences=True))\n",
    "    model.add(Dense(out_vocab, activation='softmax'))\n",
    "    return model"
   ]
  },
  {
   "cell_type": "markdown",
   "metadata": {},
   "source": [
    "We are using RMSprop optimizer in this model as it is usually a good choice for recurrent neural networks."
   ]
  },
  {
   "cell_type": "code",
   "execution_count": 30,
   "metadata": {},
   "outputs": [],
   "source": [
    "model = build_model(deu_vocab_size, eng_vocab_size, deu_length, eng_length, 512)\n",
    "rms = optimizers.RMSprop(lr=0.001)\n",
    "model.compile(optimizer=rms, loss='sparse_categorical_crossentropy')"
   ]
  },
  {
   "cell_type": "markdown",
   "metadata": {},
   "source": [
    "Please note that we have used __'sparse_categorical_crossentropy'__ as the loss function because it allows us to use the target sequence as it is instead of one hot encoded format. One hot encoding the target sequences with such a huge vocabulary might consume our system's entire memory."
   ]
  },
  {
   "cell_type": "markdown",
   "metadata": {},
   "source": [
    "It seems we are all set to start training our model. We will train it for 30 epochs and with a batch size of 512. You may change and play these hyperparameters. We will also be using __ModelCheckpoint()__ to save the best model with lowest validation loss. I personally prefer this method over early stopping."
   ]
  },
  {
   "cell_type": "code",
   "execution_count": 31,
   "metadata": {
    "scrolled": true
   },
   "outputs": [
    {
     "name": "stderr",
     "output_type": "stream",
     "text": [
      "C:\\Users\\ana_2\\Anaconda3\\lib\\site-packages\\tensorflow_core\\python\\framework\\indexed_slices.py:424: UserWarning: Converting sparse IndexedSlices to a dense Tensor of unknown shape. This may consume a large amount of memory.\n",
      "  \"Converting sparse IndexedSlices to a dense Tensor of unknown shape. \"\n"
     ]
    },
    {
     "name": "stdout",
     "output_type": "stream",
     "text": [
      "Train on 32000 samples, validate on 8000 samples\n",
      "Epoch 1/30\n",
      "32000/32000 [==============================] - 270s 8ms/step - loss: 3.4852 - val_loss: 2.9231\n",
      "\n",
      "Epoch 00001: val_loss improved from inf to 2.92312, saving model to model.h1.24_jan_19\n",
      "Epoch 2/30\n",
      "32000/32000 [==============================] - 256s 8ms/step - loss: 2.8514 - val_loss: 2.8277\n",
      "\n",
      "Epoch 00002: val_loss improved from 2.92312 to 2.82767, saving model to model.h1.24_jan_19\n",
      "Epoch 3/30\n",
      "32000/32000 [==============================] - 38819s 1s/step - loss: 2.6708 - val_loss: 2.6531\n",
      "\n",
      "Epoch 00003: val_loss improved from 2.82767 to 2.65306, saving model to model.h1.24_jan_19\n",
      "Epoch 4/30\n",
      "32000/32000 [==============================] - 172s 5ms/step - loss: 2.4866 - val_loss: 2.5386\n",
      "\n",
      "Epoch 00004: val_loss improved from 2.65306 to 2.53858, saving model to model.h1.24_jan_19\n",
      "Epoch 5/30\n",
      "32000/32000 [==============================] - 165s 5ms/step - loss: 2.3500 - val_loss: 2.4082\n",
      "\n",
      "Epoch 00005: val_loss improved from 2.53858 to 2.40816, saving model to model.h1.24_jan_19\n",
      "Epoch 6/30\n",
      "32000/32000 [==============================] - 167s 5ms/step - loss: 2.2206 - val_loss: 2.3082\n",
      "\n",
      "Epoch 00006: val_loss improved from 2.40816 to 2.30825, saving model to model.h1.24_jan_19\n",
      "Epoch 7/30\n",
      "32000/32000 [==============================] - 168s 5ms/step - loss: 2.1036 - val_loss: 2.2385\n",
      "\n",
      "Epoch 00007: val_loss improved from 2.30825 to 2.23854, saving model to model.h1.24_jan_19\n",
      "Epoch 8/30\n",
      "32000/32000 [==============================] - 170s 5ms/step - loss: 1.9965 - val_loss: 2.1851\n",
      "\n",
      "Epoch 00008: val_loss improved from 2.23854 to 2.18512, saving model to model.h1.24_jan_19\n",
      "Epoch 9/30\n",
      "32000/32000 [==============================] - 166s 5ms/step - loss: 1.8999 - val_loss: 2.0844\n",
      "\n",
      "Epoch 00009: val_loss improved from 2.18512 to 2.08436, saving model to model.h1.24_jan_19\n",
      "Epoch 10/30\n",
      "32000/32000 [==============================] - 162s 5ms/step - loss: 1.8036 - val_loss: 2.0471\n",
      "\n",
      "Epoch 00010: val_loss improved from 2.08436 to 2.04709, saving model to model.h1.24_jan_19\n",
      "Epoch 11/30\n",
      "32000/32000 [==============================] - 177s 6ms/step - loss: 1.7131 - val_loss: 1.9719\n",
      "\n",
      "Epoch 00011: val_loss improved from 2.04709 to 1.97186, saving model to model.h1.24_jan_19\n",
      "Epoch 12/30\n",
      "32000/32000 [==============================] - 164s 5ms/step - loss: 1.6168 - val_loss: 1.9203\n",
      "\n",
      "Epoch 00012: val_loss improved from 1.97186 to 1.92035, saving model to model.h1.24_jan_19\n",
      "Epoch 13/30\n",
      "32000/32000 [==============================] - 176s 6ms/step - loss: 1.5281 - val_loss: 1.8579\n",
      "\n",
      "Epoch 00013: val_loss improved from 1.92035 to 1.85788, saving model to model.h1.24_jan_19\n",
      "Epoch 14/30\n",
      "32000/32000 [==============================] - 181s 6ms/step - loss: 1.4372 - val_loss: 1.7832\n",
      "\n",
      "Epoch 00014: val_loss improved from 1.85788 to 1.78323, saving model to model.h1.24_jan_19\n",
      "Epoch 15/30\n",
      "32000/32000 [==============================] - 161s 5ms/step - loss: 1.3509 - val_loss: 1.7506\n",
      "\n",
      "Epoch 00015: val_loss improved from 1.78323 to 1.75064, saving model to model.h1.24_jan_19\n",
      "Epoch 16/30\n",
      "32000/32000 [==============================] - 173s 5ms/step - loss: 1.2690 - val_loss: 1.7169\n",
      "\n",
      "Epoch 00016: val_loss improved from 1.75064 to 1.71695, saving model to model.h1.24_jan_19\n",
      "Epoch 17/30\n",
      "32000/32000 [==============================] - 169s 5ms/step - loss: 1.1913 - val_loss: 1.6620\n",
      "\n",
      "Epoch 00017: val_loss improved from 1.71695 to 1.66196, saving model to model.h1.24_jan_19\n",
      "Epoch 18/30\n",
      "32000/32000 [==============================] - 185s 6ms/step - loss: 1.1171 - val_loss: 1.6265\n",
      "\n",
      "Epoch 00018: val_loss improved from 1.66196 to 1.62654, saving model to model.h1.24_jan_19\n",
      "Epoch 19/30\n",
      "32000/32000 [==============================] - 176s 5ms/step - loss: 1.0436 - val_loss: 1.5870\n",
      "\n",
      "Epoch 00019: val_loss improved from 1.62654 to 1.58703, saving model to model.h1.24_jan_19\n",
      "Epoch 20/30\n",
      "32000/32000 [==============================] - 179s 6ms/step - loss: 0.9777 - val_loss: 1.5532\n",
      "\n",
      "Epoch 00020: val_loss improved from 1.58703 to 1.55316, saving model to model.h1.24_jan_19\n",
      "Epoch 21/30\n",
      "32000/32000 [==============================] - 161s 5ms/step - loss: 0.9109 - val_loss: 1.5339\n",
      "\n",
      "Epoch 00021: val_loss improved from 1.55316 to 1.53394, saving model to model.h1.24_jan_19\n",
      "Epoch 22/30\n",
      "32000/32000 [==============================] - 166s 5ms/step - loss: 0.8519 - val_loss: 1.5063\n",
      "\n",
      "Epoch 00022: val_loss improved from 1.53394 to 1.50627, saving model to model.h1.24_jan_19\n",
      "Epoch 23/30\n",
      "32000/32000 [==============================] - 176s 6ms/step - loss: 0.7943 - val_loss: 1.4833\n",
      "\n",
      "Epoch 00023: val_loss improved from 1.50627 to 1.48331, saving model to model.h1.24_jan_19\n",
      "Epoch 24/30\n",
      "32000/32000 [==============================] - 177s 6ms/step - loss: 0.7371 - val_loss: 1.4690\n",
      "\n",
      "Epoch 00024: val_loss improved from 1.48331 to 1.46896, saving model to model.h1.24_jan_19\n",
      "Epoch 25/30\n",
      "32000/32000 [==============================] - 169s 5ms/step - loss: 0.6840 - val_loss: 1.4698\n",
      "\n",
      "Epoch 00025: val_loss did not improve from 1.46896\n",
      "Epoch 26/30\n",
      "32000/32000 [==============================] - 195s 6ms/step - loss: 0.6347 - val_loss: 1.4331\n",
      "\n",
      "Epoch 00026: val_loss improved from 1.46896 to 1.43314, saving model to model.h1.24_jan_19\n",
      "Epoch 27/30\n",
      "32000/32000 [==============================] - 173s 5ms/step - loss: 0.5858 - val_loss: 1.4281\n",
      "\n",
      "Epoch 00027: val_loss improved from 1.43314 to 1.42808, saving model to model.h1.24_jan_19\n",
      "Epoch 28/30\n",
      "32000/32000 [==============================] - 162s 5ms/step - loss: 0.5427 - val_loss: 1.4307\n",
      "\n",
      "Epoch 00028: val_loss did not improve from 1.42808\n",
      "Epoch 29/30\n",
      "32000/32000 [==============================] - 168s 5ms/step - loss: 0.5011 - val_loss: 1.4003\n",
      "\n",
      "Epoch 00029: val_loss improved from 1.42808 to 1.40032, saving model to model.h1.24_jan_19\n",
      "Epoch 30/30\n",
      "32000/32000 [==============================] - 171s 5ms/step - loss: 0.4608 - val_loss: 1.3994\n",
      "\n",
      "Epoch 00030: val_loss improved from 1.40032 to 1.39940, saving model to model.h1.24_jan_19\n"
     ]
    }
   ],
   "source": [
    "filename = 'model.h1.24_jan_19'\n",
    "checkpoint = ModelCheckpoint(filename, monitor='val_loss', verbose=1, save_best_only=True, mode='min')\n",
    "\n",
    "history = model.fit(trainX, trainY.reshape(trainY.shape[0], trainY.shape[1], 1), \n",
    "          epochs=30, batch_size=512, \n",
    "          validation_split = 0.2,\n",
    "          callbacks=[checkpoint], verbose=1)"
   ]
  },
  {
   "cell_type": "markdown",
   "metadata": {},
   "source": [
    "Let's compare the training loss and the validation loss."
   ]
  },
  {
   "cell_type": "code",
   "execution_count": 32,
   "metadata": {},
   "outputs": [
    {
     "data": {
      "image/png": "[encoded data removed]",
      "text/plain": [
       "<Figure size 432x288 with 1 Axes>"
      ]
     },
     "metadata": {
      "needs_background": "light"
     },
     "output_type": "display_data"
    }
   ],
   "source": [
    "plt.plot(history.history['loss'])\n",
    "plt.plot(history.history['val_loss'])\n",
    "plt.legend(['train','validation'])\n",
    "plt.show()"
   ]
  },
  {
   "cell_type": "markdown",
   "metadata": {},
   "source": [
    "### Make Predictions"
   ]
  },
  {
   "cell_type": "markdown",
   "metadata": {},
   "source": [
    "Let's load the saved model to make predictions."
   ]
  },
  {
   "cell_type": "code",
   "execution_count": 33,
   "metadata": {},
   "outputs": [
    {
     "name": "stderr",
     "output_type": "stream",
     "text": [
      "C:\\Users\\ana_2\\Anaconda3\\lib\\site-packages\\tensorflow_core\\python\\framework\\indexed_slices.py:424: UserWarning: Converting sparse IndexedSlices to a dense Tensor of unknown shape. This may consume a large amount of memory.\n",
      "  \"Converting sparse IndexedSlices to a dense Tensor of unknown shape. \"\n"
     ]
    }
   ],
   "source": [
    "model = load_model('model.h1.24_jan_19')\n",
    "preds = model.predict_classes(testX.reshape((testX.shape[0],testX.shape[1])))"
   ]
  },
  {
   "cell_type": "code",
   "execution_count": 34,
   "metadata": {},
   "outputs": [],
   "source": [
    "def get_word(n, tokenizer):\n",
    "    for word, index in tokenizer.word_index.items():\n",
    "        if index == n:\n",
    "            return word\n",
    "    return None"
   ]
  },
  {
   "cell_type": "code",
   "execution_count": 35,
   "metadata": {},
   "outputs": [],
   "source": [
    "# convert predictions into text (English)\n",
    "preds_text = []\n",
    "for i in preds:\n",
    "    temp = []\n",
    "    for j in range(len(i)):\n",
    "        t = get_word(i[j], eng_tokenizer)\n",
    "        if j > 0:\n",
    "            if (t == get_word(i[j-1], eng_tokenizer)) or (t == None):\n",
    "                temp.append('')\n",
    "            else:\n",
    "                temp.append(t)\n",
    "             \n",
    "        else:\n",
    "            if(t == None):\n",
    "                temp.append('')\n",
    "            else:\n",
    "                temp.append(t)            \n",
    "        \n",
    "    preds_text.append(' '.join(temp))"
   ]
  },
  {
   "cell_type": "code",
   "execution_count": 36,
   "metadata": {},
   "outputs": [],
   "source": [
    "pred_df = pd.DataFrame({'actual' : test[:,0], 'predicted' : preds_text})"
   ]
  },
  {
   "cell_type": "code",
   "execution_count": 37,
   "metadata": {},
   "outputs": [],
   "source": [
    "pd.set_option('display.max_colwidth', 200)"
   ]
  },
  {
   "cell_type": "code",
   "execution_count": 38,
   "metadata": {},
   "outputs": [
    {
     "data": {
      "text/html": [
       "<div>\n",
       "<style scoped>\n",
       "    .dataframe tbody tr th:only-of-type {\n",
       "        vertical-align: middle;\n",
       "    }\n",
       "\n",
       "    .dataframe tbody tr th {\n",
       "        vertical-align: top;\n",
       "    }\n",
       "\n",
       "    .dataframe thead th {\n",
       "        text-align: right;\n",
       "    }\n",
       "</style>\n",
       "<table border=\"1\" class=\"dataframe\">\n",
       "  <thead>\n",
       "    <tr style=\"text-align: right;\">\n",
       "      <th></th>\n",
       "      <th>actual</th>\n",
       "      <th>predicted</th>\n",
       "    </tr>\n",
       "  </thead>\n",
       "  <tbody>\n",
       "    <tr>\n",
       "      <td>0</td>\n",
       "      <td>you need to wake up</td>\n",
       "      <td>you should to awake</td>\n",
       "    </tr>\n",
       "    <tr>\n",
       "      <td>1</td>\n",
       "      <td>i feel old</td>\n",
       "      <td>i feel old</td>\n",
       "    </tr>\n",
       "    <tr>\n",
       "      <td>2</td>\n",
       "      <td>im sorry tom</td>\n",
       "      <td>sorry   it</td>\n",
       "    </tr>\n",
       "    <tr>\n",
       "      <td>3</td>\n",
       "      <td>hide the money</td>\n",
       "      <td>is  money</td>\n",
       "    </tr>\n",
       "    <tr>\n",
       "      <td>4</td>\n",
       "      <td>is someone calling me</td>\n",
       "      <td>help me</td>\n",
       "    </tr>\n",
       "    <tr>\n",
       "      <td>5</td>\n",
       "      <td>you should work hard</td>\n",
       "      <td>you should work hard</td>\n",
       "    </tr>\n",
       "    <tr>\n",
       "      <td>6</td>\n",
       "      <td>tom has a big problem</td>\n",
       "      <td>tom has a small nose</td>\n",
       "    </tr>\n",
       "    <tr>\n",
       "      <td>7</td>\n",
       "      <td>he lives with his mom</td>\n",
       "      <td>he lives her old</td>\n",
       "    </tr>\n",
       "    <tr>\n",
       "      <td>8</td>\n",
       "      <td>whats toms job</td>\n",
       "      <td>whats toms job</td>\n",
       "    </tr>\n",
       "    <tr>\n",
       "      <td>9</td>\n",
       "      <td>i dont want to drive</td>\n",
       "      <td>i dont want to</td>\n",
       "    </tr>\n",
       "    <tr>\n",
       "      <td>10</td>\n",
       "      <td>tom will fail</td>\n",
       "      <td>tom will</td>\n",
       "    </tr>\n",
       "    <tr>\n",
       "      <td>11</td>\n",
       "      <td>tom phoned</td>\n",
       "      <td>tom was</td>\n",
       "    </tr>\n",
       "    <tr>\n",
       "      <td>12</td>\n",
       "      <td>lock the door</td>\n",
       "      <td>shut the door</td>\n",
       "    </tr>\n",
       "    <tr>\n",
       "      <td>13</td>\n",
       "      <td>its not good</td>\n",
       "      <td>its not good</td>\n",
       "    </tr>\n",
       "    <tr>\n",
       "      <td>14</td>\n",
       "      <td>i love soul food</td>\n",
       "      <td>i love</td>\n",
       "    </tr>\n",
       "  </tbody>\n",
       "</table>\n",
       "</div>"
      ],
      "text/plain": [
       "                   actual                 predicted\n",
       "0     you need to wake up   you should to awake    \n",
       "1              i feel old           i feel old     \n",
       "2            im sorry tom            sorry   it    \n",
       "3          hide the money            is  money     \n",
       "4   is someone calling me             help me      \n",
       "5    you should work hard  you should work hard    \n",
       "6   tom has a big problem   tom has a small nose   \n",
       "7   he lives with his mom      he lives her old    \n",
       "8          whats toms job       whats toms job     \n",
       "9    i dont want to drive        i dont want to    \n",
       "10          tom will fail            tom will      \n",
       "11             tom phoned             tom was      \n",
       "12          lock the door        shut the door     \n",
       "13           its not good         its not good     \n",
       "14       i love soul food              i love      "
      ]
     },
     "execution_count": 38,
     "metadata": {},
     "output_type": "execute_result"
    }
   ],
   "source": [
    "pred_df.head(15)"
   ]
  },
  {
   "cell_type": "code",
   "execution_count": 39,
   "metadata": {},
   "outputs": [
    {
     "data": {
      "text/html": [
       "<div>\n",
       "<style scoped>\n",
       "    .dataframe tbody tr th:only-of-type {\n",
       "        vertical-align: middle;\n",
       "    }\n",
       "\n",
       "    .dataframe tbody tr th {\n",
       "        vertical-align: top;\n",
       "    }\n",
       "\n",
       "    .dataframe thead th {\n",
       "        text-align: right;\n",
       "    }\n",
       "</style>\n",
       "<table border=\"1\" class=\"dataframe\">\n",
       "  <thead>\n",
       "    <tr style=\"text-align: right;\">\n",
       "      <th></th>\n",
       "      <th>actual</th>\n",
       "      <th>predicted</th>\n",
       "    </tr>\n",
       "  </thead>\n",
       "  <tbody>\n",
       "    <tr>\n",
       "      <td>9985</td>\n",
       "      <td>do you need a ride</td>\n",
       "      <td>can i sit you</td>\n",
       "    </tr>\n",
       "    <tr>\n",
       "      <td>9986</td>\n",
       "      <td>it is very small</td>\n",
       "      <td>its very small</td>\n",
       "    </tr>\n",
       "    <tr>\n",
       "      <td>9987</td>\n",
       "      <td>we can handle that</td>\n",
       "      <td>we can count it</td>\n",
       "    </tr>\n",
       "    <tr>\n",
       "      <td>9988</td>\n",
       "      <td>nobody believes you</td>\n",
       "      <td>no one believes you</td>\n",
       "    </tr>\n",
       "    <tr>\n",
       "      <td>9989</td>\n",
       "      <td>tom never changes</td>\n",
       "      <td>tom never laughs</td>\n",
       "    </tr>\n",
       "    <tr>\n",
       "      <td>9990</td>\n",
       "      <td>i just emailed you</td>\n",
       "      <td>i just found him tom</td>\n",
       "    </tr>\n",
       "    <tr>\n",
       "      <td>9991</td>\n",
       "      <td>tom is so stupid</td>\n",
       "      <td>tom is so stupid</td>\n",
       "    </tr>\n",
       "    <tr>\n",
       "      <td>9992</td>\n",
       "      <td>i found tom</td>\n",
       "      <td>i found tom</td>\n",
       "    </tr>\n",
       "    <tr>\n",
       "      <td>9993</td>\n",
       "      <td>i met mary yesterday</td>\n",
       "      <td>i saw her yesterday</td>\n",
       "    </tr>\n",
       "    <tr>\n",
       "      <td>9994</td>\n",
       "      <td>try and stop me</td>\n",
       "      <td>try  to me</td>\n",
       "    </tr>\n",
       "    <tr>\n",
       "      <td>9995</td>\n",
       "      <td>does that feel good</td>\n",
       "      <td>this is out</td>\n",
       "    </tr>\n",
       "    <tr>\n",
       "      <td>9996</td>\n",
       "      <td>do you like dancing</td>\n",
       "      <td>do you like to dance</td>\n",
       "    </tr>\n",
       "    <tr>\n",
       "      <td>9997</td>\n",
       "      <td>tom is a con man</td>\n",
       "      <td>tom is a poet artist</td>\n",
       "    </tr>\n",
       "    <tr>\n",
       "      <td>9998</td>\n",
       "      <td>why arent you there</td>\n",
       "      <td>why are you there</td>\n",
       "    </tr>\n",
       "    <tr>\n",
       "      <td>9999</td>\n",
       "      <td>how do we stop tom</td>\n",
       "      <td>how can we stop tom</td>\n",
       "    </tr>\n",
       "  </tbody>\n",
       "</table>\n",
       "</div>"
      ],
      "text/plain": [
       "                    actual                predicted\n",
       "9985    do you need a ride        can i sit you    \n",
       "9986      it is very small      its very small     \n",
       "9987    we can handle that      we can count it    \n",
       "9988   nobody believes you  no one believes you    \n",
       "9989     tom never changes    tom never laughs     \n",
       "9990    i just emailed you  i just found him tom   \n",
       "9991      tom is so stupid     tom is so stupid    \n",
       "9992           i found tom         i found tom     \n",
       "9993  i met mary yesterday  i saw her yesterday    \n",
       "9994       try and stop me           try  to me    \n",
       "9995   does that feel good         this is out     \n",
       "9996   do you like dancing  do you like to dance   \n",
       "9997      tom is a con man  tom is a poet artist   \n",
       "9998   why arent you there    why are you there    \n",
       "9999    how do we stop tom   how can we stop tom   "
      ]
     },
     "execution_count": 39,
     "metadata": {},
     "output_type": "execute_result"
    }
   ],
   "source": [
    "pred_df.tail(15)"
   ]
  },
  {
   "cell_type": "code",
   "execution_count": 37,
   "metadata": {},
   "outputs": [
    {
     "data": {
      "text/html": [
       "<div>\n",
       "<style scoped>\n",
       "    .dataframe tbody tr th:only-of-type {\n",
       "        vertical-align: middle;\n",
       "    }\n",
       "\n",
       "    .dataframe tbody tr th {\n",
       "        vertical-align: top;\n",
       "    }\n",
       "\n",
       "    .dataframe thead th {\n",
       "        text-align: right;\n",
       "    }\n",
       "</style>\n",
       "<table border=\"1\" class=\"dataframe\">\n",
       "  <thead>\n",
       "    <tr style=\"text-align: right;\">\n",
       "      <th></th>\n",
       "      <th>actual</th>\n",
       "      <th>predicted</th>\n",
       "    </tr>\n",
       "  </thead>\n",
       "  <tbody>\n",
       "    <tr>\n",
       "      <th>9985</th>\n",
       "      <td>tom knew the risks</td>\n",
       "      <td>tom was all of</td>\n",
       "    </tr>\n",
       "    <tr>\n",
       "      <th>9986</th>\n",
       "      <td>what does she do</td>\n",
       "      <td>what does you do</td>\n",
       "    </tr>\n",
       "    <tr>\n",
       "      <th>9987</th>\n",
       "      <td>she still loved him</td>\n",
       "      <td>she still him sing</td>\n",
       "    </tr>\n",
       "    <tr>\n",
       "      <th>9988</th>\n",
       "      <td>i want to be careful</td>\n",
       "      <td>i want to be boston</td>\n",
       "    </tr>\n",
       "    <tr>\n",
       "      <th>9989</th>\n",
       "      <td>im here arent i</td>\n",
       "      <td>im here</td>\n",
       "    </tr>\n",
       "    <tr>\n",
       "      <th>9990</th>\n",
       "      <td>youre a hypocrite</td>\n",
       "      <td>youre a hypocrite</td>\n",
       "    </tr>\n",
       "    <tr>\n",
       "      <th>9991</th>\n",
       "      <td>i gave you a book</td>\n",
       "      <td>i gave you a book</td>\n",
       "    </tr>\n",
       "    <tr>\n",
       "      <th>9992</th>\n",
       "      <td>lets do it</td>\n",
       "      <td>do  it</td>\n",
       "    </tr>\n",
       "    <tr>\n",
       "      <th>9993</th>\n",
       "      <td>i broke my leg skiing</td>\n",
       "      <td>i broke my</td>\n",
       "    </tr>\n",
       "    <tr>\n",
       "      <th>9994</th>\n",
       "      <td>i was victorious</td>\n",
       "      <td>i was been asleep</td>\n",
       "    </tr>\n",
       "    <tr>\n",
       "      <th>9995</th>\n",
       "      <td>what a pretty woman</td>\n",
       "      <td>what a wife</td>\n",
       "    </tr>\n",
       "    <tr>\n",
       "      <th>9996</th>\n",
       "      <td>well come with you</td>\n",
       "      <td>were come with you</td>\n",
       "    </tr>\n",
       "    <tr>\n",
       "      <th>9997</th>\n",
       "      <td>i am the same age</td>\n",
       "      <td>im am the same age</td>\n",
       "    </tr>\n",
       "    <tr>\n",
       "      <th>9998</th>\n",
       "      <td>who should we believe</td>\n",
       "      <td>who do we going</td>\n",
       "    </tr>\n",
       "    <tr>\n",
       "      <th>9999</th>\n",
       "      <td>whats it good for</td>\n",
       "      <td>whats she good for</td>\n",
       "    </tr>\n",
       "  </tbody>\n",
       "</table>\n",
       "</div>"
      ],
      "text/plain": [
       "                     actual               predicted\n",
       "9985     tom knew the risks      tom was all of    \n",
       "9986       what does she do    what does you do    \n",
       "9987    she still loved him  she still him sing    \n",
       "9988   i want to be careful  i want to be boston   \n",
       "9989        im here arent i           im here      \n",
       "9990      youre a hypocrite  youre a hypocrite     \n",
       "9991      i gave you a book    i gave you a book   \n",
       "9992             lets do it             do  it     \n",
       "9993  i broke my leg skiing         i broke my     \n",
       "9994       i was victorious   i was been asleep    \n",
       "9995    what a pretty woman        what a wife     \n",
       "9996     well come with you  were come with you    \n",
       "9997      i am the same age   im am the same age   \n",
       "9998  who should we believe     who do we going    \n",
       "9999      whats it good for  whats she good for    "
      ]
     },
     "execution_count": 37,
     "metadata": {},
     "output_type": "execute_result"
    }
   ],
   "source": [
    "pred_df.tail(15)"
   ]
  },
  {
   "cell_type": "code",
   "execution_count": 40,
   "metadata": {},
   "outputs": [
    {
     "data": {
      "text/html": [
       "<div>\n",
       "<style scoped>\n",
       "    .dataframe tbody tr th:only-of-type {\n",
       "        vertical-align: middle;\n",
       "    }\n",
       "\n",
       "    .dataframe tbody tr th {\n",
       "        vertical-align: top;\n",
       "    }\n",
       "\n",
       "    .dataframe thead th {\n",
       "        text-align: right;\n",
       "    }\n",
       "</style>\n",
       "<table border=\"1\" class=\"dataframe\">\n",
       "  <thead>\n",
       "    <tr style=\"text-align: right;\">\n",
       "      <th></th>\n",
       "      <th>actual</th>\n",
       "      <th>predicted</th>\n",
       "    </tr>\n",
       "  </thead>\n",
       "  <tbody>\n",
       "    <tr>\n",
       "      <td>3769</td>\n",
       "      <td>are you overweight</td>\n",
       "      <td>are you</td>\n",
       "    </tr>\n",
       "    <tr>\n",
       "      <td>6744</td>\n",
       "      <td>i didnt see a ghost</td>\n",
       "      <td>i didnt not a</td>\n",
       "    </tr>\n",
       "    <tr>\n",
       "      <td>1956</td>\n",
       "      <td>the price is going up</td>\n",
       "      <td>the wind is come</td>\n",
       "    </tr>\n",
       "    <tr>\n",
       "      <td>6860</td>\n",
       "      <td>tom isnt a painter</td>\n",
       "      <td>tom isnt a</td>\n",
       "    </tr>\n",
       "    <tr>\n",
       "      <td>1201</td>\n",
       "      <td>am i boring you</td>\n",
       "      <td>am i boring you</td>\n",
       "    </tr>\n",
       "    <tr>\n",
       "      <td>7790</td>\n",
       "      <td>its getting late</td>\n",
       "      <td>its is late</td>\n",
       "    </tr>\n",
       "    <tr>\n",
       "      <td>8263</td>\n",
       "      <td>its worthless junk</td>\n",
       "      <td>its not no</td>\n",
       "    </tr>\n",
       "    <tr>\n",
       "      <td>6170</td>\n",
       "      <td>heres some water</td>\n",
       "      <td>heres a just</td>\n",
       "    </tr>\n",
       "    <tr>\n",
       "      <td>1436</td>\n",
       "      <td>mary sings soprano</td>\n",
       "      <td>mary is at a</td>\n",
       "    </tr>\n",
       "    <tr>\n",
       "      <td>5354</td>\n",
       "      <td>i have a truck</td>\n",
       "      <td>i have a twin</td>\n",
       "    </tr>\n",
       "    <tr>\n",
       "      <td>543</td>\n",
       "      <td>whos overreacting</td>\n",
       "      <td>whos goes here</td>\n",
       "    </tr>\n",
       "    <tr>\n",
       "      <td>7200</td>\n",
       "      <td>just apologize</td>\n",
       "      <td>just about to</td>\n",
       "    </tr>\n",
       "    <tr>\n",
       "      <td>8340</td>\n",
       "      <td>let me do it</td>\n",
       "      <td>let me handle this</td>\n",
       "    </tr>\n",
       "    <tr>\n",
       "      <td>8970</td>\n",
       "      <td>im toms cousin</td>\n",
       "      <td>im toms</td>\n",
       "    </tr>\n",
       "    <tr>\n",
       "      <td>8893</td>\n",
       "      <td>tom is concerned</td>\n",
       "      <td>tom is worried</td>\n",
       "    </tr>\n",
       "  </tbody>\n",
       "</table>\n",
       "</div>"
      ],
      "text/plain": [
       "                     actual               predicted\n",
       "3769     are you overweight           are you      \n",
       "6744    i didnt see a ghost       i didnt not a    \n",
       "1956  the price is going up    the wind is come    \n",
       "6860     tom isnt a painter         tom isnt a     \n",
       "1201        am i boring you     am i boring you    \n",
       "7790       its getting late        its is late     \n",
       "8263     its worthless junk         its not no     \n",
       "6170       heres some water       heres a just     \n",
       "1436     mary sings soprano        mary is at a    \n",
       "5354         i have a truck       i have a twin    \n",
       "543       whos overreacting     whos goes here     \n",
       "7200         just apologize      just about to     \n",
       "8340           let me do it  let me handle this    \n",
       "8970         im toms cousin           im toms      \n",
       "8893       tom is concerned     tom is worried     "
      ]
     },
     "execution_count": 40,
     "metadata": {},
     "output_type": "execute_result"
    }
   ],
   "source": [
    "pred_df.sample(15)"
   ]
  },
  {
   "cell_type": "code",
   "execution_count": null,
   "metadata": {},
   "outputs": [],
   "source": []
  }
 ],
 "metadata": {
  "kernelspec": {
   "display_name": "Python 3",
   "language": "python",
   "name": "python3"
  },
  "language_info": {
   "codemirror_mode": {
    "name": "ipython",
    "version": 3
   },
   "file_extension": ".py",
   "mimetype": "text/x-python",
   "name": "python",
   "nbconvert_exporter": "python",
   "pygments_lexer": "ipython3",
   "version": "3.7.4"
  }
 },
 "nbformat": 4,
 "nbformat_minor": 2
}
